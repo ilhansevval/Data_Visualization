{
  "nbformat": 4,
  "nbformat_minor": 0,
  "metadata": {
    "colab": {
      "name": "point_joint_lm_kde_violin_pair_plot.ipynb",
      "provenance": [],
      "collapsed_sections": []
    },
    "kernelspec": {
      "name": "python3",
      "display_name": "Python 3"
    },
    "language_info": {
      "name": "python"
    }
  },
  "cells": [
    {
      "cell_type": "code",
      "execution_count": 1,
      "metadata": {
        "colab": {
          "base_uri": "https://localhost:8080/"
        },
        "id": "2jZ958RZxKtI",
        "outputId": "5249a739-ef13-4e34-fcf6-92b5b9a5db30"
      },
      "outputs": [
        {
          "output_type": "stream",
          "name": "stdout",
          "text": [
            "Mounted at /content/drive\n"
          ]
        }
      ],
      "source": [
        "import numpy as np\n",
        "import pandas as pd\n",
        "import seaborn as sns\n",
        "import matplotlib.pyplot as plt\n",
        "\n",
        "from google.colab import drive\n",
        "drive.mount('/content/drive')"
      ]
    },
    {
      "cell_type": "code",
      "source": [
        "percentage_people_below_poverty_level = pd.read_csv(\"/content/drive/MyDrive/data/PercentagePeopleBelowPovertyLevel.csv\", encoding=\"windows-1252\") \n",
        "percent_over_25_completed_highSchool = pd.read_csv(\"/content/drive/MyDrive/data/PercentOver25CompletedHighSchool.csv\", encoding=\"windows-1252\") "
      ],
      "metadata": {
        "id": "MNon5EjwxjJk"
      },
      "execution_count": 2,
      "outputs": []
    },
    {
      "cell_type": "markdown",
      "source": [
        "Her bir eyaletteki liseden mezun olma oranıyla fakirlik oranını bir arada çizilecektir.\n",
        "\n",
        "Böylelikle iki durum arasında bir karşılaştırma yapılacaktır.\n",
        "\n",
        "Liseden mezun olma oranı yüksekse fakirlik oranının azalması beklenir ya da liseden mezun olma oranının düşük olduğu durumlarda insanlar iş bulmak için okuldan ayrılmış olabilirler."
      ],
      "metadata": {
        "id": "6i8EBASgx4T6"
      }
    },
    {
      "cell_type": "markdown",
      "source": [
        "**Eyaletlere göre Fakirlik Oranı**"
      ],
      "metadata": {
        "id": "XWMK22gY6JBW"
      }
    },
    {
      "cell_type": "code",
      "source": [
        "percentage_people_below_poverty_level.head()      #Geographic Area -> eyaletler\n",
        "                                                  #City -> Şehirler\n",
        "                                                  #poverty_rate -> fakirlik oranı\n",
        "                                                  #bu datada her bir şehrin fakirlik oranı verilmiştir.\n",
        "                                                  #ilk önce eyaletlerdeki fakirlik oranının bulunması lazımdır."
      ],
      "metadata": {
        "colab": {
          "base_uri": "https://localhost:8080/",
          "height": 206
        },
        "id": "w11fJFQ6y5wG",
        "outputId": "28d451fd-3235-466b-f773-0ef307f79472"
      },
      "execution_count": 3,
      "outputs": [
        {
          "output_type": "execute_result",
          "data": {
            "text/plain": [
              "  Geographic Area             City poverty_rate\n",
              "0              AL       Abanda CDP         78.8\n",
              "1              AL   Abbeville city         29.1\n",
              "2              AL  Adamsville city         25.5\n",
              "3              AL     Addison town         30.7\n",
              "4              AL       Akron town           42"
            ],
            "text/html": [
              "\n",
              "  <div id=\"df-55c6f980-1d8a-4b0c-a0b5-dffb252a8477\">\n",
              "    <div class=\"colab-df-container\">\n",
              "      <div>\n",
              "<style scoped>\n",
              "    .dataframe tbody tr th:only-of-type {\n",
              "        vertical-align: middle;\n",
              "    }\n",
              "\n",
              "    .dataframe tbody tr th {\n",
              "        vertical-align: top;\n",
              "    }\n",
              "\n",
              "    .dataframe thead th {\n",
              "        text-align: right;\n",
              "    }\n",
              "</style>\n",
              "<table border=\"1\" class=\"dataframe\">\n",
              "  <thead>\n",
              "    <tr style=\"text-align: right;\">\n",
              "      <th></th>\n",
              "      <th>Geographic Area</th>\n",
              "      <th>City</th>\n",
              "      <th>poverty_rate</th>\n",
              "    </tr>\n",
              "  </thead>\n",
              "  <tbody>\n",
              "    <tr>\n",
              "      <th>0</th>\n",
              "      <td>AL</td>\n",
              "      <td>Abanda CDP</td>\n",
              "      <td>78.8</td>\n",
              "    </tr>\n",
              "    <tr>\n",
              "      <th>1</th>\n",
              "      <td>AL</td>\n",
              "      <td>Abbeville city</td>\n",
              "      <td>29.1</td>\n",
              "    </tr>\n",
              "    <tr>\n",
              "      <th>2</th>\n",
              "      <td>AL</td>\n",
              "      <td>Adamsville city</td>\n",
              "      <td>25.5</td>\n",
              "    </tr>\n",
              "    <tr>\n",
              "      <th>3</th>\n",
              "      <td>AL</td>\n",
              "      <td>Addison town</td>\n",
              "      <td>30.7</td>\n",
              "    </tr>\n",
              "    <tr>\n",
              "      <th>4</th>\n",
              "      <td>AL</td>\n",
              "      <td>Akron town</td>\n",
              "      <td>42</td>\n",
              "    </tr>\n",
              "  </tbody>\n",
              "</table>\n",
              "</div>\n",
              "      <button class=\"colab-df-convert\" onclick=\"convertToInteractive('df-55c6f980-1d8a-4b0c-a0b5-dffb252a8477')\"\n",
              "              title=\"Convert this dataframe to an interactive table.\"\n",
              "              style=\"display:none;\">\n",
              "        \n",
              "  <svg xmlns=\"http://www.w3.org/2000/svg\" height=\"24px\"viewBox=\"0 0 24 24\"\n",
              "       width=\"24px\">\n",
              "    <path d=\"M0 0h24v24H0V0z\" fill=\"none\"/>\n",
              "    <path d=\"M18.56 5.44l.94 2.06.94-2.06 2.06-.94-2.06-.94-.94-2.06-.94 2.06-2.06.94zm-11 1L8.5 8.5l.94-2.06 2.06-.94-2.06-.94L8.5 2.5l-.94 2.06-2.06.94zm10 10l.94 2.06.94-2.06 2.06-.94-2.06-.94-.94-2.06-.94 2.06-2.06.94z\"/><path d=\"M17.41 7.96l-1.37-1.37c-.4-.4-.92-.59-1.43-.59-.52 0-1.04.2-1.43.59L10.3 9.45l-7.72 7.72c-.78.78-.78 2.05 0 2.83L4 21.41c.39.39.9.59 1.41.59.51 0 1.02-.2 1.41-.59l7.78-7.78 2.81-2.81c.8-.78.8-2.07 0-2.86zM5.41 20L4 18.59l7.72-7.72 1.47 1.35L5.41 20z\"/>\n",
              "  </svg>\n",
              "      </button>\n",
              "      \n",
              "  <style>\n",
              "    .colab-df-container {\n",
              "      display:flex;\n",
              "      flex-wrap:wrap;\n",
              "      gap: 12px;\n",
              "    }\n",
              "\n",
              "    .colab-df-convert {\n",
              "      background-color: #E8F0FE;\n",
              "      border: none;\n",
              "      border-radius: 50%;\n",
              "      cursor: pointer;\n",
              "      display: none;\n",
              "      fill: #1967D2;\n",
              "      height: 32px;\n",
              "      padding: 0 0 0 0;\n",
              "      width: 32px;\n",
              "    }\n",
              "\n",
              "    .colab-df-convert:hover {\n",
              "      background-color: #E2EBFA;\n",
              "      box-shadow: 0px 1px 2px rgba(60, 64, 67, 0.3), 0px 1px 3px 1px rgba(60, 64, 67, 0.15);\n",
              "      fill: #174EA6;\n",
              "    }\n",
              "\n",
              "    [theme=dark] .colab-df-convert {\n",
              "      background-color: #3B4455;\n",
              "      fill: #D2E3FC;\n",
              "    }\n",
              "\n",
              "    [theme=dark] .colab-df-convert:hover {\n",
              "      background-color: #434B5C;\n",
              "      box-shadow: 0px 1px 3px 1px rgba(0, 0, 0, 0.15);\n",
              "      filter: drop-shadow(0px 1px 2px rgba(0, 0, 0, 0.3));\n",
              "      fill: #FFFFFF;\n",
              "    }\n",
              "  </style>\n",
              "\n",
              "      <script>\n",
              "        const buttonEl =\n",
              "          document.querySelector('#df-55c6f980-1d8a-4b0c-a0b5-dffb252a8477 button.colab-df-convert');\n",
              "        buttonEl.style.display =\n",
              "          google.colab.kernel.accessAllowed ? 'block' : 'none';\n",
              "\n",
              "        async function convertToInteractive(key) {\n",
              "          const element = document.querySelector('#df-55c6f980-1d8a-4b0c-a0b5-dffb252a8477');\n",
              "          const dataTable =\n",
              "            await google.colab.kernel.invokeFunction('convertToInteractive',\n",
              "                                                     [key], {});\n",
              "          if (!dataTable) return;\n",
              "\n",
              "          const docLinkHtml = 'Like what you see? Visit the ' +\n",
              "            '<a target=\"_blank\" href=https://colab.research.google.com/notebooks/data_table.ipynb>data table notebook</a>'\n",
              "            + ' to learn more about interactive tables.';\n",
              "          element.innerHTML = '';\n",
              "          dataTable['output_type'] = 'display_data';\n",
              "          await google.colab.output.renderOutput(dataTable, element);\n",
              "          const docLink = document.createElement('div');\n",
              "          docLink.innerHTML = docLinkHtml;\n",
              "          element.appendChild(docLink);\n",
              "        }\n",
              "      </script>\n",
              "    </div>\n",
              "  </div>\n",
              "  "
            ]
          },
          "metadata": {},
          "execution_count": 3
        }
      ]
    },
    {
      "cell_type": "code",
      "source": [
        "percentage_people_below_poverty_level.poverty_rate.replace(['-'],0.0,inplace = True)\n",
        "#poverty_rate sütununda bazı bozuk değerler bulunmaktadır.\n",
        "#poverty rate sütunundaki '-' değerler 0 ile değiştirilir.\n",
        "#inplace=True olması bu değişimin kalıcı olduğu anlamına gelir."
      ],
      "metadata": {
        "id": "1GLW5PQIzfDD"
      },
      "execution_count": 4,
      "outputs": []
    },
    {
      "cell_type": "code",
      "source": [
        "percentage_people_below_poverty_level.info()   #poverty rate sütununda string değerler bulunmaktadır.\n",
        "                                               #burada değerleri karşılaştırabilmek için sayısal değere çevrilmesi gerekir.\n",
        "                                               #bu değerler bir oran olduğundan floata çevrilmesi gerekir."
      ],
      "metadata": {
        "colab": {
          "base_uri": "https://localhost:8080/"
        },
        "id": "qjqm-4Wx1j2W",
        "outputId": "4c095d71-f6bc-42e7-914d-878847d044f2"
      },
      "execution_count": 5,
      "outputs": [
        {
          "output_type": "stream",
          "name": "stdout",
          "text": [
            "<class 'pandas.core.frame.DataFrame'>\n",
            "RangeIndex: 29329 entries, 0 to 29328\n",
            "Data columns (total 3 columns):\n",
            " #   Column           Non-Null Count  Dtype \n",
            "---  ------           --------------  ----- \n",
            " 0   Geographic Area  29329 non-null  object\n",
            " 1   City             29329 non-null  object\n",
            " 2   poverty_rate     29329 non-null  object\n",
            "dtypes: object(3)\n",
            "memory usage: 687.5+ KB\n"
          ]
        }
      ]
    },
    {
      "cell_type": "code",
      "source": [
        "percentage_people_below_poverty_level.poverty_rate = percentage_people_below_poverty_level.poverty_rate.astype(float)\n",
        "#poverty rate sütunundaki değerler floata çevrilir."
      ],
      "metadata": {
        "id": "LLzDbzRQ2D3o"
      },
      "execution_count": 6,
      "outputs": []
    },
    {
      "cell_type": "code",
      "source": [
        "area_list = list(percentage_people_below_poverty_level['Geographic Area'].unique())\n",
        "#Geographic Area sütunu eyaletleri barındırmaktadır.\n",
        "#bu eyaletlerden unique olanlarının bulunması için unique methodu kullanılır."
      ],
      "metadata": {
        "id": "diw0b5wi2LUQ"
      },
      "execution_count": 7,
      "outputs": []
    },
    {
      "cell_type": "code",
      "source": [
        "area_poverty_ratio = [] #fakirlik oranının tutulması için boş bir liste yaratılır."
      ],
      "metadata": {
        "id": "juMBI6_N2jxA"
      },
      "execution_count": 8,
      "outputs": []
    },
    {
      "cell_type": "code",
      "source": [
        "for i in area_list:\n",
        "    x = percentage_people_below_poverty_level[percentage_people_below_poverty_level['Geographic Area']==i]\n",
        "    #unique eyaletler for each döngüsüyle x değişkenine aktarılır.\n",
        "    area_poverty_rate = sum(x.poverty_rate)/len(x)\n",
        "    #eyaletlere göre fakirlik oranı bulunur.\n",
        "    area_poverty_ratio.append(area_poverty_rate)\n",
        "    #bu oran listeye eklenir."
      ],
      "metadata": {
        "id": "2oeicJRT2zgE"
      },
      "execution_count": 9,
      "outputs": []
    },
    {
      "cell_type": "code",
      "source": [
        "data = pd.DataFrame({'area_list': area_list,'area_poverty_ratio':area_poverty_ratio})\n",
        "#bir dataframe oluşturulur.\n",
        "#unique eyaletler area_list sütununda, eyaletlere göre fakirlik oranı area_poverty_ratio sütununda tutulur."
      ],
      "metadata": {
        "id": "_wuR2A5Q3QEu"
      },
      "execution_count": 10,
      "outputs": []
    },
    {
      "cell_type": "code",
      "source": [
        "data.head()"
      ],
      "metadata": {
        "colab": {
          "base_uri": "https://localhost:8080/",
          "height": 206
        },
        "id": "udVRRVqk3Skn",
        "outputId": "b5296e6b-6d95-4a1f-bf97-68619e58ebad"
      },
      "execution_count": 11,
      "outputs": [
        {
          "output_type": "execute_result",
          "data": {
            "text/plain": [
              "  area_list  area_poverty_ratio\n",
              "0        AL           20.611795\n",
              "1        AK           18.678592\n",
              "2        AZ           25.268071\n",
              "3        AR           22.963216\n",
              "4        CA           16.888371"
            ],
            "text/html": [
              "\n",
              "  <div id=\"df-dc1728d1-00e1-463b-9a4e-daa6466f3734\">\n",
              "    <div class=\"colab-df-container\">\n",
              "      <div>\n",
              "<style scoped>\n",
              "    .dataframe tbody tr th:only-of-type {\n",
              "        vertical-align: middle;\n",
              "    }\n",
              "\n",
              "    .dataframe tbody tr th {\n",
              "        vertical-align: top;\n",
              "    }\n",
              "\n",
              "    .dataframe thead th {\n",
              "        text-align: right;\n",
              "    }\n",
              "</style>\n",
              "<table border=\"1\" class=\"dataframe\">\n",
              "  <thead>\n",
              "    <tr style=\"text-align: right;\">\n",
              "      <th></th>\n",
              "      <th>area_list</th>\n",
              "      <th>area_poverty_ratio</th>\n",
              "    </tr>\n",
              "  </thead>\n",
              "  <tbody>\n",
              "    <tr>\n",
              "      <th>0</th>\n",
              "      <td>AL</td>\n",
              "      <td>20.611795</td>\n",
              "    </tr>\n",
              "    <tr>\n",
              "      <th>1</th>\n",
              "      <td>AK</td>\n",
              "      <td>18.678592</td>\n",
              "    </tr>\n",
              "    <tr>\n",
              "      <th>2</th>\n",
              "      <td>AZ</td>\n",
              "      <td>25.268071</td>\n",
              "    </tr>\n",
              "    <tr>\n",
              "      <th>3</th>\n",
              "      <td>AR</td>\n",
              "      <td>22.963216</td>\n",
              "    </tr>\n",
              "    <tr>\n",
              "      <th>4</th>\n",
              "      <td>CA</td>\n",
              "      <td>16.888371</td>\n",
              "    </tr>\n",
              "  </tbody>\n",
              "</table>\n",
              "</div>\n",
              "      <button class=\"colab-df-convert\" onclick=\"convertToInteractive('df-dc1728d1-00e1-463b-9a4e-daa6466f3734')\"\n",
              "              title=\"Convert this dataframe to an interactive table.\"\n",
              "              style=\"display:none;\">\n",
              "        \n",
              "  <svg xmlns=\"http://www.w3.org/2000/svg\" height=\"24px\"viewBox=\"0 0 24 24\"\n",
              "       width=\"24px\">\n",
              "    <path d=\"M0 0h24v24H0V0z\" fill=\"none\"/>\n",
              "    <path d=\"M18.56 5.44l.94 2.06.94-2.06 2.06-.94-2.06-.94-.94-2.06-.94 2.06-2.06.94zm-11 1L8.5 8.5l.94-2.06 2.06-.94-2.06-.94L8.5 2.5l-.94 2.06-2.06.94zm10 10l.94 2.06.94-2.06 2.06-.94-2.06-.94-.94-2.06-.94 2.06-2.06.94z\"/><path d=\"M17.41 7.96l-1.37-1.37c-.4-.4-.92-.59-1.43-.59-.52 0-1.04.2-1.43.59L10.3 9.45l-7.72 7.72c-.78.78-.78 2.05 0 2.83L4 21.41c.39.39.9.59 1.41.59.51 0 1.02-.2 1.41-.59l7.78-7.78 2.81-2.81c.8-.78.8-2.07 0-2.86zM5.41 20L4 18.59l7.72-7.72 1.47 1.35L5.41 20z\"/>\n",
              "  </svg>\n",
              "      </button>\n",
              "      \n",
              "  <style>\n",
              "    .colab-df-container {\n",
              "      display:flex;\n",
              "      flex-wrap:wrap;\n",
              "      gap: 12px;\n",
              "    }\n",
              "\n",
              "    .colab-df-convert {\n",
              "      background-color: #E8F0FE;\n",
              "      border: none;\n",
              "      border-radius: 50%;\n",
              "      cursor: pointer;\n",
              "      display: none;\n",
              "      fill: #1967D2;\n",
              "      height: 32px;\n",
              "      padding: 0 0 0 0;\n",
              "      width: 32px;\n",
              "    }\n",
              "\n",
              "    .colab-df-convert:hover {\n",
              "      background-color: #E2EBFA;\n",
              "      box-shadow: 0px 1px 2px rgba(60, 64, 67, 0.3), 0px 1px 3px 1px rgba(60, 64, 67, 0.15);\n",
              "      fill: #174EA6;\n",
              "    }\n",
              "\n",
              "    [theme=dark] .colab-df-convert {\n",
              "      background-color: #3B4455;\n",
              "      fill: #D2E3FC;\n",
              "    }\n",
              "\n",
              "    [theme=dark] .colab-df-convert:hover {\n",
              "      background-color: #434B5C;\n",
              "      box-shadow: 0px 1px 3px 1px rgba(0, 0, 0, 0.15);\n",
              "      filter: drop-shadow(0px 1px 2px rgba(0, 0, 0, 0.3));\n",
              "      fill: #FFFFFF;\n",
              "    }\n",
              "  </style>\n",
              "\n",
              "      <script>\n",
              "        const buttonEl =\n",
              "          document.querySelector('#df-dc1728d1-00e1-463b-9a4e-daa6466f3734 button.colab-df-convert');\n",
              "        buttonEl.style.display =\n",
              "          google.colab.kernel.accessAllowed ? 'block' : 'none';\n",
              "\n",
              "        async function convertToInteractive(key) {\n",
              "          const element = document.querySelector('#df-dc1728d1-00e1-463b-9a4e-daa6466f3734');\n",
              "          const dataTable =\n",
              "            await google.colab.kernel.invokeFunction('convertToInteractive',\n",
              "                                                     [key], {});\n",
              "          if (!dataTable) return;\n",
              "\n",
              "          const docLinkHtml = 'Like what you see? Visit the ' +\n",
              "            '<a target=\"_blank\" href=https://colab.research.google.com/notebooks/data_table.ipynb>data table notebook</a>'\n",
              "            + ' to learn more about interactive tables.';\n",
              "          element.innerHTML = '';\n",
              "          dataTable['output_type'] = 'display_data';\n",
              "          await google.colab.output.renderOutput(dataTable, element);\n",
              "          const docLink = document.createElement('div');\n",
              "          docLink.innerHTML = docLinkHtml;\n",
              "          element.appendChild(docLink);\n",
              "        }\n",
              "      </script>\n",
              "    </div>\n",
              "  </div>\n",
              "  "
            ]
          },
          "metadata": {},
          "execution_count": 11
        }
      ]
    },
    {
      "cell_type": "code",
      "source": [
        "new_index = (data['area_poverty_ratio'].sort_values(ascending=False)).index.values\n",
        "#fakirlik oranı ascending=False olduğundan azalan şekilde sıralanır."
      ],
      "metadata": {
        "id": "S3T1nkas3mTJ"
      },
      "execution_count": 12,
      "outputs": []
    },
    {
      "cell_type": "code",
      "source": [
        "sorted_data = data.reindex(new_index)\n",
        "#fakirlik oranı dataframe'in yeni indeksleri yapılır."
      ],
      "metadata": {
        "id": "iJRNH7hY30qC"
      },
      "execution_count": 13,
      "outputs": []
    },
    {
      "cell_type": "markdown",
      "source": [
        "**Eyaletlere göre 25 Yaşından Büyük İnsanların Liseden Mezun Olma Oranı**"
      ],
      "metadata": {
        "id": "cAhr2kX96Ptx"
      }
    },
    {
      "cell_type": "code",
      "source": [
        "percent_over_25_completed_highSchool.head()"
      ],
      "metadata": {
        "colab": {
          "base_uri": "https://localhost:8080/",
          "height": 206
        },
        "id": "ZLWbEKp04EGS",
        "outputId": "cec021a1-7744-4643-b8a8-98f5fc52c7a0"
      },
      "execution_count": 14,
      "outputs": [
        {
          "output_type": "execute_result",
          "data": {
            "text/plain": [
              "  Geographic Area             City percent_completed_hs\n",
              "0              AL       Abanda CDP                 21.2\n",
              "1              AL   Abbeville city                 69.1\n",
              "2              AL  Adamsville city                 78.9\n",
              "3              AL     Addison town                 81.4\n",
              "4              AL       Akron town                 68.6"
            ],
            "text/html": [
              "\n",
              "  <div id=\"df-37b71d03-0459-4d03-b6f8-2839d1d13088\">\n",
              "    <div class=\"colab-df-container\">\n",
              "      <div>\n",
              "<style scoped>\n",
              "    .dataframe tbody tr th:only-of-type {\n",
              "        vertical-align: middle;\n",
              "    }\n",
              "\n",
              "    .dataframe tbody tr th {\n",
              "        vertical-align: top;\n",
              "    }\n",
              "\n",
              "    .dataframe thead th {\n",
              "        text-align: right;\n",
              "    }\n",
              "</style>\n",
              "<table border=\"1\" class=\"dataframe\">\n",
              "  <thead>\n",
              "    <tr style=\"text-align: right;\">\n",
              "      <th></th>\n",
              "      <th>Geographic Area</th>\n",
              "      <th>City</th>\n",
              "      <th>percent_completed_hs</th>\n",
              "    </tr>\n",
              "  </thead>\n",
              "  <tbody>\n",
              "    <tr>\n",
              "      <th>0</th>\n",
              "      <td>AL</td>\n",
              "      <td>Abanda CDP</td>\n",
              "      <td>21.2</td>\n",
              "    </tr>\n",
              "    <tr>\n",
              "      <th>1</th>\n",
              "      <td>AL</td>\n",
              "      <td>Abbeville city</td>\n",
              "      <td>69.1</td>\n",
              "    </tr>\n",
              "    <tr>\n",
              "      <th>2</th>\n",
              "      <td>AL</td>\n",
              "      <td>Adamsville city</td>\n",
              "      <td>78.9</td>\n",
              "    </tr>\n",
              "    <tr>\n",
              "      <th>3</th>\n",
              "      <td>AL</td>\n",
              "      <td>Addison town</td>\n",
              "      <td>81.4</td>\n",
              "    </tr>\n",
              "    <tr>\n",
              "      <th>4</th>\n",
              "      <td>AL</td>\n",
              "      <td>Akron town</td>\n",
              "      <td>68.6</td>\n",
              "    </tr>\n",
              "  </tbody>\n",
              "</table>\n",
              "</div>\n",
              "      <button class=\"colab-df-convert\" onclick=\"convertToInteractive('df-37b71d03-0459-4d03-b6f8-2839d1d13088')\"\n",
              "              title=\"Convert this dataframe to an interactive table.\"\n",
              "              style=\"display:none;\">\n",
              "        \n",
              "  <svg xmlns=\"http://www.w3.org/2000/svg\" height=\"24px\"viewBox=\"0 0 24 24\"\n",
              "       width=\"24px\">\n",
              "    <path d=\"M0 0h24v24H0V0z\" fill=\"none\"/>\n",
              "    <path d=\"M18.56 5.44l.94 2.06.94-2.06 2.06-.94-2.06-.94-.94-2.06-.94 2.06-2.06.94zm-11 1L8.5 8.5l.94-2.06 2.06-.94-2.06-.94L8.5 2.5l-.94 2.06-2.06.94zm10 10l.94 2.06.94-2.06 2.06-.94-2.06-.94-.94-2.06-.94 2.06-2.06.94z\"/><path d=\"M17.41 7.96l-1.37-1.37c-.4-.4-.92-.59-1.43-.59-.52 0-1.04.2-1.43.59L10.3 9.45l-7.72 7.72c-.78.78-.78 2.05 0 2.83L4 21.41c.39.39.9.59 1.41.59.51 0 1.02-.2 1.41-.59l7.78-7.78 2.81-2.81c.8-.78.8-2.07 0-2.86zM5.41 20L4 18.59l7.72-7.72 1.47 1.35L5.41 20z\"/>\n",
              "  </svg>\n",
              "      </button>\n",
              "      \n",
              "  <style>\n",
              "    .colab-df-container {\n",
              "      display:flex;\n",
              "      flex-wrap:wrap;\n",
              "      gap: 12px;\n",
              "    }\n",
              "\n",
              "    .colab-df-convert {\n",
              "      background-color: #E8F0FE;\n",
              "      border: none;\n",
              "      border-radius: 50%;\n",
              "      cursor: pointer;\n",
              "      display: none;\n",
              "      fill: #1967D2;\n",
              "      height: 32px;\n",
              "      padding: 0 0 0 0;\n",
              "      width: 32px;\n",
              "    }\n",
              "\n",
              "    .colab-df-convert:hover {\n",
              "      background-color: #E2EBFA;\n",
              "      box-shadow: 0px 1px 2px rgba(60, 64, 67, 0.3), 0px 1px 3px 1px rgba(60, 64, 67, 0.15);\n",
              "      fill: #174EA6;\n",
              "    }\n",
              "\n",
              "    [theme=dark] .colab-df-convert {\n",
              "      background-color: #3B4455;\n",
              "      fill: #D2E3FC;\n",
              "    }\n",
              "\n",
              "    [theme=dark] .colab-df-convert:hover {\n",
              "      background-color: #434B5C;\n",
              "      box-shadow: 0px 1px 3px 1px rgba(0, 0, 0, 0.15);\n",
              "      filter: drop-shadow(0px 1px 2px rgba(0, 0, 0, 0.3));\n",
              "      fill: #FFFFFF;\n",
              "    }\n",
              "  </style>\n",
              "\n",
              "      <script>\n",
              "        const buttonEl =\n",
              "          document.querySelector('#df-37b71d03-0459-4d03-b6f8-2839d1d13088 button.colab-df-convert');\n",
              "        buttonEl.style.display =\n",
              "          google.colab.kernel.accessAllowed ? 'block' : 'none';\n",
              "\n",
              "        async function convertToInteractive(key) {\n",
              "          const element = document.querySelector('#df-37b71d03-0459-4d03-b6f8-2839d1d13088');\n",
              "          const dataTable =\n",
              "            await google.colab.kernel.invokeFunction('convertToInteractive',\n",
              "                                                     [key], {});\n",
              "          if (!dataTable) return;\n",
              "\n",
              "          const docLinkHtml = 'Like what you see? Visit the ' +\n",
              "            '<a target=\"_blank\" href=https://colab.research.google.com/notebooks/data_table.ipynb>data table notebook</a>'\n",
              "            + ' to learn more about interactive tables.';\n",
              "          element.innerHTML = '';\n",
              "          dataTable['output_type'] = 'display_data';\n",
              "          await google.colab.output.renderOutput(dataTable, element);\n",
              "          const docLink = document.createElement('div');\n",
              "          docLink.innerHTML = docLinkHtml;\n",
              "          element.appendChild(docLink);\n",
              "        }\n",
              "      </script>\n",
              "    </div>\n",
              "  </div>\n",
              "  "
            ]
          },
          "metadata": {},
          "execution_count": 14
        }
      ]
    },
    {
      "cell_type": "code",
      "source": [
        "percent_over_25_completed_highSchool.percent_completed_hs.replace(['-'],0.0,inplace = True)\n",
        "#percent_completed_hs sütununda bazı bozuk değerler bulunmaktadır.\n",
        "#percent_completed_hs sütunundaki '-' değerler 0 ile değiştirilir.\n",
        "#inplace=True olması bu değişimin kalıcı olduğu anlamına gelir."
      ],
      "metadata": {
        "id": "uCG6XbFl3_xk"
      },
      "execution_count": 15,
      "outputs": []
    },
    {
      "cell_type": "code",
      "source": [
        "percent_over_25_completed_highSchool.info() #percent_completed_hs sütununda string değerler bulunmaktadır.\n",
        "                                            #burada değerleri karşılaştırabilmek için sayısal değere çevrilmesi gerekir.\n",
        "                                            #bu değerler bir oran olduğundan floata çevrilmesi gerekir."
      ],
      "metadata": {
        "colab": {
          "base_uri": "https://localhost:8080/"
        },
        "id": "uUuwjdA34W-i",
        "outputId": "00800e96-77df-4e8c-f5e6-21f01cd29ce5"
      },
      "execution_count": 16,
      "outputs": [
        {
          "output_type": "stream",
          "name": "stdout",
          "text": [
            "<class 'pandas.core.frame.DataFrame'>\n",
            "RangeIndex: 29329 entries, 0 to 29328\n",
            "Data columns (total 3 columns):\n",
            " #   Column                Non-Null Count  Dtype \n",
            "---  ------                --------------  ----- \n",
            " 0   Geographic Area       29329 non-null  object\n",
            " 1   City                  29329 non-null  object\n",
            " 2   percent_completed_hs  29329 non-null  object\n",
            "dtypes: object(3)\n",
            "memory usage: 687.5+ KB\n"
          ]
        }
      ]
    },
    {
      "cell_type": "code",
      "source": [
        "percent_over_25_completed_highSchool.percent_completed_hs = percent_over_25_completed_highSchool.percent_completed_hs.astype(float)\n",
        "#poverty rate sütunundaki değerler floata çevrilir."
      ],
      "metadata": {
        "id": "kozWn46z4lfp"
      },
      "execution_count": 17,
      "outputs": []
    },
    {
      "cell_type": "code",
      "source": [
        "area_list = list(percent_over_25_completed_highSchool['Geographic Area'].unique())\n",
        "#Geographic Area sütunu eyaletleri barındırmaktadır.\n",
        "#bu eyaletlerden unique olanlarının bulunması için unique methodu kullanılır."
      ],
      "metadata": {
        "id": "GaPzxs2T4qVi"
      },
      "execution_count": 18,
      "outputs": []
    },
    {
      "cell_type": "code",
      "source": [
        "area_highschool = [] #liseden mezun olma oranı için boş bir liste yaratılır."
      ],
      "metadata": {
        "id": "79py5FhB4wpG"
      },
      "execution_count": 19,
      "outputs": []
    },
    {
      "cell_type": "code",
      "source": [
        "for i in area_list:\n",
        "    x = percent_over_25_completed_highSchool[percent_over_25_completed_highSchool['Geographic Area']==i]\n",
        "    #unique eyaletler for each döngüsüyle x değişkenine aktarılır.\n",
        "    area_highschool_rate = sum(x.percent_completed_hs)/len(x)\n",
        "    #eyaletlere göre liseden mezun olma oranı bulunur.\n",
        "    area_highschool.append(area_highschool_rate)\n",
        "    #bu oran listeye eklenir."
      ],
      "metadata": {
        "id": "-n6W-3CC46Ul"
      },
      "execution_count": 20,
      "outputs": []
    },
    {
      "cell_type": "code",
      "source": [
        "data = pd.DataFrame({'area_list': area_list,'area_highschool_ratio':area_highschool})\n",
        "#bir dataframe oluşturulur.\n",
        "#unique eyaletler area_list sütununda, eyaletlere göre liseden mezun olma oranı area_highschool_ratio sütununda tutulur."
      ],
      "metadata": {
        "id": "5a5o7ape5K0w"
      },
      "execution_count": 21,
      "outputs": []
    },
    {
      "cell_type": "code",
      "source": [
        "data.head()"
      ],
      "metadata": {
        "colab": {
          "base_uri": "https://localhost:8080/",
          "height": 206
        },
        "id": "ODA-H9K_5Lnr",
        "outputId": "791e1666-6640-429d-bddb-c157813572da"
      },
      "execution_count": 22,
      "outputs": [
        {
          "output_type": "execute_result",
          "data": {
            "text/plain": [
              "  area_list  area_highschool_ratio\n",
              "0        AL              80.163419\n",
              "1        AK              80.098028\n",
              "2        AZ              79.218182\n",
              "3        AR              79.949538\n",
              "4        CA              80.824639"
            ],
            "text/html": [
              "\n",
              "  <div id=\"df-e60807e6-8a13-41b3-8d33-a9def63f7de7\">\n",
              "    <div class=\"colab-df-container\">\n",
              "      <div>\n",
              "<style scoped>\n",
              "    .dataframe tbody tr th:only-of-type {\n",
              "        vertical-align: middle;\n",
              "    }\n",
              "\n",
              "    .dataframe tbody tr th {\n",
              "        vertical-align: top;\n",
              "    }\n",
              "\n",
              "    .dataframe thead th {\n",
              "        text-align: right;\n",
              "    }\n",
              "</style>\n",
              "<table border=\"1\" class=\"dataframe\">\n",
              "  <thead>\n",
              "    <tr style=\"text-align: right;\">\n",
              "      <th></th>\n",
              "      <th>area_list</th>\n",
              "      <th>area_highschool_ratio</th>\n",
              "    </tr>\n",
              "  </thead>\n",
              "  <tbody>\n",
              "    <tr>\n",
              "      <th>0</th>\n",
              "      <td>AL</td>\n",
              "      <td>80.163419</td>\n",
              "    </tr>\n",
              "    <tr>\n",
              "      <th>1</th>\n",
              "      <td>AK</td>\n",
              "      <td>80.098028</td>\n",
              "    </tr>\n",
              "    <tr>\n",
              "      <th>2</th>\n",
              "      <td>AZ</td>\n",
              "      <td>79.218182</td>\n",
              "    </tr>\n",
              "    <tr>\n",
              "      <th>3</th>\n",
              "      <td>AR</td>\n",
              "      <td>79.949538</td>\n",
              "    </tr>\n",
              "    <tr>\n",
              "      <th>4</th>\n",
              "      <td>CA</td>\n",
              "      <td>80.824639</td>\n",
              "    </tr>\n",
              "  </tbody>\n",
              "</table>\n",
              "</div>\n",
              "      <button class=\"colab-df-convert\" onclick=\"convertToInteractive('df-e60807e6-8a13-41b3-8d33-a9def63f7de7')\"\n",
              "              title=\"Convert this dataframe to an interactive table.\"\n",
              "              style=\"display:none;\">\n",
              "        \n",
              "  <svg xmlns=\"http://www.w3.org/2000/svg\" height=\"24px\"viewBox=\"0 0 24 24\"\n",
              "       width=\"24px\">\n",
              "    <path d=\"M0 0h24v24H0V0z\" fill=\"none\"/>\n",
              "    <path d=\"M18.56 5.44l.94 2.06.94-2.06 2.06-.94-2.06-.94-.94-2.06-.94 2.06-2.06.94zm-11 1L8.5 8.5l.94-2.06 2.06-.94-2.06-.94L8.5 2.5l-.94 2.06-2.06.94zm10 10l.94 2.06.94-2.06 2.06-.94-2.06-.94-.94-2.06-.94 2.06-2.06.94z\"/><path d=\"M17.41 7.96l-1.37-1.37c-.4-.4-.92-.59-1.43-.59-.52 0-1.04.2-1.43.59L10.3 9.45l-7.72 7.72c-.78.78-.78 2.05 0 2.83L4 21.41c.39.39.9.59 1.41.59.51 0 1.02-.2 1.41-.59l7.78-7.78 2.81-2.81c.8-.78.8-2.07 0-2.86zM5.41 20L4 18.59l7.72-7.72 1.47 1.35L5.41 20z\"/>\n",
              "  </svg>\n",
              "      </button>\n",
              "      \n",
              "  <style>\n",
              "    .colab-df-container {\n",
              "      display:flex;\n",
              "      flex-wrap:wrap;\n",
              "      gap: 12px;\n",
              "    }\n",
              "\n",
              "    .colab-df-convert {\n",
              "      background-color: #E8F0FE;\n",
              "      border: none;\n",
              "      border-radius: 50%;\n",
              "      cursor: pointer;\n",
              "      display: none;\n",
              "      fill: #1967D2;\n",
              "      height: 32px;\n",
              "      padding: 0 0 0 0;\n",
              "      width: 32px;\n",
              "    }\n",
              "\n",
              "    .colab-df-convert:hover {\n",
              "      background-color: #E2EBFA;\n",
              "      box-shadow: 0px 1px 2px rgba(60, 64, 67, 0.3), 0px 1px 3px 1px rgba(60, 64, 67, 0.15);\n",
              "      fill: #174EA6;\n",
              "    }\n",
              "\n",
              "    [theme=dark] .colab-df-convert {\n",
              "      background-color: #3B4455;\n",
              "      fill: #D2E3FC;\n",
              "    }\n",
              "\n",
              "    [theme=dark] .colab-df-convert:hover {\n",
              "      background-color: #434B5C;\n",
              "      box-shadow: 0px 1px 3px 1px rgba(0, 0, 0, 0.15);\n",
              "      filter: drop-shadow(0px 1px 2px rgba(0, 0, 0, 0.3));\n",
              "      fill: #FFFFFF;\n",
              "    }\n",
              "  </style>\n",
              "\n",
              "      <script>\n",
              "        const buttonEl =\n",
              "          document.querySelector('#df-e60807e6-8a13-41b3-8d33-a9def63f7de7 button.colab-df-convert');\n",
              "        buttonEl.style.display =\n",
              "          google.colab.kernel.accessAllowed ? 'block' : 'none';\n",
              "\n",
              "        async function convertToInteractive(key) {\n",
              "          const element = document.querySelector('#df-e60807e6-8a13-41b3-8d33-a9def63f7de7');\n",
              "          const dataTable =\n",
              "            await google.colab.kernel.invokeFunction('convertToInteractive',\n",
              "                                                     [key], {});\n",
              "          if (!dataTable) return;\n",
              "\n",
              "          const docLinkHtml = 'Like what you see? Visit the ' +\n",
              "            '<a target=\"_blank\" href=https://colab.research.google.com/notebooks/data_table.ipynb>data table notebook</a>'\n",
              "            + ' to learn more about interactive tables.';\n",
              "          element.innerHTML = '';\n",
              "          dataTable['output_type'] = 'display_data';\n",
              "          await google.colab.output.renderOutput(dataTable, element);\n",
              "          const docLink = document.createElement('div');\n",
              "          docLink.innerHTML = docLinkHtml;\n",
              "          element.appendChild(docLink);\n",
              "        }\n",
              "      </script>\n",
              "    </div>\n",
              "  </div>\n",
              "  "
            ]
          },
          "metadata": {},
          "execution_count": 22
        }
      ]
    },
    {
      "cell_type": "code",
      "source": [
        "new_index = (data['area_highschool_ratio'].sort_values(ascending=True)).index.values\n",
        "#liseden mezun olma oranı ascending=True olduğundan artan şekilde sıralanır."
      ],
      "metadata": {
        "id": "-iyX5Ype5dAT"
      },
      "execution_count": 23,
      "outputs": []
    },
    {
      "cell_type": "code",
      "source": [
        "sorted_data2 = data.reindex(new_index) \n",
        "#liseden mezun olma oranı dataframe'in yeni indeksleri yapılır."
      ],
      "metadata": {
        "id": "Y2FJML2Ey3YD"
      },
      "execution_count": 24,
      "outputs": []
    },
    {
      "cell_type": "code",
      "source": [
        "sorted_data['area_poverty_ratio'] = sorted_data['area_poverty_ratio']/max( sorted_data['area_poverty_ratio'])\n",
        "sorted_data2['area_highschool_ratio'] = sorted_data2['area_highschool_ratio']/max( sorted_data2['area_highschool_ratio'])\n",
        "#burada normalizasyon yapılır.\n",
        "#normalizasyonda gözlemler değişir.\n",
        "#verilerin sabit bir aralığa göre (genellikle 0-1) ölçeklendirilme işlemidir.\n",
        "#(x-xmin)/(xmax-xmin) formülüdür.\n",
        "#bu kodda her eyalete göre fakirlik oranı ve liseden mezun olma oranı for each döngüsüyle hesaplandığı için ait oldukları listeleri çağırmak yeterlidir."
      ],
      "metadata": {
        "id": "erovfKUv6mv8"
      },
      "execution_count": 25,
      "outputs": []
    },
    {
      "cell_type": "code",
      "source": [
        "data = pd.concat([sorted_data,sorted_data2['area_highschool_ratio']],axis=1)\n",
        "#concat methoduyla axis=1 olduğundan dataframeler yatay şekilde birleştirilir."
      ],
      "metadata": {
        "id": "vlUZU9vM9AGL"
      },
      "execution_count": 26,
      "outputs": []
    },
    {
      "cell_type": "code",
      "source": [
        "data.head(10) #burada birleştirilmiş dataframe gözükmektedir.\n",
        "              #area_list -> unique eyaletler\n",
        "              #area_poverty_ratio -> eyaletlere göre fakirlik oranı\n",
        "              #area_highschool_ratio -> eyaletlere göre 25 yaşından büyüklerin liseden mezun olma oranı\n",
        "              #normalizasyon yapmadan önce AL'deki area_poverty_ratio\t80.16 iken şu an 0.76'dır.\n",
        "              #tüm değerlerin 0-1 aralığında olduğu görülür."
      ],
      "metadata": {
        "colab": {
          "base_uri": "https://localhost:8080/",
          "height": 363
        },
        "id": "5YgBsgWN9ufB",
        "outputId": "792b54c0-b4db-4fdf-b1d0-2bcb3a5880db"
      },
      "execution_count": 27,
      "outputs": [
        {
          "output_type": "execute_result",
          "data": {
            "text/plain": [
              "  area_list  area_poverty_ratio  area_highschool_ratio\n",
              "0        AL            0.766687               0.871072\n",
              "1        AK            0.694778               0.870362\n",
              "2        AZ            0.939884               0.860801\n",
              "3        AR            0.854151               0.868748\n",
              "4        CA            0.628188               0.878257\n",
              "5        CO            0.490539               0.966290\n",
              "6        CT            0.339883               0.995254\n",
              "7        DE            0.467033               0.961871\n",
              "8        DC            0.669537               0.970352\n",
              "9        FL            0.651259               0.928600"
            ],
            "text/html": [
              "\n",
              "  <div id=\"df-e8871318-057e-4c2f-996f-7c14b8df5554\">\n",
              "    <div class=\"colab-df-container\">\n",
              "      <div>\n",
              "<style scoped>\n",
              "    .dataframe tbody tr th:only-of-type {\n",
              "        vertical-align: middle;\n",
              "    }\n",
              "\n",
              "    .dataframe tbody tr th {\n",
              "        vertical-align: top;\n",
              "    }\n",
              "\n",
              "    .dataframe thead th {\n",
              "        text-align: right;\n",
              "    }\n",
              "</style>\n",
              "<table border=\"1\" class=\"dataframe\">\n",
              "  <thead>\n",
              "    <tr style=\"text-align: right;\">\n",
              "      <th></th>\n",
              "      <th>area_list</th>\n",
              "      <th>area_poverty_ratio</th>\n",
              "      <th>area_highschool_ratio</th>\n",
              "    </tr>\n",
              "  </thead>\n",
              "  <tbody>\n",
              "    <tr>\n",
              "      <th>0</th>\n",
              "      <td>AL</td>\n",
              "      <td>0.766687</td>\n",
              "      <td>0.871072</td>\n",
              "    </tr>\n",
              "    <tr>\n",
              "      <th>1</th>\n",
              "      <td>AK</td>\n",
              "      <td>0.694778</td>\n",
              "      <td>0.870362</td>\n",
              "    </tr>\n",
              "    <tr>\n",
              "      <th>2</th>\n",
              "      <td>AZ</td>\n",
              "      <td>0.939884</td>\n",
              "      <td>0.860801</td>\n",
              "    </tr>\n",
              "    <tr>\n",
              "      <th>3</th>\n",
              "      <td>AR</td>\n",
              "      <td>0.854151</td>\n",
              "      <td>0.868748</td>\n",
              "    </tr>\n",
              "    <tr>\n",
              "      <th>4</th>\n",
              "      <td>CA</td>\n",
              "      <td>0.628188</td>\n",
              "      <td>0.878257</td>\n",
              "    </tr>\n",
              "    <tr>\n",
              "      <th>5</th>\n",
              "      <td>CO</td>\n",
              "      <td>0.490539</td>\n",
              "      <td>0.966290</td>\n",
              "    </tr>\n",
              "    <tr>\n",
              "      <th>6</th>\n",
              "      <td>CT</td>\n",
              "      <td>0.339883</td>\n",
              "      <td>0.995254</td>\n",
              "    </tr>\n",
              "    <tr>\n",
              "      <th>7</th>\n",
              "      <td>DE</td>\n",
              "      <td>0.467033</td>\n",
              "      <td>0.961871</td>\n",
              "    </tr>\n",
              "    <tr>\n",
              "      <th>8</th>\n",
              "      <td>DC</td>\n",
              "      <td>0.669537</td>\n",
              "      <td>0.970352</td>\n",
              "    </tr>\n",
              "    <tr>\n",
              "      <th>9</th>\n",
              "      <td>FL</td>\n",
              "      <td>0.651259</td>\n",
              "      <td>0.928600</td>\n",
              "    </tr>\n",
              "  </tbody>\n",
              "</table>\n",
              "</div>\n",
              "      <button class=\"colab-df-convert\" onclick=\"convertToInteractive('df-e8871318-057e-4c2f-996f-7c14b8df5554')\"\n",
              "              title=\"Convert this dataframe to an interactive table.\"\n",
              "              style=\"display:none;\">\n",
              "        \n",
              "  <svg xmlns=\"http://www.w3.org/2000/svg\" height=\"24px\"viewBox=\"0 0 24 24\"\n",
              "       width=\"24px\">\n",
              "    <path d=\"M0 0h24v24H0V0z\" fill=\"none\"/>\n",
              "    <path d=\"M18.56 5.44l.94 2.06.94-2.06 2.06-.94-2.06-.94-.94-2.06-.94 2.06-2.06.94zm-11 1L8.5 8.5l.94-2.06 2.06-.94-2.06-.94L8.5 2.5l-.94 2.06-2.06.94zm10 10l.94 2.06.94-2.06 2.06-.94-2.06-.94-.94-2.06-.94 2.06-2.06.94z\"/><path d=\"M17.41 7.96l-1.37-1.37c-.4-.4-.92-.59-1.43-.59-.52 0-1.04.2-1.43.59L10.3 9.45l-7.72 7.72c-.78.78-.78 2.05 0 2.83L4 21.41c.39.39.9.59 1.41.59.51 0 1.02-.2 1.41-.59l7.78-7.78 2.81-2.81c.8-.78.8-2.07 0-2.86zM5.41 20L4 18.59l7.72-7.72 1.47 1.35L5.41 20z\"/>\n",
              "  </svg>\n",
              "      </button>\n",
              "      \n",
              "  <style>\n",
              "    .colab-df-container {\n",
              "      display:flex;\n",
              "      flex-wrap:wrap;\n",
              "      gap: 12px;\n",
              "    }\n",
              "\n",
              "    .colab-df-convert {\n",
              "      background-color: #E8F0FE;\n",
              "      border: none;\n",
              "      border-radius: 50%;\n",
              "      cursor: pointer;\n",
              "      display: none;\n",
              "      fill: #1967D2;\n",
              "      height: 32px;\n",
              "      padding: 0 0 0 0;\n",
              "      width: 32px;\n",
              "    }\n",
              "\n",
              "    .colab-df-convert:hover {\n",
              "      background-color: #E2EBFA;\n",
              "      box-shadow: 0px 1px 2px rgba(60, 64, 67, 0.3), 0px 1px 3px 1px rgba(60, 64, 67, 0.15);\n",
              "      fill: #174EA6;\n",
              "    }\n",
              "\n",
              "    [theme=dark] .colab-df-convert {\n",
              "      background-color: #3B4455;\n",
              "      fill: #D2E3FC;\n",
              "    }\n",
              "\n",
              "    [theme=dark] .colab-df-convert:hover {\n",
              "      background-color: #434B5C;\n",
              "      box-shadow: 0px 1px 3px 1px rgba(0, 0, 0, 0.15);\n",
              "      filter: drop-shadow(0px 1px 2px rgba(0, 0, 0, 0.3));\n",
              "      fill: #FFFFFF;\n",
              "    }\n",
              "  </style>\n",
              "\n",
              "      <script>\n",
              "        const buttonEl =\n",
              "          document.querySelector('#df-e8871318-057e-4c2f-996f-7c14b8df5554 button.colab-df-convert');\n",
              "        buttonEl.style.display =\n",
              "          google.colab.kernel.accessAllowed ? 'block' : 'none';\n",
              "\n",
              "        async function convertToInteractive(key) {\n",
              "          const element = document.querySelector('#df-e8871318-057e-4c2f-996f-7c14b8df5554');\n",
              "          const dataTable =\n",
              "            await google.colab.kernel.invokeFunction('convertToInteractive',\n",
              "                                                     [key], {});\n",
              "          if (!dataTable) return;\n",
              "\n",
              "          const docLinkHtml = 'Like what you see? Visit the ' +\n",
              "            '<a target=\"_blank\" href=https://colab.research.google.com/notebooks/data_table.ipynb>data table notebook</a>'\n",
              "            + ' to learn more about interactive tables.';\n",
              "          element.innerHTML = '';\n",
              "          dataTable['output_type'] = 'display_data';\n",
              "          await google.colab.output.renderOutput(dataTable, element);\n",
              "          const docLink = document.createElement('div');\n",
              "          docLink.innerHTML = docLinkHtml;\n",
              "          element.appendChild(docLink);\n",
              "        }\n",
              "      </script>\n",
              "    </div>\n",
              "  </div>\n",
              "  "
            ]
          },
          "metadata": {},
          "execution_count": 27
        }
      ]
    },
    {
      "cell_type": "code",
      "source": [
        "data.sort_values('area_poverty_ratio',inplace=True) #fakirlik oranı sıralanır.\n",
        "#ascending değeri belirtilmediğinde default olarak True alınır.\n",
        "#bu da artan şekilde sıralanacağı anlamına gelir."
      ],
      "metadata": {
        "id": "_NH16AqU_xiy"
      },
      "execution_count": 28,
      "outputs": []
    },
    {
      "cell_type": "code",
      "source": [
        "data.head() #area_poverty_ratio artan şekilde sıralandığı görülür."
      ],
      "metadata": {
        "colab": {
          "base_uri": "https://localhost:8080/",
          "height": 206
        },
        "id": "DKvQanQanYxX",
        "outputId": "e77863e0-676e-4977-e793-c37c6521244b"
      },
      "execution_count": 29,
      "outputs": [
        {
          "output_type": "execute_result",
          "data": {
            "text/plain": [
              "   area_list  area_poverty_ratio  area_highschool_ratio\n",
              "30        NJ            0.303558               0.983615\n",
              "50        WY            0.337139               0.912479\n",
              "6         CT            0.339883               0.995254\n",
              "21        MA            0.355090               1.000000\n",
              "20        MD            0.382097               0.957107"
            ],
            "text/html": [
              "\n",
              "  <div id=\"df-ad6c712e-9017-4279-a304-c8359a8631b6\">\n",
              "    <div class=\"colab-df-container\">\n",
              "      <div>\n",
              "<style scoped>\n",
              "    .dataframe tbody tr th:only-of-type {\n",
              "        vertical-align: middle;\n",
              "    }\n",
              "\n",
              "    .dataframe tbody tr th {\n",
              "        vertical-align: top;\n",
              "    }\n",
              "\n",
              "    .dataframe thead th {\n",
              "        text-align: right;\n",
              "    }\n",
              "</style>\n",
              "<table border=\"1\" class=\"dataframe\">\n",
              "  <thead>\n",
              "    <tr style=\"text-align: right;\">\n",
              "      <th></th>\n",
              "      <th>area_list</th>\n",
              "      <th>area_poverty_ratio</th>\n",
              "      <th>area_highschool_ratio</th>\n",
              "    </tr>\n",
              "  </thead>\n",
              "  <tbody>\n",
              "    <tr>\n",
              "      <th>30</th>\n",
              "      <td>NJ</td>\n",
              "      <td>0.303558</td>\n",
              "      <td>0.983615</td>\n",
              "    </tr>\n",
              "    <tr>\n",
              "      <th>50</th>\n",
              "      <td>WY</td>\n",
              "      <td>0.337139</td>\n",
              "      <td>0.912479</td>\n",
              "    </tr>\n",
              "    <tr>\n",
              "      <th>6</th>\n",
              "      <td>CT</td>\n",
              "      <td>0.339883</td>\n",
              "      <td>0.995254</td>\n",
              "    </tr>\n",
              "    <tr>\n",
              "      <th>21</th>\n",
              "      <td>MA</td>\n",
              "      <td>0.355090</td>\n",
              "      <td>1.000000</td>\n",
              "    </tr>\n",
              "    <tr>\n",
              "      <th>20</th>\n",
              "      <td>MD</td>\n",
              "      <td>0.382097</td>\n",
              "      <td>0.957107</td>\n",
              "    </tr>\n",
              "  </tbody>\n",
              "</table>\n",
              "</div>\n",
              "      <button class=\"colab-df-convert\" onclick=\"convertToInteractive('df-ad6c712e-9017-4279-a304-c8359a8631b6')\"\n",
              "              title=\"Convert this dataframe to an interactive table.\"\n",
              "              style=\"display:none;\">\n",
              "        \n",
              "  <svg xmlns=\"http://www.w3.org/2000/svg\" height=\"24px\"viewBox=\"0 0 24 24\"\n",
              "       width=\"24px\">\n",
              "    <path d=\"M0 0h24v24H0V0z\" fill=\"none\"/>\n",
              "    <path d=\"M18.56 5.44l.94 2.06.94-2.06 2.06-.94-2.06-.94-.94-2.06-.94 2.06-2.06.94zm-11 1L8.5 8.5l.94-2.06 2.06-.94-2.06-.94L8.5 2.5l-.94 2.06-2.06.94zm10 10l.94 2.06.94-2.06 2.06-.94-2.06-.94-.94-2.06-.94 2.06-2.06.94z\"/><path d=\"M17.41 7.96l-1.37-1.37c-.4-.4-.92-.59-1.43-.59-.52 0-1.04.2-1.43.59L10.3 9.45l-7.72 7.72c-.78.78-.78 2.05 0 2.83L4 21.41c.39.39.9.59 1.41.59.51 0 1.02-.2 1.41-.59l7.78-7.78 2.81-2.81c.8-.78.8-2.07 0-2.86zM5.41 20L4 18.59l7.72-7.72 1.47 1.35L5.41 20z\"/>\n",
              "  </svg>\n",
              "      </button>\n",
              "      \n",
              "  <style>\n",
              "    .colab-df-container {\n",
              "      display:flex;\n",
              "      flex-wrap:wrap;\n",
              "      gap: 12px;\n",
              "    }\n",
              "\n",
              "    .colab-df-convert {\n",
              "      background-color: #E8F0FE;\n",
              "      border: none;\n",
              "      border-radius: 50%;\n",
              "      cursor: pointer;\n",
              "      display: none;\n",
              "      fill: #1967D2;\n",
              "      height: 32px;\n",
              "      padding: 0 0 0 0;\n",
              "      width: 32px;\n",
              "    }\n",
              "\n",
              "    .colab-df-convert:hover {\n",
              "      background-color: #E2EBFA;\n",
              "      box-shadow: 0px 1px 2px rgba(60, 64, 67, 0.3), 0px 1px 3px 1px rgba(60, 64, 67, 0.15);\n",
              "      fill: #174EA6;\n",
              "    }\n",
              "\n",
              "    [theme=dark] .colab-df-convert {\n",
              "      background-color: #3B4455;\n",
              "      fill: #D2E3FC;\n",
              "    }\n",
              "\n",
              "    [theme=dark] .colab-df-convert:hover {\n",
              "      background-color: #434B5C;\n",
              "      box-shadow: 0px 1px 3px 1px rgba(0, 0, 0, 0.15);\n",
              "      filter: drop-shadow(0px 1px 2px rgba(0, 0, 0, 0.3));\n",
              "      fill: #FFFFFF;\n",
              "    }\n",
              "  </style>\n",
              "\n",
              "      <script>\n",
              "        const buttonEl =\n",
              "          document.querySelector('#df-ad6c712e-9017-4279-a304-c8359a8631b6 button.colab-df-convert');\n",
              "        buttonEl.style.display =\n",
              "          google.colab.kernel.accessAllowed ? 'block' : 'none';\n",
              "\n",
              "        async function convertToInteractive(key) {\n",
              "          const element = document.querySelector('#df-ad6c712e-9017-4279-a304-c8359a8631b6');\n",
              "          const dataTable =\n",
              "            await google.colab.kernel.invokeFunction('convertToInteractive',\n",
              "                                                     [key], {});\n",
              "          if (!dataTable) return;\n",
              "\n",
              "          const docLinkHtml = 'Like what you see? Visit the ' +\n",
              "            '<a target=\"_blank\" href=https://colab.research.google.com/notebooks/data_table.ipynb>data table notebook</a>'\n",
              "            + ' to learn more about interactive tables.';\n",
              "          element.innerHTML = '';\n",
              "          dataTable['output_type'] = 'display_data';\n",
              "          await google.colab.output.renderOutput(dataTable, element);\n",
              "          const docLink = document.createElement('div');\n",
              "          docLink.innerHTML = docLinkHtml;\n",
              "          element.appendChild(docLink);\n",
              "        }\n",
              "      </script>\n",
              "    </div>\n",
              "  </div>\n",
              "  "
            ]
          },
          "metadata": {},
          "execution_count": 29
        }
      ]
    },
    {
      "cell_type": "markdown",
      "source": [
        "# **Point Plot**\n",
        "\n",
        "Noktalardan oluşan ve arasında bir çizgi olan plot işlemidir."
      ],
      "metadata": {
        "id": "Sq9LfpTCxGCb"
      }
    },
    {
      "cell_type": "code",
      "source": [
        "f,ax1 = plt.subplots(figsize =(20,10)) #figür oluşturulur ve boyutu belirlenir.\n",
        "sns.pointplot(x='area_list',y='area_poverty_ratio',data=data,color='lime',alpha=0.8)\n",
        "#data=data ilk data seaborn parametresi, ikinci data dataframe'in içinde bulunduğu data\n",
        "#bu parametreyle dataframedeki sütunların isimleri alınarak x ve y eksenlerine eşitlenir.\n",
        "#color ayarlanır, alpha ile saydamlık verilir.\n",
        "sns.pointplot(x='area_list',y='area_highschool_ratio',data=data,color='red',alpha=0.8)\n",
        "plt.text(40,0.6,'high school graduate ratio',color='red',fontsize = 17,style = 'italic')\n",
        "#hangi rengin hangi orana ait olduğunun anlaşılması için isim verilir.\n",
        "plt.text(40,0.55,'poverty ratio',color='lime',fontsize = 18,style = 'italic')\n",
        "plt.xlabel('States',fontsize = 15,color='blue') #x eksenine rengi mavi olacak şekilde isim verilir.\n",
        "plt.ylabel('Values',fontsize = 15,color='blue') #x eksenine rengi mavi olacak şekilde isim verilir.\n",
        "plt.title('High School Graduate  VS  Poverty Rate',fontsize = 20,color='blue') #figürün başlığı verilir.\n",
        "plt.grid() #grid ile dikdörtgenler çizdirilir, böylelikle noktaların ait olduğu değerlerin okunması kolaylaşır."
      ],
      "metadata": {
        "colab": {
          "base_uri": "https://localhost:8080/",
          "height": 632
        },
        "id": "LU0jxMOb-dXM",
        "outputId": "e6a692a8-c41d-4bae-b78b-ba343f538814"
      },
      "execution_count": 30,
      "outputs": [
        {
          "output_type": "display_data",
          "data": {
            "text/plain": [
              "<Figure size 1440x720 with 1 Axes>"
            ],
            "image/png": "[encoded data removed]"
          },
          "metadata": {
            "needs_background": "light"
          }
        }
      ]
    },
    {
      "cell_type": "markdown",
      "source": [
        "# **Joint Plot**"
      ],
      "metadata": {
        "id": "tKamf--8bFzE"
      }
    },
    {
      "cell_type": "markdown",
      "source": [
        "Joint plotta tek satırda kod yazılır."
      ],
      "metadata": {
        "id": "_kQwwCbwbpZZ"
      }
    },
    {
      "cell_type": "markdown",
      "source": [
        "Bu plot işleminde tekrardan eyaletlere göre 25 yaşından büyük olanların liseden mezun olma oranıyla fakirlik oranı karşılaştırılacaktır."
      ],
      "metadata": {
        "id": "xeGn4I5_bLdF"
      }
    },
    {
      "cell_type": "code",
      "source": [
        "import warnings\n",
        "warnings.filterwarnings('ignore') \n",
        "\n",
        "#area_poverty_ratio x ekseni içindir.\n",
        "#area_highschool_ratio y ekseni içindir.\n",
        "#size plotun büyüklüğüdür.\n",
        "#kde -> kernel density estimation -> plot dışındaki çizgilerdir.\n",
        "#bu çizgiler histogram olarak da düşünülebilir.\n",
        "#bu çizgilere bakarak fakirlik oranının 0.5 noktasında top'a ulaştığı sonrasında giderek azaldığı görülmektedir.\n",
        "#0.2 ve 1.2 değerlerinde fakirlik oranı yok denecek kadar azdır.\n",
        "#liseden mezun olma oranına bakıldığında 0.98-0.99 aralığında top'a ulaştığı görülür.\n",
        "#1.05 ile 0.80 değerlerinde liseden mezun olma oranı yok denecek kadar azdır.\n",
        "#plotta yukarıdan aşağı doğru bir line var, bu da ters orantı demektir.\n",
        "#x artarken y azalmaktadır.\n",
        "#shade parametresi True olduğunda verilerin yoğunluğuna göre rengin koyuluğu ayarlanarak doldurulur.\n",
        "#mavi rengin en koyu olduğu noktalarda yoğunluk fazladır.\n",
        "\n",
        "g = sns.jointplot(data.area_poverty_ratio, data.area_highschool_ratio, kind=\"kde\",shade=True, size=7)\n",
        "plt.show()"
      ],
      "metadata": {
        "colab": {
          "base_uri": "https://localhost:8080/",
          "height": 513
        },
        "id": "653qzmpWZrNK",
        "outputId": "68b12873-cef5-41f0-b0ce-a9f9ee95ae42"
      },
      "execution_count": 31,
      "outputs": [
        {
          "output_type": "display_data",
          "data": {
            "text/plain": [
              "<Figure size 504x504 with 3 Axes>"
            ],
            "image/png": "[encoded data removed]"
          },
          "metadata": {
            "needs_background": "light"
          }
        }
      ]
    },
    {
      "cell_type": "code",
      "source": [
        "#joint plotla çizdirmek farklı yöntemler de vardır.\n",
        "#data parametresine data adlı dataframe atandı.\n",
        "#x ve y eksenleri dataframe'deki sütun isimleri belirtilerek verildi.\n",
        "#size=5 ratio=3 verilmiştir.\n",
        "#bu scatter plotların olduğu kısım 3 birimlik yer kaplayacak,histogramlar 1'er birimlik yer kaplayacak demektir.\n",
        "#plotta fakirlik oranı arttıkça liseden mezun olma oranının azaldığı açık bir şekilde gözükür.\n",
        "#histogramda 0.5 değerinde fakirlik oranının top yaptığı görülür, bu da dataframe'de fakirlik oranında en çok 0.5 değeri vardır demektir.\n",
        "g = sns.jointplot(\"area_poverty_ratio\", \"area_highschool_ratio\", data=data ,size=5 , ratio=3, color=\"r\")"
      ],
      "metadata": {
        "colab": {
          "base_uri": "https://localhost:8080/",
          "height": 369
        },
        "id": "s9fUITAcaOhD",
        "outputId": "2d0f1f2d-58f1-4526-9da8-ff57240d7e18"
      },
      "execution_count": 32,
      "outputs": [
        {
          "output_type": "display_data",
          "data": {
            "text/plain": [
              "<Figure size 360x360 with 3 Axes>"
            ],
            "image/png": "[encoded data removed]"
          },
          "metadata": {
            "needs_background": "light"
          }
        }
      ]
    },
    {
      "cell_type": "markdown",
      "source": [
        "# **LM Plot**"
      ],
      "metadata": {
        "id": "eky6-sI3kdDz"
      }
    },
    {
      "cell_type": "markdown",
      "source": [
        "Bu plot çiziminde fakirlik oranı ile 25 yaşından büyük insanların liseden mezun olma oranı karşılaştırılacaktır."
      ],
      "metadata": {
        "id": "tQLgnqOgklln"
      }
    },
    {
      "cell_type": "code",
      "source": [
        "#lm plot linear regression çizimidir.\n",
        "#bu plottaki line noktaların arasındaki en optimum noktadan geçer.\n",
        "#bu line datayı ifade eden bir matematiksel modeldir.\n",
        "#line incelendiğinde fakirlik oranının 1 olduğu değerde liseden mezun olma oranının 0.85 olduğu anlaşılır.\n",
        "#bu line'a bakarak ters orantı olduğu anlaşılır.\n",
        "\n",
        "#bu line'ın y = 1 - x gibi bir denkleme eşit olduğu düşünülebilir.\n",
        "#yani x değeri iken y değerinin 1 olduğu görülür.\n",
        "\n",
        "sns.lmplot(x=\"area_poverty_ratio\", y=\"area_highschool_ratio\", data=data)\n",
        "plt.show()"
      ],
      "metadata": {
        "colab": {
          "base_uri": "https://localhost:8080/",
          "height": 369
        },
        "id": "WzbzMoJOkf-t",
        "outputId": "a4a7e2cf-24c8-42e4-9b41-2c4a7b4426cf"
      },
      "execution_count": 33,
      "outputs": [
        {
          "output_type": "display_data",
          "data": {
            "text/plain": [
              "<Figure size 360x360 with 1 Axes>"
            ],
            "image/png": "[encoded data removed]"
          },
          "metadata": {
            "needs_background": "light"
          }
        }
      ]
    },
    {
      "cell_type": "markdown",
      "source": [
        "# **KDE Plot**"
      ],
      "metadata": {
        "id": "3yxG2eBFoMgn"
      }
    },
    {
      "cell_type": "markdown",
      "source": [
        "Kernel density estimation joint plottaki kde türüdür, ancak bu plotta plotun etrafında çizgiler yoktur."
      ],
      "metadata": {
        "id": "7GtWnpn9onYg"
      }
    },
    {
      "cell_type": "code",
      "source": [
        "#shade parametresi True olduğunda verilerin yoğunluğuna göre rengin koyuluğu ayarlanarak doldurulur.\n",
        "#cut parametresi kde plotunun büyüklüğüdür, parametredeki değer küçüldükçe çizim büyür.\n",
        "sns.kdeplot(data.area_poverty_ratio, data.area_highschool_ratio, shade=True, cut=3)\n",
        "plt.show()"
      ],
      "metadata": {
        "colab": {
          "base_uri": "https://localhost:8080/",
          "height": 280
        },
        "id": "6msC7uRxk-6_",
        "outputId": "29bd86e8-67f7-4ff6-bd98-9f045a187e1a"
      },
      "execution_count": 34,
      "outputs": [
        {
          "output_type": "display_data",
          "data": {
            "text/plain": [
              "<Figure size 432x288 with 1 Axes>"
            ],
            "image/png": "[encoded data removed]"
          },
          "metadata": {
            "needs_background": "light"
          }
        }
      ]
    },
    {
      "cell_type": "markdown",
      "source": [
        "# **Violin Plot**\n",
        "\n",
        "Violin plot iki feature arasındaki corelationa bakmak yerine datanın farklı featurelarının aralarındaki değerlerin dağılımına bakar.\n",
        "\n",
        "Sadece sayılar değerleri alır."
      ],
      "metadata": {
        "id": "WE-7-O34rNCh"
      }
    },
    {
      "cell_type": "code",
      "source": [
        "data.head()"
      ],
      "metadata": {
        "colab": {
          "base_uri": "https://localhost:8080/",
          "height": 206
        },
        "id": "CPMaH6mOn1GV",
        "outputId": "84bc95b1-bf17-47d3-aec0-5be614605494"
      },
      "execution_count": 35,
      "outputs": [
        {
          "output_type": "execute_result",
          "data": {
            "text/plain": [
              "   area_list  area_poverty_ratio  area_highschool_ratio\n",
              "30        NJ            0.303558               0.983615\n",
              "50        WY            0.337139               0.912479\n",
              "6         CT            0.339883               0.995254\n",
              "21        MA            0.355090               1.000000\n",
              "20        MD            0.382097               0.957107"
            ],
            "text/html": [
              "\n",
              "  <div id=\"df-3911a3cd-ed2b-490c-9aac-6cd254170ebb\">\n",
              "    <div class=\"colab-df-container\">\n",
              "      <div>\n",
              "<style scoped>\n",
              "    .dataframe tbody tr th:only-of-type {\n",
              "        vertical-align: middle;\n",
              "    }\n",
              "\n",
              "    .dataframe tbody tr th {\n",
              "        vertical-align: top;\n",
              "    }\n",
              "\n",
              "    .dataframe thead th {\n",
              "        text-align: right;\n",
              "    }\n",
              "</style>\n",
              "<table border=\"1\" class=\"dataframe\">\n",
              "  <thead>\n",
              "    <tr style=\"text-align: right;\">\n",
              "      <th></th>\n",
              "      <th>area_list</th>\n",
              "      <th>area_poverty_ratio</th>\n",
              "      <th>area_highschool_ratio</th>\n",
              "    </tr>\n",
              "  </thead>\n",
              "  <tbody>\n",
              "    <tr>\n",
              "      <th>30</th>\n",
              "      <td>NJ</td>\n",
              "      <td>0.303558</td>\n",
              "      <td>0.983615</td>\n",
              "    </tr>\n",
              "    <tr>\n",
              "      <th>50</th>\n",
              "      <td>WY</td>\n",
              "      <td>0.337139</td>\n",
              "      <td>0.912479</td>\n",
              "    </tr>\n",
              "    <tr>\n",
              "      <th>6</th>\n",
              "      <td>CT</td>\n",
              "      <td>0.339883</td>\n",
              "      <td>0.995254</td>\n",
              "    </tr>\n",
              "    <tr>\n",
              "      <th>21</th>\n",
              "      <td>MA</td>\n",
              "      <td>0.355090</td>\n",
              "      <td>1.000000</td>\n",
              "    </tr>\n",
              "    <tr>\n",
              "      <th>20</th>\n",
              "      <td>MD</td>\n",
              "      <td>0.382097</td>\n",
              "      <td>0.957107</td>\n",
              "    </tr>\n",
              "  </tbody>\n",
              "</table>\n",
              "</div>\n",
              "      <button class=\"colab-df-convert\" onclick=\"convertToInteractive('df-3911a3cd-ed2b-490c-9aac-6cd254170ebb')\"\n",
              "              title=\"Convert this dataframe to an interactive table.\"\n",
              "              style=\"display:none;\">\n",
              "        \n",
              "  <svg xmlns=\"http://www.w3.org/2000/svg\" height=\"24px\"viewBox=\"0 0 24 24\"\n",
              "       width=\"24px\">\n",
              "    <path d=\"M0 0h24v24H0V0z\" fill=\"none\"/>\n",
              "    <path d=\"M18.56 5.44l.94 2.06.94-2.06 2.06-.94-2.06-.94-.94-2.06-.94 2.06-2.06.94zm-11 1L8.5 8.5l.94-2.06 2.06-.94-2.06-.94L8.5 2.5l-.94 2.06-2.06.94zm10 10l.94 2.06.94-2.06 2.06-.94-2.06-.94-.94-2.06-.94 2.06-2.06.94z\"/><path d=\"M17.41 7.96l-1.37-1.37c-.4-.4-.92-.59-1.43-.59-.52 0-1.04.2-1.43.59L10.3 9.45l-7.72 7.72c-.78.78-.78 2.05 0 2.83L4 21.41c.39.39.9.59 1.41.59.51 0 1.02-.2 1.41-.59l7.78-7.78 2.81-2.81c.8-.78.8-2.07 0-2.86zM5.41 20L4 18.59l7.72-7.72 1.47 1.35L5.41 20z\"/>\n",
              "  </svg>\n",
              "      </button>\n",
              "      \n",
              "  <style>\n",
              "    .colab-df-container {\n",
              "      display:flex;\n",
              "      flex-wrap:wrap;\n",
              "      gap: 12px;\n",
              "    }\n",
              "\n",
              "    .colab-df-convert {\n",
              "      background-color: #E8F0FE;\n",
              "      border: none;\n",
              "      border-radius: 50%;\n",
              "      cursor: pointer;\n",
              "      display: none;\n",
              "      fill: #1967D2;\n",
              "      height: 32px;\n",
              "      padding: 0 0 0 0;\n",
              "      width: 32px;\n",
              "    }\n",
              "\n",
              "    .colab-df-convert:hover {\n",
              "      background-color: #E2EBFA;\n",
              "      box-shadow: 0px 1px 2px rgba(60, 64, 67, 0.3), 0px 1px 3px 1px rgba(60, 64, 67, 0.15);\n",
              "      fill: #174EA6;\n",
              "    }\n",
              "\n",
              "    [theme=dark] .colab-df-convert {\n",
              "      background-color: #3B4455;\n",
              "      fill: #D2E3FC;\n",
              "    }\n",
              "\n",
              "    [theme=dark] .colab-df-convert:hover {\n",
              "      background-color: #434B5C;\n",
              "      box-shadow: 0px 1px 3px 1px rgba(0, 0, 0, 0.15);\n",
              "      filter: drop-shadow(0px 1px 2px rgba(0, 0, 0, 0.3));\n",
              "      fill: #FFFFFF;\n",
              "    }\n",
              "  </style>\n",
              "\n",
              "      <script>\n",
              "        const buttonEl =\n",
              "          document.querySelector('#df-3911a3cd-ed2b-490c-9aac-6cd254170ebb button.colab-df-convert');\n",
              "        buttonEl.style.display =\n",
              "          google.colab.kernel.accessAllowed ? 'block' : 'none';\n",
              "\n",
              "        async function convertToInteractive(key) {\n",
              "          const element = document.querySelector('#df-3911a3cd-ed2b-490c-9aac-6cd254170ebb');\n",
              "          const dataTable =\n",
              "            await google.colab.kernel.invokeFunction('convertToInteractive',\n",
              "                                                     [key], {});\n",
              "          if (!dataTable) return;\n",
              "\n",
              "          const docLinkHtml = 'Like what you see? Visit the ' +\n",
              "            '<a target=\"_blank\" href=https://colab.research.google.com/notebooks/data_table.ipynb>data table notebook</a>'\n",
              "            + ' to learn more about interactive tables.';\n",
              "          element.innerHTML = '';\n",
              "          dataTable['output_type'] = 'display_data';\n",
              "          await google.colab.output.renderOutput(dataTable, element);\n",
              "          const docLink = document.createElement('div');\n",
              "          docLink.innerHTML = docLinkHtml;\n",
              "          element.appendChild(docLink);\n",
              "        }\n",
              "      </script>\n",
              "    </div>\n",
              "  </div>\n",
              "  "
            ]
          },
          "metadata": {},
          "execution_count": 35
        }
      ]
    },
    {
      "cell_type": "code",
      "source": [
        "pal = sns.cubehelix_palette(2, rot=-.5, dark=.3) #renk verilir.\n",
        "sns.violinplot(data=data, palette=pal, inner=\"points\") #inner=\"points\" plotun içerisindeki noktalardır.\n",
        "                                                       #bu noktaların her biri de data değeridir.\n",
        "                                                       #area_poverty_rate sütununa bakıldığında en düşük değer 0.30 plottaki en alttaki noktadır.\n",
        "                                                       #ondan sonraki iki nokta birbirine çok yakındır, çünkü birinin değeri 0.337 diğerinin 0.339'dur.\n",
        "                                                       #yani datalar çok yakındır.\n",
        "                                                       #area_highschool_rate sıralı olmadığı için en büyük değere bakılabilir.\n",
        "                                                       #plotta da dataframe'de de en büyük değer 1'dir.\n",
        "                                                       #burada eyaletler yoktur, çünkü violin plot sadece sayısal değerleri alır.\n",
        "                                                       #joint plottaki histogramda area_poverty_rate'in top değerinin 0.5 anlaşılmıştı.\n",
        "                                                       #violin plotta da aynı şekilde çizimin en çok genişlediği alan top değerini verir.\n",
        "                                                       #area_highschool_rate sütunu için de joint plottaki histogramda top değerler 1-0.95 arasındaydı.\n",
        "                                                       #violin plota bakıldığında da aynı değer aralığında çizim genişlemiştir, buradan datanın yoğunluğu anlaşılır.\n",
        "                                                       #datanın yoğunluğu nerede fazlaysa datanın ortalaması yaklaşık olarak o değer aralığında çıkacaktır denilebilir.\n",
        "plt.show()"
      ],
      "metadata": {
        "colab": {
          "base_uri": "https://localhost:8080/",
          "height": 269
        },
        "id": "1GkSxfqpoT1U",
        "outputId": "44a31181-27e9-4b33-f88d-9c58caa7b050"
      },
      "execution_count": 36,
      "outputs": [
        {
          "output_type": "display_data",
          "data": {
            "text/plain": [
              "<Figure size 432x288 with 1 Axes>"
            ],
            "image/png": "[encoded data removed]"
          },
          "metadata": {
            "needs_background": "light"
          }
        }
      ]
    },
    {
      "cell_type": "code",
      "source": [
        "data.area_poverty_ratio.mean()   #çizime bakarak fakirlik oranı için top değerinin 0.5 olduğu belirtilmişti.\n",
        "                                 #ortalamanın da bu değere çok yakın çıktığı görülür."
      ],
      "metadata": {
        "colab": {
          "base_uri": "https://localhost:8080/"
        },
        "id": "ZSVrih59rLh4",
        "outputId": "4cb0a435-66e5-4753-89d0-08f6bc7d9b20"
      },
      "execution_count": 37,
      "outputs": [
        {
          "output_type": "execute_result",
          "data": {
            "text/plain": [
              "0.5996247186896554"
            ]
          },
          "metadata": {},
          "execution_count": 37
        }
      ]
    },
    {
      "cell_type": "code",
      "source": [
        "data.area_highschool_ratio.mean() #çizime bakılarak liseden mezun olma oranının top noktasının 1.0-0.95 arası olduğu belirtilmişti.\n",
        "                                  #ortalamanın çok yakın çıktığı görülür."
      ],
      "metadata": {
        "colab": {
          "base_uri": "https://localhost:8080/"
        },
        "id": "W9lhNJc8reLj",
        "outputId": "eea349a4-0b60-4bfa-eb04-cf3a42ef1dcd"
      },
      "execution_count": 38,
      "outputs": [
        {
          "output_type": "execute_result",
          "data": {
            "text/plain": [
              "0.9328796631688943"
            ]
          },
          "metadata": {},
          "execution_count": 38
        }
      ]
    },
    {
      "cell_type": "markdown",
      "source": [
        "# **Confusion Matrix**\n",
        "\n",
        "Corelation iki sayısal değer arasında olur, stringler arasında olamaz.\n",
        "\n",
        "New York yazısı ile İstanbul yazısı arasında bir ilişki hesaplanamayacağından sayısal değerlere bakılır."
      ],
      "metadata": {
        "id": "gS03jlBLrJrR"
      }
    },
    {
      "cell_type": "code",
      "source": [
        "data.corr() #iki feature arasındaki corealation'a bakıldığında negatif yönlü güçlü bir corelation olduğu anlaşır.\n",
        "            #daha önce yapılan çizimlerde de iki feature arasında ters orantı olduğu anlaşılmıştı."
      ],
      "metadata": {
        "colab": {
          "base_uri": "https://localhost:8080/",
          "height": 112
        },
        "id": "aJr-zRI5q37S",
        "outputId": "08f204a4-29e7-4940-a6cb-a282b218b9ee"
      },
      "execution_count": 39,
      "outputs": [
        {
          "output_type": "execute_result",
          "data": {
            "text/plain": [
              "                       area_poverty_ratio  area_highschool_ratio\n",
              "area_poverty_ratio               1.000000              -0.805761\n",
              "area_highschool_ratio           -0.805761               1.000000"
            ],
            "text/html": [
              "\n",
              "  <div id=\"df-12b4fc27-2b18-41ee-bf81-34a5f8593d3d\">\n",
              "    <div class=\"colab-df-container\">\n",
              "      <div>\n",
              "<style scoped>\n",
              "    .dataframe tbody tr th:only-of-type {\n",
              "        vertical-align: middle;\n",
              "    }\n",
              "\n",
              "    .dataframe tbody tr th {\n",
              "        vertical-align: top;\n",
              "    }\n",
              "\n",
              "    .dataframe thead th {\n",
              "        text-align: right;\n",
              "    }\n",
              "</style>\n",
              "<table border=\"1\" class=\"dataframe\">\n",
              "  <thead>\n",
              "    <tr style=\"text-align: right;\">\n",
              "      <th></th>\n",
              "      <th>area_poverty_ratio</th>\n",
              "      <th>area_highschool_ratio</th>\n",
              "    </tr>\n",
              "  </thead>\n",
              "  <tbody>\n",
              "    <tr>\n",
              "      <th>area_poverty_ratio</th>\n",
              "      <td>1.000000</td>\n",
              "      <td>-0.805761</td>\n",
              "    </tr>\n",
              "    <tr>\n",
              "      <th>area_highschool_ratio</th>\n",
              "      <td>-0.805761</td>\n",
              "      <td>1.000000</td>\n",
              "    </tr>\n",
              "  </tbody>\n",
              "</table>\n",
              "</div>\n",
              "      <button class=\"colab-df-convert\" onclick=\"convertToInteractive('df-12b4fc27-2b18-41ee-bf81-34a5f8593d3d')\"\n",
              "              title=\"Convert this dataframe to an interactive table.\"\n",
              "              style=\"display:none;\">\n",
              "        \n",
              "  <svg xmlns=\"http://www.w3.org/2000/svg\" height=\"24px\"viewBox=\"0 0 24 24\"\n",
              "       width=\"24px\">\n",
              "    <path d=\"M0 0h24v24H0V0z\" fill=\"none\"/>\n",
              "    <path d=\"M18.56 5.44l.94 2.06.94-2.06 2.06-.94-2.06-.94-.94-2.06-.94 2.06-2.06.94zm-11 1L8.5 8.5l.94-2.06 2.06-.94-2.06-.94L8.5 2.5l-.94 2.06-2.06.94zm10 10l.94 2.06.94-2.06 2.06-.94-2.06-.94-.94-2.06-.94 2.06-2.06.94z\"/><path d=\"M17.41 7.96l-1.37-1.37c-.4-.4-.92-.59-1.43-.59-.52 0-1.04.2-1.43.59L10.3 9.45l-7.72 7.72c-.78.78-.78 2.05 0 2.83L4 21.41c.39.39.9.59 1.41.59.51 0 1.02-.2 1.41-.59l7.78-7.78 2.81-2.81c.8-.78.8-2.07 0-2.86zM5.41 20L4 18.59l7.72-7.72 1.47 1.35L5.41 20z\"/>\n",
              "  </svg>\n",
              "      </button>\n",
              "      \n",
              "  <style>\n",
              "    .colab-df-container {\n",
              "      display:flex;\n",
              "      flex-wrap:wrap;\n",
              "      gap: 12px;\n",
              "    }\n",
              "\n",
              "    .colab-df-convert {\n",
              "      background-color: #E8F0FE;\n",
              "      border: none;\n",
              "      border-radius: 50%;\n",
              "      cursor: pointer;\n",
              "      display: none;\n",
              "      fill: #1967D2;\n",
              "      height: 32px;\n",
              "      padding: 0 0 0 0;\n",
              "      width: 32px;\n",
              "    }\n",
              "\n",
              "    .colab-df-convert:hover {\n",
              "      background-color: #E2EBFA;\n",
              "      box-shadow: 0px 1px 2px rgba(60, 64, 67, 0.3), 0px 1px 3px 1px rgba(60, 64, 67, 0.15);\n",
              "      fill: #174EA6;\n",
              "    }\n",
              "\n",
              "    [theme=dark] .colab-df-convert {\n",
              "      background-color: #3B4455;\n",
              "      fill: #D2E3FC;\n",
              "    }\n",
              "\n",
              "    [theme=dark] .colab-df-convert:hover {\n",
              "      background-color: #434B5C;\n",
              "      box-shadow: 0px 1px 3px 1px rgba(0, 0, 0, 0.15);\n",
              "      filter: drop-shadow(0px 1px 2px rgba(0, 0, 0, 0.3));\n",
              "      fill: #FFFFFF;\n",
              "    }\n",
              "  </style>\n",
              "\n",
              "      <script>\n",
              "        const buttonEl =\n",
              "          document.querySelector('#df-12b4fc27-2b18-41ee-bf81-34a5f8593d3d button.colab-df-convert');\n",
              "        buttonEl.style.display =\n",
              "          google.colab.kernel.accessAllowed ? 'block' : 'none';\n",
              "\n",
              "        async function convertToInteractive(key) {\n",
              "          const element = document.querySelector('#df-12b4fc27-2b18-41ee-bf81-34a5f8593d3d');\n",
              "          const dataTable =\n",
              "            await google.colab.kernel.invokeFunction('convertToInteractive',\n",
              "                                                     [key], {});\n",
              "          if (!dataTable) return;\n",
              "\n",
              "          const docLinkHtml = 'Like what you see? Visit the ' +\n",
              "            '<a target=\"_blank\" href=https://colab.research.google.com/notebooks/data_table.ipynb>data table notebook</a>'\n",
              "            + ' to learn more about interactive tables.';\n",
              "          element.innerHTML = '';\n",
              "          dataTable['output_type'] = 'display_data';\n",
              "          await google.colab.output.renderOutput(dataTable, element);\n",
              "          const docLink = document.createElement('div');\n",
              "          docLink.innerHTML = docLinkHtml;\n",
              "          element.appendChild(docLink);\n",
              "        }\n",
              "      </script>\n",
              "    </div>\n",
              "  </div>\n",
              "  "
            ]
          },
          "metadata": {},
          "execution_count": 39
        }
      ]
    },
    {
      "cell_type": "markdown",
      "source": [
        "Heatmap ile corelation map'in anlaşılabilirliği kolaylaşır ve görsellik kazandırılır.\n",
        "\n",
        "Heatmapteki color bar renklerin değerleri bulunur."
      ],
      "metadata": {
        "id": "bBDttas7uxJV"
      }
    },
    {
      "cell_type": "code",
      "source": [
        "#correlation map\n",
        "f,ax = plt.subplots(figsize=(5, 5)) #figür oluşturuldu, boyutu verildi.\n",
        "sns.heatmap(data.corr(), annot=True, linewidths=0.5,linecolor=\"red\", fmt= '.1f',ax=ax)\n",
        "#annot=True olduğunda corelation map'teki sayısal değerler heatmap'e yazılır, annot=False olsaydı sadece renk gözücekti.\n",
        "#linewidths parametresi ile hücreler arasındaki kırmızı çizginin kalınlığı belirlenir.\n",
        "#linecolor=red parametresi ile bu çizginin rengi belirlenir.\n",
        "#fmt='.1f' parametresi ile virgülden sonraki 1 basamak alınır.\n",
        "#ax=ax ile figür oluşturulurken yaratılan plotun içine heatmap'in koyulacağı anlamına gelir.\n",
        "plt.show()"
      ],
      "metadata": {
        "colab": {
          "base_uri": "https://localhost:8080/",
          "height": 325
        },
        "id": "twS4ocG7q-4o",
        "outputId": "75f8ecc5-f916-41f3-b6cf-b5f8aeb9fff9"
      },
      "execution_count": 40,
      "outputs": [
        {
          "output_type": "display_data",
          "data": {
            "text/plain": [
              "<Figure size 360x360 with 2 Axes>"
            ],
            "image/png": "[encoded data removed]"
          },
          "metadata": {
            "needs_background": "light"
          }
        }
      ]
    },
    {
      "cell_type": "markdown",
      "source": [
        "# **Pair Plot**\n",
        "\n",
        "Pair plotta veri çerçevesi boyunca, sayısal sütunlar için çift yönlü ilişkiler çizilir."
      ],
      "metadata": {
        "id": "ilAiM_k-rGvM"
      }
    },
    {
      "cell_type": "code",
      "source": [
        "sns.pairplot(data) #sol attaki scatter plota bakıldığında fakirlik oranı arttıkça liseden mezun olma oranının azaldığı görülür.\n",
        "                   #sağ üstteki scatter plotta liseden mezun olma oranı arttıkça fakirlik oranı azalır.\n",
        "                   #bu iki scatter plotta x ve y'de bulunan sütunlar değişmiştir.\n",
        "                   #sol üstteki histogram fakirlik oranının histogramıdır.\n",
        "                   #sağ alttaki histogram liseden mezun olma oranının histogramıdır, bu iki histogramdan top değerler anlaşılabilir.\n",
        "                   #histogram ile dataframe'deki dataların sıklıkları anlaşılmaktadır.\n",
        "\n",
        "plt.show()"
      ],
      "metadata": {
        "colab": {
          "base_uri": "https://localhost:8080/",
          "height": 374
        },
        "id": "YxTzhznYrBLR",
        "outputId": "4313633f-258a-49cc-e1d3-287ebd6573f9"
      },
      "execution_count": 41,
      "outputs": [
        {
          "output_type": "display_data",
          "data": {
            "text/plain": [
              "<Figure size 360x360 with 6 Axes>"
            ],
            "image/png": "[encoded data removed]"
          },
          "metadata": {
            "needs_background": "light"
          }
        }
      ]
    }
  ]
}