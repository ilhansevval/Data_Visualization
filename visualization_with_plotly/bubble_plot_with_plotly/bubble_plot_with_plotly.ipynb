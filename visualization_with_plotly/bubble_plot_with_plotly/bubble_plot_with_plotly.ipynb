{
  "nbformat": 4,
  "nbformat_minor": 0,
  "metadata": {
    "colab": {
      "name": "bubble_plot_with_plotly.ipynb",
      "provenance": [],
      "collapsed_sections": []
    },
    "kernelspec": {
      "name": "python3",
      "display_name": "Python 3"
    },
    "language_info": {
      "name": "python"
    }
  },
  "cells": [
    {
      "cell_type": "markdown",
      "source": [
        "# **Bubble Plot**"
      ],
      "metadata": {
        "id": "J3rHafE5dhXx"
      }
    },
    {
      "cell_type": "markdown",
      "source": [
        "Scatter plottan bir farkı yoktur.\n",
        "\n",
        "Bubble Plot'ta renge ve size'a anlamlar katılır. Bu yüzden farklı bir isimle anılır."
      ],
      "metadata": {
        "id": "drIaWrCpdl4i"
      }
    },
    {
      "cell_type": "markdown",
      "source": [
        "2016 yılındaki ilk 20 üniversitenin öğretme değerini üniversite sıralamasına göre karşılaştırmak amaçlanmaktadır. Bu görselleştirme yapılırken öğrenci sayısı bu plotun size'ı, international score da rengi olarak belirlenir."
      ],
      "metadata": {
        "id": "yxcByIR-d785"
      }
    },
    {
      "cell_type": "code",
      "source": [
        "import pandas as pd\n",
        "import numpy as np\n",
        "import matplotlib.pyplot as plt\n",
        "from plotly.offline import iplot\n",
        "import plotly.graph_objs as go\n",
        "\n",
        "from google.colab import drive\n",
        "drive.mount('/content/drive')"
      ],
      "metadata": {
        "colab": {
          "base_uri": "https://localhost:8080/"
        },
        "id": "nDuKmqjKezDy",
        "outputId": "e73dbf7e-4c01-4cb6-a240-52b29bbff78e"
      },
      "execution_count": 1,
      "outputs": [
        {
          "output_type": "stream",
          "name": "stdout",
          "text": [
            "Mounted at /content/drive\n"
          ]
        }
      ]
    },
    {
      "cell_type": "code",
      "source": [
        "!pip install --upgrade plotly "
      ],
      "metadata": {
        "id": "B0pP6Mzue53c"
      },
      "execution_count": null,
      "outputs": []
    },
    {
      "cell_type": "code",
      "source": [
        "!pip install jupyter-dash"
      ],
      "metadata": {
        "id": "Y8sg4n5Ge6KE"
      },
      "execution_count": null,
      "outputs": []
    },
    {
      "cell_type": "code",
      "source": [
        "timesData = pd.read_csv(\"/content/drive/MyDrive/data/timesData.csv\")"
      ],
      "metadata": {
        "id": "2Kl5JG-ie0B9"
      },
      "execution_count": 4,
      "outputs": []
    },
    {
      "cell_type": "code",
      "source": [
        "timesData.head()"
      ],
      "metadata": {
        "colab": {
          "base_uri": "https://localhost:8080/",
          "height": 530
        },
        "id": "Z0zmdl6_e2DW",
        "outputId": "92b11317-0560-4fb9-8b6c-0e30e89cb992"
      },
      "execution_count": 5,
      "outputs": [
        {
          "output_type": "execute_result",
          "data": {
            "text/plain": [
              "  world_rank                        university_name                   country  \\\n",
              "0          1                     Harvard University  United States of America   \n",
              "1          2     California Institute of Technology  United States of America   \n",
              "2          3  Massachusetts Institute of Technology  United States of America   \n",
              "3          4                    Stanford University  United States of America   \n",
              "4          5                   Princeton University  United States of America   \n",
              "\n",
              "   teaching international  research  citations income total_score  \\\n",
              "0      99.7          72.4      98.7       98.8   34.5        96.1   \n",
              "1      97.7          54.6      98.0       99.9   83.7        96.0   \n",
              "2      97.8          82.3      91.4       99.9   87.5        95.6   \n",
              "3      98.3          29.5      98.1       99.2   64.3        94.3   \n",
              "4      90.9          70.3      95.4       99.9      -        94.2   \n",
              "\n",
              "  num_students  student_staff_ratio international_students female_male_ratio  \\\n",
              "0       20,152                  8.9                    25%               NaN   \n",
              "1        2,243                  6.9                    27%           33 : 67   \n",
              "2       11,074                  9.0                    33%           37 : 63   \n",
              "3       15,596                  7.8                    22%           42 : 58   \n",
              "4        7,929                  8.4                    27%           45 : 55   \n",
              "\n",
              "   year  \n",
              "0  2011  \n",
              "1  2011  \n",
              "2  2011  \n",
              "3  2011  \n",
              "4  2011  "
            ],
            "text/html": [
              "\n",
              "  <div id=\"df-ad24b623-61f0-40a9-9889-8de8a372b128\">\n",
              "    <div class=\"colab-df-container\">\n",
              "      <div>\n",
              "<style scoped>\n",
              "    .dataframe tbody tr th:only-of-type {\n",
              "        vertical-align: middle;\n",
              "    }\n",
              "\n",
              "    .dataframe tbody tr th {\n",
              "        vertical-align: top;\n",
              "    }\n",
              "\n",
              "    .dataframe thead th {\n",
              "        text-align: right;\n",
              "    }\n",
              "</style>\n",
              "<table border=\"1\" class=\"dataframe\">\n",
              "  <thead>\n",
              "    <tr style=\"text-align: right;\">\n",
              "      <th></th>\n",
              "      <th>world_rank</th>\n",
              "      <th>university_name</th>\n",
              "      <th>country</th>\n",
              "      <th>teaching</th>\n",
              "      <th>international</th>\n",
              "      <th>research</th>\n",
              "      <th>citations</th>\n",
              "      <th>income</th>\n",
              "      <th>total_score</th>\n",
              "      <th>num_students</th>\n",
              "      <th>student_staff_ratio</th>\n",
              "      <th>international_students</th>\n",
              "      <th>female_male_ratio</th>\n",
              "      <th>year</th>\n",
              "    </tr>\n",
              "  </thead>\n",
              "  <tbody>\n",
              "    <tr>\n",
              "      <th>0</th>\n",
              "      <td>1</td>\n",
              "      <td>Harvard University</td>\n",
              "      <td>United States of America</td>\n",
              "      <td>99.7</td>\n",
              "      <td>72.4</td>\n",
              "      <td>98.7</td>\n",
              "      <td>98.8</td>\n",
              "      <td>34.5</td>\n",
              "      <td>96.1</td>\n",
              "      <td>20,152</td>\n",
              "      <td>8.9</td>\n",
              "      <td>25%</td>\n",
              "      <td>NaN</td>\n",
              "      <td>2011</td>\n",
              "    </tr>\n",
              "    <tr>\n",
              "      <th>1</th>\n",
              "      <td>2</td>\n",
              "      <td>California Institute of Technology</td>\n",
              "      <td>United States of America</td>\n",
              "      <td>97.7</td>\n",
              "      <td>54.6</td>\n",
              "      <td>98.0</td>\n",
              "      <td>99.9</td>\n",
              "      <td>83.7</td>\n",
              "      <td>96.0</td>\n",
              "      <td>2,243</td>\n",
              "      <td>6.9</td>\n",
              "      <td>27%</td>\n",
              "      <td>33 : 67</td>\n",
              "      <td>2011</td>\n",
              "    </tr>\n",
              "    <tr>\n",
              "      <th>2</th>\n",
              "      <td>3</td>\n",
              "      <td>Massachusetts Institute of Technology</td>\n",
              "      <td>United States of America</td>\n",
              "      <td>97.8</td>\n",
              "      <td>82.3</td>\n",
              "      <td>91.4</td>\n",
              "      <td>99.9</td>\n",
              "      <td>87.5</td>\n",
              "      <td>95.6</td>\n",
              "      <td>11,074</td>\n",
              "      <td>9.0</td>\n",
              "      <td>33%</td>\n",
              "      <td>37 : 63</td>\n",
              "      <td>2011</td>\n",
              "    </tr>\n",
              "    <tr>\n",
              "      <th>3</th>\n",
              "      <td>4</td>\n",
              "      <td>Stanford University</td>\n",
              "      <td>United States of America</td>\n",
              "      <td>98.3</td>\n",
              "      <td>29.5</td>\n",
              "      <td>98.1</td>\n",
              "      <td>99.2</td>\n",
              "      <td>64.3</td>\n",
              "      <td>94.3</td>\n",
              "      <td>15,596</td>\n",
              "      <td>7.8</td>\n",
              "      <td>22%</td>\n",
              "      <td>42 : 58</td>\n",
              "      <td>2011</td>\n",
              "    </tr>\n",
              "    <tr>\n",
              "      <th>4</th>\n",
              "      <td>5</td>\n",
              "      <td>Princeton University</td>\n",
              "      <td>United States of America</td>\n",
              "      <td>90.9</td>\n",
              "      <td>70.3</td>\n",
              "      <td>95.4</td>\n",
              "      <td>99.9</td>\n",
              "      <td>-</td>\n",
              "      <td>94.2</td>\n",
              "      <td>7,929</td>\n",
              "      <td>8.4</td>\n",
              "      <td>27%</td>\n",
              "      <td>45 : 55</td>\n",
              "      <td>2011</td>\n",
              "    </tr>\n",
              "  </tbody>\n",
              "</table>\n",
              "</div>\n",
              "      <button class=\"colab-df-convert\" onclick=\"convertToInteractive('df-ad24b623-61f0-40a9-9889-8de8a372b128')\"\n",
              "              title=\"Convert this dataframe to an interactive table.\"\n",
              "              style=\"display:none;\">\n",
              "        \n",
              "  <svg xmlns=\"http://www.w3.org/2000/svg\" height=\"24px\"viewBox=\"0 0 24 24\"\n",
              "       width=\"24px\">\n",
              "    <path d=\"M0 0h24v24H0V0z\" fill=\"none\"/>\n",
              "    <path d=\"M18.56 5.44l.94 2.06.94-2.06 2.06-.94-2.06-.94-.94-2.06-.94 2.06-2.06.94zm-11 1L8.5 8.5l.94-2.06 2.06-.94-2.06-.94L8.5 2.5l-.94 2.06-2.06.94zm10 10l.94 2.06.94-2.06 2.06-.94-2.06-.94-.94-2.06-.94 2.06-2.06.94z\"/><path d=\"M17.41 7.96l-1.37-1.37c-.4-.4-.92-.59-1.43-.59-.52 0-1.04.2-1.43.59L10.3 9.45l-7.72 7.72c-.78.78-.78 2.05 0 2.83L4 21.41c.39.39.9.59 1.41.59.51 0 1.02-.2 1.41-.59l7.78-7.78 2.81-2.81c.8-.78.8-2.07 0-2.86zM5.41 20L4 18.59l7.72-7.72 1.47 1.35L5.41 20z\"/>\n",
              "  </svg>\n",
              "      </button>\n",
              "      \n",
              "  <style>\n",
              "    .colab-df-container {\n",
              "      display:flex;\n",
              "      flex-wrap:wrap;\n",
              "      gap: 12px;\n",
              "    }\n",
              "\n",
              "    .colab-df-convert {\n",
              "      background-color: #E8F0FE;\n",
              "      border: none;\n",
              "      border-radius: 50%;\n",
              "      cursor: pointer;\n",
              "      display: none;\n",
              "      fill: #1967D2;\n",
              "      height: 32px;\n",
              "      padding: 0 0 0 0;\n",
              "      width: 32px;\n",
              "    }\n",
              "\n",
              "    .colab-df-convert:hover {\n",
              "      background-color: #E2EBFA;\n",
              "      box-shadow: 0px 1px 2px rgba(60, 64, 67, 0.3), 0px 1px 3px 1px rgba(60, 64, 67, 0.15);\n",
              "      fill: #174EA6;\n",
              "    }\n",
              "\n",
              "    [theme=dark] .colab-df-convert {\n",
              "      background-color: #3B4455;\n",
              "      fill: #D2E3FC;\n",
              "    }\n",
              "\n",
              "    [theme=dark] .colab-df-convert:hover {\n",
              "      background-color: #434B5C;\n",
              "      box-shadow: 0px 1px 3px 1px rgba(0, 0, 0, 0.15);\n",
              "      filter: drop-shadow(0px 1px 2px rgba(0, 0, 0, 0.3));\n",
              "      fill: #FFFFFF;\n",
              "    }\n",
              "  </style>\n",
              "\n",
              "      <script>\n",
              "        const buttonEl =\n",
              "          document.querySelector('#df-ad24b623-61f0-40a9-9889-8de8a372b128 button.colab-df-convert');\n",
              "        buttonEl.style.display =\n",
              "          google.colab.kernel.accessAllowed ? 'block' : 'none';\n",
              "\n",
              "        async function convertToInteractive(key) {\n",
              "          const element = document.querySelector('#df-ad24b623-61f0-40a9-9889-8de8a372b128');\n",
              "          const dataTable =\n",
              "            await google.colab.kernel.invokeFunction('convertToInteractive',\n",
              "                                                     [key], {});\n",
              "          if (!dataTable) return;\n",
              "\n",
              "          const docLinkHtml = 'Like what you see? Visit the ' +\n",
              "            '<a target=\"_blank\" href=https://colab.research.google.com/notebooks/data_table.ipynb>data table notebook</a>'\n",
              "            + ' to learn more about interactive tables.';\n",
              "          element.innerHTML = '';\n",
              "          dataTable['output_type'] = 'display_data';\n",
              "          await google.colab.output.renderOutput(dataTable, element);\n",
              "          const docLink = document.createElement('div');\n",
              "          docLink.innerHTML = docLinkHtml;\n",
              "          element.appendChild(docLink);\n",
              "        }\n",
              "      </script>\n",
              "    </div>\n",
              "  </div>\n",
              "  "
            ]
          },
          "metadata": {},
          "execution_count": 5
        }
      ]
    },
    {
      "cell_type": "code",
      "execution_count": 6,
      "metadata": {
        "id": "jwQQt335dgun"
      },
      "outputs": [],
      "source": [
        "df2016 = timesData[timesData.year == 2016].iloc[:20,:] #2016 yılındaki ilk 20 üniversite seçilerek filtre oluşturulup,bu filtre dataya uygulanır."
      ]
    },
    {
      "cell_type": "code",
      "source": [
        "df2016.info()  #num_students -> öğrenci sayıları sütunu string değer barındırır.\n",
        "               #orantısal bir karşılaştırma yapabilmek için floata çevrilmesi gereklidir."
      ],
      "metadata": {
        "colab": {
          "base_uri": "https://localhost:8080/"
        },
        "id": "UII4gLbLepud",
        "outputId": "9969b5a6-8eda-4c8e-bb52-92599660e8f9"
      },
      "execution_count": 7,
      "outputs": [
        {
          "output_type": "stream",
          "name": "stdout",
          "text": [
            "<class 'pandas.core.frame.DataFrame'>\n",
            "Int64Index: 20 entries, 1803 to 1822\n",
            "Data columns (total 14 columns):\n",
            " #   Column                  Non-Null Count  Dtype  \n",
            "---  ------                  --------------  -----  \n",
            " 0   world_rank              20 non-null     object \n",
            " 1   university_name         20 non-null     object \n",
            " 2   country                 20 non-null     object \n",
            " 3   teaching                20 non-null     float64\n",
            " 4   international           20 non-null     object \n",
            " 5   research                20 non-null     float64\n",
            " 6   citations               20 non-null     float64\n",
            " 7   income                  20 non-null     object \n",
            " 8   total_score             20 non-null     object \n",
            " 9   num_students            20 non-null     object \n",
            " 10  student_staff_ratio     20 non-null     float64\n",
            " 11  international_students  20 non-null     object \n",
            " 12  female_male_ratio       17 non-null     object \n",
            " 13  year                    20 non-null     int64  \n",
            "dtypes: float64(4), int64(1), object(9)\n",
            "memory usage: 2.3+ KB\n"
          ]
        }
      ]
    },
    {
      "cell_type": "code",
      "source": [
        "num_students_size  = [float(each.replace(',', '.')) for each in df2016.num_students] # \"2,4\"(str) -> 2.4(float)\n",
        "                      #filtredeki her değer for each döngüsüyle floata çevrilip, değerlerin arasındaki virgüller nokta yapılır."
      ],
      "metadata": {
        "id": "lF4o1r0ifWxm"
      },
      "execution_count": 8,
      "outputs": []
    },
    {
      "cell_type": "code",
      "source": [
        "international_color = [float(each) for each in df2016.international]\n",
        "#üniversitelerin 2016 yılındaki international skoru international_color adlı değişkene for each döngüsüyle float olarak atanır."
      ],
      "metadata": {
        "id": "HIskTWsMfv-K"
      },
      "execution_count": 9,
      "outputs": []
    },
    {
      "cell_type": "code",
      "source": [
        "data = [ #data içerisine trace koyulur.\n",
        "    {\n",
        "        'y': df2016.teaching, #y ekseninde filtredeki öğretme değerleri\n",
        "        'x': df2016.world_rank, #x ekseninde filtredeki dünya sıralaması\n",
        "        'mode': 'markers',      #scatter türü seçilir.\n",
        "        'marker': {  #bubble plotun özelliği color'a ve size'a anlam katmasıdır.\n",
        "            'color': international_color,\n",
        "            'size': num_students_size,\n",
        "            'showscale': True #plotun yanında bir barda renklerin derecesi gözükür.\n",
        "                              #renk de öğrenci sayısına göre belirlendiğinden öğrenci sayısı arttığında koyu renkten açık renge doğru gider.\n",
        "        },\n",
        "        \"text\" :  df2016.university_name    #hoverın üzerine gelindiğinde üniversite adı gözükür.\n",
        "    }\n",
        "]\n",
        "iplot(data)"
      ],
      "metadata": {
        "colab": {
          "base_uri": "https://localhost:8080/",
          "height": 542
        },
        "id": "b9ICuaG7goOy",
        "outputId": "2570f2e0-2a88-4c0a-c021-4907c18a379e"
      },
      "execution_count": 10,
      "outputs": [
        {
          "output_type": "display_data",
          "data": {
            "text/html": [
              "<html>\n",
              "<head><meta charset=\"utf-8\" /></head>\n",
              "<body>\n",
              "    <div>            <script src=\"https://cdnjs.cloudflare.com/ajax/libs/mathjax/2.7.5/MathJax.js?config=TeX-AMS-MML_SVG\"></script><script type=\"text/javascript\">if (window.MathJax && window.MathJax.Hub && window.MathJax.Hub.Config) {window.MathJax.Hub.Config({SVG: {font: \"STIX-Web\"}});}</script>                <script type=\"text/javascript\">window.PlotlyConfig = {MathJaxConfig: 'local'};</script>\n",
              "        <script src=\"https://cdn.plot.ly/plotly-2.8.3.min.js\"></script>                <div id=\"47784668-1883-4c3b-bb72-793b3e33778f\" class=\"plotly-graph-div\" style=\"height:525px; width:100%;\"></div>            <script type=\"text/javascript\">                                    window.PLOTLYENV=window.PLOTLYENV || {};                                    if (document.getElementById(\"47784668-1883-4c3b-bb72-793b3e33778f\")) {                    Plotly.newPlot(                        \"47784668-1883-4c3b-bb72-793b3e33778f\",                        [{\"marker\":{\"color\":[64.0,94.4,76.3,91.5,84.0,77.2,78.5,96.0,97.9,65.0,70.0,64.3,61.9,94.4,73.5,56.4,49.5,63.9,77.8,56.5],\"showscale\":true,\"size\":[2.243,19.919,15.596,18.812,11.074,20.152,7.929,15.06,18.178,14.221,15.128,11.751,36.186,26.607,25.055,38.206,20.376,21.424,66.198,15.172]},\"mode\":\"markers\",\"text\":[\"California Institute of Technology\",\"University of Oxford\",\"Stanford University\",\"University of Cambridge\",\"Massachusetts Institute of Technology\",\"Harvard University\",\"Princeton University\",\"Imperial College London\",\"ETH Zurich \\u2013 Swiss Federal Institute of Technology Zurich\",\"University of Chicago\",\"Johns Hopkins University\",\"Yale University\",\"University of California, Berkeley\",\"University College London\",\"Columbia University\",\"University of California, Los Angeles\",\"University of Pennsylvania\",\"Cornell University\",\"University of Toronto\",\"Duke University\"],\"x\":[\"1\",\"2\",\"3\",\"4\",\"5\",\"6\",\"7\",\"8\",\"9\",\"10\",\"11\",\"12\",\"13\",\"14\",\"15\",\"16\",\"17\",\"18\",\"19\",\"20\"],\"y\":[95.6,86.5,92.5,88.2,89.4,83.6,85.1,83.3,77.0,85.7,77.6,86.5,80.4,78.1,85.9,80.8,82.0,77.9,75.9,76.0],\"type\":\"scatter\"}],                        {\"template\":{\"data\":{\"barpolar\":[{\"marker\":{\"line\":{\"color\":\"#E5ECF6\",\"width\":0.5},\"pattern\":{\"fillmode\":\"overlay\",\"size\":10,\"solidity\":0.2}},\"type\":\"barpolar\"}],\"bar\":[{\"error_x\":{\"color\":\"#2a3f5f\"},\"error_y\":{\"color\":\"#2a3f5f\"},\"marker\":{\"line\":{\"color\":\"#E5ECF6\",\"width\":0.5},\"pattern\":{\"fillmode\":\"overlay\",\"size\":10,\"solidity\":0.2}},\"type\":\"bar\"}],\"carpet\":[{\"aaxis\":{\"endlinecolor\":\"#2a3f5f\",\"gridcolor\":\"white\",\"linecolor\":\"white\",\"minorgridcolor\":\"white\",\"startlinecolor\":\"#2a3f5f\"},\"baxis\":{\"endlinecolor\":\"#2a3f5f\",\"gridcolor\":\"white\",\"linecolor\":\"white\",\"minorgridcolor\":\"white\",\"startlinecolor\":\"#2a3f5f\"},\"type\":\"carpet\"}],\"choropleth\":[{\"colorbar\":{\"outlinewidth\":0,\"ticks\":\"\"},\"type\":\"choropleth\"}],\"contourcarpet\":[{\"colorbar\":{\"outlinewidth\":0,\"ticks\":\"\"},\"type\":\"contourcarpet\"}],\"contour\":[{\"colorbar\":{\"outlinewidth\":0,\"ticks\":\"\"},\"colorscale\":[[0.0,\"#0d0887\"],[0.1111111111111111,\"#46039f\"],[0.2222222222222222,\"#7201a8\"],[0.3333333333333333,\"#9c179e\"],[0.4444444444444444,\"#bd3786\"],[0.5555555555555556,\"#d8576b\"],[0.6666666666666666,\"#ed7953\"],[0.7777777777777778,\"#fb9f3a\"],[0.8888888888888888,\"#fdca26\"],[1.0,\"#f0f921\"]],\"type\":\"contour\"}],\"heatmapgl\":[{\"colorbar\":{\"outlinewidth\":0,\"ticks\":\"\"},\"colorscale\":[[0.0,\"#0d0887\"],[0.1111111111111111,\"#46039f\"],[0.2222222222222222,\"#7201a8\"],[0.3333333333333333,\"#9c179e\"],[0.4444444444444444,\"#bd3786\"],[0.5555555555555556,\"#d8576b\"],[0.6666666666666666,\"#ed7953\"],[0.7777777777777778,\"#fb9f3a\"],[0.8888888888888888,\"#fdca26\"],[1.0,\"#f0f921\"]],\"type\":\"heatmapgl\"}],\"heatmap\":[{\"colorbar\":{\"outlinewidth\":0,\"ticks\":\"\"},\"colorscale\":[[0.0,\"#0d0887\"],[0.1111111111111111,\"#46039f\"],[0.2222222222222222,\"#7201a8\"],[0.3333333333333333,\"#9c179e\"],[0.4444444444444444,\"#bd3786\"],[0.5555555555555556,\"#d8576b\"],[0.6666666666666666,\"#ed7953\"],[0.7777777777777778,\"#fb9f3a\"],[0.8888888888888888,\"#fdca26\"],[1.0,\"#f0f921\"]],\"type\":\"heatmap\"}],\"histogram2dcontour\":[{\"colorbar\":{\"outlinewidth\":0,\"ticks\":\"\"},\"colorscale\":[[0.0,\"#0d0887\"],[0.1111111111111111,\"#46039f\"],[0.2222222222222222,\"#7201a8\"],[0.3333333333333333,\"#9c179e\"],[0.4444444444444444,\"#bd3786\"],[0.5555555555555556,\"#d8576b\"],[0.6666666666666666,\"#ed7953\"],[0.7777777777777778,\"#fb9f3a\"],[0.8888888888888888,\"#fdca26\"],[1.0,\"#f0f921\"]],\"type\":\"histogram2dcontour\"}],\"histogram2d\":[{\"colorbar\":{\"outlinewidth\":0,\"ticks\":\"\"},\"colorscale\":[[0.0,\"#0d0887\"],[0.1111111111111111,\"#46039f\"],[0.2222222222222222,\"#7201a8\"],[0.3333333333333333,\"#9c179e\"],[0.4444444444444444,\"#bd3786\"],[0.5555555555555556,\"#d8576b\"],[0.6666666666666666,\"#ed7953\"],[0.7777777777777778,\"#fb9f3a\"],[0.8888888888888888,\"#fdca26\"],[1.0,\"#f0f921\"]],\"type\":\"histogram2d\"}],\"histogram\":[{\"marker\":{\"pattern\":{\"fillmode\":\"overlay\",\"size\":10,\"solidity\":0.2}},\"type\":\"histogram\"}],\"mesh3d\":[{\"colorbar\":{\"outlinewidth\":0,\"ticks\":\"\"},\"type\":\"mesh3d\"}],\"parcoords\":[{\"line\":{\"colorbar\":{\"outlinewidth\":0,\"ticks\":\"\"}},\"type\":\"parcoords\"}],\"pie\":[{\"automargin\":true,\"type\":\"pie\"}],\"scatter3d\":[{\"line\":{\"colorbar\":{\"outlinewidth\":0,\"ticks\":\"\"}},\"marker\":{\"colorbar\":{\"outlinewidth\":0,\"ticks\":\"\"}},\"type\":\"scatter3d\"}],\"scattercarpet\":[{\"marker\":{\"colorbar\":{\"outlinewidth\":0,\"ticks\":\"\"}},\"type\":\"scattercarpet\"}],\"scattergeo\":[{\"marker\":{\"colorbar\":{\"outlinewidth\":0,\"ticks\":\"\"}},\"type\":\"scattergeo\"}],\"scattergl\":[{\"marker\":{\"colorbar\":{\"outlinewidth\":0,\"ticks\":\"\"}},\"type\":\"scattergl\"}],\"scattermapbox\":[{\"marker\":{\"colorbar\":{\"outlinewidth\":0,\"ticks\":\"\"}},\"type\":\"scattermapbox\"}],\"scatterpolargl\":[{\"marker\":{\"colorbar\":{\"outlinewidth\":0,\"ticks\":\"\"}},\"type\":\"scatterpolargl\"}],\"scatterpolar\":[{\"marker\":{\"colorbar\":{\"outlinewidth\":0,\"ticks\":\"\"}},\"type\":\"scatterpolar\"}],\"scatter\":[{\"fillpattern\":{\"fillmode\":\"overlay\",\"size\":10,\"solidity\":0.2},\"type\":\"scatter\"}],\"scatterternary\":[{\"marker\":{\"colorbar\":{\"outlinewidth\":0,\"ticks\":\"\"}},\"type\":\"scatterternary\"}],\"surface\":[{\"colorbar\":{\"outlinewidth\":0,\"ticks\":\"\"},\"colorscale\":[[0.0,\"#0d0887\"],[0.1111111111111111,\"#46039f\"],[0.2222222222222222,\"#7201a8\"],[0.3333333333333333,\"#9c179e\"],[0.4444444444444444,\"#bd3786\"],[0.5555555555555556,\"#d8576b\"],[0.6666666666666666,\"#ed7953\"],[0.7777777777777778,\"#fb9f3a\"],[0.8888888888888888,\"#fdca26\"],[1.0,\"#f0f921\"]],\"type\":\"surface\"}],\"table\":[{\"cells\":{\"fill\":{\"color\":\"#EBF0F8\"},\"line\":{\"color\":\"white\"}},\"header\":{\"fill\":{\"color\":\"#C8D4E3\"},\"line\":{\"color\":\"white\"}},\"type\":\"table\"}]},\"layout\":{\"annotationdefaults\":{\"arrowcolor\":\"#2a3f5f\",\"arrowhead\":0,\"arrowwidth\":1},\"autotypenumbers\":\"strict\",\"coloraxis\":{\"colorbar\":{\"outlinewidth\":0,\"ticks\":\"\"}},\"colorscale\":{\"diverging\":[[0,\"#8e0152\"],[0.1,\"#c51b7d\"],[0.2,\"#de77ae\"],[0.3,\"#f1b6da\"],[0.4,\"#fde0ef\"],[0.5,\"#f7f7f7\"],[0.6,\"#e6f5d0\"],[0.7,\"#b8e186\"],[0.8,\"#7fbc41\"],[0.9,\"#4d9221\"],[1,\"#276419\"]],\"sequential\":[[0.0,\"#0d0887\"],[0.1111111111111111,\"#46039f\"],[0.2222222222222222,\"#7201a8\"],[0.3333333333333333,\"#9c179e\"],[0.4444444444444444,\"#bd3786\"],[0.5555555555555556,\"#d8576b\"],[0.6666666666666666,\"#ed7953\"],[0.7777777777777778,\"#fb9f3a\"],[0.8888888888888888,\"#fdca26\"],[1.0,\"#f0f921\"]],\"sequentialminus\":[[0.0,\"#0d0887\"],[0.1111111111111111,\"#46039f\"],[0.2222222222222222,\"#7201a8\"],[0.3333333333333333,\"#9c179e\"],[0.4444444444444444,\"#bd3786\"],[0.5555555555555556,\"#d8576b\"],[0.6666666666666666,\"#ed7953\"],[0.7777777777777778,\"#fb9f3a\"],[0.8888888888888888,\"#fdca26\"],[1.0,\"#f0f921\"]]},\"colorway\":[\"#636efa\",\"#EF553B\",\"#00cc96\",\"#ab63fa\",\"#FFA15A\",\"#19d3f3\",\"#FF6692\",\"#B6E880\",\"#FF97FF\",\"#FECB52\"],\"font\":{\"color\":\"#2a3f5f\"},\"geo\":{\"bgcolor\":\"white\",\"lakecolor\":\"white\",\"landcolor\":\"#E5ECF6\",\"showlakes\":true,\"showland\":true,\"subunitcolor\":\"white\"},\"hoverlabel\":{\"align\":\"left\"},\"hovermode\":\"closest\",\"mapbox\":{\"style\":\"light\"},\"paper_bgcolor\":\"white\",\"plot_bgcolor\":\"#E5ECF6\",\"polar\":{\"angularaxis\":{\"gridcolor\":\"white\",\"linecolor\":\"white\",\"ticks\":\"\"},\"bgcolor\":\"#E5ECF6\",\"radialaxis\":{\"gridcolor\":\"white\",\"linecolor\":\"white\",\"ticks\":\"\"}},\"scene\":{\"xaxis\":{\"backgroundcolor\":\"#E5ECF6\",\"gridcolor\":\"white\",\"gridwidth\":2,\"linecolor\":\"white\",\"showbackground\":true,\"ticks\":\"\",\"zerolinecolor\":\"white\"},\"yaxis\":{\"backgroundcolor\":\"#E5ECF6\",\"gridcolor\":\"white\",\"gridwidth\":2,\"linecolor\":\"white\",\"showbackground\":true,\"ticks\":\"\",\"zerolinecolor\":\"white\"},\"zaxis\":{\"backgroundcolor\":\"#E5ECF6\",\"gridcolor\":\"white\",\"gridwidth\":2,\"linecolor\":\"white\",\"showbackground\":true,\"ticks\":\"\",\"zerolinecolor\":\"white\"}},\"shapedefaults\":{\"line\":{\"color\":\"#2a3f5f\"}},\"ternary\":{\"aaxis\":{\"gridcolor\":\"white\",\"linecolor\":\"white\",\"ticks\":\"\"},\"baxis\":{\"gridcolor\":\"white\",\"linecolor\":\"white\",\"ticks\":\"\"},\"bgcolor\":\"#E5ECF6\",\"caxis\":{\"gridcolor\":\"white\",\"linecolor\":\"white\",\"ticks\":\"\"}},\"title\":{\"x\":0.05},\"xaxis\":{\"automargin\":true,\"gridcolor\":\"white\",\"linecolor\":\"white\",\"ticks\":\"\",\"title\":{\"standoff\":15},\"zerolinecolor\":\"white\",\"zerolinewidth\":2},\"yaxis\":{\"automargin\":true,\"gridcolor\":\"white\",\"linecolor\":\"white\",\"ticks\":\"\",\"title\":{\"standoff\":15},\"zerolinecolor\":\"white\",\"zerolinewidth\":2}}}},                        {\"responsive\": true}                    ).then(function(){\n",
              "                            \n",
              "var gd = document.getElementById('47784668-1883-4c3b-bb72-793b3e33778f');\n",
              "var x = new MutationObserver(function (mutations, observer) {{\n",
              "        var display = window.getComputedStyle(gd).display;\n",
              "        if (!display || display === 'none') {{\n",
              "            console.log([gd, 'removed!']);\n",
              "            Plotly.purge(gd);\n",
              "            observer.disconnect();\n",
              "        }}\n",
              "}});\n",
              "\n",
              "// Listen for the removal of the full notebook cells\n",
              "var notebookContainer = gd.closest('#notebook-container');\n",
              "if (notebookContainer) {{\n",
              "    x.observe(notebookContainer, {childList: true});\n",
              "}}\n",
              "\n",
              "// Listen for the clearing of the current output cell\n",
              "var outputEl = gd.closest('.output');\n",
              "if (outputEl) {{\n",
              "    x.observe(outputEl, {childList: true});\n",
              "}}\n",
              "\n",
              "                        })                };                            </script>        </div>\n",
              "</body>\n",
              "</html>"
            ]
          },
          "metadata": {}
        }
      ]
    },
    {
      "cell_type": "markdown",
      "source": [
        "Github'da Ipython kernel olmadığı için pyplot görselleştirmeleri \n",
        "gözükmemektedir. Bu yüzden png formatında yüklenmiştir."
      ],
      "metadata": {
        "id": "e6NVbHGvBaoJ"
      }
    },
    {
      "cell_type": "markdown",
      "source": [
        "![newplot (7).png](data:image/png;base64,iVBORw0KGgoAAAANSUhEUgAABYYAAAINCAYAAACKxqvhAAAAAXNSR0IArs4c6QAAIABJREFUeF7snXmcJVV1+E9Vva236dlBlG0EBZQlKAE3NIqiEDWgaKIxGsSNLAoxBEkkBhPCzzVqgjsak/hz+7lGjZqgoiiKIosguCAYBYZhZrpnen3r71Nv5vV09/Ty6t5aTtX9vn+Gpuvce+p7zuu+9Z0793mdTqcjvCAAAQhAAAIQgAAEIAABCEAAAhCAAAQgAAEIQMAZAh5i2Jlac6MQgAAEIAABCEAAAhCAAAQgAAEIQAACEIAABLoEEMM0AgQgAAEIQAACEIAABCAAAQhAAAIQgAAEIAABxwgghh0rOLcLAQhAAAIQgAAEIAABCEAAAhCAAAQgAAEIQAAxTA9AAAIQgAAEIAABCEAAAhCAAAQgAAEIQAACEHCMAGLYsYJzuxCAAAQgAAEIQAACEIAABCAAAQhAAAIQgAAEEMP0AAQgAAEIQAACEIAABCAAAQhAAAIQgAAEIAABxwgghh0rOLcLAQhAAAIQgAAEIAABCEAAAhCAAAQgAAEIQAAxTA9AAAIQgAAEIAABCEAAAhCAAAQgAAEIQAACEHCMAGLYsYJzuxCAAAQgAAEIQAACEIAABCAAAQhAAAIQgAAEEMP0AAQgAAEIQAACEIAABCAAAQhAAAIQgAAEIAABxwgghh0rOLcLAQhAAAIQgAAEIAABCEAAAhCAAAQgAAEIQAAxTA9AAAIQgAAEIAABCEAAAhCAAAQgAAEIQAACEHCMAGLYsYJzuxCAAAQgAAEIQAACEIAABCAAAQhAAAIQgAAEEMP0AAQgAAEIQAACEIAABCAAAQhAAAIQgAAEIAABxwgghh0rOLcLAQhAAAIQgAAEIAABCEAAAhCAAAQgAAEIQAAxTA9AAAIQgAAEIAABCEAAAhCAAAQgAAEIQAACEHCMAGLYsYJzuxCAAAQgAAEIQAACEIAABCAAAQhAAAIQgAAEEMP0AAQgAAEIQAACEIAABCAAAQhAAAIQgAAEIAABxwgghh0rOLcLAQhAAAIQgAAEIAABCEAAAhCAAAQgAAEIQAAxTA9AAAIQgAAEIAABCEAAAhCAAAQgAAEIQAACEHCMAGLYsYJzuxCAAAQgAAEIQAACEIAABCAAAQhAAAIQgAAEEMP0AAQgAAEIQAACEIAABCAAAQhAAAIQgAAEIAABxwgghh0rOLcLAQhAAAIQgAAEIAABCEAAAhCAAAQgAAEIQAAxTA9AAAIQgAAEIAABCEAAAhCAAAQgAAEIQAACEHCMAGLYsYJzuxCAAAQgAAEIQAACEIAABCAAAQhAAAIQgAAEEMP0AAQgAAEIQAACEIAABCAAAQhAAAIQgAAEIAABxwgghh0rOLcLAQhAAAIQgAAEIAABCEAAAhCAAAQgAAEIQAAxTA9AAAIQgAAEIAABCEAAAhCAAAQgAAEIQAACEHCMAGLYsYJzuxCAAAQgAAEIQAACEIAABCAAAQhAAAIQgAAEEMP0AAQgAAEIQAACEIAABCAAAQhAAAIQgAAEIAABxwgghh0rOLcLAQhAAAIQgAAEIAABCEAAAhCAAAQgAAEIQAAxTA9AAAIQgAAEIAABCEAAAhCAAAQgAAEIQAACEHCMAGLYsYJzuxCAAAQgAAEIQAACEIAABCAAAQhAAAIQgAAEEMP0AAQgAAEIQAACEIAABCAAAQhAAAIQgAAEIAABxwgghh0rOLcLAQhAAAIQgAAEIAABCEAAAhCAAAQgAAEIQAAxTA9AAAIQgAAEIAABCEAAAhCAAAQgAAEIQAACEHCMAGLYsYJzuxCAAAQgAAEIQAACEIAABCAAAQhAAAIQgAAEEMP0AAQgAAEIQAACEIAABCAAAQhAAAIQgAAEIAABxwgghh0rOLcLAQhAAAIQgAAEIAABCEAAAhCAAAQgAAEIQAAxTA9AAAIQgAAEIAABCEAAAhCAAAQgAAEIQAACEHCMAGLYsYJzuxCAAAQgAAEIQAACEIAABCAAAQhAAAIQgAAEEMP0AAQgAAEIQAACEIAABCAAAQhAAAIQgAAEIAABxwgghh0rOLcLAQhAAAIQgAAEIAABCEAAAhCAAAQgAAEIQAAxTA9AAAIQgAAEIAABCEAAAhCAAAQgAAEIQAACEHCMAGLYsYJzuxCAAAQgAAEIQAACEIAABCAAAQhAAAIQgAAEEMP0AAQgAAEIQAACEIAABCAAAQhAAAIQgAAEIAABxwgghh0rOLcLAQhAAAIQgAAEIAABCEAAAhCAAAQgAAEIQAAxTA9AAAIQgAAEIAABCEAAAhCAAAQgAAEIQAACEHCMAGLYsYJzuxCAAAQgAAEIQAACEIAABCAAAQhAAAIQgAAEEMP0AAQgAAEIQAACEIAABCAAAQhAAAIQgAAEIAABxwgghh0rOLcLAQhAAAIQgAAEIAABCEAAAhCAAAQgAAEIQAAxTA9AAAIQgAAEIAABCEAAAhCAAAQgAAEIQAACEHCMAGLYsYJzuxCAAAQgAAEIQAACEIAABCAAAQhAAAIQgAAEEMP0AAQgAAEIQAACEIAABCAAAQhAAAIQgAAEIAABxwgghh0rOLcLAQhAAAIQgAAEIAABCEAAAhCAAAQgAAEIQAAxTA9AAAIQgAAEIAABCEAAAhCAAAQgAAEIQAACEHCMAGLYsYJzuxCAAAQgAAEIQAACEIAABCAAAQhAAAIQgAAEEMP0AAQgAAEIQAACEIAABCAAAQhAAAIQgAAEIAABxwgghh0rOLcLAQhAAAIQgAAEIAABCEAAAhCAAAQgAAEIQAAxTA9AAAIQgAAEIAABCEAAAhCAAAQgAAEIQAACEHCMAGLYsYJzuxCAAAQgAAEIQAACEIAABCAAAQhAAAIQgAAEEMP0AAQgAAEIQAACEIAABCAAAQhAAAIQgAAEIAABxwgghh0rOLcLAQhAAAIQgAAEIAABCEAAAhCAAAQgAAEIQAAxTA9AAAIQgAAEIAABCEAAAhCAAAQgAAEIQAACEHCMAGLYsYJzuxCAAAQgAAEIQAACEIAABCAAAQhAAAIQgAAEEMP0AAQgAAEIQAACEIAABCAAAQhAAAIQgAAEIAABxwgghh0rOLcLAQhAAAIQgAAEIAABCEAAAhCAAAQgAAEIQAAxTA9AAAIQgAAEIAABCEAAAhCAAAQgAAEIQAACEHCMAGLYsYJzuxCAAAQgAAEIQAACEIAABCAAAQhAAAIQgAAEEMP0AAQgAAEIQAACEIAABCAAAQhAAAIQgAAEIAABxwgghh0rOLcLAQhAAAIQgAAEIAABCEAAAhCAAAQgAAEIQAAxTA9AAAIQgAAEIAABCEAAAhCAAAQgAAEIQAACEHCMAGLYsYJzuxCAAAQgAAEIQAACEIAABCAAAQhAAAIQgAAEEMP0AAQgAAEIQAACEIAABCAAAQhAAAIQgAAEIAABxwgghh0rOLcLAQhAAAIQgAAEIAABCEAAAhCAAAQgAAEIQAAxTA9AAAIQgAAEIAABCEAAAhCAAAQgAAEIQAACEHCMAGLYsYJzuxCAAAQgAAEIQAACEIAABCAAAQhAAAIQgAAEEMP0AAQgAAEIQAACEIAABCAAAQhAAAIQgAAEIAABxwgghh0rOLcLAQhAAAIQgAAEIAABCEAAAhCAAAQgAAEIQAAxTA9AAAIQgAAEIAABCEAAAhCAAAQgAAEIQAACEHCMAGLYsYJzuxCAAAQgAAEIQAACEIAABCAAAQhAAAIQgAAEEMP0AAQgAAEIQAACEIAABCAAAQhAAAIQgAAEIAABxwgghh0rOLcLAQhAAAIQgAAEIAABCEAAAhCAAAQgAAEIQAAxTA9AAAIQgAAEIAABCEAAAhCAAAQgAAEIQAACEHCMAGLYsYJzuxCAAAQgAAEIQAACEIAABCAAAQhAAAIQgAAEEMP0AAQgAAEIQAACEIAABCAAAQhAAAIQgAAEIAABxwgghh0rOLcLAQhAAAIQgAAEIAABCEAAAhCAAAQgAAEIQAAxTA9AAAIQgAAEIAABCEAAAhCAAAQgAAEIQAACEHCMAGLYsYJzuxCAAAQgAAEIQAACEIAABCAAAQhAAAIQgAAEEMP0AAQgAAEIQAACEIAABCAAAQhAAAIQgAAEIAABxwgghh0rOLcLAQhAAAIQgAAEIAABCEAAAhCAAAQgAAEIQAAxTA9AAAIQgAAEIAABCEAAAhCAAAQgAAEIQAACEHCMAGLYsYJzuxCAAAQgAAEIQAACEIAABCAAAQhAAAIQgAAEEMP0AAQgAAEIQAACEIAABCAAAQhAAAIQgAAEIAABxwgghh0rOLcLAQhAAAIQgAAEIAABCEAAAhCAAAQgAAEIQAAxTA9AAAIQgAAEIAABCEAAAhCAAAQgAAEIQAACEHCMAGLYsYJzuxCAAAQgAAEIQAACEIAABCAAAQhAAAIQgAAEEMP0AAQgAAEIQAACEIAABCAAAQhAAAIQgAAEIAABxwgghh0rOLcLAQhAAAIQgAAEIAABCEAAAhCAAAQgAAEIQAAxbNkD92yfthwh3+EHrKvJA+Oz0mp38n0jK2RfLvmydqgs28ZnC3uP4Y2NDJa697d7qlno+9w0WpWxyYY0mu3C3mfge7JxtCpbd84U9h7DGxuslaQSeN16Fvm1fqQiU7Mtmam3inybctCGASn679RqJZChWiA7dtULXcvRobI0Wx2ZnCn27xPWQMVp45GBkojnye6pYv8+cWEN5PuebB6tyn1FXwNVA6mUfRmbKHbPurIGetCGAbm34F6hWg5keCCQ7ayBivPL0+BOwvU+L30EEMOWNSn6Q+xqeHgoWo1Qfr6PGM5PrVbLFDG8GqF8fd+VhyLEcL76cqVsEcPFqaUzfznuiBgO/9J4vOB/OY4YLs7Pn/BOXFkDIYaL07eurIFMK4YYNiWXbBxi2JIvYpgdw5YtpCYcMaymFNaJIIatEaoawJWHIsSwqrazSsaVhyL+ctyqTVQFs2NYVTmskkEMW+FTF+zKGggxrK71jBNyZQ1kCggxbEou2TjEsCVfxDBi2LKF1IQjhtWUwjoRxLA1QlUDuPJQhBhW1XZWybjyUIQYtmoTVcGuiGF2DKtqO6tkBjlKwoqftmDEsLaKmOfjyhrIlBBi2JRcsnGIYUu+iGHEsGULqQlHDKsphXUiiGFrhKoGQAyrKodVMpwxbIVPXTBiWF1JjBNyRQxzxrBxi6gLRAyrK4lVQohhK3yqghHDK5cDMayqXeeSQQxb1gUxjBi2bCE14YhhNaWwTgQxbI1Q1QCIYVXlsEoGMWyFT10wYlhdSYwTckUMs2PYuEXUBSKG1ZXEKiHEsBU+VcGIYcSwqobsMxnEcJ+glrsMMYwYtmwhNeGIYTWlsE4EMWyNUNUAiGFV5bBKBjFshU9dMGJYXUmME0IMG6NTF8gZw+pKYpWQK2sgxLBVm6gKRgwjhlU1ZJ/JIIb7BIUYXpoAD0WWDaQoHDGsqBiWqSCGLQEqC3floYgzhpU1nkU6rjwUsQayaBJloYhhZQWxSAcxbAFPYagrayDEsMLmM0zJlTWQIR7hKAlTcsnGIYYt+bJjmB3Dli2kJhwxrKYU1okghq0RqhrAlYcixLCqtrNKxpWHIsSwVZuoCkYMqyqHVTKIYSt86oJdWQMhhtW1nnFCrqyBTAEhhk3JJRuHGLbkixhGDFu2kJpwxLCaUlgnghi2RqhqAFceihDDqtrOKhlXHooQw1ZtoioYMayqHFbJIIat8KkLdmUNhBhW13rGCbmyBjIFhBg2JZdsHGLYki9iGDFs2UJqwhHDakphnQhi2BqhqgFceShCDKtqO6tkXHkoQgxbtYmqYMSwqnJYJYMYtsKnLtiVNRBiWF3rGSfkyhrIFJAmMTxe32J6G1Zxo5U7reKTCEYMW1JFDCOGLVtITThiWE0prBNBDFsjVDWAKw9FiGFVbWeVjCsPRYhhqzZRFYwYVlUOq2QQw1b41AW7sgZCDKtrPeOEXFkDmQJSJYZnMxLDVcSwaf+ojUMMI4bVNmfExBDDEYEpvhwxrLg4Bqm58lCEGDZoDqUhrjwUIYaVNqBBWohhA2hKQxDDSgtjmJYrayDEsGGDKAxzZQ1kil6VGJ4OxXBHRLx5t5P816MDvzTFl1gcO4Yt0SKGEcOWLaQmHDGsphTWiSCGrRGqGsCVhyLEsKq2s0rGlYcixLBVm6gKRgyrKodVMohhK3zqgl1ZAyGG1bWecUKurIFMAWkSw7umHyrS6Yh4oRjeK4S7X/fuzkvk+2sG2TFs2j9q4xDDiGG1zRkxMcRwRGCKL0cMKy6OQWquPBQhhg2aQ2mIKw9FiGGlDWiQFmLYAJrSEMSw0sIYpuXKGggxbNggCsNcWQOZolclhicfanobVnFrhn5hFZ9EMDuGLakihhHDli2kJhwxrKYU1okghq0RqhrAlYcixLCqtrNKxpWHIsSwVZuoCkYMqyqHVTKIYSt86oJdWQMhhtW1nnFCrqyBTAFpEsO7J8Idw8ucJNH7/wl8f2QEMWzaP2rjEMOIYbXNGTExxHBEYIovRwwrLo5Baq48FCGGDZpDaYgrD0WIYaUNaJAWYtgAmtIQxLDSwhim5coaCDFs2CAKw1xZA5miVyWGd+2/Y3ixB158n3F8f80axLBp/6iNQwwjhtU2Z8TEEMMRgSm+HDGsuDgGqbnyUOSEGC4HMjQQyI5ddYNOyE+IKw9FiOH89ORqmSKGVyOUn+8jhvNTq34ydWUNhBjupxvycY0rayDTamgSwxPjD53bMLx4g3CSX4+MIoZN+0dtnMtiODyj+4C1Ndm+qy6NVlttjWwTK5d8WTtUlm3js7ZDqY5HDKsuT6TkEMORcKm/2JWHIifEcCWQoRpiWP2brs8EEcN9gsrBZYjhHBSpzxQRw32CysllrqyBEMM5acg+0kQMrwxJlRge23uURC/l3mfQJfz18DrEcB9vpXxd4rQYHmuIv7shMlyS9rpK929bivhCDBerqptGqzI22ZBGs7h/mYEYLlbPuvJQhBguTt+68lCEGC5OzyKGi1NLxHBxahneiStrIMRwcfrWlTWQacVUieEd2Xz43PB6xLBp/6iNc1kMl3Y15PYP/VQe+rwtUnrwoLTaxVTDiGG1bz+jxBDDRthUBg3WSlIJvK7oL/LLlYcixHBxutiVhyLEcHF6FjFcnFoihotTS8RwsWpZLQcyPBB0/7VxkV+urIFMa6hJDE9uD4+S2Hdq8J4Nw8l/PbzhTlN8icV5nU6nmDYvMWQLB3ZZDJd9TwZmOjLtiTTKKQHPYBrEcAbQE5wSMZwg3JSHRgynDDzh6ZwQw5wxnHAXpTs8Yjhd3knOhhhOkm66YyOG0+Wd9Gyu/OU4O4aT7qT0xkcMr8xalRh+4Ij0GmPeTEMbf57JvCtNihi2LInLYjhEx0ORZQMpCueMYUXFsEyFoyQsASoLd+WhyAkxzBnDyt5ddumwBrLjpykaMaypGna5IIbt+GmLdmUNhBjW1nnm+SCGcySG789IDG9GDJu/w5RGIoZr8sD4bGGPkQjbjh3DSt98hmmxY9gQnMIwdgwrLIpFSk6IYXYMW3SIvlDEsL6amGaEGDYlpy8OMayvJjYZIYZt6OmK5SgJXfXIKhtNO4antmYjhgcPQAxn1X8rznvn3ffIKy56q9yzdXv3ug+/42I56fijuv+9+Hvh/zvu6C1y5RUXyLrREUEMI4ZVNrVBUuwYNoCmNIQdw0oLY5iWKw9FTohhdgwbvgt0hiGGddbFJCvEsAk1nTGIYZ11Mc3KlTUQO4ZNO0RfHDuGV66JKjF83/5ieN8Jw0vfRxzfHzoQMazunbtzfLecf/Hb5cJXPq8rg6+/6Xa55PL3y3vf9Bey5dCDumL4kis+IJdffF7368UvxDBiWF1TGyaEGDYEpzAMMaywKBYpufJQ5IQYZsewxTtBXyhiWF9NTDNCDJuS0xeHGNZXE5uMXFkDIYZtukRXLGI4P2J4+t5sdgwPPAgxrOtdKyKf/tI1ct0Nt8llrz1XarWKzMzU5dK3XCWnnHiMnH3GqYjhVSrGQ5G6ljZOCDFsjE5dIGJYXUmsEnLlocgJMcyOYav3grZg1kDaKmKeD2LYnJ22SMSwtorY5ePKGggxbNcnmqIRwzkSw7/JSAw/GDGs6T3bzWWxGA7/39ve98nu9y58+Tn7HSUx/xiJ8Jr7x2bU3VOaCW1YU5Wdu+vS7oSb6ov5KgW+rBksyY7d9WLe4N67GqqVuv81OdMs9H2GC8xdU01pttqFvU/f82TdSEW275ot7D2GN1arlqTse7J7ulHo+wwXmDP1tsw2WoW+z81ra4X/nVopBTJQ82V8otg9OzJQlma7I9Ozxf59whqoOD+ShqolEc+TyZlivzfDtcHugq+BPM+TDSMVeaDoa6BK0P0clN1Txe5ZV9ZAm9bWZFvBvUK4Bhqs+TLGGqg4vzwN7iRc72t5Tf/6SBFZdDhE6LU8b97/j//7AwcjhrX0wFweSx0VMV8ML044/N5992+f22HcbBVXiPZTrFLgdT94rsBeuPtzIRRt4X0W+eX7e+6uXVxf2r2/cDdt+BcZRe/Z8D6L/vPJ9/b83i6w43emZ8MbDX+fFL1nnfp90hEp+K/Nbs+yBirGyog1UDHqGN5F+HOWNVBx6unCup01UHH6NbyT7u8TB9ZAplUL105aXtO/OnKfF+75354Ynvs6/MUy3xPvFccW3x84FDGspQcW5BHuGn79m65a8P/eeNG53aMkFr9Ckfzmd39cLn/deXz4nIjwzyhVtrRRUhwlYYRNZRBHSagsi3FSrvwzSieOkuCMYeP3gcZA1kAaq2KWE0dJmHHTGMVREhqrYp6TK2sgjpIw7xFtkRwlsXJFNH343Mzd4Y7h9F+1Q3+W/qSrzOh1OkXeNxedd3jG8Jvf/TF54dmnLflhc4jhhUx5KIreY1ojEMNaKxM9L8RwdGaaI1x5KHJCDHPGsOa3WuTcWANFRqY2ADGstjSRE0MMR0amOsCVNRBiWHUbRkoOMZwjMXzXUjuGF+8Qjv/r2uGI4UhvqiwuXnyMxFe+cb0cefiD5yTx4u/fs306izTVzMlDkZpSWCeCGLZGqGYAxLCaUsSSiCsPRU6IYXYMx/Ke0DIIayAtlbDPAzFsz1DLCIhhLZWIJw9X1kCI4Xj6RcMoiOH8iOHZX2YjhqtbEMMa3qv75RDK3g9+9Ivd/7/4CInrb7pdXvLqK+ZizjztlLnzhcP/iRiuyQPjs4U+fzf8YIe1Q2XZNl7sD/JCDKv88WSUFGLYCJvaIFceipwQw+wYVvs+M0kMMWxCTWcMYlhnXUyyQgybUNMb48oaCDGstwejZoYYzpEY/kVGYvgIxHDU95X66xHDiGH1TdpngojhPkHl4DLEcA6KFCFFVx6KnBDD7BiO0Pn6L0UM669Rvxkihvslpf86xLD+GkXJ0JU1EGI4SlfovhYxnCMx/PNszhiuIoZ1v4lNskMMI4ZN+kZjDGJYY1XMckIMm3HTGuXKQ5ETYpgdw1rfZkZ5IYaNsKkMQgyrLItRUohhI2xqg1xZAyGG1bZg5MQQw/kRw/WfHimdvUcI97Lufb34zzi/X30YO4Yjv7G0ByCGEcPae7Tf/BDD/ZLSfx1iWH+NomToykORE2KYHcNRWl/9tYhh9SXqO0HEcN+o1F+IGFZfokgJurIGQgxHagvVFyOGcySG73hYJr1UefhPM5l3pUm9TqcTynBehgQQw4hhw9ZRF4YYVlcS44QQw8boVAa68lDkhBhmx7DK95hpUohhU3L64hDD+mpimhFi2JSczjhX1kCIYZ39Z5IVYjhHYvgnS4nhxXuIF9+P/fcrR7Nj2OS9pToGMYwYVt2gEZJDDEeApfxSxLDyAkVMz5WHIifEMDuGI3a/7ssRw7rrEyU7xHAUWrqvRQzrrk/U7FxZAyGGo3aG3usRw/kRw40lxXDyvVU+mh3DyVNOeQbEMGI45ZZLbDrEcGJoUx8YMZw68kQndOWhyAkxzI7hRN8raQ+OGE6beHLzIYaTY5v2yIjhtIknO58rayDEcLJ9lOboiOEcieFbszlKovwIxHCa78lU5kIMI4ZTabQUJkEMpwA5pSkQwymBTmkaVx6KnBDD7BhO6V2TzjSI4XQ4pzELYjgNyunMgRhOh3Nas7iyBkIMp9VRyc+DGM6PGG7+OBsxXHokYjj5d2LKMyCGEcMpt1xi0yGGE0Ob+sCI4dSRJzqhKw9FTohhdgwn+l5Je3DEcNrEk5sPMZwc27RHRgynTTzZ+VxZAyGGk+2jNEdHDOdIDN+ckRg+DjGc5nsylbkQw4jhVBothUkQwylATmkKxHBKoFOaxpWHIsRwSg2VwjSuPBQhhlNoppSmQAynBDqFaRDDKUBOcQpX1kCI4RSbKuGpXFkDmWIM1/taXq2bHyadjojnSap/lo5HDGvpgdjyQAwjhmNrpowHQgxnXIAYp0cMxwhTwVCuPBQhhhU0W0wpuPJQhBiOqWEUDOOKGN40WpWxyYY0mm0F1JNJATGcDNesRnVlDYQYzqrD4p/XlTWQKTlVYvjGh4l0RMSTVP8MfgsxbNo/auMQw4hhtc0ZMTHEcERgii9HDCsujkFqrjwUIYYNmkNpiCsPRYhhpQ1okJYrYnjjaFXGEcMGHaIvZLAaSKXsy9hEQ19yMWbkyhoIMRxj02Q8lCtrIFPMqsTwjx6eqhDuCejgxDtM8SUW53U64eZpXqYEEMOIYdPe0RaHGNZWEfN8EMPm7DRGuvJQhBjW2H1mObnyUIQYNusPjVGuiGF2DGvsPrOcEMNm3LRGIYa1ViZ6Xq6sgaKT2ROhSgz/8OFL3EZvC/Fyd2j//eBR7Bg27R+1cYhhxLDa5oyYGGI4IjDFlyOGFRfHIDXEsAE0pSFVPnxOaWXM0kIMm3HTGOWKGGbHsMbuM8sJMWzGTWsUYlhrZaLnhRhemZkmMdz+wVJiOHrNo0b4j2bHcFRm6q9HDCOG1TdpnwmJunLwAAAgAElEQVQihvsElYPLEMM5KFKEFBHDEWApvxQxrLxAEdNDDEcEpvhyV8QwO4YVN2HE1BDDEYEpvxwxrLxAEdJDDOdIDH8/IzH824jhCG+pfFyKGEYM56NTV88SMbw6o7xcgRjOS6X6yxMx3B+nPFyFGM5DlfrPETHcPyvtV7oihtkxrL0T+88PMdw/qzxciRjOQ5X6yxExnCMx/L2j+itqzFf5J98e84j2w3HGsCVDxDBi2LKF1IQjhtWUwjoRxLA1QlUDIIZVlcMqGcSwFT51wYhhdSUxTsgVMcyOYeMWUReIGFZXEquEEMNW+FQFI4ZzJIavy0gMn4IYVvWmjSMZxDBiOI4+0jAGYlhDFeLJATEcD0ctoyCGtVTCPg/EsD1DTSMghjVVwy4XV8QwO4bt+kRTNGJYUzXsc0EM2zPUMgJiOEdi+LtHZ9I2/mN+ksm8K03KjmHLkiCGEcOWLaQmHDGsphTWiSCGrRGqGgAxrKocVskghq3wqQtGDKsriXFCrohhdgwbt4i6QMSwupJYJYQYtsKnKhgxnCMxfG1GYvhxiGFVb9o4kkEMI4bj6CMNYyCGNVQhnhwQw/Fw1DIKYlhLJezzQAzbM9Q0AmJYUzXscnFFDLNj2K5PNEUjhjVVwz4XxLA9Qy0jIIbzJIYfISIdEfFS/dN/3G1a2nUuD3YMW5YEMYwYtmwhNeGIYTWlsE4EMWyNUNUAiGFV5bBKBjFshU9dMGJYXUmME3JFDLNj2LhF1AUihtWVxCohxLAVPlXBiOEcieFvPUKk0xHxQjG859XpdMSb93US3w9ORQyretPGkQxiGDEcRx9lPYbveTJfDLfDH5AFfbnwUIQYLlbzIoaLU0/EcHFqGd4JYrg49XRFDLNjuDg9ixguTi3DO0EMF6eeiOEcieFrwh3D6b/8U29Nf9JVZmTHsGVJEMOIYcsWyjS8Vgmk0m5KUKuIPzPTzaVdq0lrpi51vyQz9Vam+SUxOWI4CarZjDlYK0kl8GRsspFNAinNihhOCXQK0yCGU4Cc4hSI4RRhJzwVYjhhwCkO7/uebB6tyn0796xri/pCDBersojh4tQTMbxyLQ/aMKCm2O1vhjuGUz9JQvwnIYbVNEFciSCGEcNx9VKa45QCTwa8lrS2bZeJ79wgs7+6R8L/F76arY5UDzlIhh97ogSbNsh0J+j+v6K8EMNFqaQIYrg4tQzvJFwoFv13KmK4WD2LGC5OPRHDxaklYrg4tQzvxJW/HEcMF6dvEcM5EsPfOHbe2cK9vHumOLmv/Sf9WF3Ds2PYsiRFf4hdDQ8PRasR0vf9UACPVHwZ+9q3ZOqWO+YSnC+Ge/9z8NiHy9qnPkF219uFkcOIYX09aZoRYtiUnM44xLDOuphk5cpDEWsgk+7QGYMY1lkXk6wQwybU9MYghvXWJmpm1XIgwwOBbN9Vjxqaq+tdWQOZFkXTjuHW14/NZMdw8ORbTPElFocYtkSLGGbHsGULpRoenqM+UurI7v/5jkzd+tMFcy8lhsMLBh/xMBl5ymNld9Prnr2e9xdiOO8V3Jc/Yrg4tQzvBDFcnHq68lCEGC5OzyKGi1NLxHBxahneCWK4OPVEDBenljZ3okoMX71XDPduKPwH1PN9R0JfB09BDNv0kMpYxDBiWGVjLpPUQCUQ+dWvZMdnvrrfFcuJ4e6i7KyniRxyiEwX4MxhxHCeOnblXBHDxaklYrhYtUQMF6ee5ZIva4fKsm18tjg3tcSdIIaLU17EcHFqiRguVi0Rw8Wqp+ndqBLD/33cvKMk0jtsODhtoRjeOb5bzr/47XLzT+7sYn3jRefK2WecOof4+ptul5e8+oru18cdvUWuvOICWTc6YlqCJePYMWyJEzGMGLZsoVTD15Q7suOjn5PGAzsjieHyxnWy/gXPll2NPecQ5/mFGM5z9RbmjhguTi0Rw8WqJWK4OPVEDBenluGdbBytyvhkQxrNdrFubN7dIIaLVVp2DBennojh4tTS5k5UieGvHW9zK8axwVNvmoudmanLpW+5Sk458ZiuDL7z7nvkFRe9VS6/5GVy0vFHdb++5IoPyOUXnydbDj1IPv2la+S6G26Ty157rtRqFeMcFgcihi1RIoYRw5YtlFp4EHgy7LXkvnf965JzrrRjOAw48M9eLBOdQFo5/yA6xHBqLZf4RIjhxBGnOgFHSaSKO9HJEMOJ4k11cMRwqrgTnwwxnDji1CYYrAZSKfsyNtFIbc4sJkIMZ0E9mTkRw8lwzduoqsTwV4/f7+iI8OjMua1wSxwlEcf3S6fvE8PhbuC3vecTC3YBv+19n+yW9cKXn9MVwXf9emv3v8PXYlEcV/0Rw5YkEcOIYcsWSi28UvKlvGO7PPAfnzUSwxtf+HvSWL9B6jnfZYIYTq3lEp8IMZw44lQnQAynijvRyRDDieJNdXDEcKq4E58MMZw44tQmQAynhjqViR60YUDu3T6dylxZTYIYzoq8rnlVieGvnJAJnOD0G+fmXUoMz98VfOVHPjcnicP/6B07ceErn9fdURzXCzFsSRIxjBi2bKHUwrtiePs2eeCjnzcTwy94ljQ2bEIMp1Yx84kC3+v+c9GtO2fMB8lBJGI4B0WKkCJiOAIs5ZcihpUXKEJ6iOEIsHJwKWI4B0XqM0XEcJ+gcnIZYjgnheojTVfWQH2gWPISVWL4yxmJ4WfsE8NLid7FYviwhxwwd+YwYti08xKOQwwjhhNusdiGD4+KGGzMyNb3ftRIDB/wihfIVLkmTY6SiK0mSQ2EGE6KbDbjuvLPKBHD2fRXErO68lB0wDrWQEn0TxZj8uFzWVBPZk7OGE6Ga1ajurIGQgxn1WHxz+vKGsiUnCox/KXfMr0Nq7jgjB8tiJ//4XK9b7z0BWd2j4+Yf6xE+D3EsBX65IIRwzwUJddd8Y4cHpGzdiCQ+678iLRn6vsNvtIZw36tIgee/0cyNt2S8PM68/ziKIk8V29h7uwYLk4twztBDBennq48FCGGi9OziOHi1BIxXJxahneCGC5OPTlKoji1tLkTVWL4PzMSw7+7UAwv5hnK4CecfGz3qAjOGLbpthRjEcOI4RTbzXqqoUCkfuMtsuvbP4gkhtc8/tFSOeFYmWxZp5D5AIjhzEsQWwKI4dhQqhgIMayiDLEkgRiOBaOKQThKQkUZYkuCoyRiQ5n5QBwlkXkJYk2AHcOx4sx0MFfWQKaQdYnhE01vwyou+N0blo2ff4xErVbZ78PmFn/fKpF5wZwxbEkSMYwYtmyhVMPDIwbWDASy7SOflsb92xfMvdyO4fLmDbLpj86WXdMtabXzvl9YBDGcasslOhliOFG8qQ+OGE4deWITuvJQxI7hxFoo9YHZMZw68sQmZMdwYmgzGZgdw5lgT2RSdgwngjV3g6oSw5/PSAw/a6EYDmXv6990VbeWvSMk5hd2/lETxx29Ra684gJZNzoSa+0Rw5Y4EcOIYcsWSj28Wval1ml2P4SuuX3n3PxLieHShnWy8QXPkhmvJLONduq5JjEhYjgJqtmMiRjOhntSsyKGkyKb/riI4fSZJzUjO4aTIpvNuOwYzoZ7ErOyYzgJqtmNyY7h7NjHPbMrayBTbrrE8KOke05meOZmin8Gz/6hKb7E4hDDlmgRw4hhyxbKJDz8G9uhWiDjX/+uTFx/czeHxWJ4+KTjZPR3HiOTMy2ZbRTgDIm9pBHDmbRcIpMihhPBmtmgiOHM0Mc+sSsPRewYjr11MhuQHcOZoY99YnYMx4400wHZMZwp/lgnZ8dwrDhzO5gqMfzZ/cVwpyPirSCK4/h+6SzEcG4beLnEEcOI4bw2dSiCq9KWykBF6vfcLzI2tudW1q6VykGbpT5dl1nxpdnK//ER82uEGM5rx+6fN2K4OLUM7wQxXJx6IoaLU0t2DBenluGdsGO4OPVkx3BxahneCTuGi1NPV9ZAphVTJYY/c1K6W4X3bk0Oztr/855MecYVx45hS5KIYcSwZQtlHh7urCj5ngwNlLq5TE43pdnuSLsA5wkvBRcxnHnLxZYAYjg2lCoGQgyrKEMsSbjyUMSO4VjaRcUg7BhWUYZYkmDHcCwY1QzCjmE1pbBOhB3D1ggLMYAqMfzpk1I9QqJ3ZEXwnOvV1RIxbFkSxDBi2LKF1ISPDO4Rw7unmmpySiIRxHASVLMZEzGcDfekZkUMJ0U2/XERw+kzT2pGdgwnRTabcdkxnA33JGZlx3ASVLMbkx3D2bGPe2ZX1kCm3FSJ4U+FO4bnvXpHSCx3czF9P3guYti0f9TGIYYRw2qbM2JiiOGIwBRfHvhe95+Lbt05ozhL+9QQw/YMNY2AGNZUDbtcXHkoYsewXZ9oimbHsKZq2OXCjmE7ftqi2TGsrSLm+bBj2JxdkSJVieFP/nY2R0mcgxguUk937wUxjBguSlMjhotSSRHEcHFqGd6JKw9FiOHi9C1iuDi1ZMdwcWoZ3gk7hotTT3YMF6eW4Z2wY7g49XRlDWRaMVVi+BMnm96GVVzwvO9ZxScRzFESllQRw4hhyxZSE44YVlMK60QQw9YIVQ2AGFZVDqtkqpVAhmqB7NhVtxpHe7ArD0XsGNbeif3nx47h/llpv5Idw9orFC0/V9ZAiOFofaH5alfWQKY10CSGmx8/OZMzhku/jxg27R+1cYhhxLDa5oyYGGI4IjDFlyOGFRfHIDVXHorYMWzQHEpDXHkoQgwrbUCDtBDDBtCUhiCGlRbGMC1X1kCIYcMGURjmyhrIFL0qMfyxU5Y5SqJ3d71DhRf/afd9xLBp9yiOQwwjhhW3Z6TUEMORcKm+GDGsujyRk3PloQgxHLk11Aa48lCEGFbbgpETQwxHRqY2ADGstjRGibmyBkIMG7WHyiBX1kCm8FWJ4Y/uL4Y70hFPlhPCnsTx/fIL2DFs2j9q4xDDiGG1zRkxMcRwRGCKL0cMKy6OQWquPBQhhg2aQ2mIKw9FiGGlDWiQFmLYAJrSEMSw0sIYpuXKGggxbNggCsNcWQOZotclhh+z9FESvZtLZsOwlF74XVN8icVxxrAlWsQwYtiyhdSEI4bVlMI6EcSwNUJVA7jyUIQYVtV2Vsm48lCEGLZqE1XBiGFV5bBKBjFshU9dsCtrIMSwutYzTsiVNZApIFVi+N8fY3obVnGlP0QMWwHUGIwYRgxr7EuTnBDDJtR0xiCGddbFNCtXHooQw6Ydoi/OlYcixLC+3jPNCDFsSk5fHGJYX01sMnJlDYQYtukSXbGurIFMqasSw//2WNPbsIorveg7VvFJBLNj2JIqYhgxbNlCasIRw2pKYZ0IYtgaoaoBXHkoQgyrajurZFx5KEIMW7WJqmDEsKpyWCWDGLbCpy7YlTUQYlhd6xkn5MoayBSQKjH8kccufZTE8kcMx3J96cWIYdP+URuHGEYMq23OiIkhhiMCU3w5YlhxcQxSc+WhCDFs0BxKQ1x5KEIMK21Ag7QQwwbQlIYghpUWxjAtV9ZAiGHDBlEY5soayBS9KjH8r4+LRfSu8Fl1S45fesm1pvgSi2PHsCVaxDBi2LKF1IQjhtWUwjoRxLA1QlUDuPJQhBhW1XZWybjyUIQYtmoTVcGIYVXlsEoGMWyFT12wK2sgxLC61jNOyJU1kCkgVWL4Q4+XLMxw6Y8Rw6b9ozYOMYwYVtucERNDDEcEpvhyxLDi4hik5spDEWLYoDmUhrjyUIQYVtqABmkhhg2gKQ1BDCstjGFarqyBEMOGDaIwzJU1kCl6XWL4CVl4YSmd+y1TfInFsWPYEi1iGDFs2UJqwhHDakphnQhi2BqhqgFceShCDKtqO6tkXHkoQgxbtYmqYMSwqnJYJYMYtsKnLtiVNRBiWF3rGSfkyhrIFJAmMdz44P5iuNMR8VY4YziO71fOQwyb9o/aOMQwYlhtc0ZMDDEcEZjiyxHDiotjkJorD0WIYYPmUBriykMRYlhpAxqkhRg2gKY0BDGstDCGabmyBkIMGzaIwjBX1kCm6FWJ4Q+canobVnHl866xik8imB3DllQRw4hhyxZSE44YVlMK60QQw9YIVQ3gykMRYlhV21kl48pDEWLYqk1UBbsihjeNVmVssiGNZlsV/ziTQQzHSTP7sVxZAyGGs++1uDJwZQ1kykuTGK6/PxsxXHkZYti0f9TGIYYRw2qbM2JiiOGIwBRfjhhWXByD1Fx5KEIMGzSH0hBXHooQw0ob0CAtV8TwxtGqjCOGDTpEX8hgNZBK2ZexiYa+5GLMyJU1EGI4xqbJeChX1kCmmFWJ4fc90fQ2rOIqL/+mVXwSwewYtqSKGEYMW7aQmnDEsJpSWCeCGLZGqGoAVx6KEMOq2s4qGVceihDDVm2iKtgVMcyOYVVtZ5UMYtgKn7pgxLC6khgn5MoayBSQJjE8+56FYjg8Wzg8Q3i5V1zfr74SMWzaP2rjEMOIYbXNGTExxHBEYIovRwwrLo5BaohhA2hKQ6qVQIZqgezYVVeaYTxpufJQhBiOp180jOKKGGbHsIZuiycHxHA8HLWMghjWUgn7PFxZA5mS0iWGn2R6G1Zx1Vd+wyo+iWB2DFtSRQwjhi1bSE04YlhNKawTQQxbI1Q1AGJYVTmskkEMW+FTF4wYVlcS44RcEcPsGDZuEXWBiGF1JbFKCDFshU9VMGJ45XKoEsPv/p1Meqf6qq9nMu9KkyKGReTOu++RV1z0Vrln6/Yuqw+/42I56fij5rh9+kvXyOvfdFX36zNPO0Uue+25UqtVul8jhhHD6t7Vhgkhhg3BKQxDDCssikVKiGELeMpCEcPKCmKZDmLYEqCicFfEMDuGFTWdZSqIYUuAysIRw8oKYpEOYjhPYvjJ3aMjwiMieq+5r8MjJfYeLRH392vnX23RYcmEOi+Gd47vlvMvfrtc+MrndWXw9TfdLpdc/n5575v+QrYcelD367e95xNy5RUXyLrREXnb+z7ZrcSFLz8HMSwiPBQl88bMYlTEcBbUk5kTMZwM16xGRQxnRT7+eRHD8TPNckTWQFnSj3duV8QwO4bj7ZssR0MMZ0k//rkRw/EzzWpExHB+xPDMvzxZ9vrffWJ4jw9O9OuBP0EMZ/X+XHbecDfwdTfcNrcLeGamLpe+5So55cRj5OwzTu2K4MMeckD3v8PXYlHMjmF2DKtrasOEEMOG4BSGIYYVFsUiJcSwBTxloYhhZQWxTAcxbAlQUbgrYpgdw4qazjIVxLAlQGXhiGFlBbFIBzGcIzH8z6eJdNVw7xUq4eS/rv3p/1h0WDKhzu8YXiyGQ8y9XcHn/9GzF0ji8HvhsROXXPEBufzi87o7ihHDiOFk3prpj4oYTp95UjMihpMim824iOFsuCcxK2I4CarZjYkYzo593DO7IobZMRx352Q3HmI4O/ZJzIwYToJqNmMihvMjhqffFYrh9F8Df/bf6U+6yozOi+HFoncpMXzOM580d+bw4uunZprqippmQgPVkszUW9IJD2Mp6Mv3PamU/O59FvlVLvnd22s020W+TalVAqk329JuF7dnPc/r3uf0bLF/PpVKvvieSL1R7J4NZWKz1ZFWq9j3OVgrSdF/p/qBL+XAk9mC/z6plH0Jf8Q2C/77hDVQcZYLrIGKU8vwsMgBF9ZAgS++zxqoKJ3rxBrI96VcYg1UlJ41vY+w17W8umK4d5bE/D97CfY2EC/+0/L7A3+OGNbSAwvymP/hcr1vvPGic+WMJ5+y6o7hscmGyntKK6k1gyWZmG52HwCL+gp3X4Z/K797utiSrVbZI4Zn6sWWT+GuoKnZlrQK3LShLB0eKMmuqWL3bPgXNiXfk6mCS7ah6p6/zGi0CvyDVkTWDpWl6L9TQykcStPJmWL/RWMoZcK/fJstuBhmDVSclV+t7Hc/fabomwBcWQOF9zle+DWQJ6XA765pi/xyZQ0U7jIdL7hXCNdA1bIvE6yBivyWXfXewvW+ltfUO/aK4cWiN+GvB1+DGNbSA8vmEZ4x/OZ3f0xeePZp3aMiOGN45ZLxzyjVt3TfCXKURN+o1F8YytINo1XZNj5b6J3R4d84VwKv8DKRoyTUv+X6TpCjJPpGlYsLWQPlokx9JenKURKcMdxXO+TiIo6SyEWZ+k6SoyT6RqX+Qo6SWLlEB20YUFPDqX962t4zhZfbGpzM/x98zdfUMJhz4J0inwFggLt3vvCFLz+nG734w+YWf58zhjlj2KDNVIYghlWWJVJS4U7EAb8lfrsh1aAj0/WOSGVAphqeNAp4DAFiOFJ7qL84XCgW/XcqYlh9G0ZKEDEcCZfqi10Rw5wxrLoNIyWHGI6ES/3FiGH1Jeo7QcRwjsTw258m4Ymoniep/jl04Vf77qe0LnT+jOEQdCh7P/jRL3aZh0dInH3GqQv4zz9q4szTTpHLXnuu1GqV7jVFf4hdrRF5KFqNUH6+jxjOT62WynS46kmpMSGdrT+X5k1f7p6LPdspSfnYp4psfqg0ymtkqmBnDiOG892zi7NHDBennq48FLEGKk7PuiKG2TFcnJ5FDBenluGdIIaLU09X1kCmFdO0Y3jybaeb3oZV3NCFX7GKTyIYMWxJFTHMjmHLFlITjhhWU4rIiYQPtMHE/VK/+r3d2PDD57piuLHn3Dl/02FSevTZ0igNyWSBPjATMRy5VVQHIIZVlydScq48FCGGI7WF6otdEcPsGFbdhpGSQwxHwqX+YsSw+hL1naAra6C+gSy6UJUYfsvTpSMd8WTfkRFpfD38WsSwaf+ojUMMI4bVNmfExBDDEYEpubwUeLKm5svM568Qae/5sLnFYjj8f8FBR0nw6LNkbFpJ4jGkgRiOAaKiIRDDiophmYorD0WIYctGURSOGFZUDMtUfN+TzaNVuW/njOVIusMRw7rrEzU7xHBUYnqvd2UNZFoBXWL4GakeIdE7smL4L79sii+xOHYMW6JFDCOGLVtITThiWE0pIiUSPhiU77lZGjd8fi5uKTEcfrNy2qtkurJeZhvtSHNovRgxrLUyZnkhhs24aYxy5aEIMayx+8xyQgybcdMYhRjWWBXznFz5AF7EsHmPaIt0ZQ1kyl2TGJ548zNEOvPupLdxuPe/Evp6+CLEsGn/qI1DDCOG1TZnxMQQwxGBKbl8uNwR7xffltYd315VDJcffZbMHvAImanvOWIi7y/EcN4ruDB/xHBx6unKQxFiuDg9ixguTi0Rw8WpZXgniOHi1LNaDmR4IJDtu+rFuakl7sSVNZBpEVWJ4TedKXvM8L6jJNL4eviiL5niSyyOHcOWaBHDiGHLFlITjhhWU4pIiYRi2L/zWmne/i3EcCRy+bnYlYcixHB+enK1TF15KEIMr9YJ+fk+Yjg/tVotU8TwaoTy9X1X1kDsGM5XX66UrStrINOKaRLDu6+YL4Z7d9QTxcl9PXIxYti0f9TGIYYRw2qbM2JiiOGIwJRcHu6aLf/mRmnc8IVVxfCeoyQ2zH0onZJbME6DHcPG6FQGIoZVlsUoKVceihDDRu2hMsgVMbxxtCrjkw1pNItxpNRSzYQYVvkWM04KMWyMTl0gO4bVlSSThNSJ4QyOkhh53RczYb/SpOwYtiwJYhgxbNlCasIRw2pKESmRcuDLSKUjM1+4QqSz50FvqTOG/QMfLqWTzpaxAn0WC2I4UquovxgxrL5EfSeIGO4blfoLyyVf1g6VZdv4rPpcbRJEDNvQ0xWLGNZVD9tsEMO2BPXEI4b11CLLTDSJ4V2XhzuG03+tuQQxnD71hGdEDCOGE26x1IZHDKeGOvaJRgYCCXZvlfrX37+kGPbWHyzlk8+RZmlIJmaasc+f1YCI4azIJzMvYjgZrlmMihjOgnoycyKGk+Ga1ajsGM6KfPzzhh8+XCn7MjbRiH9wRSMihhUVwzIVxLAlwIKE6xLDzxTpdMJdVfvopvD1mr/+T3XVZMewZUkQw4hhyxZSE44YVlMKo0SGKx0pNaakc98d0rzlq1Ip+TLb9qT8yKeJd+CR0qiskckCSeEQEmLYqFXUBiGG1ZYmcmKI4cjI1AYghtWWxigxxLARNpVBiGGVZTFOijOGjdGpC3RlDWQKXpUY/vtnznnhng9O48/R1+87AtKUY9xxiGFLoohhxLBlC6kJRwyrKYVxIuHOkZrflKDdlGrQlumGSKdUk+mWX8jzBBHDxq2iMhAxrLIsRkm58lDEGcNG7aEyiKMkVJbFKCmOkjDCpjaIHcNqSxM5MXYMR0ZWyABNYnj8jc/KhPHo6z+fybwrTYoYtiwJYhgxbNlCasKLLIZLgSelwJeSV5fhqi8zzY7UW4E0W57UC/gBLOH9blhTlQfGZ6XVnn+ivpp2iyURxHAsGNUMghhWUwrrRBDD1gjVDMCOYTWliCURdgzHglHFIOwYVlGG2JJgx3BsKDMfyJU1kCloVWL4smeLSPisHB4lkd6fo5cihk37R20cYhgxrLY5IyZWRDEcPtAOlmbF9zoiu28Umf6lVGVSGp2StMsHSGf4ePFqB8pMI5DpeisiMb2XB74n4cPf1p0F+qS5JXAjhvX2oElmiGETajpjXHkoYsewzv4zyYodwybUdMawY1hnXUyzYsewKTl9cewY1leTLDLSJYZ/LwsEMnrpZzOZd6VJ2TFsWRLEMGLYsoXUhBdNDA9WfKmWGiL3fUJk/Po5zuHZu41Wu3ueUPdVPUDkgOdKu3aoTMyWC7HDFjGs5m0VSyKuPBQhhmNpFxWDIIZVlCGWJNgxHAtGNYOwY1hNKawTYcewNUJVA7BjWFU5rJJxZQ1kCkmTGB57w+/N7RPu3U9v33CSX697A2LYtH/UxiGGEcNqmzNiYkUSw0MVkUr7XpG7/kmks/DTmvcTwz1O658inU3PkN0zQe7lMGI4YvMrvxwxrLxAEdKrVgIZqgWyY1c9QlT+LnXloYgdw/nrzeUyZsdwcWrJjuHi1DK8E1fWQIjh4vStK2sg04qpEsN/e5bpbVjFrf27z1jFJxNhSnEAACAASURBVBHMjmFLqohhxLBlC6kJL4oYrlUCqck28X7x90uyXVYMh1dvOE3a658q4zNlNXUxSQQxbEJNb4wrD0XsGNbbg1Ezc+WhCDEctTP0Xo8Y1lubqJkhhqMS0329K2sgxLDuPoySnStroChM5l+rSQzvvDQbMbzuMsSwaf+ojUMMI4bVNmfExIoghsOHgbWDvnTu/EeR2fuii+Hw2PlDXyMzpcNlJsdnDiOGIza/8stdeShCDCtvxAjpufJQhBiO0BTKL0UMKy9QhPQQwxFg5eBSV9ZAiOEcNGOfKbqyBuoTx36X6RLDZ5vehlXcuss+bRWfRDA7hi2pIoYRw5YtpCa8CGJ4oOJLber7Ivd+dFmuK+4YDqNqB0vn0FfL2JSvpjZRE0EMRyWm+3pXHooQw7r7MEp2rjwUIYajdIXuaxHDuusTJTvEcBRa+q91ZQ2EGNbfi/1m6MoaqF8ei6/TJIZ3/E02Ynj93yOGTftHbRxiGDGstjkjJlYEMTw60BT/V+8Umfm1uRgOIx96qUy010uj2Y5IUcfliGEddYgrC1ceihDDcXVM9uO48lCEGM6+1+LKADEcF8nsx0EMZ1+DODNwZQ2EGI6za7Idy5U1kCllVWL4r59jehtWcev/4f9ZxScRzI5hS6qIYcSwZQupCc+7GPY9T9YOedL5yWtWZLrqjmER8Q58jkwPnSrTOT1OAjGs5m0VSyKuPBQhhmNpFxWDuPJQhBhW0W6xJIEYjgWjikEQwyrKEFsSrqyBEMOxtUzmA7myBjIFrUoMX/Jc09uwilt/+aes4pMIRgxbUkUMI4YtW0hNeN7FcCnwZKS0S+Tnf2sthmXt46S+8WyZnPXU1CdKIojhKLT0X+vKQxFiWH8v9puhKw9FiOF+O0L/dYhh/TXqN0PEcL+k8nGdK2sgxHA++rGfLF1ZA/XDYqlrdInhc6TTEfE8SfXPDf/4SVN8icUhhi3RIoYRw5YtpCa8CGJ4ONgp3i8ui0EMnyyNjefIxGw+zxlGDKt5W8WSiCsPRYjhWNpFxSCuPBQhhlW0WyxJIIZjwahiEMSwijLEloQrayDEcGwtk/lArqyBTEFrEsPbLz5HOuG/Fp53M2l8vfEKxLBp/6iNQwwjhtU2Z8TE8i6GQxm6plYXueOv7MXwxqfK7NozZGo2/NWQvxdiOH81WyljVx6KEMPF6VtXHooQw8XpWcRwcWqJGC5OLcM7cWUNhBguTt+6sgYyrZguMfz8dLcK792avOH/fMIUX2Jx7Bi2RIsYRgxbtpCa8LyL4RDkuiFP5KcXi7Rnl+XazxnDcsifyFTpSJlt8OFzahp0iUQGayWpBJ6MTTY0p2mdmysPRYhh61ZRM4ArD0WIYTUtZ50IYtgaoZoBEMNqShFLIq6sgRDDsbSLikFcWQOZwtYkhh+46PmZ7Bje9KaPm+JLLA4xbIkWMYwYtmwhNeFFEMMj1YaUtn9BZOe3rcSwd/S7ZGyqKe02O4bVNChiWGZy+mGI/fYQYrhfUvqvc+WhCDGsvxf7zRAx3C8p/dchhvXXKEqGiOEotHRfWy0HMjwQyPZddd2JWmbnyhrIFJMmMbztonDH8L476Z01PPd/wjMmEvj+pjcjhk37R20cYhgxrLY5IyZWBDFcLvkyXNot8rPXm4vhjU+TxtrTZGK2FJGgnss5SkJPLeLIxJWHIsRwHN2iYwxXHooQwzr6LY4sEMNxUNQxBmJYRx3iysKVNRA7huPqmOzHcWUNZEpakxi+/7XPN70Nq7jNb0EMWwHUGIwYRgxr7EuTnIoghsP7Hqk1pDR2jci2Ly6JYcWjJKoHiPfQ18v4ZENaOd0tHN40YtjkHaA3xpWHIsSw3h6MmpkrD0WI4aidofd6xLDe2kTNDDEclZju611ZAyGGdfdhlOxcWQNFYTL/Wl1i+A/2nTHcS7LTEQm3Dif49ea3fmwBvp3ju+X8i98uN//kzu7/f+kLzpQLX37O3DXX33S7vOTVV3S/Pu7oLXLlFRfIutER0xIsGcdREpY4EcOIYcsWUhNeFDEcPhCsqbXE2/ppkbHv7Md3WTFcWiNy+EUy3R7J/T/ZRwyreVvFkogrD0WI4VjaRcUgrjwUIYZVtFssSSCGY8GoYhDEsIoyxJaEK2sgxHBsLZP5QK6sgUxBqxLDF/7B3BnD4YkRvZMjkv7zgLf93zl8MzN1ufQtV8kpJx4jZ59xqiz++s6775FLrviAXH7xebLl0IPk01+6Rq674Ta57LXnSq1WMS3DfnGIYUuUiGHEsGULqQkvihgOgZYCT4arLfHGviWy9XMLGC8phoePEXnwS2S6Wc29FA5vFjGs5m0VSyKuPBQhhmNpFxWDuPJQhBhW0W6xJOGKGN40Wu1+YGujmc8P1+2n2Ijhfijl5xpX1kCI4fz05GqZurIGWo3Dct/XJIa3XvAC09uwijvg7R+di+/tFr7wlc+Tk44/qvv/3/a+T3b/DHcNhyL4rl9vndtBvFgUWyUyLxgxbEkSMYwYtmwhNeFFEsMhVN/zZKjSkJLfFtn+NZFdN4g0dso+MeyLjDxCZP3vSKd2sEzVy1IvyIMSYljN2yqWRFx5KEIMx9IuKgZx5aEIMayi3WJJAjEcC0YVgyCGVZQhtiRcWQMhhmNrmcwHcmUNZApakxi+7zUv3PvpcknvEV44/oH/tE8MhxxD+fv6N10lH37HxXLEYQ+WS/7xA/KXr3p+d4fwfEkcXruUSDatxfw4xLAlRcQwYtiyhdSEF00M98CWA1+qpbqUg0A8P5CK35BG25OOlKXZnJbZVk1mG8XaOYMYVvO2iiURVx6KEMOxtIuKQVx5KEIMq2i3WJJADMeCUcUgiGEVZYgtCVfWQIjh2Fom84FcWQOZgtYlhv9QekcKp/nng97x7wvw9XYBh//zlp/cueCM4VAMH/aQA7rHTCCGTbsuhTjEMGI4hTZLZYqiiuH58MJdxBvXVGR8qimzjVYqXLOYBDGcBfXk5nTloQgxnFwPpT2yKw9FiOG0Oyu5+RDDybFNe2TEcNrEk53PlTUQYjjZPkpzdFfWQKZMNYnhe1/9h7LkIcO9m1tuI7Hl9x/0zn1iONwBfMm8HcK9M4YP3Lyhe3wEO4ZNOy3lOMQwYjjllktsOhfEcAjPhfP1EMOJvU0yGdiVhyLEcCbtlcikrjwUIYYTaZ9MBkUMZ4I9kUkRw4lgzWxQV9ZAiOHMWiz2iV1ZA5mCUyWG//xFprdhFfegd/7bXHy4W/jN7/64XP6682Td6Ej3/8//gLkvXX0dZwxb0U4pGDFcbDEcCrZK2ZfwgWHH7oa02x1ph//OoIAvxHBxiooYLk4twztx5aEIMVycvnXloQgxXJyeRQwXp5aI4eLU0qU1EGK4OH3ryhrItGKaxPA9f/aiJTYMd8ST8NhJkaU3DNt//8HvWrhj+PyL3y7nPPNJ3eMiFu8YXvxhc/Olca1WMS3DfnGcMWyJEjFcPDEcBJ5USy2plMIfBi3x2julErRkplkTv7RRWu0ZmW3WZKZerKMIEMOWPwwUhSOGFRUjhlQQwzFAVDJEtRLIUC2QHbvqSjJKJg1XHooQw8n0TxajIoazoJ7MnIjhZLhmNaorayDEcFYdFv+8rqyBTMlpEsO/+dM/2neURO+GljPCMX7/wf/ykQX4Qvn7ioveKvds3d79/y99wZndYyR6r+tvul1e8uorul8ed/QWufKKC+Z2F5vWYXEcYtiSJGK4WGJ4sCpSKwfSnvyytKe+I53mdgkXmOEHmPXOpPWrR4s3fLpI+TCZmi1LvVmMDy5DDFv+MFAUjhhWVIwYUnHloYgdwzE0i5IhXHkoQgwrabgY0kAMxwBRyRCIYSWFiCkNV9ZAiOGYGkbBMK6sgUxRaxLDvz7/xbLHDPdevT3CyX79kCsXimFTlnHGIYYtaSKGiyGGPU9kuNqQoHWntMY+INKemeuMxWK49w2/9kjx175MphvlQuweRgxb/jBQFI4YVlSMGFJx5aEIMRxDsygZwpWHIsSwkoaLIQ3EcAwQlQyBGFZSiJjScGUNhBiOqWEUDOPKGsgUtS4x/JK9YjgUwr1Xb8twcl8/5Mp/NcWXWBxi2BItYrgYYnjNQFO82R9Ie/w/9uuI5cRweKEXrJdg4+tkqjEos4187xxGDFv+MFAUjhhWVIwYUnHloQgxHEOzKBnClYciF8RwrRLImsGyjE/Wc7/OWentgRhW8sMjhjQQwzFAVDSEK2sgxLCiprNMxZU1kCkmVWL4VS+R8OOjwk2Caf558Hs+bIovsTjEsCVaxHD+xfBA1Zdq5+fS2v72JbthJTHclcPlh0hp09/I+GRTWu38fjAdYtjyh4GicMSwomLEkIorD0WI4RiaRckQrjwUFVUMV0q+BCJSLQfSnGyINNrS6HQkqAbSqgRzR2spabdY0kAMx4JRxSCIYRVliC0JV9ZAiOHYWibzgVxZA5mC1iSG//eVf2x6G1ZxB7/nQ1bxSQQjhi2pIobzLYbDxePaobI0t14knda4kRgOg/zhp0ur9jSZmC1bdlR24Yjh7NjHPTNiOG6i2Y7nykMRYjjbPotzdlceiooohkMpXPU82f7jHXLXV34tO34yJqXA636ewhHPPlQOfuJBEoyUZaqV738ltbjfEcNx/gRIf6xw3VMu+eK3WuJLRwargUzOtKTjedLyfWm0OtLO8eaNpYiG91gp+zI20UgfeIozurIGQgyn2FQJT+XKGsgUoyYx/KtXnDvvKInlPnUu/v9/yHsRw6b9ozYOMZxvMdzdLdy8VlpjH122x1bbMdwLLD/oX2R8qpPbXcOIYbU/ZiInhhiOjEx1gCsPRYhh1W0YKTlXHoqKJoZLgS+DgS/337BNbvjnW7s19z1vTgz3muBxb3iUDB8+Irunm5H6QvPFiGHN1Vk+t2rZl0oog31PJn/2G5m5e6s0xqakIm1p+IGU1g/L4JYDZfChB0lzpimzQSCNgnxoNGI4nz27XNaI4eLU05U1kGnFVInhl7/U9Das4g553wet4pMIZsewJVXEcL7F8OhAUzpj75RO/ZfWYthf91KZ9R+V2w+iQwxb/jBQFI4YVlSMGFJBDMcAUckQ1UogQ7VAduyqK8komTRceSgqmhgeqpVk583b5Qdvu2WuMZYSw17gyTM++ESZDI+YKMjOYcRwMj8Lkho1XOcMdNrSnpyWHf/zI5m449dzU3meJ9WSLzON1oLpR088QjY85bek6Xky3fG650nm+YUYznP19s8dMVycerqyBjKtmCYxfPd5L5WOdMQTT/btC07+68M+cJUpvsTiEMOWaBHD+RXD4SHj64bL0rjnlSt2Qb87hv3Bx0hr6PkyMROezJe/F2I4fzVbLmPEcHFqGd4JYrg49UQMF6eW4Z0UTQyPlAO57cN3yP9+674VxXD4zeNedpRseuwBMj27UL7ltcKI4fxULjzuZKjsywP//SPZ+d3b9kt8OTHcu3DzM06S4RMeKlNtkWYrv3YYMZyfnu0nU8RwP5TycQ1ieOU6aRPDWXTVoR9gx3AW3BOdEzGcXzEcyrM1tRlpbn1tPGK4eoTI6J/I+HQp0Z5LanDEcFJk0x8XMZw+8yRnRAwnSTfdsRHD6fJOerYiieHwL8vXVAL58h9/cwG2pXYMhxccfvrBsuXsw2Q679su994tYjjpd0s844fnCI/UAvnNv18tkz+/Z8lBVxPDYdDaRx8pG05/tEw08nsEHGI4np7SMgpiWEsl7PNADOdHDN/10vPmnTHcy7u3dzi5rw/7IGLY/p2mbATEcI7FcODJmuqkNLf+VTxiuHK4dNb+meyazucH0CGGlf1wsUgHMWwBT2EoYlhhUQxTQgwbglMaViQxHP7rqIFmR752/rf7FsNHPOdwmWwX40PoEMNK32Tz0grXNiNVX+792De75wkv9+pHDHfl8MlHybonHS+7c7rpHTGsv2ejZIgYjkJL97WI4TyJ4Zd1jxUK/3K8d5ZEGl8fftX71TUxR0lYlgQxnF8xHD4ErR3sSOPeP4tHDNdOkPbIi2X3DDuGLd9WiYZvGq3K2GSjMB8+shQsxHCiLZT64Ijh1JEnNiFiODG0mQxcJDEc/t4o19vy7Yu/L/WJxhzP5XYMH/vSo+TAxx0gk/WcWrVFHYMYzuQtFGnSIb8tE9/9iWz/1o9XjOtXDIeDPOicU6X00INkupm/IyUQw5HaR/3FiGH1Jeo7QcRwfsTwnX/8sr7rGueFWz6EGI6Tp4qxEMP5FcNhA60b7kjr/kul0xpbtp/6PmN4zbOlXn6qTNfzt7gMb54dwyp+pMSSBGI4FoxqBkEMqymFdSKIYWuEqgYokhgOwQ6XffnN1++VW//9Z6uK4VPfdLKUN9ZkGjGsqidXSyavfzkenitcmZmRu/7pM6vdokQRw8FAVbb81Tmya6oprXa+1u+I4VVbIVcXIIZzVa4Vk0UM50kMv2LvVuFezr2tw8l+veVD71PX8OwYtiwJYjjfYni41pRg+gvSnrjaWgyXNv+DTNTX5vYTuhHDlj8MFIUjhhUVI4ZUEMMxQFQyRNHFcHj+ZynwpOZ50u50JPx70karnesPeFqpdYomhkuBL8FUU2790B1y/43bu7e+1I7hY154hBz0hAfJVPffXRbjxY5h3XUc9tqy42s3yK4bf7FqolHEcDjYptMfJbUTjpTpnH0QHWJ41VbI1QWI4VyVCzFsUS5NHz5354tDMZz+a8u/vjf9SVeZETFsWRLEcL7FcPgQO1yZWPGc4X52DPvVR4q39qUyNpXPYyTCtwFi2PKHgaJwxLCiYsSQCmI4BohKhiiqGA5/l5ZbHWlNNuW+67ZK/f5p6fieDB0yLAeefIC0PZFGIIUTxEUTw+HbZKAaiD/blls+cLvc94Nt+4nh419xtGw4boM0yl7udliu9GMAMazkh+QSaYR/OTE6WJKf/d2/95VkVDFc3TQqDznv6TK+7wSVvubJ+iLEcNYViHd+xHC8PLMcjR3DK9PXJYZfOXfGcO9s4TT+fOhH3pNliy45N2LYsiSI4XyL4a4QrTXEn/6qtCf+a8lu6EcMB5v/Qaaaa6XeyO+HsCCGLX8YKApHDCsqRgypIIZjgKhkiCKK4VolkKrnyc3vvlW2Xn9/l3Sp5HcX2q3Wnt+JhzztYDnqBUfKVKMl9WZ+f08ubqMiiuHwHkPhFLRFpu6flsn/nZBAPPGGSzKwsSbV9VWZbncKJYW7a8GBUvfTZ3ZP5cwORvzZlsejJCplX/x7t8uvP/zVvu42qhgOB91y0TkyKUGu+hox3Fc75OYixHBuSrVqoojh/Ijhn7/olavWM4kLjvg3xHASXDMdEzGcfzEcSrQ1gyLtne+X9sxN+/XTamI4WHeeNINHysRskGkv2k6OGLYlqCceMaynFnFkghiOg6KOMYomhsNzP8NjI6593fdketv0HOTFYjj8xoZj18uJFx4vE/VWruTLSp1TVDHcu+dQyFVLvgyUg67Un220C/vBra6I4Y2jVRnP2QfwDlQCmfrurbL96/uv0Zd6f5qI4Qe/+DTpPGhTrv7iCjGs4/d6XFkghuMimf04iOE8ieFXZdIwR/zbuzOZd6VJ2TFsWRLEcP7FcNgC4T+DHan50hr/sLSnvregK1YSw/66l0m7fIzsns7vERK9m0UMW/4wUBSOGFZUjBhSQQzHAFHJEEUTw8O+J7e8+zbZduMDCwgvJYbDCw7/3UPlkDMPlemCnE1bdDHcWx+tHSrLtvFZJe+iZNJADCfDNY5RB0uejH/1hzJ+w74PRVzx4dbzun+hMdNo9T395meeIpVjt8hMjj5METHcd3lzcSFiOBdl6itJxHB+xPDP/vBV0l2S9j5zLqU/j/wPxHBfb6Y8XYQYLoYYDnsu/NCV4WpdpH6HtCc+I53G1m4rLiWG/cFHiz/yPKm3qzI54+epZZfNFTFciDJ2bwIxXJxahneCGC5OPYskhsPdwu1tM/KdSxb+ZWr39+mioyTmV/CpVz1JJhrtQuwaRgwX572JGNZby8FAZOy/rpddN93ZV5ImO4Y3n/HbUjnhCMRwX4TTvciVNRBiON2+SnI2xHCOxPALz98jhnuvnhhO+OsjP3plki1oNDY7ho2w7QtCDBdHDIdVDX8W1KqBVEtNkdYDIrO3iNfaKqWgKfX2kEhpi/i1R0qr3ZaZRi1X/+RstVZHDK9GKD/fRwznp1b9ZOrKQ1H4YRRF/51aJDE8EPhy92d/KXd96Vf7tfFKYviE1xwnI49c1z2WIO8vxHDeK7gvf8Sw3loOlnzZ9fUfydj3bu8rSRMx/KDnPkH8Ix+Sq59L7Bjuqx1ycxFiODelWjVRxHB+xPBP/+BPJIstww/7v4jhVd9Iebug6A+xq9WjyA9F4fESpcCTStCUWsWTiemOtDolabTa0mrN/6ul1Sjl4/uI4XzUqZ8sEcP9UMrPNYjh/NRqtUyLJIYHPU9+/O5b5YGbtkcSw1uefZgc/KzDZDpH/2R7uboWeQ3Uu+dwLcRREqu9s/Pz/TyeMRx+wGXjx3fK1s9f1xdoEzF8yKt+VxqjI7k6Qxsx3Fc75OYixHBuSrVqoojhPInhP+1+WLIX7g7c+0rj64d/7J9X7aO0L2DHsCVxxHCxdgwv1Q7OPBQN7jknefdU0/JdoTs8j5/IHZUoYjgqMd3XI4Z11ydKdkUSwwOeyG3h+cKI4UIci7FcHzuzBhoodZ8Md081orylc3dtHsVwOfClOj0td73zs33xNhHDD3vDi2RssiHt0Ajk5IUYzkmh+kwTMdwnqBxchhjOjxi+4/f3ieGeEE7jz6M+jhjOwVs5WoqIYcRwtI7RezU7hvXWJmpmiOGoxHRfjxjWXZ8o2RVKDJfCoyTukru+ePd+CFY6SuK3Ljhehh+xNlf/ZHu5GrNjOEr3676WoyR012dt1Ze73/2f0tixe9VEo4rh4aMPkY3PPFkm2vn6zBDE8KqtkKsLEMO5KteKySKG8yOGb3/+n2dylMRRH3+XuoZnx7BlSRDDiGHLFlITjhhWUwrrRBDD1ghVDYAYVlUOq2SKJIa7Hz63fVa+c/H+/7x75Q+f+x2ZaLQKscsWMWz1dlAVjBhWVY79khkIRGZvvlPu//L1qyYaVQw/5KWnS2fz+tz9ZRVieNVWyNUFiOFclQsxbFGu8DNFtLx+8rxsxPDRn0AMa+mB2PJADCOGY2umjAdCDGdcgBinRwzHCDPjocJarhupdB9YJ2ea0m7n55+5RkXHh89FJZb99UOeJ7e+/za5/4cPLEhmOTG85VmHycHPOESmF3wEdPb3YZoBYtiUnL44xLC+mszPyPc9GR0syV3v/Nyqu4ajiOHhhz9ENp/1ONmVw1PUEMO6ezZqdojhqMT0Xs+O4ZVro0sMv3rujOE0jpAIzzIO5znmk+9Q18DsGLYsCWIYMWzZQmrCEcNqSmGdCGLYGmHmA4QPwYPNGfFbDSlNT0qrXJFOtSoNCWTar2aeXxIJIIaToJrsmOGu4YHAk2v/+vsyde/U3GRLieFNJ2yUE159rEzUi7FbOLxZxHCy/ZXm6IjhNGmbzRV+CJ23baf87/u/vOIA/Yphv1ySwy44S2b8ktSbbbOkMoxCDGcIP4GpEcMJQM1oSMRwfsTwrc99dSZd8ohPIYYzAb/apHfefY+84qK3yj1b93yy9hsvOlfOPuPU7n8v/l74/447eotcecUFsm50RBDDiOHV+isv30cM56VSq+eJGF6dkeYrwr9NHpqdkPYD22TX174qoXxrhTuFh4ZkzVNPl9aatTLV2fNhkUV6IYbzWc1qOejK4Zvfc5vc972t3ZtYLIYPe8YhcuTzj5CpRksaORQwy1UGMZzPnl0qa8RwPmo5FIjM3P4r2fq57y6bcL9i+ODzni7e5vUyVW/l4+YXZYkYzmXZlk0aMVyceiKGV66lph3Dtz73gkzOGH7Ep/5JXcM7v2N45/huOf/it8uFr3yenHT8UbL461AMX3LFB+Tyi8+TLYcetF8BEcOIYXXvasOEEMOG4BSGIYYVFiVCSgPVQEpb75Wdn/tMN6onhkM5XN68WYaferpMlAYL8o/x94FBDEdoEmWXlku+lFsd6cy05N7vbpX6thkRX2TosBE58KTN0my3pR540moV6ygUxLCyRrRIBzFsAS/FUE9EhoKOzPzsHrnv099ecubVxHBQq8hBL3qKeOvXyFQ+nXD3vhHDKTZeClMhhlOAnNIUiOH8iOEfn33B3FESvax7R0p0H7T2Hv0QbtqJ8/vHfubtKXVj/9M4L4YXi9+Zmbpc+par5JQTj+nuGkYMr9xMPBT1/2bTfiViWHuF+s8PMdw/K41XDgVtad74Q5m84Yb9xHD4P9b9/h/I9OBaabby909fV+KNGNbYjdFyKge+lEqe1DxPwk3us51Ot0+bBRPCPSqsgaL1h+arEcOaq7N/buHOYW9qRrZ+4TqZvmvPv1TovVYSwyOPPEw2P/NkqXu+TNfz/TsUMZyvnl0tW8TwaoTy833E8Mq10rRj+JazLsyksY79zNsymXelSZ0XwyGct73vk/Ll/7lO3vumv+iyevO7Py6Xv+687lERi4+SmH+MRHjtfTtm1BU1zYQ2ra3K9l2z0s732mpFZOFD7uhgWbbvqqeJNvW5hgeD7pwTed4+0Qe1DWsqMj7VkGazWDvX5t+674tsWFOVbWOzfRDJ7yUDtUAqvifjUzn81JgVsA/6LWne9COZ/OEPuleFuzHD3cK9D54bfc450li3qVD/JD+8zwPX1wr/O7VS8bu7vMZ2N/L7xusj8zWDJWm2OzI1k+PteH3cJ2ugPiDl5JLhgdA0ejJRsN8ni/GvX1ORXQVZA1XKvlSlLfX7dsr4dbfLxO3/K53wb6Q8kWrJ735oa/jyB8oycsyhMvqYo8UfqkndLxXi9+dA1e/+i6LxyWKtgRb37NrhskzXWzKb5lG26AAAIABJREFUc5G/2o/CA9bXZGvBvUL4nh2qBbKTNdBq7VDo74frfS2vm38v9H/znUC4NTj5r4/7LGJYSw8syOP6m26Xt77nE7J9x3j3nOH5ZwwvTjiUyPfdv10ue+25UqtVpB3uNXf45Xted/t9p3D/qHlfUT3xwmeFwtc6vM/wVeRadh8Q6NnC/MTq9mz3n/gU7+dw89e/lrG9R0kskP5DQ7L2rOeIPzpamDr2biR8bxb9d6ozv0+6H7vM75MivEmd6VnWQLlt13D12p6ui1+rSHPXpDR3TUmn2Ra/WpJgzZAEAxXpNJri1Sq5vcelEi/yGmjBuseBdXvv+YQ1UDHeouG/WnBhDWRarXC9r+W1Rwyn/zrus29Nf9JVZnR+x3C4I3j+DuHeGcPnPPNJcx9AN5/h4us5Y5gzhtW9qw0T4igJQ3AKwzhKQmFRIqQUrpeGm9PS+OUvZOLaaxecMTx65pnibTpQJvjwuQhE9VxarQTd3TI7Cv4vUFz5Z5QcJaHnvWWbCUdJ2BLMPj783Rmuf4LAl3VDZdm+u979lzbdD28t4IujJIpVVI6SKE49XVkDmVZM01ESNz/7L+bOGO6dLZzGn8d/HjFs2j+JxYW7hT/5hW/M7QAOJwp3BYevC19+zn7zIoYXIuGhKLHWTH1gxHDqyBObEDGcGNrUBg6Pj6jNTEhnalKCyV3SbLTE33yAtLxApqrDqeWR5kScMZwm7WTncuWhiDVQsn2U5uiI4TRpJzuX73uyebQq9+0s9nF/iOFk+yjt0RHDaRNPbj5X1kCmBDWJ4Zue9VrT27CKO/7zb7GKTyKYHcN33yOvuOitcvklL5OTjj9KFu8Y/so3rpcjD3+wbDn0oC7/xdKYHcPsGE7ijZnFmIjhLKgnMydiOBmuWYwanh+4ZsCXRktkutGW+t4zE7PIJek5EcNJE05vfFceihDD6fVU0jMhhpMmnN74iOH0WKcx0/qRikzNtmSmXuwz6xHDaXRTOnO4sgYypalJDN/4zL/ce6Zw72zhdP484QuIYdP+STQu3DX8kldfMTfH/DOGF3/vzNNOWbC7GDGMGE60OVMcHDGcIuyEp0IMJww45eFdeShCDKfcWAlO58pDEWI4wSZKeWjEcMrAE5wOMZwg3AyGdmUNhBjOoLkSmtKVNZApPl1i+CLT27CKO+ELb7KKTyLY+R3DtlARw4hh2x7SEo8Y1lIJ+zwQw/YMNY3gykMRYlhT19nl4spDEWLYrk80RSOGNVXDLhfEsB0/bdGurIEQw9o6zzwfV9ZApoQ0ieEbzlwkhnsbhpe7uZi+f+IXEcOm/aM2DjGMGFbbnBETQwxHBKb4csSw4uIYpObKQxFi2KA5lIa48lCEGFbagAZpuSKGN41WZWyyIY1m24BSPkIQw/moU79ZurIGQgz32xH6r3NlDWRaCV1i+K9Mb8Mq7sQv/h+r+CSC2TFsSRUxjBi2bCE14YhhNaWwTgQxbI1Q1QCuPBQhhlW1nVUyrjwUIYat2kRVMGJYVTmskkEMW+FTF+zKGggxrK71jBNyZQ1kCkiTGP7hGReb3oZV3KO+tO8YW6uBYgxGDFvCRAwjhi1bSE04YlhNKawTcUEMhw9+Q7WSlH1Pxqca0mp3rLlpHcCVhyLEsNYOjJ6XKw9FiOHovaE1AjGstTLR80IMR2emOcKVNRBiWHMXRsvNlTVQNCr7rtYlhl8nnY6I54mET5LdkyJ6Xy/+M8bvP/rL/2iKL7E4xLAlWsQwYtiyhdSEI4bVlMI6kaKK4VLgSdVrSynwxet0xJuZEc/rSKtcFb9clka9IXWvJPWC/RNZVx6KEMPWb301A7jyUIQYVtNy1om4IoY3jlZlnKMkrPtFwwCD1UAqZV/GJhoa0kksB1fWQIjhxFoo9YFdWQOZgtUkhq9/+uv2GeHeDfUMcYJfn/QVxLBp/6iNQwwjhtU2Z8TEEMMRgSm+vGhiOPxb3AG/I5XAk8nrb5Dp238mrd27JbxP3/Ok0WqLV6nIwMOOkKGTTpROpSJTnaAwu4hdeShCDCv+oRIxNVceihDDERtD8eWuiGHOGFbchBFTQwxHBKb8csSw8gJFSM+VNVAEJAsuVSWGT//rcI9wby9wan+e9JXLTfElFseOYUu0iGHEsGULqQlHDKsphXUiRRLD4b0MBW2ZveNnsuvqaxawmS+G539j6MTjZeTxp8hkvVOI3cOIYeu3hJoBqpVAhmqB7NhVV5NTEom48lCEGE6ie7IZ0xUxzI7hbPoriVkRw0lQzW5MxHB27OOe2ZU1kCk3TWL4+0/76zkt3LufFDYMy8lf/QdTfInFIYYt0SKGEcOWLaQmHDGsphTWiRRFDIfnBI6U2jLxne/L1I237MdlOTEcXlg99BBZf/bvyu6pZndHcZ5fiOE8V29h7ojh4tQyvBPEcHHq6YoYZsdwcXoWMVycWoZ3ghguTj0RwyvXUpMY/t7T/mbPhuG9r+5Zw/M/tqZ76HD83z/5a3+vruERw5YlQQwjhi1bSE04YlhNKawTKYoYDncKN27+sez+7veXZLKSGA4Dag87Qtac9iTZ1Vj0S96acLoDIIbT5Z3kbIjhJOmmPzZiOH3mSc3oihhmx3BSHZT+uIjh9JknOSNiOEm66Y6NGM6PGL7utL9ZlOwiE7zfrcTz/VP+GzGc7rsyhdkQw4jhFNoslSkQw6lgTmWSIojh8ANVqtMT8sCHP7oss9XEcBi49oyniRx6mEw38rtrGDGcytsmlUkQw6lgTm0SxHBqqBOfyBUxzI7hxFsptQkQw6mhTmUixHAqmFOZBDGcJzF86bwzhnt5J3+YxCn//cZUejHKJOwYjkJriWsRw4hhyxZSE44YVlMK60SKIIZH/JZMXP1Nmfn5nVZiOFgzIpv+6A9k5wxi2LqxEhggPC6kHHhSCtoyOujL+GRbmm1fGq2OtNvz/y1XApNnMCRiOAPoCU6JGE4QbspDuyKG2TGccmMlOB1iOEG4GQyNGM4AekJTIobzI4a/+5RLu0dH9I6QSOvPx159WULdZz4sYticXTcSMYwYtmwhNeGIYTWlsE4k72I4lIWjVV/ue9d7V2TRz47hcIANL3iu1Nesz+0H0RVxx3C48BqsdKRaqUqrcYt0mrdJtTwls40B8UrHSFA+TmbrszJV9xae9WX97sh2AMRwtvzjnh0xHDfR7MZzRQyzYzi7Hot7ZsRw3ESzHQ8xnC3/OGdHDOdHDH/nyX8bZ+n7HuuxV/9d39emdSFi2JI0YhgxbNlCasIRw2pKYZ1I3sVweIxEedtW2fGpz8UihkdOfrQEJ/6WTDfyuQO1aGI47M/hWkOkdYs0p/9DpDPbrXOt4stMfe/Obq8spdoLRUrHy8RMWVoF2T2MGLb+8aZqAMSwqnJYJeOKGGbHsFWbqApGDKsqh3UyiGFrhGoGQAznRwxf+ztvmHeURO8IieT/fNzXEcNq3rBxJYIYRgzH1UtZj4MYzroC8c2fdzFcqwTS+fGPZdc118YihsMPoRt88hNlshl+YED+XkUSw2EFRgYb4jW+Ks2Z/1pQjAVieO93gupTxaucIbumS4XYOYwYzt/7b6WMEcPFqacrYpgdw8XpWcRwcWoZ3gliuDj1RAznTAwn74FFep9Zt/fPx30jFNK6XuwYtqwHYhgxbNlCasIRw2pKYZ1I3sXwQDWQ5o9ulInvfC8eMXz4YTJ0+pNloulbs81igCKJ4cGqL2XvZmlO7n9MyFJiOORdGjxPGnKCTM3mc8f3/J5BDGfxDkpuTsRwcmzTHtkVMcyO4bQ7K7n5EMPJsc1iZMRwFtSTmRMxnB8x/O0nvUEkAzH8+G8ihpN592U4KmIYMZxh+8U6NWI4VpyZDpZ3MRzuGJbbfyLjV18TixgeOPrhMnDq42WyxY7hLBszPFd43ZAv9d2vk057136pLCeGPX9IyiNvlrHJVu53DSOGs+zA+OdGDMfPNKsRXRHD7BjOqsPinxcxHD/TLEdEDGdJP965EcM5EsNPXHykQ29r73L3EM/3H//NbM42Xqky7Bi2/DmAGEYMW7aQmnDEsJpSWCeSdzFcLvlS3T0m2//jE7GI4TVPeoL4xxwj0/WWNdssBijKjuFKyZfB8q+lMfGPS2JcTgyHF5eG/lKmW4dJvbH3DOIsChHDnIjhGCAqGgIxrKgYlqm4IobZMWzZKIrCEcOKihFDKojhGCAqGQIxnB8x/K1TL5OOdMSbd9ZDGl+feg1iWMnbNb40EMOI4fi6KduREMPZ8o9z9ryL4T07Syty37veK53W8jI3vE/f86TRWlkWbnrpi2SqNCDNVa6LswZxjlUUMTxQCaQiX5Xm9Geji+GBZ0rde4ZMz+ZT7vduGDEc5zsj+7EQw9nXIK4MXBHD7BiOq2OyHwcxnH0N4swAMRwnzWzHQgznRwxf84Q3Lkg2nv3Ay99/b/xTv/X6bJt0idnZMWxZEsQwYtiyhdSEI4bVlMI6kbyL4RDAkN+W2R/eIJM/vHFZHv2I4crBD5bRM58uu3L6wXPhzRdFDHfPF25/XpozX4kshoPqU6RZOkumZvJ9zjBi2PrHm6oBEMOqymGVjCtimB3DVm2iKhgxrKoc1skghq0RqhkAMZwfMfzNxy0Uw2k10ROvRQynxTq1eRDDiOHUmi3hiRDDCQNOcfgiiOFS4MlIxZet7/mQdBr1Jen1I4Y3/uHzpT4yKrM5PoKgKGI4PDu6KldLc/pTkcVwaeAsqctTc3scSO+GEcMp/iBMYSrEcAqQU5rCFTHMjuGUGiqFaRDDKUBOcQrEcIqwE54KMZwnMfwPksWnzz3x2r9JuAujD8+O4ejMFkQghhHDli2kJhwxrKYU1okUQQyHEAYrvnhbt8qO//c5IzE88rhTpPzIY2Sy5VszzXKAoojh8Ozooco2aexe+pN4VzpjuDxyqUzWD5BGkzOGs+zFfud25aEIMdxvR+i/zhUxzI5h/b34/9l7E3g5yir9/6mqXu+SfSMEAgEkAWRfAiqC4kZEAQUFR2UQQXBBGETAv84M/sQIAuooIAKCCAoMiMOqg4oMSAQMmySsIQkhkD25a+/9/7wd+tK56Xu7q95aTlU9/fnopdPveevUc051v++3T59q10OC4XaVCsc4guFwxKkdL+OyBmpHi2Zjpk/MOjV13e7BQ75Xu7G1amPo59/DH/2W6+eiOyHBsKaCBMMEw5opJMacYFhMKLQdiQoYVkJ0Jqqovr4SG+66bytdRqsY7p57ADJ774m+somK+qQP8SMqYFiFYHxnBaX+S1Apr9gqIiOBYdPaBomu87GhT3XmCveDFcPhjt9w7wmGoxPPuIBhVgxHJ2cJhqMTS3UmBMPRiSfB8OixlASG/3LwRYEk3uGPXhDIcUc7KMGwZkgIhgmGNVNIjDnBsJhQaDsSJTBch8NWLodN//sXFF5fOaRPMzBsjR2LsUe8F+akSeivWqhUwg2F1clGCQyrdhIZ6zUU+77fNhhOdH0T+fJM5ArhvvGcOmGCYe23N1ETEAyLCoeWM3EBw6wY1koTUcYEw6LCoe0MwbC2hGImIBgODxj+81y1H2ncKw6//Zw3z9+3gGBYzAXrliMEwwTDbuVS0PMQDAcdAfeOHzUwXANqSRMZo4Lyho0YfG4xCiveAHp7YaKKcjaL1DbTkJnzDqS3n4FcCaHvRduYDVECw+q8urNlmOVnURq8doukb1YxnOg4CRVzL/QOJty7QAKciWA4QPE9ODTBsAeiBjRlXMAwK4YDSjAPDksw7IGoAU5JMByg+C4fmmA4TGB4fhNnFSge7VeK+q+/b8H5Lmed/nSsGNbUkGCYYFgzhcSYEwyLCYW2I1EEw3VRUkkTyUoZCRNIppMwTQP5XAGlchUlM4lCqVzrERWlR9TAcB0OW8Y6lAdvQqW0pBauRjBsJnaElTkRZUyKDBSufcGRstCZsbC+p/kNFaOSt3HZFBEMRyVj1RdWiVqTwd6BYnROqsmZsGI4OuElGI5OLNWZEAxHJ55xWQM5jZikVhJ/Omi+r72F672Mj3jsPKfyeWZHMKwpLcEwwbBmCokxJxgWEwptR6IMhhvF6cgkkLIMbOyP9kY+imC4BkmTFrLJPAzkUS2/hHRyELliBoa1C6pGFvliKhLtIxpzlmBY++1N1AQEw6LCoeVMXMAwK4a10kSUcZTBcMIykLRMFAvl2pfGxVIV5WoVVsJEsVyNRJuw4clEMCzq8tJyhmB4dPkkgeEHDvyBVqydGh/x2DeHTDds6sUZ512OZxZvLpSpP/acMwtXzD8L48d24/Gnn8dJZ26ubm78d6fHb2ZHMKypJsEwwbBmCokxJxgWEwptRwiGtSUUNUFUwXBdZLUBtEwTE8eksK6ngHKlUqsAj+KDYDhaUSUYjk484wKGWTEcnZyNIhhWvwqrFCooFst4bMHrePnl9RjoK9Sq+SdN7sBee0/DPvtOQ5+q7DcNlCNwH4l6RhIMR+faJBgODxj+4wEXv9VjuN5L2J+/H3z8bTDcTK077n0IS1eswtmnHocly1bigvnX4KLzTsGsmdOhXluwcBEuPOdkZDIp1y4cgmFNKQmGCYY1U0iMOcGwmFBoO0IwrC2hqAmiDobrYqsKgqh/phIMi7q0tJ0hGNaWUMwEcQHDrBgWk3LajkQJDKufV1sA+vsKuOG6p/HkwjeH9EklNgPgcuVtyY45dld86oTdMZCvIF8M/41p1ZkRDGtfEmImIBgOERjeX4Fh/x8ffOLcEQ+qKogv+P41+MbpnxoCwXVIrIyGg2K3vCcY1lQy6pvYVvJwU9RKofC8TjAcnli18pRguJVC4XqdYDhc8RrNW4Lh6MRSnQnXQNGJZ1zAMCuGo5OzUQHDNShcqeLxx1bi6qsWbhWgZmBYDZqxXTcu+P/eg46uVCRuOEwwHJ1rk2A4PGD4/n2DAcMfXjgyGG6sFlZKXnb1bTVBVfWwetRbT5z9peNxwF6zXbtwCIY1pSQYZsWwZgqJMScYFhMKbUcIhrUlFDUBwbCocGg5QzCsJZ84Y4JhcSFx7FBcwDArhh2niDjDqIDhBIAFf1uBa3/xZFONRwLDanB3dwo/vPwDSGYSyBcbSorFRau1QwTDrTUKywiC4TCB4UsCSasPL/xG0+MOrxaug+EdZkzFsUceSjAcSLTaPCjBMMFwm6kifhjBsPgQte0gwXDbUoViIMFwKMLUlpMEw23JFJpBBMOhCVVLR+MChlkx3DIVQjMgCmBY3YR2zRt9+OY3HhhR99HAsDLa5R0T8J1/PxQDxQoq1fDen4BgODSXXktHCYbDA4bv2+eHLePpxYCPPHlO02mHVwfXwbD6y4phLyLh4pwEwwTDLqZToFMRDAcqv6sHJxh2Vc7AJyMYDjwErjlAMOyalCImIhgWEQZXnIgLGGbFsCvpImKSKIDhjGngou89jJdeXO8YDCvDU07bFwe/awYKIb5xLcGwiMvKFScIhsMEhi+F+j5JtbTx8++RT/3bViKN1Dt4eGsJ9hh25TJ1fxKCYYJh97MqmBkJhoPR3YujEgx7oWpwcxIMB6e920cmGHZb0WDnIxgOVn83jx4XMMyKYTezxv+5TNOAZRgwTSCTspCwDPQNllCpApXaDdrCUzGbSphYtbIXF3zzz6MK2apiWBlPmdKJSy47olY1HNYHwXBYI7e13wTD4QHD9+x1aSCJN+/prcFws2ph5dxwEKxA8YKFi3DhOScjk0m55j97DGtKSTBMMKyZQmLMCYbFhELbEYJhbQlFTUAwLCocWs4QDGvJJ86YYFhcSBw7FBcwzIphxykSmGEyYcKsAAnTqFW1bXhjEBveGEApV6k9NywD46Z1YNy0DJJpC/lCGUbSQKFYgWRMnDAM3H7Lc7j/vle0wbCa4Mc//RA6xmRQKocTDhMMB3aJuX5gguEwgeHLUUUVBgxf/3706bO3EOnxp5/HZVfdiivmn4XxY7u3ElC9ftKZ82v/vuecWSOO00lmgmEd9QAQDBMMa6aQGHOCYTGh0HaEYFhbQlETEAyLCoeWMwTDWvKJMyYYFhcSxw7FBQyzYthxivhuqCqCzXIVvWvyePqBN7DkH+uwbuXAkB9qrWcaBooNILRrXBo77jMB73z/NGy769jaa/mSzN67SQP4/v97GK+8vMEVMPyVrx2A/Q7aFrlC2fdYuXFAgmE3VJQxB8FweMDwXXsqMAwYDS778fxjz5wlI1kbvCAY1gwJwTDBsGYKiTEnGBYTCm1HCIa1JRQ1AcGwqHBoOUMwrCWfOGOCYXEhcexQXMAwK4Ydp4hvhqmkiUQFeO25TXj0tqV4/cWepsduBoYbB46dnMFBR2+PfT40HblyRRwwzSRMnPXV+7FxY94VMHzc8XMw7+hdMZgnGPYtWW0eSN1ssCtrYV1PwaZluIYTDIcJDP+o1lu4RoYbeg3Xz6Dee9jt1z/27NfFJTXBsGZICIYJhjVTSIw5wbCYUGg7QjCsLaGoCQiGRYVDyxmCYS35xBkTDIsLiWOH4gKGWTHsOEV8MUwbBkqDZdx/xQtY8uTIN2RTzrQCw3WHJ87oxIfP2BUTZ3SgaG3uRSzhkUkYOOtrf8TGDTmCYQCsGJaQle74QDAcHjD8+91/tJkI+1wz/PHnWDHsztUmaBaCYYJhQemo5QrBsJZ8oowJhkWFQ9sZgmFtCcVMQDAsJhSuOEIw7IqMIiaJCxhmxbCIdNvKCdUSIlkFXv77Wtz70+fbcrJdMFyf7JBPzMTBx81ErlIV0Yc3CeAHFz2Cl14aHYC3c/M5dY5f+/qB2Hv/6cgXWTHcVgIFMIgVwwGILvCQ0ydmxXj1+91/PNRbuO5UtVqFoUqF3wLG9R7Ebr5+9CJWDItJArccIRgmGHYrl4Keh2A46Ai4d3yCYfe0lDATwbCEKLjjA8GwOzpKmYVgWEok9P2ICxhmxbB+rrg9g4LC6r7y/7j7dTz821fbnt4uGFYT7/buqTjq63PQXyhv0Zu47YO6ODBpGvjdbYtwz90vjzpru2D4v674MDJdKZTKMiqi7UrFimG7iskdz4rh0WMjCQzfuduPa60k6i0j/Pp7zOIzxSUwW0lohoRgmGBYM4XEmBMMiwmFtiMEw9oSipqAYFhUOLScIRjWkk+cMcGwuJC05VDCMpCwTKBQqf0cP5EykU5btZ1hPl9GKV9GWf3cPmXWKivDCpqaicGK4bZSxNdBaRhYeI89KKwcdAKGld3sQ6bgo1+fg4HiW3nu69m+fbBUwsTaVX345jl/0gbD06d34Xvz31/rpRzWB8FwWCO3td8Ew+EBw7+b85NAEu+YxV8L5LijHZRgWDMkBMMEw5opJMacYFhMKLQdIRjWllDUBATDosKh5QzBsJZ84owJhsWFZFSHMikLZrEKlKtY/ugarF28CRuW9aN/TQ5GaXOVYTVhoHNyGuNndmHS7LHY7uBJMBIGKkkT+UK59sPSMD9YMSwremnTxEuPrMZ9V7xg2zGnYFgdaL8jZ+DdJ+yAXMAZnTIMXHrxo1i0aM2I599OxfAZX9kf+8/dFvkiwbDtRPLRgK0kfBRb8KEkVQzfMfu/GnoMN9yFrn63OY/+Hvs8wbDgFHXmGsEwwbCzzJFnRTAsLyZOPSIYdqqcTDuCYZlxceIVwbAT1eTaEAzLjU2jZwpGqJ/qr160Cc///jWsfm7TVo6rKmL1aFYdPHm3sZj9sRmYtsd4FIwqcoVw9jBV58eKYTk5m06aKG4s4covPerIKR0wrA740TPnYKe5k5ErBZfPSoON6wdx9tf+6BgM777HZJx73iEYLFVqPwkP64MVw2GN3NZ+s2J49FhKAsO3z/7p2/ee848L4xMvfEVcwrNiWDMkBMMEw5opJMacYFhMKLQdIRjWllDUBATDosKh5QzBsJZ84owJhsWFZAuHTNNAqgLk1uTxxC9ewrqXekd0eDQwXDeasHM39v/izshOyaBoYnO7iZA9WDEsI2Dqa4iOhIXbv/cslv1zgyOndMFwuiOBr16/GagG2S4laQBPLXwTP/3J4011GK1iePLkLH7wwyNQtUwUQlwtrE6cYNjRZSDSiGA4PGD4tl3fAsN1l+v3nPP4+XEvEgyLvHh1nCIYJhjWyR9JtgTDkqKh5wvBsJ5+0qwJhqVFxLk/BMPOtZNoSTAsMSqbfUpaJrKmiefuWI5Fdyxv6Wg7YLg+yW5Hb4fdj5uJwUoFxVK4frrOiuGWqeDLgGzKwtIn1uHOS55zfDxdMKwOfMBR2+Hg42ciH3BLiQSAfz67Cj++7LGt9BgJDO/yjgn45vnvgpWyQl3FXz9hgmHHl4I4Q4LhEIHhd1wRSCuJ4178sri8ZcWwZkgIhgmGNVNIjDnBsJhQaDtCMKwtoagJCIZFhUPLGYJhLfnEGRMMiwvJZiicMNGVsfDIpYvx2oK1bTlpBwyrCWccOBHvOXd39A2WUAgRHGbFcFvp4PmgzqSFX5+3EKuX9jk+lhtgWB387JsPRQ4VlMvBVsAnTQOlQhk3Xv80HnlkxZAuw8FwR0cCx35iDj585M4olCuh7ivcGHyCYceXgjhDguHwgOFbd7kC1WoVhmHUvh6rFQz78PxTLxMMi7twdR0iGCYY1s0hKfYEw1Iioe8HwbC+hpJmIBiWFA09XwiG9fSTZk0wLC0igAK8XekE/u8Hz2HlwvVtO2gXDKuJt9l7PN57wTvRmysG+lP8tk+SPYbtSOXZ2FTCRO+KQVz/jSe0juEWGD7ss7Ow17xtkRPQikFpUy6WkbBMLPzHG3jxhXUY6C/CMIBJkzuw197TsOvsiegbKKJiGKiEsJ3LSEEnGNa6HEQZEwyHBwzfsvMVgfQY/tQrZ4jKWeUMK4Y1Q0IwTDCsmUJizAmGxYRC2xGCYW0JRU1AMCwqHFrOEAxrySfOmGBYVkgUPOowTDx5/St49S+rbDnnBAyrA+xw6FTse8pOGKiE48ZXrBg3ALmeAAAgAElEQVS2lRaeDE5VDfzfjUvw1P+u1JrfLTA8ZWYXPvP9fTBQltMWRZ2bqvwvlyrIqJv0laqompv5jWrfEuabzBEMW1jXU9DKfenGBMPhAcO/naVaSTQ+hjcZHn4u7rz+6SUEw9KvY9v+EQwTDNtOGqEGBMNCA+PALYJhB6IJNiEYFhwcm64RDNsUTPhwgmFZAcqYJlb832r845qXbTvmFAyrA+170ixsd/hU5EJQvcgew7ZTw3WD7lQCV52+AH3r81pzuwWGlRNn/urdKFoyb6gYlzUQK4a1LgdRxgTDYQLDV6GKKgw0tJLw4fkJS04XlbPKGVYMa4aEYJhgWDOFxJgTDIsJhbYjBMPaEoqaIC6boukTs4j6ZyrBsKhLS9sZgmFtCV2bQN1sLlUBfvevf3NUTagDhtVJHHPtXBRTqrJRTtVlM3FZMexayjmaSK3PEqUqfvL5RxzZNxq5CYY/+a13Yvo7x4ns1xuXNRDBsPYlIWYCguHwgOGbd7yqtmZQvzjy8+9nln5JTL7WHSEY1gxJ1DexreThpqiVQuF5nWA4PLFq5SnBcCuFwvV6XDZFBMPhysvRvI3LpohrIDk5m4GBf960FK888IYjp3TB8I6HTcVen5+FwdqP3eU+WDEcbGxUD931S/pw07ee1HbETTB8yCdn4sBPzsRgsaztl9sTxGUNRDDsduYEN19c1kBOFVbrfSmPm3b4eSCufGbpaYEcd7SDEgxrhoRgmBXDmikkxpxgWEwotB0hGNaWUNQEcdkUEQyLSjstZ+KyKSIY1koT14wV1E2XDdzxr39zPKcuGFYHPvoaVTVsiL4RHSuGHaeIK4aZlIXn//wm/vDzF7XncxMM7/7eqXjfKbugIPCLjbisgQiGtS8JMRPEZQ3kVHBJYPjXM69GEHef+5dlBMNO80esHcEwwbDY5LTpGMGwTcEEDycYFhwcB67FZVNEMOwgOYSaxGVTRDAsIwGzlomX734d/7x1mWOH3ADDux27PXY5egZygm7iNVwQVgw7ThFXDLMpC0/etQJ//fUS7fncBMM77TcR874+B3mCYe24OJ2AYNipcvLs4rIGcqq8LDD8C6enoWX3L8u+qGXvhTErhjVVJRgmGNZMITHmBMNiQqHtCMGwtoSiJiAYFhUOLWfYY1hLPnHGBMMyQtJpmfjTt57CptcGHDvkBhju3iaLD16yL/oE/hy/Lgwrhh2niCuG2bSFhXe+hoduflV7PjfB8Kx9JmDeWbuhYMhrhRKXNRDBsPYlIWYCguHRQyEJDP9q+19sLhiuP4y3CojbfT78VIfbj/D6514jGBZzwbrlCMEwwbBbuRT0PATDQUfAveMTDLunpYSZ4rIpYsWwhGxzx4e4bIoIht3JF51Z1OddFgZu/7zzNhLq+G6AYTWPugldPmGgXJEH2JR/rBjWyTZ9W9VK4p9/eAN/uu4l7cncBMOzD56MD5yxK1tJaEfF+QQEw861k2YZlzWQU91FgeHtrnF6Glp2n3vtFC17L4xZMaypKsEwwbBmCokxJxgWEwptRwiGtSUUNQHBsKhwaDnDimEt+cQZEwwHHxJ1M6/+V/rw5/94RssZt8Dwe7+1B8bMGYNCsaLlj1fGrBj2Stn25k0nTSx7Yj1+/8Pn2jMYZZSbYHj/eTPwrs/sKLINSlzWQATD2peEmAkIhkcPhSQwfMO2wYDhz79OMCzmgnXLEYJhgmG3cinoeQiGg46Ae8cnGHZPSwkzxWVTxIphCdnmjg9x2RQRDLuTLzqzqArMZfe/gadu1OvZ6hYY3vOEHTDrqG0xmC/rnJZntqwY9kzatiZWeVbaVMLPT1/Q1vjRBrkJhj906jsw+/3TkCvIy9u4rIEIhrUvCTETxGUN5FRwSWD4+m2vffvec/UTUj/4US0hPHx+0sovOJXPMztWDGtKSzBMMKyZQmLMCYbFhELbEYJhbQlFTRCXTRHBsKi003ImLpsigmGtNHHFOJMw8cKty/D8Xa9rzecWGH7HR6Zjzgk7iKy8VAKxYlgrTbSNDQMY35XC/GMeRLWq127ETTB86k8PQmpCCkWBN06MyxqIYFj78hIzQVzWQE4FlwSGr9vmWqenoWV38hsEw1oCSjQmGCYYlpiXTnwiGHaimkwbgmGZcXHqVVw2RQTDTjNEnl1cNkUEw8HnXsYyseimV/HSH97QcsYtMLzT+6dhj8/tiBx7DGvFQ8fYNA1MGZvGmxtyOtN4ZpuGgXsuX4RXFq7XOoZbYDjTmcTXbngXNg0WtfzxyjguayCCYa8yyP9547IGcqqsLDD8y7fuNle/a5w/f09+42Sn8nlmx4phAEuWrcRp516KlavW1YT+7rkn49gjDx0S/Y57H8K3L76u9nzeEXNx4TknI5NJ1Z4TDBMMe3Z1+jwxwbDPgnt4OIJhD8UNYOq4bIoIhgNILo8OGZdNEcGwRwlkY9pswsTi3y7DC/fIqBje5UPbYDehvVqVrKwYtpFcHg1V7U+WPLoGd/1osdYR3ALDe39gOg793CzkoVfBrHUyoxjHZQ1EMOxVBvk/b1zWQE6VlQSGr52mwLD/jy+8+a/+H7TFEWMPhjds6sUZ512Os790PA7YazaGP3/86edx2VW34or5Z2H82G5cdvVtNUnPPvU4gmEA3BSJu6YdO0Qw7Fg6cYYEw+JCouVQXDZFBMNaaSLKOC6bIq6Bgk+7rIJsd7+OZ36zVMsZtyqG9zhuJnY+ZgZ7DGtFQ89YesWw8m9MJoFLP/0QSho3KXQLDH/hxweiY0oahZLMGybGZQ1EMKx33UuyjssayKnm0sCw6uqj2vz4+feUVQTDTvPHMztVLXzB/Gtw0XmnYNbM6cjlCvjOD6/D3H13q1UNKxC8w4ypQxXEw0ExK4ZZMexZcvo8McGwz4J7eDiCYQ/FDWDquGyKCIYDSC6PDhmXTRHBsEcJZGPadNLE2oUb8LfL9Kov3QLDc7+2K6YcOBF5DeBn4/RtD2XFsG3JPDFIGwYe/91rePT2ZY7ndwMM77jXBHz83N0xWJEJhZU4cVkDEQw7vhTEGcZlDeRUeElg+BdTfln7rYQ/DSTePs6pqwmGneaPp3YK/t73pwX4+cX/VjvOJVfegovOPwXZdHoLSKxeGw6SCYYJhj1NTh8nJxj2UWyPD0Uw7LHAPk8fl00RwbDPieXh4eKyKSIY9jCJ2pzasgyk8lXc+cUFbVo0H+YWGP7YlQei3GmhVJb5s/zJY9PY2F9EUWh1qFYQ3zKWXjGs3FR525mw8JOTHkF+oOTotN0AwydffgC6tsmI/SKDYNhRaog1SictdGUtrOspiPXRDcfisgZyqpUkMHz1lOudnoaW3amrT9Ky98I49q0klKiqCvjSq27FuvWban2G6z2G69XDxx11WK3NRDMw3Dvo7MPci2AGMWdXJoGBfAlC77HhiiRq4ZVJmujPl12ZT+okqupGPaRWubilW2faQq5YQTnCSWsaQEc6gb5ctN+fkgkTloFaPKP8UD+VVncKlwoa3NK+O5tA1D9TFXxSeTsY8c8T9Zmp3mKl/jTZrZzlGsgtJfXmSaqbeX31MQysyzueyFS/IwVQUb8ldfjIjEvhY1cehILGHA4P3bZZR9qqrfOivAZSoewMwRrIrALPP7Qa9/7s+bbj1zhQrfUMw3Acy/2O3BbvPnFHGKnN63+pD66BpEbGvl8J00AqaWKAayD74kXIQq33pTx+PuX6t1tI1CuHG0qIt2gx4eLrX1pDMCwlB4b8UBXA9Qph1UO43mNYweAj3ze3ZcVw74DMO7j6JXRnNoGBXBlVwYtgXS1U5YG6UcRAxCGb+qBWj0LEIVtHJoFcoYxKhMGw2ih0ZCz0R/yLqxoYNo1aPKP8yKYtFEtVlMrRBuDdHUlE/TPVskykEkbkwXA6ZdXeY6Nclajec7gGkvHOa5areO6W5XjhnhWOHVKQTf3IUwcM7/Kh6djjxB1QTWyGzBIfcVkDdWYs9IVhDVSq4k/XvIxn//ym7XQxTZWxzsDw1FldOPny/ZEvVLRy3rbTDgzisgbq6kiiL+JcgWsgBxdABE3Uel/K48rJwVQMn04wLCUF3vZDVQvfdteDuPCck5HJpGovNN5gjj2GR48Zf0YpL6edesRWEk6Vk2fHVhLyYqLjEVtJ6Kgny1YBUwUs1vNnlLIC49AbroEcCueymfqSEJtKuPsrjzme2Y1WEvN+cgCM8UnRX4iwx7DjFPHEUOVddzaJm7/1JJYv2mjrGE5bSWS7klA3nDM7zVD8SjAuayD2GLaV/qIHs5XE6OGR1EriiknDwXC92/BI5+DO62esZcWwuItYVQyfdu6luOiCL9baRTRWDKubzw2/2VwjNFYnwx7D7DEsLqkdOkQw7FA4gWYEwwKDouFSXDZF7DGskSTCTOOyKSIYlpN4HYaJx3/2AlY8vs6RU7pgePo+E3DQmbMxUJX9yw72GHaUHp4aqV/sZUwTv/nOU1jx/Ka2j+UEDCso/Nn5+6JjSjo0v1yJyxqIYLjt1Bc/MC5rIKeBkASGfzbphq1Po95KYqQTdOH1L6/7vFP5PLNjj+G3egyfdOb8IZHrPYbr/3DHvQ/h2xdfV3s674i5W1QXEwwTDHt2dfo8McGwz4J7eDiCYQ/FDWDquGyKCIYDSC6PDhmXTRHBsEcJ5GDaVMJEZWMR93z1cQfWgC4YPvJH+yMxKSW+ApMVw47Sw3MjBYc7UxbuvOQ5PP/omraOZxcMT5nZheO+vSeSYxKhgcJKiLisgQiG20r7UAyKyxrIaTAkgeGfTrwBDS2FUa8H9vrvVwmGnaaPXDuCYYJhudlpzzOCYXt6SR5NMCw5OvZ9i8umiGDYfm5ItYjLpohgWFYGZqrAS3evxKI7ltt2TAcMz/74DOx69HbI1baXsh+sGJYbH9USJQUDC+99HQ/e+EpLR+2A4X0+NB0f+tKutZt+5Yvhui9DXNZABMMtUz40A+KyBnIaEElg+L8mNqkYdnpiNuwIhm2IFZahBMMEw2HJ1VZ+Egy3Uig8rxMMhydW7Xgal00RwXA72RCOMXHZFBEMy8pH9dnXlbLw14uexapn2/9JvjoLp2B48m5j8b7v7InefAnlENzUlhXDsnJ2uDemYUDdlqmSr+DPv3wFix5eNaLD7YDh7XYbh/edtDPGbZNFyVI3sZX/5cXwE47LGohgWPa1ace7uKyB7GjSOFYSGP7xhF8BAdQMn7merSSc5o9YO4JhgmGxyWnTMYJhm4IJHk4wLDg4DlyLy6aIYNhBcgg1icumiGBYXgKqlhIZw8AfznsSPSsG2nbQCRjunp7Fh+bvi7xZRaEou7dwXQhWDLedEoEOVHlslKooDpTx+F2vYdFDqzEw7KalI4Fh0zQw+11TcMBR22HCjCzKphG6KuFG8eOyBiIYDvSSc/XgcVkDORVNGhiuVgHDABr/1ntKDP/3+nPd17++4XNO5fPMjj2GNaUlGCYY1kwhMeYEw2JCoe0IwbC2hKImiMumiGBYVNppOROXTRHBsFaaeGacTlpIFKv4y38+jQ1L+9s6jl0wPHb7TrzvP/ZEJW0iVwjPT/NZMdxWOogZpNpLmOUqMpkENq4axKsL12PN8n70rM2hOFiusQkjaaJ7YhqTtuvEDnuNxzY7d6O/t4hq0gjNFxajCR6XNRDBsJjLTtuRuKyBnAolCQxfPk5VDPv/OGsjwbD/qnt8RIJhgmGPU8y36QmGfZPa8wMRDHsusa8HiMumiGDY17Ty9GBx2RQRDHuaRlqTp5MmskkLf/vRYrz26NqWc9kBwzMOmoR3nTUHg6VK6CoxWTHcMhXEDkhaJizLQFVVp1eBpGXUnufyFVQNwEqbtVYRpXKlVvkWlUdc1kAEw1HJWCAuayCnEZMFhm8MpJUEwbDT7BFsRzBMMCw4PW25RjBsSy7RgwmGRYfHtnNx2RQRDNtODbEGcdkUEQyLTcGaY7WbeVWB5Q+vxtM3vlqrsBzp0Q4YVuBt78/Owg7vnYo8qiiWwtE+ovGcWTEsO2fteNeRtpBKmtjYV7RjFrqxcVkDEQyHLjVHdDguayCnEZMEhi8ddyOq1SoMw3i70/DQ8yoMGJ68fs4mVgw7zR+xdgTDBMNik9OmYwTDNgUTPJxgWHBwHLgWl00RwbCD5BBqEpdNEcGw0ARscEv1A8xYJlR7ieduX46X7n8d+d7SVo6PBoZTXQns8uHp2O3Y7VFQVcKV8FZksmJYfs626yHBcLtKhWMcwXA44tSOl3FZA7WjRbMxksDwD8eqiuHGRcNbBcQjnZzq3zPaLzLafP2cTZ91Kp9nduwxrCktwTDBsGYKiTEnGBYTCm1HCIa1JRQ1AcGwqHBoOZNOWejMWFg/7CZCWpMKNI7LpohgWGDyjeCS+lxMwkAma2H1Pzdi+aNrsWbxRvSsGKxZDAfDY7bNYvKccdju4EmY9s7xGBwsomgA5XJ4f6Ovbko2sTuFnsESCsVypNoNNIZdneeUsWm8uSEXngR14CnBsAPRBJsQDAsOjk3X4rIGsinL0HBJYPiSMTe+XSmserb71Fji3B6CYaf5I9aOYJhgWGxy2nSMYNimYIKHEwwLDo4D1wiGHYgm1IRgWGhgHLpFMOxQuADNVAVxKmHCKFWhPivTHQnkeoswim8B36SJdHcC+YESSpUqkDBqVcJh7Nlag+EJIGXlkbCyqFaLSCdLKJRMABlUqnkUS1UUy6naOUblQTAclUhuPo+4rIEIhqOTtwTDo8dSEhi+eMyvG1Bw3W+1HlCI2LvnBMPRud6HzoRgmGA4KmlNMByVSKK22VV9BFdFvVomk0DKMrCxn/31opC9bCURhShuPoe4bIoIhsOfswoUm4aBrkwCMAz0DRZRqVZDCYLr0VA3JOtIFpBMJFEZeATV3FOoFF4GqiWkklbt5mSVShVGciqM9G4wsu8BzAkYLCaRVzc2C/mDYDjkARzmPsFwdOKpWvp0ZS2s46+mohNUB2ciCQzP724Ew3Ug7P3f83pZMewgdWSbEAwTDMvO0Pa9IxhuXyvpIwmGpUfInn9x2RQRDNvLC8mjCYYlR8eeb+oGbuM6k1izKW/PMGSju7ObwXDvQLi/aMykLHSkTZR7fodK3x+2ioICM8W3wHDji2Z6VxhjjkfFGI++fKoGjsP6IBgOa+Sa+x2XNRArhqOTt3FZAzmNmCQw/P0aGPb/cX7vv/h/0BZHZI9hzZAQDBMMa6aQGHOCYTGh0HaEYFhbQlETxGVTRDAsKu20nInLpogVw1ppIso4CmC4M1NBEmtR2XAlqqW1TfVtrBhuNsDs/ijMzg+iN2eiFNJ+ygTDoi4tbWfisgYiGNZOFTETxGUN5FRwSWD4oq6bfOoqvGX34gv6CIad5o9YO4JhgmGxyWnTMYJhm4IJHk4wLDg4DlyLy6aIYNhBcgg1icumiGBYaAI6cCvsYLgzXUGyugzldZeNevYjVQw3Gpkdh8AcewJ6BgyUQ1g5TDDs4AIQbBKXNRDBsOAktOlaXNZANmUZGi4JDH+vBob9f3yr7zP+H7TFEVkxrBkSgmGCYc0UEmNOMCwmFNqOEAxrSyhqgrhsigiGRaWdljNx2RQRDGuliSjjMINh1T4iY76J8poLW2raqmK4PoHZ9X6gYx42DSZbziltAMGwtIjo+RPVNdDmm0OaQKEMyzDQkU1iQPU4rwDVtIliqRLKL2ZGizZ7DOtdC1GxlgSGv9vRWDH81j3naneb3bLCd+hmdLV/1n/92wOsGI5KPg+dB8EwwXBUkppgOCqR5M3nohPJzWcS1U3R8DgRDEcncwmGoxNL9hiWHUsFl2rX2+pvo1pa3dLZdiqG65NY409HwdwdA4Vw9RsmGG6ZBqEaELU1kLo5ZKJURSZj4fVHV2P1U+vQu2IAVrmCsmWga9tOTN5zArY9ZCqKhTJKCSO0bV2GJxrBcKguPc+clQeGPTvVESf+9gArhv1X3eMjEgwTDHucYr5NTzDsm9SeH4gVw55L7OsBorYpGkk8gmFf08rTgxEMeyqvr5MTDPsqt+2DdWeKMHMPoNJ7b1u27VYMq8kMcywS0y7Gxn5VxRgeOEww3FYqhGZQlNZAm28OaWHRza/gpbuXbxGDTNJErljZ4t92+sgM7P6ZnTFYrCBXKIcmZiM5SjAc+hC6cgKSwPB/dtzc5JzqFcEjna7+6/9OMOxKLomahGCYYFhUQmo4QzCsIZ4wU4JhYQHRdCdKm6LRpCAY1kwUQeYEw4KCoekKwbCmgB6a16qFO0wU3/jyWzfPaX0wOxXDajZr7KdRSLwLA4XWc0sZQTAsJRLu+BGVNVA2baHaU8SC7z+N3jcGthKnGRhWgzonZzD3/L2QGJ/GQMjhMMGwO9dE2GeRBoZVZwhDtYh461F/Pvyvm6//x+CJ4sLIHsOaISEYJhjWTCEx5gTDYkKh7QjBsLaEoiaIyqaolagEw60UCs/rBMPhiVUrTwmGWykU3Ou13sLlv6O88Ya2nbBTMawmNZIzYE48Bxv7rbaPEfRAguGgI+Du8aOwBkonTZgDZfzl3MdQHCg1FWgkMKwGWwkTh//wIBhjk6GsHFbXpOJuCgx3ZExs7CvW2rRWqtXN7Voj9ojLGshp2CSB4X/PqIrhkXoGe/fv/5ljKwmn+SPWjmCYYFhsctp0jGDYpmCChxMMCw6OA9eisClq57QJhttRKRxj4rIp4s3nwpGP7XgZxpvPjckWYPRcj0ru2XZOsTbGbsWwsklMuxQ9g+nQ3AiLYLjtdAjFwLCvgVQ+jkkn8H/feQIbl/aNqPloYFgZdW/TUYPDPQNFsdeiaRhIqB7KRhVWpQwzYcJKpVDJ51HJF2BWyrXXVeGzkUrCTKVr9/QqF0ooV4GylUCpXAl9T+W4rIGcvoHIAsO/QRXVhlvNGb48vzDHimGn+SPWjmCYYFhsctp0jGDYpmCChxMMCw6OA9fCvilq95QJhttVSv64uGyKCIbl52K7HoYRDI/vBEqrzwMq/e2eJuxWDKuJrYlfw0B1VxSG9T9t+6A+DyQY9llwjw8X9jVQxjCw4k8rsfiWJaMq1QoMK+Ndj94B239kBnK1CkcZD7XnSCVMJCtFJFJJ5N9cheKy5SiuWYPy+vUo97wNw9W1WQPDDe8lRjqJxLjxSEyehOS205GasS2MdAbFUgUFmLW/YXvEZQ3kNC6SwPC3079xehpadt/Nn6Bl74UxW0loqkowTDCsmUJizAmGxYRC2xGCYW0JRU0Q9k1Ru2ISDLerlPxxUd4UqY1t0jJgVaroyljoz5VRtjZvXsshukFXu1nEVhLtKuXvONUPcXyXheLKM2wd2EnFsDXmWOSTR2AwJP1NCYZtpYT4wWFeA6nrdFxHEved+vCILSTqAWgHDKvc/uiNh2GTuiFkwD0YFAxOVUtIphLIPf8ici+9hMLyFaPmUzMw3MzAGjsGmVk7IrP7bjC6u1CAhXyhEvg5t3uxRHkN1K4Go42TBoabNYyo+69aoHjx+v8jGHYjlWTNQTBMMCwrI517QzDsXDtplgTD0iKi50+YN0V2zpxg2I5assdGdVOUTZrIpC30LF5V+585WEQ5YaJz1iSM23tbFItl5GFEChATDMu81hRgGZsto/TmmbYcdFIxbHYfiWJ6Hgby4ajcIxi2lRLiB4d5DZRKmsgt7cMjFz7ZUud2wLCaZO439kTXnLHIB1TBr84pgzIwMID+JxYit/j5ludWH9AuGG6cMDFlMjr23hOZ2bsily8hX9rcm1jyI6prILc0lwSGv5Xa3Eqi1tPkrf/34/lFBbaScCufxMxDMEwwLCYZNR0hGNYUUJA5wbCgYLjgSpg3RXZOn2DYjlqyx0ZtU6T6JmaNKgZeXoPlv30S5VyxFgBVfal+Ert5EwFs86E5mHL4zhgoA8VyOCBaq0wiGG6lUDCvq5wc11lF8Y2v2nLAWcXwx5BPfRiD+bKtYwU1mGA4KOW9OW6Y10AZy8DS/1mOl/5neUtx2gXDsz40Azt9cgfkfP6FimoBkTXKMAYH0ffIo8gvebXlOQ0f4AQM1+cwuzrRedAByM6ZjcESRN+EL2prINuBbmEgCQxfkPptIDefu6jAVhJu51Xg8xEMEwwHnoQuOUAw7JKQAqYhGBYQBBddCPOmyI4MBMN21JI9Nmqboi4DWL/gVay8Z9EWwg8Hw+rF8XvPwPaf3gd9pWokKocJhuVeaxNUK4kaGG4f2DqqGB5/CnLGvsgX2z9OkKoRDAepvvvHDvMaKGsY+OcvXsDKx9e0FKZdMDx1rwnY64zdMOhjn+FsykTGAnofehiDzz7X8lxGGqADhutzJiZNRNdhh8KaMBEDVVPkjeqitgZyHPARDCWB4fOSv327V0Td32a9IzYXFG9+uPD6/NKn3ZZVez72GNaUkGCYYFgzhcSYEwyLCYW2IwTD2hKKmiDMmyI7QhIM21FL9tgobYoyKQulZevx8pUPbyV6MzCsBk374GxMOHQnDESgaJhgWO61Nq6jhOqGn6BSaL9yz1HF8OTvoq84AaWQVMETDMvNWSeehXkNlIWBp69YhFVPr2956u2C4Umzx2Hfs/bwBQyr/USnWUHpzTfR+79/QmVwsOV5jDbADTBcnz/7zt3Rffh7MVioiKsejtIaSCvgIQDD30yoimH/Hz8gGPZfdK+PSDBMMOx1jvk1P8GwX0p7fxyCYe819vMIYd4U2dGJYNiOWrLHRmlTNDZp4oUf/RW5VT1tg2E1cK/vH4X+SlVkNZOd7CEYtqOWv2M701Uk8n9Apfeetg9su2LY7EBy6iVY3xeebzkIhttOh1AMDPMaKAMDi3/1ElY8sqql1u2C4W32n4Q9vjgbOY8rhtXN5brSJnof/hsGnny6pf/tDHATDKvjJSaMx5gjP4xKRxf6S+144M+YKK2BvFBMUsXwuTUwPFIJsHf/fnFp61YSS5atxGnnXoqVq9Zh+shnR4cAACAASURBVNSJ+PnF/4ZZM6fXQvD408/jpDPn1/57zzmzcMX8szB+bLer4WHFsKacBMMEw5opJMacYFhMKLQdIRjWllDUBGHeFNkRMg5gWN24rDNtYX1vAcLvnWIndFuNjcqmKGmZSPbnseiiPzbVY6SKYTV4++P3Rce+M8RVMtkNLMGwXcX8G6/ysyvVg9Lq89s+qN2KYbPr/ahk56E3l2z7GEEPJBgOOgLuHj/Ma6Bs2sKK+1dg0W+XtBSlXTC869EzMfNj22PQw5vPqfeJjkQVG++6F4Xlr7X0vd0BboPh+nHHfvQjMKdvi/6yIWJtFZU1ULtxtTtOEhj+RuKWILgwLil/agvZFBS+YP41uOi8U4ZgcH3A8NfuuPchLFi4CBeeczIymZRd+UccTzCsKSXBMMGwZgqJMScYFhMKbUcIhrUlFDVBmDdFdoSMKhhWd/BOJ/JIWElYVgKWWUGxZKFcGUShlEKhGI1etI2xjsqmSLWRGHhqBZb/dqFtMDxhv+0x7Zg9MeDzDYLsXHPtjCUYbkel4MaMzRaA3ptQGWyeo8M9s1sxnJh2MfpynaG6mSLBcHD56MWRw7wGUu+f2JDHn895rKU07YLh935vfySmZVEoeVPFrz730uUCNt5xJ0rrWrfAaHliDQO8AsPqEN2HHYrkO3ZBX9kMHA5HZQ1kJ7Z2xkoCw+dYt2zOF9VDuAoYBrbIn6HnLr9+aeVtMJzLFfCdH16H4446DAfsNXsrKRUIXrpiFc4+9bjaa6NBZDtxGD6WYFhHPQAEwwTDmikkxpxgWEwotB0hGNaWUNQEYd4U2REyamBYbQg70gUAq1HCAyhXnoVpDkJdn8VSBaYxCwnzECQM1SOvjMF8OG7s1E5Mo7IpUhvkvgVLseLOZ2yD4bG7TcO2J+yHAbXhCPGDYFh28NTPvTtV1fCq9qqG7VQMm10fRiX7AfTm3KtI8kNNgmE/VPbvGGFfA3VZJv723SexaVnfqKK1A4Y7p2Zx2PwD0FPwZr2wGQrnseG221HeuHX7JN2oewmGa3D40HcjOXtX9JZMXVe17KOyBtISYRRjSWD438xbvDrNUedtBMMbNvXijPMuxzOL3/5lwbwj5g5VBF929W21uepguD7+7C8d3xQkOz0hgmGnyr1lRzBMMKyZQmLMCYbFhELbEYJhbQlFTRD2TVG7YkYJDKeTJjozBvKVa1GuPD4kgdoU1cHw0D8aY5AyT0O1MgO9A4l25RI9LiqbIhXH/POrsPSG5tVeo7WSmHjQDpj6sT0wUA43GSYYFn2p1ZzrypSQKDyB8qabWjrbbsWwmZoFa+I52DRQQTlkVe8Ewy3TIFQDwr4GUrC1d/FGLLi4+ReM9WC0A4b3P3N3jN9rAnIetJFQXzJ1WBVsuOW/UVq/wZMc8RoMK6fHvP9wWLNm1SqHg3pEZQ3klX6SwPBZNTBcLxmun7H3zy+vfHpIXlUBfMmVt+Ci80+p9Q2uVxBPmzKxBoMVGN5hxlQce+ShNRuCYa8yU3NegmGCYc0UEmNOMCwmFNqOEAxrSyhqgrBvitoVMypguFbBly0jX/4+KtXXtzj9pmD4rREp81RUKnugb9BqVzKx46KyKUpYBjKlMv757/c11Xo0MLzj5w9Ees409hgWm6VbOtadTdR+Q9o7UAyJx2+7qX7qOiZbAvrvQ6WveT/s+uh2KoaNxBRYk87HQCGFvAcAymuBCYa9Vtjf+aOwBuo0DCz69ctY/tCbI4rXCgxvO3cK9jxlV/SXK67fdk591o3JJrDhjt+jsGLLdYub0fYDDCt/x33iaFQnT8VAwZt2G600icoaqNV5On1dGhiuolrvJAEDBvx4/qNRwLDSVd1s7rKrbq3dZO6Xt9xfk5oVw04zzic7gmGCYZ9SzfPDEAx7LrFvByAY9k1qXw4UhU1RO0JFAQwrQDOus4p89WeoVBZvddqjgWE1OG19B/nC9NDDxChtirpNA6/+8u/oe2XNVvEcCQwbCRN7X/JxbOovohKyasvhJ8mK4XbevYIfoz73uzJFGIN/Qbnnf0Z0qFXFsJneCeb4r2CwmA7t+xDBcPD56KYHUVgDKfDanUnUqoZXP9O8b+9oYHjSnHE45Nv7oG+g5Em/7zHJKgb+9igGn33OzdA1XQMpLQoef+FkJJOY+PnPYNBKe36sZoJFaQ3kRUJIAsNnmr/14hRbzvnjBjCsKoAv+P41+Mbpnxq68ZwCw7fd9WCtncS9f17AHsMtFRUwgGCYYFhAGrriAsGwKzKKmIRgWEQYXHMiCpuidsSIAhjOpk0kEo+hWPll01NuBYZNYybS5jnY0BfcTyDbiVWrMVHaFKl2EmbPIBZ//4G2wfDMz+yPjt23waBHNwdqpb+brxMMu6mmt3OZhoHOdAFW9U1UNv0a1eLKpjlbLFeafmFhdh8Jq+uj6MtXA4EpbqlDMOyWkjLmicoaqNaqIWXh2V++iKV/3vraHAkMb3/oNOxz2hz05Uqe3HCuI2EAry3Dpvv+4HnA/aoYVieSmrEtxn38KGzKVVCp3V3Mv0eU1kBeqCYJDH8tIDD8kwYwrDRW7SLeXL2uBoLVQ92Mbu6+u9XaRwy/2Zy6Gd2ChYuGehC7FSP2GNZUkmCYYFgzhcSYEwyLCYW2IwTD2hKKmiAqm6JWokYBDI/rKiNf+R6q1VWOwLAySlvnYzC/fajBTNQ2RR2mgdyra7Hk2gVbxLVZxfC0D+yKSYftjP7Klne2bpX/Ul8nGJYamZH9Uj1Ns6kKqrlnUB14EJX8i0ODh1cMG9Y4GNmDYHZ9AKWyWWsfEbaewsOVIBgOX86O5nGU1kCqWjZVBvpf78fzt72KtYs3Dp36cDA84R1jMfu4HTFmZhfyJlDyoF+9en/vNEpYe+0NqJZKnieOn2BYnUzXIXOR2GMP9JcMz8+t8QBRWwO5LZ4kMPxV87dvtY6ot5Dw5+9PKydsIWu9r/A9D2xeZ37hxHlDrSPUc1VBfNKZ82uv7TlnVq3FhOpH7OaDYFhTTYJhgmHNFBJjTjAsJhTajhAMa0soaoIobYpGEzbsYLj2U9GOAQyWzhnxNFtVDCvDhPk+VMtHoz8X3l7DUdwUdVgGqr05vHbrU+hbsrYW40YwnJrQie0+sSeyMydgAEboW0jUk5hgWNTHQdvOqLY2Kj/TVg6WlUSl+DqqpTeRtgZRLBuompNhJLcFjE4USyXkSklPwFPbDrs4kGDYRTEFTBXFNZC6NhPFCqqVKtYt3ohNS3uRKAElCzUQPGm38TASBspJ09OWLqqFRP+Df0XuhZd8ibTfYFid1MSTP49cIuNJtfVIokVxDeRmgkgCw182f7PFqamvEEarL3fr9Z8NA8Nu6ut0LoJhp8q9ZUcwTDCsmUJizAmGxYRC2xGCYW0JRU0QxU1RM4HDDoZTSROZ1IsoVC7XAsOmsTMSxlfQ058UlYd2nInqpki1lUhVqqgWSuh5YQ2sfBFly0TnTpOQmpBFAQYG82U7UokfSzAsPkQtHax/IaXWBmM6khjIl1AsVWqVwV5UIbZ0yOMBBMMeC+zz9FFeA6kvlC3ThFmt1q7NnsEiKjBQrlQ8vzYVnE5uWIMNt97uW0SDAMOZXXZC5+GHo8fHquGoroHcShRJYPiMYWDYrXNsNc8VBMOtJArf6wTDBMPhy9rmHhMMRyWSAMFwdGKpziTKm6LGSIUdDCtomE49iULlai0wbBjbIGWch039idAmctQ3RWozn7BMjOtKoqe/iGK5WgNtUXwQDEcrqpPHprFR5WxE81VFi2A4WjkblzXQNhOzeGPdoG/BG5sGev7nHhRe37rfsVdOBAGGa+voE45HYcx45D2+6V1dt6ivgXTzQxIYPt3asmJY99zatb+yvGUriXbtvBzHimFNdQmGCYY1U0iMOcGwmFBoO0IwrC2hqAnisikKOxjeXDH8AgqVH2mBYdPYCQnjq6wYFnUVNndm6niugUIQprZc7M4mAMNA70CxrfFhHTRpbBqbCIbDGr4t/O5IW1CfOxv7op2zcVkD+QmG1RfZybWrsOH2O329FoICw+kdd0DXB96PnpI/N/YlGB49rSSB4dOsm4c561aziJE02Dz/z8sn+nrttXMwguF2VBplDMEwN0WaKSTGnGBYTCi0HSEY1pZQ1ARx2RSFHQyrKtKubB9y5XO1wHDCPBzVyrHoH/RnA+NFssdlU0Qw7EX2BDMnwXAwuntxVFYMe6FqcHPGZQ3kJxgek6ig948PoLB0ma+BDQoMq5OceNK/YDCleqp7/+ueuKyBnCaPJDB86lZg2OlZ2bO7mmDYnmBhGE0wTDAchjxtx0eC4XZUCscYguFwxKldL+OyKQo7GFbxHNdVQb5yIarVNU3D287N59LWNzGY3wEFn37y2G4e2hkXl00RwbCdrJA9lmBYdnzseEcwbEct+WPjsgbyCwyrL7E7K3msvfYG34MfJBju2OudSB10EPp96DUclzWQ0wSSBIa/GBAY/gXBsNP0kWtHMEwwLDc77XlGMGxPL8mjCYYlR8e+b3HZFEUBDGfTQCKxAMXKjY7AsGnMQNo8Hxv67OeJJIu4bIoIhiVlnZ4vBMN6+kmyJhiWFA19X+KyBvILDHckDZSeXIj+x57QD47NGYIEw0Y6jSmnnYIN/QVUqzYdtzk8Lmsgm7IMDZcEhk8JCAxfQzDsNH3k2hEMEwzLzU57nhEM29NL8miCYcnRse9bXDZFUQDDpmFgbFcV+fKPUKm+tFWwW1UMp81vIV/cDrlC2X6iCLKIy6aIYFhQ0mm6QjCsKaAgc4JhQcFwwZW4rIH8AsPj0gY23HIbSus3uBAde1MECYaVp+M+eQyKE6d4/ossdWPaUrmKvsGSPYFiMloSGD7ZuikQ1a8rfyaQ4452UPYY1gwJwTDBsGYKiTEnGBYTCm1HCIa1JRQ1QVw2RVEAwypx1M2AOjNF5Mrf3aqlxGhgOGl+HtXKPugbTIrKPyfOEAw7UU2mTTJhYlxnEms25WU66JJXBMMuCSlgGoJhAUFw0YW4rIH8AMOb20gUsPba612MUPtTBQ2GO/bcA6mD5qK/rG4A5u5Drf1QqCKTsZBMmlBFyYV8GYVCBdWk4UtvY3fPyLvZCIYBgmHv8iuwmQmGCYYDSz6XD0ww7LKgAU5HMByg+B4cOi6boqiAYZUCmZSFjnQZ+crVKFeeHsqK5mA4i5R1KqqVWegdSHiQQf5PSTDsv+ZeHZFg2Ctlg5l30tg0NvUXIw0pCIaDyS2vjhqXNZAfYFitTfDyC+h94C9ehWvUeYMGw4lx4zDuhOPg5vecas9llYHcxgIeuW0ZXlqwFkalikoVSHVYmP3uKTjk+B1gJg0UjKrnbSwCCazNg0oCwycFVDF8PSuGbWZNCIYTDBMMhyBN23KRYLgtmUIxiGA4FGFq28m4bIqiBIZVcFMJE9lMAcAKlKoPoFx5BqZZgbo+1V2xVT9hyzgISfODtdYRA3mPm961nXH6AwmG9TWUMgPBsJRIuOMHwbA7OkqYpSNt1X6hsrGvKMEdz3yIyxrIDzDcZVUw+NBDyL2wdasrzwLYMHHQYFi5Mvn0L6KnaKCiyK3mQ63n0oaBv9++HI/evmxotqRl1sBwuVIZ+rcPn7Erdjl4CgpGJfZwWBoYVpmgasj9/HsDwbDm1SfQnGCYYFhgWjpyiWDYkWwijQiGRYbFsVNx2RRFDQzXA55Omkgn80hYGZhmGZZZQbGURrkyiGLJQr5oouzCBsVxgnlgSDDsgagBTUkwHJDwHh2WYNgjYQOYlmA4ANE9PKQfYHhcCpv7C2/Y6OGZjDy1BDA87rhjURw/GYXS29DWqRjpqoHH7liOv9+5fIspmoFhNeAjX94VOx08GQWv737n9IR8spMEhj9n3YQqqjBgNIDh+vPhf+sAWf/1G8v/4pPa7R+GPYbb16rpSIJhgmHNFBJjTjAsJhTajhAMa0soagKCYVHh0HImm06gI2NifY/3d8XWclTTmGBYU0BB5gTDgoLhgisEwy6IKGQKgmEhgXDJDa/BsGEA4zuTWPWTK1zy2P40EsBw93vfDczZQ/smv+pL/02vDeJX33hiKyFGAsNq4NdueDfKqudwWR9M24+ADAtJYPizNTDsf8Xwr1kxLCMZ3fSCYJhg2M18CnIuguEg1Xf32ATD7uoZ9GwEw0FHwL3jp1MWOjNWDQxH+UEwHJ3oEgxHJ5bqTAiGoxNPguHoxFKdiddgWO0NOlHAumuCufGcOkcJYDi75x5Izz0Y/SW9/ElXgbsvX4xXn1xvCwzvf9R2mHv8TBRqODKeD0lg+DPWr7cKQh0UjxQdN16/mRXD0Ut+gmGC4ahkNcFwVCKJWg9TtflbtSEXnZNqciYdmQRSloGN/eyvF4VAR7WVRGNsCIajkKlvn8PU8VwDRSWi3dkEYBjoHYj25wnBcFQyFiAYjk4s/QDDqoo1078R62++JTDhJIDh9Kwd0HHEEegrqa6yzh6mYWBsZwI/OObBphOMVjHcPSmNL/z4QAw09B925kV4raSB4UZEX+81XFfXq+cEw+HN3xE9JxjmpigqaU0wHJVIEgxHJ5Kbz4QVw9GJKMFwdGKpzoRgODrxJBiOTiwVfJoyNo03o/7lOG8+F52k9aFiWN0QN7HqdWz6/d2B6SYBDCe3mYYxR81DT8l0rEPCMmDkqvjZyY/YBsPK4Lw7D8eGvmi3FBtNXElg+NO1imH/m0n8tvxZx/nnlSF7DGsqSzBMMKyZQmLMCYbFhELbEVYMa0soagKCYVHh0HKGYFhLPnHGBMPiQuLYIYJhx9KJMyQYFhcSLYfisgbyupWE6olrvbYMm+69XyseOsYSwHBi8kSMPfYY9BSdVwzXwPBgBT/7wt8cgeFv3nk4NhIM66SSa7YKDNdvPlcHxH48v4Vg2LUYipmIYJhgWEwyajpCMKwpoCBzgmFBwXDBlbhsithKwoVkETIFewwLCYQLbrDHsAsiCpqCrSQEBUPTFbaS0BRQmLk/YHgpNt37h8DOXAQYnjgB4z55LDZpgGHVSmJMNoGLP2G/lUTX+DRO+dmBGODN5wLLw8YDH2/dGIgftxIMB6K7pwclGCYY9jTBfJycYNhHsT0+FMGwxwL7PD3BsM+Ce3g4Vgx7KG4AU7NiOADRPTokK4Y9EjaAaVkxHIDoHh4yLmsgX8DwiuXYdM99HkZr9KlFgOHJkzD2mKPRo9FjWJ1lpmrgzov/ieX/3LjVSY/WY3jfj8zAISfuwJvPBZaFWx74uIDA8G0Ew0IywEU3CIYJhl1Mp0CnIhgOVH5XD04w7KqcgU8Wl00RK4YDTzXXHGDFsGtSBj4RK4YDD4GrDrBi2FU5A52MFcOByu/6wb0Gw6rHcHLdKmy8/U7XfW93QglgOLXtdHTNOxK9umA4ZWHty724+VtP2gLDX772XUCHiWKp0q5skRsnqcfwJ2tguN5juC71SD2H3Xv9v8ufExdX9hjWDAnBMMGwZgqJMScYFhMKbUcIhrUlFDUBwbCocGg5w4phLfnEGbNiWFxIHDvEimHH0okzZMWwuJBoORSXNZDXYDhhmegY7MG6X/9GKx46xhLAcGbnnZA9/DD0lZ3ffK6uQRoGHrnpVSy8//UtZBmpYvh9/7ozdjt8GgqGAo/xfUgCw59INIJh/25Cd3uJYDhyVwDBMMFwVJKaYDgqkQQIhqMTS3UmcdkUsWI4OnnLiuHoxJIVw9GJpToTVgxHJ56sGI5OLNWZeA2G1d6g2yxjzdXXBiacBDDcsc9eSB5wIAZK+jKom9BlTBMP/moJFt67YmjCZmD48M/thHd+cHqthUSlSjCsr747MxyT+JU7E9mc5XcEwzYVC8FwgmGC4RCkaVsuEgy3JVMoBhEMhyJMbTtJMNy2VOIHsmJYfIhsOciKYVtyiR7MimHR4bHlHCuGbcklfnBc1kBeg2EV6PFdSaz56VWoVoJpYyABDHcfcTiw867IFcqu5L5lGUiUgI1vDOKRW17FkoXrUQfDlUoFc94zFe8+YUekuhNQ3SviDoWV6JIqho8OCAzfSTDsyvUnahKCYYJhUQmp4QzBsIZ4wkwJhoUFRNOduGyKWDGsmSiCzFkxLCgYmq6wYlhTQGHmrBgWFhANd1gxrCGeQFM/wPDYZBUbf/d7lFavCUQBCWB4womfQq5rnOs9ftNJEyhU0dGdRDmvwHsVRsLEoCpNThooxLin8PBkkwSGP574FaoqVjCGeg378fx/Sp8P5Boc7aDsMawZEoJhgmHNFBJjTjAsJhTajhAMa0soagKCYVHh0HKGFcNa8okzZsWwuJA4dogVw46lE2fIimFxIdFyKC5rID/AcGeiivyjj2Lw2ee0YuLUWAIYnvKVL2HjYBledXMwDEB9OV4uA32DxdptzfjYUgFJYPhjiRuGbj3nX4dh4C6CYXmXxZJlK3HauZdi5ap1Wzg374i5uPCck7Fy1dqtXt9zzixcMf8sjB/bDYJhgmF5We3MI4JhZ7pJtCIYlhgV5z7FZVPEimHnOSLNkhXD0iLi3B9WDDvXTqIlK4YlRsWZT6wYdqabVCs/wLCqarVefw2b7r43EBmCBsPJqVMw5uiPoaeoqkO9e8RlDeRUQUlg+KOJG5yehpbd3QTDWvr5ZnzZ1bdhhxlTceyRh0KB4wvmX4OLzjsFs2ZO38oHgmGCYd8S0+MDEQx7LLCP0xMM+yi2D4ciGPZBZJ8OwYphn4T26TCsGPZJaB8Ow4phH0T26RCsGPZJaJ8OE5c1kB9guHYDumQVa678hU/R2/IwQYPhzgP2Q2Lf/TBQ9LaOl2B49PSSBob9rBSuN6y4h2A4kPcgWwdVIPiSK2/BReefUqsIJhgeXT5uimyll+jBBMOiw2PLOYJhW3KJHxyXTRErhsWnYtsOxmVTxDVQ2ykhfiDBsPgQte0gwXDbUoViYFzWQH6AYRXwMckKeu+6F4WVb/ge/6DB8MTPnoDB7BjX+wsPFzIuayCnCSQJDB9ZayWxucfwln9Vl2g0+ff6OL3X7yud5FQ+z+zYY3iYtI3Vwuql4a0mGttIqNdZMcyKYc+uTp8nJhj2WXAPD0cw7KG4AUwdl00RwXAAyeXRIeOyKSIY9iiBApiWYDgA0T06JMGwR8IGNG1c1kB+geFs2kJ18SL0PviQ7xENEgwnxo3D+BM/hY05dWM4bx9xWQM5VVESGP5I4nqnp6FlRzCsJZ/3xsOrhZsdUYHjN1evq/UfzmRSnjUu9/5s3TmCarDuVfN2dzx0YRZDfVsU/fNUsVSPqMezlrO1E3UhNwRPEYdrkzkrOAEduBaHnFUfJvw8cZAcQk2Ys0ID48Atfp44EE2wSRyuTeas4AR04JqfOVstFbHmiqsdeBlek86DD0LnfvsApuX5ScTl2nQqZF0fp/Zu2n0oIDD8B1YMuxlGd+fK5Qr4zg+vw9x9d6v1Fh7pMRwev7F+0F1HQjbblHEZrOvJo1yJLmVLWmbt7qJre/Ihi449d7uyiZpB32DJnmHIRk8ak8am/iKKZe+/MQ5KGlUxPHFMGqs35oJywZfjdqQTSFoGNg0UfTleUAcZ35XCYL6MXLEclAu+HHebCVlE/TM1nbTQkbGwobfgi6ZBHWRMRxKlchUD+Wh/nnANFFSGuX/crkwCMIzaXeSj/FBrg56Ir4FUVeLkMWmsivoaKGUhmTRra9ooP+KyBpo2IYs3feIKXVYVg488gsFFi31NHcswYFkGCiX/92CTv/RF9JUMX5hFXNZATpNHrfelPD4YEBj+I8GwlBTY2o/Hn34el111K66Yf1att3C7YJitJNhKQm5W2/OMrSTs6SV5NFtJSI6Ofd/i8jNKtpKwnxtSLeLyM0q2kpCagfb9YisJ+5pJtWArCamRceZXXNZAfrWSUFFIJkxk8/1Yd8OvnQXFoVVQrSSy79wdmYPnoq9kOvTcnllc1kD2VHl7tKRWEkckrht2GvXbw410du68/kDpZKfyeWbHHsMARqsW/sODj2OXHbfFrJnTa0FQrSTU4+xTj6v9JRgmGPbs6vR5YoJhnwX38HAEwx6KG8DUcdkUEQwHkFweHTIumyKCYY8SKIBpCYYDEN2jQxIMeyRsQNPGZQ3kJxhWoexOVDDw14eQe+El3yIbFBiedMpJGDDSvv1aNC5rIKeJIwkMv38rMOz0rOzZ/Ylg2J5gfo2+496HsGDhoqG+wY3HVZXEJ505f+if5h0xd4txBMMEw37lqdfHIRj2WmH/5icY9k9rP44Ul00RwbAf2eTPMeKyKSIY9ief/DgKwbAfKvtzDIJhf3T26yhxWQP5DYZrVcOlHNZdd4NfoUQQYLhz372R2m8/9JX9qRZWYsZlDeQ0cSSB4cOT1zo9DS27vxS/oGXvhTErhjVVJRgmGNZMITHmBMNiQqHtCMGwtoSiJojLpohgWFTaaTkTl00RwbBWmogyJhgWFQ4tZwiGteQTZxyXNZDfYFgFusuqoPDUU+h//B++xN1vMGx2dmDSyZ9HT66Mctm/+yHFZQ3kNGkkgeHDAgLDDxIMO00fuXYEwwTDcrPTnmcEw/b0kjyaYFhydOz7FpdNEcGw/dyQahGXTRHBsNQMtO8XwbB9zaRaEAxLjYwzv+KyBgoCDKv9wpiOBNbffAtKa9c5C5ANK7/B8Nij5qG67QwMFvy92V1c1kA2Qr/FUElg+NDkNU5PQ8vuoeIpWvZeGLNiWFNVgmGCYc0UEmNOMCwmFNqOEAxrSyhqgrhsigiGRaWdljNx2RQRDGuliShjgmFR4dByhmBYSz5xxnFZAwUBhlWwMykLyZ4NNTjs9cNPMJzdYzd0vOsQ9BTVzcL8fcRlDeRUVUlg+D1NwLCqLR8ta9x4/WGCYafpI9eOYJhgWG522vOMYNieXpJHEwxLjo593+KyKSIYtp8bUi3isikiGJaagfb9Ihi2r5lUC4JhqZFx5ldc1kBBR9DoWQAAIABJREFUgWEVla5EFaUXX0Tvgw85C1KbVn6B4eTUyZjw6ePRM1BEyccWEnUZ4rIGajPsWw2TBIbflfyF09PQsnuk+EUtey+MWTGsqSrBMMGwZgqJMScYFhMKbUcIhrUlFDVBXDZFBMOi0k7LmbhsigiGtdJElDHBsKhwaDlDMKwlnzjjuKyBggTDhgGMSVQx8OgCDDzzT89ywA8wbGTSmPiZE5BLpJEv+ttCgmC4vdSRBIYPSf4CVVRh1GqEN9cC+/H80eKp7Ynl4yiCYU2xCYYJhjVTSIw5wbCYUGg7QjCsLaGoCeKyKSIYFpV2Ws4QDGvJJ8pY3bl+XGcSazblRfnltjMEw24rGtx8BMPBae/FkeOyBgoSDKu41foNp030/PF/kXvpFS9CCT/A8IQTjkdp7Hjf+wo3ChaXNZDTJJEEhucmf/4WDq5jYX/+/r14mlP5PLMjGNaUlmCYYFgzhcSYEwyLCYW2IwTD2hKKmiAumyKCYVFpp+VMXDZFrBjWShNRxgTDosKh5QzBsJZ84ozjsgYKGgyrwCctE11ZC5vuvg/5Ja+6ngteg+Hxxx2LyoSJGCi67rqtCeOyBrIlSsNgSWD4wNTPtyDBqnq+Wm8i3OSvW68/RjDsNH3k2hEMEwzLzU57nhEM29NL8miCYcnRse9bXDZFBMP2c0OqRVw2RQTDUjPQvl8Ew/Y1k2pBMCw1Ms78issaSAIYrsHhhImuWuXwA8i98JKzoI1g5RUYNlJJjDvmaFTGjQscCqtTj8sayGlySALDB6SuqrWO2Hy7uc0tJfx4/kThdKfyeWbHimFNaQmGCYY1U0iMOcGwmFBoO0IwrC2hqAnisikiGBaVdlrOxGVTRDCslSaijAmGRYVDyxmCYS35xBnHZQ0kBQyrBEhYBrqSBgb+/hj6//GkaznhBRhOTJqIsR+dh2ImG2j7iEaR4rIGcpoYksDwfqkrnZ6Glt0/CIa19BNpTDBMMCwyMR04RTDsQDShJgTDQgPj0K24bIoIhh0miECzuGyKCIYFJp9DlwiGHQon0IxgWGBQNFyKyxpIEhhW4VJ7iU6zjNKK19Fz/x9RrejfyM1tMJyZ/Q6M/eARGChUkCuUNbLMXdO4rIGcqiYJDO8TEBh+kmDYafrItSMYJhiWm532PCMYtqeX5NEEw5KjY9+3uGyKCIbt54ZUi7hsigiGpWagfb8Ihu1rJtWCYFhqZJz5FZc1kDQwXI9WR9JAslxA7wN/QX7pMmdBfMvKLTBsJJPoft9hSO0wE/0VC6WyPrTWOrFhxnFZAznVTBIY3rsGhuutJOpnNFKTYfdef6pwhlP5PLNjKwlNaQmGCYY1U0iMOcGwmFBoO0IwrC2hqAnisikiGBaVdlrOxGVTRDCslSaijAmGRYVDyxmCYS35xBnHZQ0kFQyrhEglTGStCoqvLkPvw4+g0tfvKE/cAMPZPXZD13vehULZwEBJATx5j7isgZwqLwkM75m6ogEMj3LXubd6ENd7Eev+fabwZafyeWZHMKwpLcEwwbBmCokxJxgWEwptRwiGtSUUNUFcNkUEw6LSTsuZuGyKCIa10kSUMcGwqHBoOUMwrCWfOOO4rIEkg+F6UnSkLGTSFvqf+AcGFj6FymDOVr7ogOHMLjuhY+5BQLYDg1V5VcKNQsRlDWQr+A2DJYHhd6Z/9nbBsH9cGM8SDDtNH7l2BMMEw3Kz055nBMP29JI8mmBYcnTs+xaXTRHBsP3ckGoRl00RwbDUDLTvF8Gwfc2kWhAMS42MM7/isgYKAxhWEVTXV8YCMpkkBhe/gMFnnkXxzVVtBdcuGDZSSWTnzEZ2n72BVBo5WCiUZLWNaHbicVkDtRX0JoMkgeHd0z8NopMEnit8xal8ntmxYlhTWoJhgmHNFBJjTjAsJhTajhAMa0soaoK4bIoIhkWlnZYzcdkUEQxrpYkoY4JhUeHQcoZgWEs+ccZxWQOFBQzXE8Q0DKSTJlIoo5rPI7foeRSWLkVx1eoRc6gdMGx2dCA1c3tkdn0H0jO3Q34gj4JhoRgCIFw/8bisgZy+WUgCw3MUGB7qMdxYMlw/O8OT1xfnv+pUPs/sCIY1pSUYJhjWTCEx5gTDYkKh7QjBsLaEoiaIy6aIYFhU2mk5E5dNEcGwVpqIMiYYFhUOLWcIhrXkE2cclzVQ2MBwY6IkLBMps4oEKrASFgqr16C0ciVK69ajvKkHlf5+VHI5GOUyEiZQrBowUmmYHVlY3d1IjB+HxLRpSEybCiubRbFQRNFM1KqDqzLbCI96ncRlDeT0zUISGN41/ROnp6Fl90L+a1r2XhgTDGuqSjBMMKyZQmLMCYbFhELbEYJhbQlFTRCXTRHBsKi003ImLpsigmGtNBFlTDAsKhxazhAMa8knzjgua6Awg+HGpFGVxAnLgGUZMEtFWAZgWBZM06xB40TCQL5QRrVcQbVcRqVSRdm0UIaBcqWKUjmEJHjYVROXNZDTNwtJYPgdAYHhFwmGnaaPXDuCYYJhudlpzzOCYXt6SR5NMCw5OvZ9i8umiGDYfm5ItYjLpohgWGoG2veLYNi+ZlItCIalRsaZX3FZA0UFDI8W5XTSQlfWwrqegrNkCIlVXNZATsMhCQzvnP4xqqjCgNHQUML756/kv+5UPs/sWDGsKS3BMMGwZgqJMScYFhMKbUcIhrUlFDVBXDZFBMOi0k7LmbhsigiGtdJElDHBsKhwaDlDMKwlnzjjuKyBCIbFpZ5jh+KyBnIqkCQwvFMNDAMjdRL26t+X5M90Kp9ndgTDmtISDBMMa6aQGHOCYTGh0HaEYFhbQlETxGVTRDAsKu20nInLpohgWCtNRBkTDIsKh5YzBMNa8okzjssaiGBYXOo5diguayCnAkkCwzumfxQIGF7KimGn6SPXjmCYYFhudtrzjGDYnl6SRxMMS46Ofd/isikiGLafG1It4rIpIhiWmoH2/SIYtq+ZVAuCYamRceZXXNZABMPO8kOiVVzWQE61lwSGd8gEA4aX5dhKwmn+iLUjGCYYFpucNh0jGLYpmODhBMOCg+PAtbhsigiGHSSHUJO4bIoIhoUmoAO3CIYdiCbUhGBYaGAcuhWXNRDBsMMEEWgWlzWQU+klgeHtMpcDtZrh+qPePMLb56/lznYqn2d2bCWhKS3BMMGwZgqJMScYFhMKbUcIhrUlFDVBXDZFBMOi0k7LmbhsigiGtdJElDHBsKhwaDlDMKwlnzjjuKyBCIbFpZ5jh+KyBnIqkCQwPCNzmdPT0LJbQTCspZ9IY4JhgmGRienAKYJhB6IJNSEYFhoYh27FZVNEMOwwQQSaxWVTRDAsMPkcukQw7FA4gWYEwwKDouFSXNZABMMaSSLMNC5rIKeySwLD0zOXOj0NLbuVuX/TsvfCmBXDmqoSDBMMa6aQGHOCYTGh0HaEYFhbQlETxGVTRDAsKu20nInLpohgWCtNRBkTDIsKh5YzBMNa8okzjssaiGBYXOo5diguayCnAkkCw9vUwLBqJaFaSNQf3j9/I3fOFvLdce9D+PbF123xb184cR7OPvW42r89/vTzOOnM+bX/3nPOLFwx/yyMH9vtNARN7QiGNeUkGCYY1kwhMeYEw2JCoe0IwbC2hKImiMumiGBYVNppOROXTRHBsFaaiDImGBYVDi1nCIa15BNnHJc1EMGwuNRz7FBc1kBOBZIEhqdmLnF6Glp2q3Lf2AoML1i4CBeeczIymdQWry1ZthIXzL8GF513CmbNnA4FkUcaq+MUwbCOegAIhgmGNVNIjDnBsJhQaDtCMKwtoagJ4rIpIhgWlXZazsRlU0QwrJUmoowJhkWFQ8sZgmEt+cQZx2UNRDAsLvUcOxSXNZBTgSSB4SkBgeHVNsCwAsFLV6waqh4eDoqdxmG4HcGwppIEwwTDmikkxpxgWEwotB0hGNaWUNQEcdkUEQyLSjstZ+KyKSIY1koTUcYEw6LCoeUMwbCWfOKM47IGIhgWl3qOHYrLGsipQJLA8KSAwPDaJmC4sZVEYxuJy66+rSZ1va3Ehk29OOO8y3H2l47HAXvNdhqGrewIhjWlJBgmGNZMITHmBMNiQqHtCMGwtoSiJojLpohgWFTaaTkTl00RwbBWmogyJhgWFQ4tZwiGteQTZxyXNRDBsLjUc+xQXNZATgWSBIYnZlUriXpPYf/+rhs8d0T56uD3uKMOw7FHHgoFhneYMbX23+pBMOw08zy2IxgmGPY4xXybnmDYN6k9PxDBsOcS+3qAuGyKCIZ9TStPDxaXTRHBsKdp5OvkBMO+yu3pwQiGPZXX98njsgYiGPY9tTw7YFzWQE4FlASGx2d/EMCt54CNg98cVb7G9hGsGHaaaT7bEQwTDPuccp4djmDYM2l9n5hg2HfJPT1gXDZFBMOeppGvk8dlU0Qw7GtaeXowgmFP5fV1coJhX+X2/GBxWQMRDHueSr4dIC5rIKeCSgLD4xrAsH/1wsAmG2CYPYadZprPdgTDBMM+p5xnhyMY9kxa3ycmGPZdck8PGJdNEcGwp2nk6+Rx2RQRDPuaVp4ejGDYU3l9nZxg2Fe5PT9YXNZABMOep5JvB4jLGsipoJLA8JjsfKenoWXXM3jekH0uV8B/3/NXfHLee5HJpLZqFTH8ZnMKFC9YuAgXnnNybbxbD/YY1lSSYJhgWDOFxJgTDIsJhbYjBMPaEoqaIC6bIoJhUWmn5UxcNkUEw1ppIsqYYFhUOLScIRjWkk+ccVzWQATD4lLPsUNxWQM5FUgSGHZ6Dm7bqXYR1958z9C03z335KGewuofH3/6eZx05maIveecWbhi/lkYP7bbVTcIhjXlJBgmGNZMITHmBMNiQqHtCMGwtoSiJojLpohgWFTaaTkTl00RwbBWmogyJhgWFQ4tZwiGteQTZxyXNRDBsLjUc+xQXNZATgUiGHaqnLd2BMOa+hIMEwxrppAYc4JhMaHQdoRgWFtCURPEZVNEMCwq7bScicumiGBYK01EGRMMiwqHljMEw1ryiTOOyxqIYFhc6jl2KC5rIKcCEQw7Vc5bO4JhTX0JhgmGNVNIjDnBsJhQaDtCMKwtoagJ4rIpIhgWlXZazsRlU0QwrJUmoowJhkWFQ8sZgmEt+cQZx2UNRDAsLvUcOxSXNZBTgQiGnSrnrR3BsKa+BMMEw5opJMacYFhMKLQdIRjWllDUBHHZFBEMi0o7LWfisikiGNZKE1HGBMOiwqHlDMGwlnzijOOyBiIYFpd6jh2KyxrIqUAEw06V89aOYFhTX4JhgmHNFBJjTjAsJhTajhAMa0soaoK4bIoIhkWlnZYzcdkUEQxrpYkoY4JhUeHQcoZgWEs+ccZxWQMRDItLPccOxWUN5FQggmGnynlrRzCsqS/BMMGwZgqJMScYFhMKbUcIhrUlFDVBXDZFBMOi0k7LmbhsigiGtdJElDHBsKhwaDlDMKwlnzjjuKyBCIbFpZ5jh+KyBnIqEMGwU+W8tSMY1tSXYJhgWDOFxJgTDIsJhbYjBMPaEoqaIC6bIoJhUWmn5UxcNkUEw1ppIsqYYFhUOLScIRjWkk+ccVzWQATD4lLPsUNxWQM5FYhg2Kly3toRDGvqSzBMMKyZQmLMCYbFhELbEYJhbQlFTRCXTRHBsKi003ImLpsigmGtNBFlTDAsKhxazhAMa8knzjguayCCYXGp59ihuKyBnApEMOxUOW/tCIY19SUYJhjWTCEx5gTDYkKh7QjBsLaEoiaIy6aIYFhU2mk5E5dNEcGwVpqIMiYYFhUOLWcIhrXkE2cclzUQwbC41HPsUFzWQE4FIhh2qpy3dgTD3urL2akAFaACVIAKUAEqQAWoABWgAlSAClABKkAFqAAVoALiFCAYFhcSOkQFqAAVoAJUgApQASpABagAFaACVIAKUAEqQAWoABXwVgGCYW/15exUgApQASpABagAFaACVIAKUAEqQAWoABWgAlSAClABcQoQDIsLCR2iAlSAClABKkAFqAAVoAJUgApQASpABagAFaACVIAKeKsAwbC3+kZ+9suuvg07zJiKY488NHLnumTZSpx27qVYuWpd7dz2nDMLV8w/C+PHdkfqXIef57wj5uLCc05GJpOK1Hk2nozK28efXBy5eG7Y1IszzrsczyxeMnS606dOxM8v/jfMmjk9UvHM5Qr4zg+vwz0PLKid13fPPTlS70PNYhnV96Hh70FRi2X9wrvj3ofw7Yuvi+TniYrhJVfegovOP2WLz8ioXacqhktXrMLZpx631fupumYv+P41+Mbpnwr9+22ztd3jTz+Pk86cP3TeYV8rjBSvxus0Cp8to+WsOr/6Nar+O8xrv2Y5G7U10WjvMY2fo2Ff9zX7PBm+Tqi/EYX5fWika7PxPSjssRwtZ9U1e+3N99RCGdY4tvpcjNoaKFIbSZ7MVgoQDDMpHCnQ+KEV1U28erN/7fXVQ7BJfYC9uXpdqBfOzYKtYrndtlNwwF6zay+r81SPZhtfR8kizKi+EIki6K9vgs7+0vFD8RQmvyvu1Bdac/fdLVIwuJU4rTb4rewlvj48Z6Oaw+rz5LKrbh36MioqnyeN4KXZe2rj50mYY9u4+fvCifO2+Hxs3PiFfRM/2tquca1QP+dpUyaGbq0wWrzUa1f86vf41099uPYFR1Rztv5Z0KhFWMHMaDkb5vg1fl63eo9R0PSC+dfgovNOCfWXUq0+T4avYcJanDTa58nwtcLw5xLXcc18apWz6rpdsHBRbU+tHqrQI4yfJ60+F6OyBgpL3tFPPQUIhvX0i711WD+UnQQurB/Ods+18cM6alXDdbD2noPeuQWksauR1PFR2QS10jeKgLTVOUepGrHxXIdvaKMI/ZudU1Q28vVYNqvwapazYf/iMc4Vw8Pfo8K+VmjnPTUK70ej5Wx9Da9iW4c0YV33jVYxHJUvy5vlbD1HjzvqsMgUBIz0C5Tha4dmv1JptZaS9Hqza3P4+2rY1wrNcrbZXiUqe+zG+A3m81v9iijsayBJ1w99cV8BgmH3NY3VjHECw2HfBLWTmGGuAmp1fo3xe/aFJZEGw/VWEmGvXhsppo0/P1NjonqejecfZRiu4nnfnxbUWp6oR9g3e8PzthlcitqXOCP99Hd4FVvYP0cJht/O7rBvcNsBw/Wfr190wRdDC91GytnG+IX9ulRZ2U4ribCvFUaDbI0txMJa/T3aF43DP1ejsP9sdm3W1wbql5yqmvbePy8YsX1Rq32PhNfbBcNhB+B1rRvfV5udUxTeayXkFX3wRgGCYW90jc2sUfhgbidYUfnAGu1c67At7AvKZueovom+7a4Hh9qAROWb6Va5qxYg6ryj1Bu7WXVMFM+zMbbtAIxWuSD5dXU9XnrVrVi3flOtp3sU2xMN3wzEBQwPh/xh3xQRDG9+J4nCZ+ho76uNP2kP+/vRSFWJjb2yw35djgSGh3/uhX2t0Cxnh38pF4UCj1YVw61el7zeaecLf7Ufe+Hl5Xj4sWdDX/gw0vvs8C8Wo7DPHv652CxPo/BeG5bri37aV4Bg2L5mtGhQIA5gOAoVI3aSNoofWo096Bq1iGKf4agDxWZgOGqQrVlljPq3KPb9Hr5wrsdS/Sw2Sjc1HX4DEhXPsFevNeYpK4ZR60d7QYRvPlePt9r8XnDRL0J/U9N24hXVVhLDf3VTj22YCwPa2Y+0E3M762W/x7YDhqPwxc1o4DcK12Q9b9r50ibs77cjXXONX77V9QjznqxZnFgx7Pc7JI+nqwDBsK6CMbdvZyEWZoniBoVVrKLyTfxoeReFaqd2rquwb4JGOsfh7ztRPc/69RiFm8qMFMvh1fxqXNh/ot7OtaneZ2+64wF84/RPI6w9PVuBYfYYbicTZI4ZaW0Xdkjh5IvTsLfxacf/KBQEtLMfCftaYaSf5Q//QqrZ56rMd5rmXo22D4nS+r3ZtdlsfXvGeZcjrH2y273mVFz/7+/PhrIAYqTPxSiugcL0PkJf7StAMGxfM1o0KNDOQiysgkXhZy3taH/1r+/CEe/Zb+hOxiqmb65eN9R2oZ05wjYmSgvLRu3VeanHAXvNrv2NwmavWW4NX4RF9TzjAEmHf/kW1Yrh4UAqzBu9ZtfkSBv5qN2RO86tJKL2uTkSZPvlLffjjM99vPaFTRTej+IMhqO2JhrtZ/n1dbt6f/7OD6/D3H13C+2vbkb6PIlStXB9jd7Y0qX+b40t4ML+ZVw7YDjM++1Wn4tRWwOFbb9Pf+0pQDBsTy+OfkuB4T/Nj9JPYutBHqn9wPU/Pi+0NyEZCbKddOb8oZfC/FPCdi/QVh/k7c4jbVwdsqk+reoR5p9ltdK28fqM6nlGNU+Hx1adZ+N7UNh7ejbL3cafTUbp87LZz0G/cOK8oaqf4S00whrb4TmqYlxfCzRrExLWz9HR1nbN2g+EMZdbxWv4eUYxZ4e/R4X5y9XRcjYqa6JWOTv89cb34FZrKUmvt/o8CXOeNuo82udJvSDg2pvvqZmE8T1W+d0qZxuvzTCv4Vt9LkZlDSTpfYK+eKcAwbB32nJmKkAFqAAVoAJUgApQASpABagAFfj/27FjEgAAAASC/VubQvjhCoicmwQIECBAgACBpIBjODmLUgQIECBAgAABAgQIECBAgAABAgQIEPgJOIZ/tpIJECBAgAABAgQIECBAgAABAgQIECCQFHAMJ2dRigABAgQIECBAgAABAgQIECBAgAABAj8Bx/DPVjIBAgQIECBAgAABAgQIECBAgAABAgSSAo7h5CxKESBAgAABAgQIECBAgAABAgQIECBA4CfgGP7ZSiZAgAABAgQIECBAgAABAgQIECBAgEBSwDGcnEUpAgQIECBAgAABAgQIECBAgAABAgQI/AQcwz9byQQIECBAgAABAgQIECBAgAABAgQIEEgKOIaTsyhFgAABAgQIECBAgAABAgQIECBAgACBn4Bj+GcrmQABAgQIECBAgAABAgQIECBAgAABAkkBx3ByFqUIECBAgAABAgQIECBAgAABAgQIECDwE3AM/2wlEyBAgAABAgQIECBAgAABAgQIECBAICngGE7OohQBAgQIECBAgAABAgQIECBAgAABAgR+Ao7hn61kAgQIECBAgAABAgQIECBAgAABAgQIJAUcw8lZlCJAgAABAgQIECBAgAABAgQIECBAgMBPwDH8s5VMgAABAgQIECBAgAABAgQIECBAgACBpIBjODmLUgQIECBAgAABAgQIECBAgAABAgQIEPgJOIZ/tpIJECBAgAABAgQIECBAgAABAgQIECCQFHAMJ2dRigABAgQIECBAgAABAgQIECBAgAABAj8Bx/DPVjIBAgQIECBAgAABAgQIECBAgAABAgSSAo7h5CxKESBAgAABAgQIECBAgAABAgQIECBA4CfgGP7ZSiZAgAABAgQIECBAgAABAgQIECBAgEBSwDGcnEUpAgQIECBAgAABAgQIECBAgAABAgQI/AQcwz9byQQIECBAgAABAgQIECBAgAABAgQIEEgKOIaTsyhFgAABAgQIECBAgAABAgQIECBAgACBn4Bj+GcrmQABAgQIECBAgAABAgQIECBAgAABAkkBx3ByFqUIECBAgAABAgQIECBAgAABAgQIECDwE3AM/2wlEyBAgAABAgQIECBAgAABAgQIECBAICngGE7OohQBAgQIECBAgAABAgQIECBAgAABAgR+Ao7hn61kAgQIECBAgAABAgQIECBAgAABAgQIJAUcw8lZlCJAgAABAgQIECBAgAABAgQIECBAgMBPwDH8s5VMgAABAgQIECBAgAABAgQIECBAgACBpIBjODmLUgQIECBAgAABAgQIECBAgAABAgQIEPgJOIZ/tpIJECBAgAABAgQIECBAgAABAgQIECCQFHAMJ2dRigABAgQIECBAgAABAgQIECBAgAABAj8Bx/DPVjIBAgQIECBAgAABAgQIECBAgAABAgSSAo7h5CxKESBAgAABAgQIECBAgAABAgQIECBA4CfgGP7ZSiZAgAABAgQIECBAgAABAgQIECBAgEBSwDGcnEUpAgQIECBAgAABAgQIECBAgAABAgQI/AQcwz9byQQIECBAgAABAgQIECBAgAABAgQIEEgKOIaTsyhFgAABAgQIECBAgAABAgQIECBAgACBn4Bj+GcrmQABAgQIECBAgAABAgQIECBAgAABAkkBx3ByFqUIECBAgAABAgQIECBAgAABAgQIECDwE3AM/2wlEyBAgAABAgQIECBAgAABAgQIECBAICngGE7OohQBAgQIECBAgAABAgQIECBAgAABAgR+Ao7hn61kAgQIECBAgAABAgQIECBAgAABAgQIJAUcw8lZlCJAgAABAgQIECBAgAABAgQIECBAgMBPwDH8s5VMgAABAgQIECBAgAABAgQIECBAgACBpIBjODmLUgQIECBAgAABAgQIECBAgAABAgQIEPgJOIZ/tpIJECBAgAABAgQIECBAgAABAgQIECCQFHAMJ2dRigABAgQIECBAgAABAgQIECBAgAABAj8Bx/DPVjIBAgQIECBAgAABAgQIECBAgAABAgSSAo7h5CxKESBAgAABAgQIECBAgAABAgQIECBA4CfgGP7ZSiZAgAABAgQIECBAgAABAgQIECBAgEBSwDGcnEUpAgQIECBAgAABAgQIECBAgAABAgQI/AQcwz9byQQIECBAgAABAgQIECBAgAABAgQIEEgKOIaTsyhFgAABAgQIECBAgAABAgQIECBAgACBn4Bj+GcrmQABAgQIECBAgAABAgQIECBAgAABAkkBx3ByFqUIECBAgAABAgQIECBAgAABAgQIECDwE3AM/2wlEyBAgAABAgQIECBAgAABAgQIECBAICngGE7OohQBAgQIECBAgAABAgQIECBAgAABAgR+Ao7hn61kAgQIECBAgAABAgQIECBAgAABAgQIJAUcw8lZlCJAgACKuAztAAAAbUlEQVQBAgQIECBAgAABAgQIECBAgMBPwDH8s5VMgAABAgQIECBAgAABAgQIECBAgACBpIBjODmLUgQIECBAgAABAgQIECBAgAABAgQIEPgJOIZ/tpIJECBAgAABAgQIECBAgAABAgQIECCQFBivaebfW6QouQAAAABJRU5ErkJggg==)"
      ],
      "metadata": {
        "id": "6-tM0KCriaey"
      }
    },
    {
      "cell_type": "markdown",
      "source": [
        "California Institute of Technology birinci sıradadır. Ancak öğrenci sayısının çok az olması nedeniyle plotta gözükmemektedir. Çünkü plotta size öğrenci sayısına göre belirlenmişti.\n",
        "\n",
        "En büyük bubble University of Toronto'dur. Buradan öğrenci sayısı en fazla olan üniversite olduğu anlaşılır.\n",
        "\n",
        "Plotta sarı renkte olan Zurich Üniversitesinin international score'unun yüksek olduğu anlaşılır.\n",
        "\n",
        "x ve y ekseni bulunan 2 boyutlu grafik size eklenerek 3. boyuta ve color eklenerek de 4. boyuta çıkarılmıştır."
      ],
      "metadata": {
        "id": "d_WmbqZTkDn-"
      }
    }
  ]
}