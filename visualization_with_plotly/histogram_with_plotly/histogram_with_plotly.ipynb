{
  "nbformat": 4,
  "nbformat_minor": 0,
  "metadata": {
    "colab": {
      "name": "histogram_with_plotly.ipynb",
      "provenance": [],
      "collapsed_sections": []
    },
    "kernelspec": {
      "name": "python3",
      "display_name": "Python 3"
    },
    "language_info": {
      "name": "python"
    }
  },
  "cells": [
    {
      "cell_type": "markdown",
      "source": [
        "# **Histogram Plot**"
      ],
      "metadata": {
        "id": "gwpZai3ol_bC"
      }
    },
    {
      "cell_type": "markdown",
      "source": [
        "Bu plotta 2011 ve 2012 yıllarındaki student_staff_ratio (öğrenci sayısının çalışan sayısına oranı) görselleştirmek amaçlanmaktadır."
      ],
      "metadata": {
        "id": "onzrOGlWmTLF"
      }
    },
    {
      "cell_type": "code",
      "source": [
        "import pandas as pd\n",
        "import numpy as np\n",
        "import matplotlib.pyplot as plt\n",
        "from plotly.offline import iplot\n",
        "import plotly.graph_objs as go\n",
        "\n",
        "from google.colab import drive\n",
        "drive.mount('/content/drive')"
      ],
      "metadata": {
        "colab": {
          "base_uri": "https://localhost:8080/"
        },
        "id": "KQDBmfCwmpKy",
        "outputId": "e22d72c8-82a8-41f6-d9ac-1339d550e3b7"
      },
      "execution_count": 1,
      "outputs": [
        {
          "output_type": "stream",
          "name": "stdout",
          "text": [
            "Mounted at /content/drive\n"
          ]
        }
      ]
    },
    {
      "cell_type": "code",
      "source": [
        "!pip install --upgrade plotly "
      ],
      "metadata": {
        "id": "pYO-72EGmpC8"
      },
      "execution_count": null,
      "outputs": []
    },
    {
      "cell_type": "code",
      "source": [
        "!pip install jupyter-dash"
      ],
      "metadata": {
        "id": "SqV7zSYBmo7V"
      },
      "execution_count": null,
      "outputs": []
    },
    {
      "cell_type": "code",
      "source": [
        "timesData = pd.read_csv(\"/content/drive/MyDrive/data/timesData.csv\")"
      ],
      "metadata": {
        "id": "-Jmk-1z0mozS"
      },
      "execution_count": 4,
      "outputs": []
    },
    {
      "cell_type": "code",
      "source": [
        "timesData.head()"
      ],
      "metadata": {
        "colab": {
          "base_uri": "https://localhost:8080/",
          "height": 530
        },
        "id": "2Yc5JbR4mooN",
        "outputId": "b0e0fd72-7fc8-42db-a3ad-1d59238a3267"
      },
      "execution_count": 5,
      "outputs": [
        {
          "output_type": "execute_result",
          "data": {
            "text/plain": [
              "  world_rank                        university_name                   country  \\\n",
              "0          1                     Harvard University  United States of America   \n",
              "1          2     California Institute of Technology  United States of America   \n",
              "2          3  Massachusetts Institute of Technology  United States of America   \n",
              "3          4                    Stanford University  United States of America   \n",
              "4          5                   Princeton University  United States of America   \n",
              "\n",
              "   teaching international  research  citations income total_score  \\\n",
              "0      99.7          72.4      98.7       98.8   34.5        96.1   \n",
              "1      97.7          54.6      98.0       99.9   83.7        96.0   \n",
              "2      97.8          82.3      91.4       99.9   87.5        95.6   \n",
              "3      98.3          29.5      98.1       99.2   64.3        94.3   \n",
              "4      90.9          70.3      95.4       99.9      -        94.2   \n",
              "\n",
              "  num_students  student_staff_ratio international_students female_male_ratio  \\\n",
              "0       20,152                  8.9                    25%               NaN   \n",
              "1        2,243                  6.9                    27%           33 : 67   \n",
              "2       11,074                  9.0                    33%           37 : 63   \n",
              "3       15,596                  7.8                    22%           42 : 58   \n",
              "4        7,929                  8.4                    27%           45 : 55   \n",
              "\n",
              "   year  \n",
              "0  2011  \n",
              "1  2011  \n",
              "2  2011  \n",
              "3  2011  \n",
              "4  2011  "
            ],
            "text/html": [
              "\n",
              "  <div id=\"df-8b7280dc-c3a7-49e0-a25a-4d92771cfca5\">\n",
              "    <div class=\"colab-df-container\">\n",
              "      <div>\n",
              "<style scoped>\n",
              "    .dataframe tbody tr th:only-of-type {\n",
              "        vertical-align: middle;\n",
              "    }\n",
              "\n",
              "    .dataframe tbody tr th {\n",
              "        vertical-align: top;\n",
              "    }\n",
              "\n",
              "    .dataframe thead th {\n",
              "        text-align: right;\n",
              "    }\n",
              "</style>\n",
              "<table border=\"1\" class=\"dataframe\">\n",
              "  <thead>\n",
              "    <tr style=\"text-align: right;\">\n",
              "      <th></th>\n",
              "      <th>world_rank</th>\n",
              "      <th>university_name</th>\n",
              "      <th>country</th>\n",
              "      <th>teaching</th>\n",
              "      <th>international</th>\n",
              "      <th>research</th>\n",
              "      <th>citations</th>\n",
              "      <th>income</th>\n",
              "      <th>total_score</th>\n",
              "      <th>num_students</th>\n",
              "      <th>student_staff_ratio</th>\n",
              "      <th>international_students</th>\n",
              "      <th>female_male_ratio</th>\n",
              "      <th>year</th>\n",
              "    </tr>\n",
              "  </thead>\n",
              "  <tbody>\n",
              "    <tr>\n",
              "      <th>0</th>\n",
              "      <td>1</td>\n",
              "      <td>Harvard University</td>\n",
              "      <td>United States of America</td>\n",
              "      <td>99.7</td>\n",
              "      <td>72.4</td>\n",
              "      <td>98.7</td>\n",
              "      <td>98.8</td>\n",
              "      <td>34.5</td>\n",
              "      <td>96.1</td>\n",
              "      <td>20,152</td>\n",
              "      <td>8.9</td>\n",
              "      <td>25%</td>\n",
              "      <td>NaN</td>\n",
              "      <td>2011</td>\n",
              "    </tr>\n",
              "    <tr>\n",
              "      <th>1</th>\n",
              "      <td>2</td>\n",
              "      <td>California Institute of Technology</td>\n",
              "      <td>United States of America</td>\n",
              "      <td>97.7</td>\n",
              "      <td>54.6</td>\n",
              "      <td>98.0</td>\n",
              "      <td>99.9</td>\n",
              "      <td>83.7</td>\n",
              "      <td>96.0</td>\n",
              "      <td>2,243</td>\n",
              "      <td>6.9</td>\n",
              "      <td>27%</td>\n",
              "      <td>33 : 67</td>\n",
              "      <td>2011</td>\n",
              "    </tr>\n",
              "    <tr>\n",
              "      <th>2</th>\n",
              "      <td>3</td>\n",
              "      <td>Massachusetts Institute of Technology</td>\n",
              "      <td>United States of America</td>\n",
              "      <td>97.8</td>\n",
              "      <td>82.3</td>\n",
              "      <td>91.4</td>\n",
              "      <td>99.9</td>\n",
              "      <td>87.5</td>\n",
              "      <td>95.6</td>\n",
              "      <td>11,074</td>\n",
              "      <td>9.0</td>\n",
              "      <td>33%</td>\n",
              "      <td>37 : 63</td>\n",
              "      <td>2011</td>\n",
              "    </tr>\n",
              "    <tr>\n",
              "      <th>3</th>\n",
              "      <td>4</td>\n",
              "      <td>Stanford University</td>\n",
              "      <td>United States of America</td>\n",
              "      <td>98.3</td>\n",
              "      <td>29.5</td>\n",
              "      <td>98.1</td>\n",
              "      <td>99.2</td>\n",
              "      <td>64.3</td>\n",
              "      <td>94.3</td>\n",
              "      <td>15,596</td>\n",
              "      <td>7.8</td>\n",
              "      <td>22%</td>\n",
              "      <td>42 : 58</td>\n",
              "      <td>2011</td>\n",
              "    </tr>\n",
              "    <tr>\n",
              "      <th>4</th>\n",
              "      <td>5</td>\n",
              "      <td>Princeton University</td>\n",
              "      <td>United States of America</td>\n",
              "      <td>90.9</td>\n",
              "      <td>70.3</td>\n",
              "      <td>95.4</td>\n",
              "      <td>99.9</td>\n",
              "      <td>-</td>\n",
              "      <td>94.2</td>\n",
              "      <td>7,929</td>\n",
              "      <td>8.4</td>\n",
              "      <td>27%</td>\n",
              "      <td>45 : 55</td>\n",
              "      <td>2011</td>\n",
              "    </tr>\n",
              "  </tbody>\n",
              "</table>\n",
              "</div>\n",
              "      <button class=\"colab-df-convert\" onclick=\"convertToInteractive('df-8b7280dc-c3a7-49e0-a25a-4d92771cfca5')\"\n",
              "              title=\"Convert this dataframe to an interactive table.\"\n",
              "              style=\"display:none;\">\n",
              "        \n",
              "  <svg xmlns=\"http://www.w3.org/2000/svg\" height=\"24px\"viewBox=\"0 0 24 24\"\n",
              "       width=\"24px\">\n",
              "    <path d=\"M0 0h24v24H0V0z\" fill=\"none\"/>\n",
              "    <path d=\"M18.56 5.44l.94 2.06.94-2.06 2.06-.94-2.06-.94-.94-2.06-.94 2.06-2.06.94zm-11 1L8.5 8.5l.94-2.06 2.06-.94-2.06-.94L8.5 2.5l-.94 2.06-2.06.94zm10 10l.94 2.06.94-2.06 2.06-.94-2.06-.94-.94-2.06-.94 2.06-2.06.94z\"/><path d=\"M17.41 7.96l-1.37-1.37c-.4-.4-.92-.59-1.43-.59-.52 0-1.04.2-1.43.59L10.3 9.45l-7.72 7.72c-.78.78-.78 2.05 0 2.83L4 21.41c.39.39.9.59 1.41.59.51 0 1.02-.2 1.41-.59l7.78-7.78 2.81-2.81c.8-.78.8-2.07 0-2.86zM5.41 20L4 18.59l7.72-7.72 1.47 1.35L5.41 20z\"/>\n",
              "  </svg>\n",
              "      </button>\n",
              "      \n",
              "  <style>\n",
              "    .colab-df-container {\n",
              "      display:flex;\n",
              "      flex-wrap:wrap;\n",
              "      gap: 12px;\n",
              "    }\n",
              "\n",
              "    .colab-df-convert {\n",
              "      background-color: #E8F0FE;\n",
              "      border: none;\n",
              "      border-radius: 50%;\n",
              "      cursor: pointer;\n",
              "      display: none;\n",
              "      fill: #1967D2;\n",
              "      height: 32px;\n",
              "      padding: 0 0 0 0;\n",
              "      width: 32px;\n",
              "    }\n",
              "\n",
              "    .colab-df-convert:hover {\n",
              "      background-color: #E2EBFA;\n",
              "      box-shadow: 0px 1px 2px rgba(60, 64, 67, 0.3), 0px 1px 3px 1px rgba(60, 64, 67, 0.15);\n",
              "      fill: #174EA6;\n",
              "    }\n",
              "\n",
              "    [theme=dark] .colab-df-convert {\n",
              "      background-color: #3B4455;\n",
              "      fill: #D2E3FC;\n",
              "    }\n",
              "\n",
              "    [theme=dark] .colab-df-convert:hover {\n",
              "      background-color: #434B5C;\n",
              "      box-shadow: 0px 1px 3px 1px rgba(0, 0, 0, 0.15);\n",
              "      filter: drop-shadow(0px 1px 2px rgba(0, 0, 0, 0.3));\n",
              "      fill: #FFFFFF;\n",
              "    }\n",
              "  </style>\n",
              "\n",
              "      <script>\n",
              "        const buttonEl =\n",
              "          document.querySelector('#df-8b7280dc-c3a7-49e0-a25a-4d92771cfca5 button.colab-df-convert');\n",
              "        buttonEl.style.display =\n",
              "          google.colab.kernel.accessAllowed ? 'block' : 'none';\n",
              "\n",
              "        async function convertToInteractive(key) {\n",
              "          const element = document.querySelector('#df-8b7280dc-c3a7-49e0-a25a-4d92771cfca5');\n",
              "          const dataTable =\n",
              "            await google.colab.kernel.invokeFunction('convertToInteractive',\n",
              "                                                     [key], {});\n",
              "          if (!dataTable) return;\n",
              "\n",
              "          const docLinkHtml = 'Like what you see? Visit the ' +\n",
              "            '<a target=\"_blank\" href=https://colab.research.google.com/notebooks/data_table.ipynb>data table notebook</a>'\n",
              "            + ' to learn more about interactive tables.';\n",
              "          element.innerHTML = '';\n",
              "          dataTable['output_type'] = 'display_data';\n",
              "          await google.colab.output.renderOutput(dataTable, element);\n",
              "          const docLink = document.createElement('div');\n",
              "          docLink.innerHTML = docLinkHtml;\n",
              "          element.appendChild(docLink);\n",
              "        }\n",
              "      </script>\n",
              "    </div>\n",
              "  </div>\n",
              "  "
            ]
          },
          "metadata": {},
          "execution_count": 5
        }
      ]
    },
    {
      "cell_type": "code",
      "execution_count": 6,
      "metadata": {
        "id": "wLbeiKJGl-QC"
      },
      "outputs": [],
      "source": [
        "x2011 = timesData.student_staff_ratio[timesData.year == 2011]\n",
        "x2012 = timesData.student_staff_ratio[timesData.year == 2012] #2011 ve 2012 yıllarındaki student_staff_ratio oranından bir filtre oluşturulup,dataya uygulanır."
      ]
    },
    {
      "cell_type": "markdown",
      "source": [
        "Plotly'da bir kalıp vardır. Bu kalıp doğrultusunda görselleştirme yapılır.\n",
        "\n",
        "kullanılan kalıp;\n",
        "\n",
        "**trace** kısmı oluşturulurken\n",
        "\n",
        "*   **x** = x eksenine koyulacak sütun yazılır.\n",
        "*   **y** = x eksenine koyulacak sütun yazılır.\n",
        "*   **mode** = kullanılacak plotun türüdür.\n",
        "*   **name** = trace'in adıdır, kenarda hangi renkte hangi verinin kullanıldığının bilgisini verir.\n",
        "*   **marker** = dictionarylerle birlikte kullanılır, renk ve saydamlık belirlenir.\n",
        "*   **text** = plotun üzerinde gezinirken değerin ait olduğu bilgidir.\n",
        "\n",
        "**data** = traceler eklendiği listedir.\n",
        "\n",
        "**layout** = dictionarydir ve içerisinde şunları barındırır;\n",
        "*   **title** = başlık bilgisi\n",
        "*   **x axis** = bir dictionarydir ve içerisinde şunları barındırır;\n",
        "  *   **title** = x ekseninin adı\n",
        "  *   **ticklen** = x eksenindeki başlığın kalınlığı\n",
        "  *   **zeroline** = False olduğunda sıfırdan geçen çizgiler devre dışı bırakılır.\n",
        "\n",
        "**fig** = datayı ve layoutu içeren bir figür oluşturulur.\n",
        "\n",
        "**iplot()** = içerisinde data ve layout bulunan figür plot edilir.\n",
        "\n",
        "\n",
        "\n",
        "\n",
        "\n",
        "\n",
        "\n",
        "\n",
        "\n",
        "\n",
        "\n",
        "\n"
      ],
      "metadata": {
        "id": "lUh_tpG4nYhJ"
      }
    },
    {
      "cell_type": "code",
      "source": [
        "trace1 = go.Histogram(  #histogram türü\n",
        "    x=x2011,  #2011 yılındaki oran yazılır.\n",
        "    opacity=0.75,\n",
        "    name = \"2011\", #trace'in adı verilir.\n",
        "    marker=dict(color='rgba(171, 50, 96, 0.6)')) #renk ve saydamlık verilir.\n",
        "trace2 = go.Histogram(\n",
        "    x=x2012,\n",
        "    opacity=0.75,\n",
        "    name = \"2012\",\n",
        "    marker=dict(color='rgba(12, 50, 196, 0.6)'))\n",
        "\n",
        "data = [trace1, trace2]\n",
        "layout = go.Layout(barmode='overlay', #histogramlar üst üste/iç içe bindirilir.\n",
        "                   title=' students-staff ratio in 2011 and 2012',\n",
        "                   xaxis=dict(title='students-staff ratio'),\n",
        "                   yaxis=dict( title='Count'),\n",
        ")\n",
        "fig = go.Figure(data=data, layout=layout)\n",
        "iplot(fig)"
      ],
      "metadata": {
        "colab": {
          "base_uri": "https://localhost:8080/",
          "height": 542
        },
        "id": "rKoDMMZmmn7p",
        "outputId": "3666bac9-ec32-4935-c2ba-10342d1efe55"
      },
      "execution_count": 7,
      "outputs": [
        {
          "output_type": "display_data",
          "data": {
            "text/html": [
              "<html>\n",
              "<head><meta charset=\"utf-8\" /></head>\n",
              "<body>\n",
              "    <div>            <script src=\"https://cdnjs.cloudflare.com/ajax/libs/mathjax/2.7.5/MathJax.js?config=TeX-AMS-MML_SVG\"></script><script type=\"text/javascript\">if (window.MathJax && window.MathJax.Hub && window.MathJax.Hub.Config) {window.MathJax.Hub.Config({SVG: {font: \"STIX-Web\"}});}</script>                <script type=\"text/javascript\">window.PlotlyConfig = {MathJaxConfig: 'local'};</script>\n",
              "        <script src=\"https://cdn.plot.ly/plotly-2.8.3.min.js\"></script>                <div id=\"6806d2f3-818d-4593-b87f-0e03d55b8ed2\" class=\"plotly-graph-div\" style=\"height:525px; width:100%;\"></div>            <script type=\"text/javascript\">                                    window.PLOTLYENV=window.PLOTLYENV || {};                                    if (document.getElementById(\"6806d2f3-818d-4593-b87f-0e03d55b8ed2\")) {                    Plotly.newPlot(                        \"6806d2f3-818d-4593-b87f-0e03d55b8ed2\",                        [{\"marker\":{\"color\":\"rgba(171, 50, 96, 0.6)\"},\"name\":\"2011\",\"opacity\":0.75,\"x\":[8.9,6.9,9.0,7.8,8.4,11.8,11.6,16.4,11.7,4.4,10.3,6.9,3.6,10.2,14.7,9.0,19.5,5.9,6.5,13.1,17.6,10.7,11.8,4.8,13.8,5.7,20.1,10.1,27.3,17.6,7.3,6.5,18.7,15.5,13.7,23.7,8.3,5.7,4.8,14.1,23.8,7.9,19.2,11.5,25.6,null,9.0,10.5,16.1,7.9,3.6,18.0,10.0,13.9,10.1,13.0,5.6,13.7,8.6,6.8,4.5,15.5,13.8,5.8,6.4,13.4,16.1,14.0,22.7,5.5,20.2,10.2,30.1,12.9,11.8,18.0,11.4,10.9,10.0,17.4,32.7,null,24.5,16.9,15.7,null,15.3,15.9,11.5,13.5,6.5,4.6,19.3,24.5,12.0,12.7,17.3,8.4,6.6,8.0,31.5,15.1,12.7,15.0,17.3,18.1,13.5,12.1,12.4,13.9,11.0,null,7.3,16.0,11.9,null,22.0,15.0,41.9,13.3,14.0,15.7,5.0,34.1,14.9,17.1,21.6,16.0,23.7,7.8,21.5,5.0,31.2,11.6,11.1,13.1,15.5,20.3,16.3,8.7,15.3,12.2,15.4,17.0,18.9,16.4,23.3,18.2,25.9,15.8,19.4,17.2,15.2,25.9,18.3,13.6,17.4,null,18.9,15.9,29.9,17.4,19.6,8.5,14.4,13.6,13.6,14.7,38.4,25.6,16.6,9.3,67.8,16.2,14.7,15.0,4.1,52.5,40.5,70.4,16.6,27.6,22.2,18.8,12.0,59.1,24.6,16.9,38.9,10.8,15.7,11.6,14.4,14.6,20.5,19.0,9.2,15.9,28.3,4.6],\"type\":\"histogram\"},{\"marker\":{\"color\":\"rgba(12, 50, 196, 0.6)\"},\"name\":\"2012\",\"opacity\":0.75,\"x\":[6.9,8.9,7.8,11.6,8.4,11.8,9.0,11.7,6.9,16.4,4.4,5.9,10.3,3.6,14.7,6.5,10.7,9.0,19.5,10.2,13.1,4.8,17.6,20.1,11.8,13.8,10.8,13.7,17.4,5.7,18.7,11.5,6.5,17.6,27.3,14.1,23.7,19.2,13.9,15.5,5.7,18.0,7.3,6.8,15.5,10.5,null,15.3,10.1,8.3,12.4,5.6,10.1,8.6,12.9,11.4,13.4,20.2,5.8,7.9,6.5,23.8,4.8,13.0,19.3,14.0,41.9,15.4,25.6,3.6,13.7,9.0,24.5,32.7,4.5,17.0,10.0,16.1,17.1,11.5,17.3,4.5,15.7,8.7,12.7,16.1,18.2,31.5,13.8,6.6,15.1,14.4,6.4,10.0,8.4,15.7,12.7,18.1,17.4,21.6,15.5,16.0,12.1,19.4,20.3,34.1,15.9,7.3,52.5,22.7,17.3,22.5,16.9,10.9,16.0,13.1,40.5,18.0,7.8,5.0,10.7,null,13.6,13.9,13.6,18.7,29.9,14.0,13.5,15.0,14.9,23.7,14.7,25.6,12.0,4.1,10.2,8.5,20.5,15.0,11.6,8.0,22.0,15.0,14.7,15.2,11.8,16.4,17.2,12.6,10.2,39.3,15.8,11.9,5.5,18.8,18.9,16.6,13.0,24.5,16.3,null,4.6,21.4,14.8,24.4,9.2,27.6,16.2,14.8,42.0,5.7,22.1,18.9,25.9,15.3,21.5,5.0,14.6,15.9,9.3,13.6,18.8,17.4,26.3,18.3,14.6,38.9,31.2,20.7,11.1,7.9,7.1,59.1,17.4,24.6,null,18.9,13.4,12.0,12.3,null,13.1,18.2,7.9,13.5,15.1,19.4,8.4,11.2,11.9,19.0,30.1,12.2,15.7,19.8,19.9,16.4,16.9,null,20.3,16.3,17.8,24.2,20.7,38.4,26.1,29.8,11.6,19.0,8.3,14.4,10.8,12.2,15.8,20.0,16.6,28.3,18.5,4.6,9.9,22.9,16.5,null,24.3,72.5,14.1,18.3,25.8,11.6,19.5,67.8,17.6,25.9,29.1,6.7,13.3,19.6,13.9,17.9,46.3,23.0,22.4,37.4,18.8,26.8,null,23.8,12.7,22.8,18.6,12.6,25.4,21.1,18.6,10.7,19.2,13.0,8.2,11.0,16.0,7.7,22.2,18.4,35.8,15.3,16.6,53.6,3.3,12.2,30.3,26.9,28.3,25.9,null,null,46.1,21.9,26.9,43.2,39.4,15.9,24.2,23.3,16.0,23.3,25.0,25.4,13.0,17.0,14.9,11.5,15.7,11.9,19.0,11.3,7.7,17.4,25.9,22.2,32.3,12.8,18.7,20.3,22.3,17.8,16.5,17.3,30.2,19.4,43.7,18.7,25.9,27.8,18.1,25.3,null,18.0,18.8,21.5,15.9,16.6,9.5,23.8,15.4,17.0,14.1,52.0,17.1,18.3,15.9,null,17.6,17.1,17.1,30.4,22.6,20.4,22.0,10.8,17.8,8.2,15.1,8.4,17.4,29.0,62.7,19.8,15.9,7.5,16.8,null,9.8,20.9,26.8,28.0,26.2,17.9,null,11.7,19.6,13.6,15.3,5.2,17.1,36.5,14.4,65.1,19.0,21.5,14.4,23.4,58.4,26.2,20.2,13.0,14.6,null,11.8,16.9,14.4,20.6],\"type\":\"histogram\"}],                        {\"barmode\":\"overlay\",\"template\":{\"data\":{\"barpolar\":[{\"marker\":{\"line\":{\"color\":\"#E5ECF6\",\"width\":0.5},\"pattern\":{\"fillmode\":\"overlay\",\"size\":10,\"solidity\":0.2}},\"type\":\"barpolar\"}],\"bar\":[{\"error_x\":{\"color\":\"#2a3f5f\"},\"error_y\":{\"color\":\"#2a3f5f\"},\"marker\":{\"line\":{\"color\":\"#E5ECF6\",\"width\":0.5},\"pattern\":{\"fillmode\":\"overlay\",\"size\":10,\"solidity\":0.2}},\"type\":\"bar\"}],\"carpet\":[{\"aaxis\":{\"endlinecolor\":\"#2a3f5f\",\"gridcolor\":\"white\",\"linecolor\":\"white\",\"minorgridcolor\":\"white\",\"startlinecolor\":\"#2a3f5f\"},\"baxis\":{\"endlinecolor\":\"#2a3f5f\",\"gridcolor\":\"white\",\"linecolor\":\"white\",\"minorgridcolor\":\"white\",\"startlinecolor\":\"#2a3f5f\"},\"type\":\"carpet\"}],\"choropleth\":[{\"colorbar\":{\"outlinewidth\":0,\"ticks\":\"\"},\"type\":\"choropleth\"}],\"contourcarpet\":[{\"colorbar\":{\"outlinewidth\":0,\"ticks\":\"\"},\"type\":\"contourcarpet\"}],\"contour\":[{\"colorbar\":{\"outlinewidth\":0,\"ticks\":\"\"},\"colorscale\":[[0.0,\"#0d0887\"],[0.1111111111111111,\"#46039f\"],[0.2222222222222222,\"#7201a8\"],[0.3333333333333333,\"#9c179e\"],[0.4444444444444444,\"#bd3786\"],[0.5555555555555556,\"#d8576b\"],[0.6666666666666666,\"#ed7953\"],[0.7777777777777778,\"#fb9f3a\"],[0.8888888888888888,\"#fdca26\"],[1.0,\"#f0f921\"]],\"type\":\"contour\"}],\"heatmapgl\":[{\"colorbar\":{\"outlinewidth\":0,\"ticks\":\"\"},\"colorscale\":[[0.0,\"#0d0887\"],[0.1111111111111111,\"#46039f\"],[0.2222222222222222,\"#7201a8\"],[0.3333333333333333,\"#9c179e\"],[0.4444444444444444,\"#bd3786\"],[0.5555555555555556,\"#d8576b\"],[0.6666666666666666,\"#ed7953\"],[0.7777777777777778,\"#fb9f3a\"],[0.8888888888888888,\"#fdca26\"],[1.0,\"#f0f921\"]],\"type\":\"heatmapgl\"}],\"heatmap\":[{\"colorbar\":{\"outlinewidth\":0,\"ticks\":\"\"},\"colorscale\":[[0.0,\"#0d0887\"],[0.1111111111111111,\"#46039f\"],[0.2222222222222222,\"#7201a8\"],[0.3333333333333333,\"#9c179e\"],[0.4444444444444444,\"#bd3786\"],[0.5555555555555556,\"#d8576b\"],[0.6666666666666666,\"#ed7953\"],[0.7777777777777778,\"#fb9f3a\"],[0.8888888888888888,\"#fdca26\"],[1.0,\"#f0f921\"]],\"type\":\"heatmap\"}],\"histogram2dcontour\":[{\"colorbar\":{\"outlinewidth\":0,\"ticks\":\"\"},\"colorscale\":[[0.0,\"#0d0887\"],[0.1111111111111111,\"#46039f\"],[0.2222222222222222,\"#7201a8\"],[0.3333333333333333,\"#9c179e\"],[0.4444444444444444,\"#bd3786\"],[0.5555555555555556,\"#d8576b\"],[0.6666666666666666,\"#ed7953\"],[0.7777777777777778,\"#fb9f3a\"],[0.8888888888888888,\"#fdca26\"],[1.0,\"#f0f921\"]],\"type\":\"histogram2dcontour\"}],\"histogram2d\":[{\"colorbar\":{\"outlinewidth\":0,\"ticks\":\"\"},\"colorscale\":[[0.0,\"#0d0887\"],[0.1111111111111111,\"#46039f\"],[0.2222222222222222,\"#7201a8\"],[0.3333333333333333,\"#9c179e\"],[0.4444444444444444,\"#bd3786\"],[0.5555555555555556,\"#d8576b\"],[0.6666666666666666,\"#ed7953\"],[0.7777777777777778,\"#fb9f3a\"],[0.8888888888888888,\"#fdca26\"],[1.0,\"#f0f921\"]],\"type\":\"histogram2d\"}],\"histogram\":[{\"marker\":{\"pattern\":{\"fillmode\":\"overlay\",\"size\":10,\"solidity\":0.2}},\"type\":\"histogram\"}],\"mesh3d\":[{\"colorbar\":{\"outlinewidth\":0,\"ticks\":\"\"},\"type\":\"mesh3d\"}],\"parcoords\":[{\"line\":{\"colorbar\":{\"outlinewidth\":0,\"ticks\":\"\"}},\"type\":\"parcoords\"}],\"pie\":[{\"automargin\":true,\"type\":\"pie\"}],\"scatter3d\":[{\"line\":{\"colorbar\":{\"outlinewidth\":0,\"ticks\":\"\"}},\"marker\":{\"colorbar\":{\"outlinewidth\":0,\"ticks\":\"\"}},\"type\":\"scatter3d\"}],\"scattercarpet\":[{\"marker\":{\"colorbar\":{\"outlinewidth\":0,\"ticks\":\"\"}},\"type\":\"scattercarpet\"}],\"scattergeo\":[{\"marker\":{\"colorbar\":{\"outlinewidth\":0,\"ticks\":\"\"}},\"type\":\"scattergeo\"}],\"scattergl\":[{\"marker\":{\"colorbar\":{\"outlinewidth\":0,\"ticks\":\"\"}},\"type\":\"scattergl\"}],\"scattermapbox\":[{\"marker\":{\"colorbar\":{\"outlinewidth\":0,\"ticks\":\"\"}},\"type\":\"scattermapbox\"}],\"scatterpolargl\":[{\"marker\":{\"colorbar\":{\"outlinewidth\":0,\"ticks\":\"\"}},\"type\":\"scatterpolargl\"}],\"scatterpolar\":[{\"marker\":{\"colorbar\":{\"outlinewidth\":0,\"ticks\":\"\"}},\"type\":\"scatterpolar\"}],\"scatter\":[{\"fillpattern\":{\"fillmode\":\"overlay\",\"size\":10,\"solidity\":0.2},\"type\":\"scatter\"}],\"scatterternary\":[{\"marker\":{\"colorbar\":{\"outlinewidth\":0,\"ticks\":\"\"}},\"type\":\"scatterternary\"}],\"surface\":[{\"colorbar\":{\"outlinewidth\":0,\"ticks\":\"\"},\"colorscale\":[[0.0,\"#0d0887\"],[0.1111111111111111,\"#46039f\"],[0.2222222222222222,\"#7201a8\"],[0.3333333333333333,\"#9c179e\"],[0.4444444444444444,\"#bd3786\"],[0.5555555555555556,\"#d8576b\"],[0.6666666666666666,\"#ed7953\"],[0.7777777777777778,\"#fb9f3a\"],[0.8888888888888888,\"#fdca26\"],[1.0,\"#f0f921\"]],\"type\":\"surface\"}],\"table\":[{\"cells\":{\"fill\":{\"color\":\"#EBF0F8\"},\"line\":{\"color\":\"white\"}},\"header\":{\"fill\":{\"color\":\"#C8D4E3\"},\"line\":{\"color\":\"white\"}},\"type\":\"table\"}]},\"layout\":{\"annotationdefaults\":{\"arrowcolor\":\"#2a3f5f\",\"arrowhead\":0,\"arrowwidth\":1},\"autotypenumbers\":\"strict\",\"coloraxis\":{\"colorbar\":{\"outlinewidth\":0,\"ticks\":\"\"}},\"colorscale\":{\"diverging\":[[0,\"#8e0152\"],[0.1,\"#c51b7d\"],[0.2,\"#de77ae\"],[0.3,\"#f1b6da\"],[0.4,\"#fde0ef\"],[0.5,\"#f7f7f7\"],[0.6,\"#e6f5d0\"],[0.7,\"#b8e186\"],[0.8,\"#7fbc41\"],[0.9,\"#4d9221\"],[1,\"#276419\"]],\"sequential\":[[0.0,\"#0d0887\"],[0.1111111111111111,\"#46039f\"],[0.2222222222222222,\"#7201a8\"],[0.3333333333333333,\"#9c179e\"],[0.4444444444444444,\"#bd3786\"],[0.5555555555555556,\"#d8576b\"],[0.6666666666666666,\"#ed7953\"],[0.7777777777777778,\"#fb9f3a\"],[0.8888888888888888,\"#fdca26\"],[1.0,\"#f0f921\"]],\"sequentialminus\":[[0.0,\"#0d0887\"],[0.1111111111111111,\"#46039f\"],[0.2222222222222222,\"#7201a8\"],[0.3333333333333333,\"#9c179e\"],[0.4444444444444444,\"#bd3786\"],[0.5555555555555556,\"#d8576b\"],[0.6666666666666666,\"#ed7953\"],[0.7777777777777778,\"#fb9f3a\"],[0.8888888888888888,\"#fdca26\"],[1.0,\"#f0f921\"]]},\"colorway\":[\"#636efa\",\"#EF553B\",\"#00cc96\",\"#ab63fa\",\"#FFA15A\",\"#19d3f3\",\"#FF6692\",\"#B6E880\",\"#FF97FF\",\"#FECB52\"],\"font\":{\"color\":\"#2a3f5f\"},\"geo\":{\"bgcolor\":\"white\",\"lakecolor\":\"white\",\"landcolor\":\"#E5ECF6\",\"showlakes\":true,\"showland\":true,\"subunitcolor\":\"white\"},\"hoverlabel\":{\"align\":\"left\"},\"hovermode\":\"closest\",\"mapbox\":{\"style\":\"light\"},\"paper_bgcolor\":\"white\",\"plot_bgcolor\":\"#E5ECF6\",\"polar\":{\"angularaxis\":{\"gridcolor\":\"white\",\"linecolor\":\"white\",\"ticks\":\"\"},\"bgcolor\":\"#E5ECF6\",\"radialaxis\":{\"gridcolor\":\"white\",\"linecolor\":\"white\",\"ticks\":\"\"}},\"scene\":{\"xaxis\":{\"backgroundcolor\":\"#E5ECF6\",\"gridcolor\":\"white\",\"gridwidth\":2,\"linecolor\":\"white\",\"showbackground\":true,\"ticks\":\"\",\"zerolinecolor\":\"white\"},\"yaxis\":{\"backgroundcolor\":\"#E5ECF6\",\"gridcolor\":\"white\",\"gridwidth\":2,\"linecolor\":\"white\",\"showbackground\":true,\"ticks\":\"\",\"zerolinecolor\":\"white\"},\"zaxis\":{\"backgroundcolor\":\"#E5ECF6\",\"gridcolor\":\"white\",\"gridwidth\":2,\"linecolor\":\"white\",\"showbackground\":true,\"ticks\":\"\",\"zerolinecolor\":\"white\"}},\"shapedefaults\":{\"line\":{\"color\":\"#2a3f5f\"}},\"ternary\":{\"aaxis\":{\"gridcolor\":\"white\",\"linecolor\":\"white\",\"ticks\":\"\"},\"baxis\":{\"gridcolor\":\"white\",\"linecolor\":\"white\",\"ticks\":\"\"},\"bgcolor\":\"#E5ECF6\",\"caxis\":{\"gridcolor\":\"white\",\"linecolor\":\"white\",\"ticks\":\"\"}},\"title\":{\"x\":0.05},\"xaxis\":{\"automargin\":true,\"gridcolor\":\"white\",\"linecolor\":\"white\",\"ticks\":\"\",\"title\":{\"standoff\":15},\"zerolinecolor\":\"white\",\"zerolinewidth\":2},\"yaxis\":{\"automargin\":true,\"gridcolor\":\"white\",\"linecolor\":\"white\",\"ticks\":\"\",\"title\":{\"standoff\":15},\"zerolinecolor\":\"white\",\"zerolinewidth\":2}}},\"title\":{\"text\":\" students-staff ratio in 2011 and 2012\"},\"xaxis\":{\"title\":{\"text\":\"students-staff ratio\"}},\"yaxis\":{\"title\":{\"text\":\"Count\"}}},                        {\"responsive\": true}                    ).then(function(){\n",
              "                            \n",
              "var gd = document.getElementById('6806d2f3-818d-4593-b87f-0e03d55b8ed2');\n",
              "var x = new MutationObserver(function (mutations, observer) {{\n",
              "        var display = window.getComputedStyle(gd).display;\n",
              "        if (!display || display === 'none') {{\n",
              "            console.log([gd, 'removed!']);\n",
              "            Plotly.purge(gd);\n",
              "            observer.disconnect();\n",
              "        }}\n",
              "}});\n",
              "\n",
              "// Listen for the removal of the full notebook cells\n",
              "var notebookContainer = gd.closest('#notebook-container');\n",
              "if (notebookContainer) {{\n",
              "    x.observe(notebookContainer, {childList: true});\n",
              "}}\n",
              "\n",
              "// Listen for the clearing of the current output cell\n",
              "var outputEl = gd.closest('.output');\n",
              "if (outputEl) {{\n",
              "    x.observe(outputEl, {childList: true});\n",
              "}}\n",
              "\n",
              "                        })                };                            </script>        </div>\n",
              "</body>\n",
              "</html>"
            ]
          },
          "metadata": {}
        }
      ]
    },
    {
      "cell_type": "markdown",
      "source": [
        "Github'da Ipython kernel olmadığı için pyplot görselleştirmeleri \n",
        "gözükmemektedir. Bu yüzden png formatında yüklenmiştir."
      ],
      "metadata": {
        "id": "tr3dwmpZDLyi"
      }
    },
    {
      "cell_type": "markdown",
      "source": [
        "![newplot (9).png](data:image/png;base64,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)"
      ],
      "metadata": {
        "id": "kdQ57npmDHPP"
      }
    },
    {
      "cell_type": "markdown",
      "source": [
        "Histogram ile bir değerin datadaki sıklığı belirlenir."
      ],
      "metadata": {
        "id": "BRwl0sZCno6_"
      }
    }
  ]
}