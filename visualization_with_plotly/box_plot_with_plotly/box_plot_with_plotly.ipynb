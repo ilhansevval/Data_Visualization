{
  "nbformat": 4,
  "nbformat_minor": 0,
  "metadata": {
    "colab": {
      "name": "box_plot_with_plotly.ipynb",
      "provenance": []
    },
    "kernelspec": {
      "name": "python3",
      "display_name": "Python 3"
    },
    "language_info": {
      "name": "python"
    }
  },
  "cells": [
    {
      "cell_type": "markdown",
      "source": [
        "# **Box Plot**"
      ],
      "metadata": {
        "id": "ErkEkhzIENcd"
      }
    },
    {
      "cell_type": "markdown",
      "source": [
        "*   box plotta kutunun içindeki çizgi **median** değerini, kutunun kenarlarındaki çizgiler **lower quartile** ve **upper quartile** değerlerini verir. kısa çizgiler ise minimum ve maximum değerleridir.\n",
        "*   **lower quartile** listedeki en küçük sayı ile listenin medianının ortasındaki sayıdır, first quantile (25%) olarak da adlandırılır. \n",
        "*   **Upper quartile** listenin medianı ile listedeki en büyük sayının ortasındaki sayıdır, third quantile (75%) olarak da adlandırılır.\n",
        "*   Lower quartile(Q1) ile upper quartile(Q3) arasındaki mesafe **interquartile** range'dir, yani boxun uzunluğudur.\n",
        "*   Minimum değerin altında ve maximum değerin üstünde kalan değerler **outlier**dır.\n",
        "*   Boxplotta kutu ne kadar uzun olursa veri o kadar dağılmış demektir."
      ],
      "metadata": {
        "id": "c-AIRsC9Ev2H"
      }
    },
    {
      "cell_type": "markdown",
      "source": [
        "Bu görselleştirmede 2015 yılındaki üniversitelerin uluslararası skoru ve öğretme değerini görselleştirmek amaçlanmaktadır."
      ],
      "metadata": {
        "id": "J2UtQYuYE9NB"
      }
    },
    {
      "cell_type": "code",
      "execution_count": 1,
      "metadata": {
        "colab": {
          "base_uri": "https://localhost:8080/"
        },
        "id": "xOsoGVzFDpeb",
        "outputId": "91b6fe4d-c417-44e3-b702-dd73c3383682"
      },
      "outputs": [
        {
          "output_type": "stream",
          "name": "stdout",
          "text": [
            "Mounted at /content/drive\n"
          ]
        }
      ],
      "source": [
        "import pandas as pd\n",
        "import numpy as np\n",
        "import matplotlib.pyplot as plt\n",
        "from plotly.offline import iplot\n",
        "import plotly.graph_objs as go\n",
        "\n",
        "from google.colab import drive\n",
        "drive.mount('/content/drive')"
      ]
    },
    {
      "cell_type": "code",
      "source": [
        "!pip install --upgrade plotly "
      ],
      "metadata": {
        "id": "5tgh5ffGFUJB"
      },
      "execution_count": null,
      "outputs": []
    },
    {
      "cell_type": "code",
      "source": [
        "!pip install jupyter-dash"
      ],
      "metadata": {
        "id": "3gyPxNLcFWK1"
      },
      "execution_count": null,
      "outputs": []
    },
    {
      "cell_type": "code",
      "source": [
        "timesData = pd.read_csv(\"/content/drive/MyDrive/data/timesData.csv\")"
      ],
      "metadata": {
        "id": "YK1Jy8QZFYRt"
      },
      "execution_count": 4,
      "outputs": []
    },
    {
      "cell_type": "code",
      "source": [
        "timesData.head()"
      ],
      "metadata": {
        "colab": {
          "base_uri": "https://localhost:8080/",
          "height": 530
        },
        "id": "JLH7pXCIFaPX",
        "outputId": "17b18742-0549-4417-dd96-7ef6094a2e3d"
      },
      "execution_count": 5,
      "outputs": [
        {
          "output_type": "execute_result",
          "data": {
            "text/plain": [
              "  world_rank                        university_name                   country  \\\n",
              "0          1                     Harvard University  United States of America   \n",
              "1          2     California Institute of Technology  United States of America   \n",
              "2          3  Massachusetts Institute of Technology  United States of America   \n",
              "3          4                    Stanford University  United States of America   \n",
              "4          5                   Princeton University  United States of America   \n",
              "\n",
              "   teaching international  research  citations income total_score  \\\n",
              "0      99.7          72.4      98.7       98.8   34.5        96.1   \n",
              "1      97.7          54.6      98.0       99.9   83.7        96.0   \n",
              "2      97.8          82.3      91.4       99.9   87.5        95.6   \n",
              "3      98.3          29.5      98.1       99.2   64.3        94.3   \n",
              "4      90.9          70.3      95.4       99.9      -        94.2   \n",
              "\n",
              "  num_students  student_staff_ratio international_students female_male_ratio  \\\n",
              "0       20,152                  8.9                    25%               NaN   \n",
              "1        2,243                  6.9                    27%           33 : 67   \n",
              "2       11,074                  9.0                    33%           37 : 63   \n",
              "3       15,596                  7.8                    22%           42 : 58   \n",
              "4        7,929                  8.4                    27%           45 : 55   \n",
              "\n",
              "   year  \n",
              "0  2011  \n",
              "1  2011  \n",
              "2  2011  \n",
              "3  2011  \n",
              "4  2011  "
            ],
            "text/html": [
              "\n",
              "  <div id=\"df-490487ae-3e88-4f18-9bca-6d98b50708a4\">\n",
              "    <div class=\"colab-df-container\">\n",
              "      <div>\n",
              "<style scoped>\n",
              "    .dataframe tbody tr th:only-of-type {\n",
              "        vertical-align: middle;\n",
              "    }\n",
              "\n",
              "    .dataframe tbody tr th {\n",
              "        vertical-align: top;\n",
              "    }\n",
              "\n",
              "    .dataframe thead th {\n",
              "        text-align: right;\n",
              "    }\n",
              "</style>\n",
              "<table border=\"1\" class=\"dataframe\">\n",
              "  <thead>\n",
              "    <tr style=\"text-align: right;\">\n",
              "      <th></th>\n",
              "      <th>world_rank</th>\n",
              "      <th>university_name</th>\n",
              "      <th>country</th>\n",
              "      <th>teaching</th>\n",
              "      <th>international</th>\n",
              "      <th>research</th>\n",
              "      <th>citations</th>\n",
              "      <th>income</th>\n",
              "      <th>total_score</th>\n",
              "      <th>num_students</th>\n",
              "      <th>student_staff_ratio</th>\n",
              "      <th>international_students</th>\n",
              "      <th>female_male_ratio</th>\n",
              "      <th>year</th>\n",
              "    </tr>\n",
              "  </thead>\n",
              "  <tbody>\n",
              "    <tr>\n",
              "      <th>0</th>\n",
              "      <td>1</td>\n",
              "      <td>Harvard University</td>\n",
              "      <td>United States of America</td>\n",
              "      <td>99.7</td>\n",
              "      <td>72.4</td>\n",
              "      <td>98.7</td>\n",
              "      <td>98.8</td>\n",
              "      <td>34.5</td>\n",
              "      <td>96.1</td>\n",
              "      <td>20,152</td>\n",
              "      <td>8.9</td>\n",
              "      <td>25%</td>\n",
              "      <td>NaN</td>\n",
              "      <td>2011</td>\n",
              "    </tr>\n",
              "    <tr>\n",
              "      <th>1</th>\n",
              "      <td>2</td>\n",
              "      <td>California Institute of Technology</td>\n",
              "      <td>United States of America</td>\n",
              "      <td>97.7</td>\n",
              "      <td>54.6</td>\n",
              "      <td>98.0</td>\n",
              "      <td>99.9</td>\n",
              "      <td>83.7</td>\n",
              "      <td>96.0</td>\n",
              "      <td>2,243</td>\n",
              "      <td>6.9</td>\n",
              "      <td>27%</td>\n",
              "      <td>33 : 67</td>\n",
              "      <td>2011</td>\n",
              "    </tr>\n",
              "    <tr>\n",
              "      <th>2</th>\n",
              "      <td>3</td>\n",
              "      <td>Massachusetts Institute of Technology</td>\n",
              "      <td>United States of America</td>\n",
              "      <td>97.8</td>\n",
              "      <td>82.3</td>\n",
              "      <td>91.4</td>\n",
              "      <td>99.9</td>\n",
              "      <td>87.5</td>\n",
              "      <td>95.6</td>\n",
              "      <td>11,074</td>\n",
              "      <td>9.0</td>\n",
              "      <td>33%</td>\n",
              "      <td>37 : 63</td>\n",
              "      <td>2011</td>\n",
              "    </tr>\n",
              "    <tr>\n",
              "      <th>3</th>\n",
              "      <td>4</td>\n",
              "      <td>Stanford University</td>\n",
              "      <td>United States of America</td>\n",
              "      <td>98.3</td>\n",
              "      <td>29.5</td>\n",
              "      <td>98.1</td>\n",
              "      <td>99.2</td>\n",
              "      <td>64.3</td>\n",
              "      <td>94.3</td>\n",
              "      <td>15,596</td>\n",
              "      <td>7.8</td>\n",
              "      <td>22%</td>\n",
              "      <td>42 : 58</td>\n",
              "      <td>2011</td>\n",
              "    </tr>\n",
              "    <tr>\n",
              "      <th>4</th>\n",
              "      <td>5</td>\n",
              "      <td>Princeton University</td>\n",
              "      <td>United States of America</td>\n",
              "      <td>90.9</td>\n",
              "      <td>70.3</td>\n",
              "      <td>95.4</td>\n",
              "      <td>99.9</td>\n",
              "      <td>-</td>\n",
              "      <td>94.2</td>\n",
              "      <td>7,929</td>\n",
              "      <td>8.4</td>\n",
              "      <td>27%</td>\n",
              "      <td>45 : 55</td>\n",
              "      <td>2011</td>\n",
              "    </tr>\n",
              "  </tbody>\n",
              "</table>\n",
              "</div>\n",
              "      <button class=\"colab-df-convert\" onclick=\"convertToInteractive('df-490487ae-3e88-4f18-9bca-6d98b50708a4')\"\n",
              "              title=\"Convert this dataframe to an interactive table.\"\n",
              "              style=\"display:none;\">\n",
              "        \n",
              "  <svg xmlns=\"http://www.w3.org/2000/svg\" height=\"24px\"viewBox=\"0 0 24 24\"\n",
              "       width=\"24px\">\n",
              "    <path d=\"M0 0h24v24H0V0z\" fill=\"none\"/>\n",
              "    <path d=\"M18.56 5.44l.94 2.06.94-2.06 2.06-.94-2.06-.94-.94-2.06-.94 2.06-2.06.94zm-11 1L8.5 8.5l.94-2.06 2.06-.94-2.06-.94L8.5 2.5l-.94 2.06-2.06.94zm10 10l.94 2.06.94-2.06 2.06-.94-2.06-.94-.94-2.06-.94 2.06-2.06.94z\"/><path d=\"M17.41 7.96l-1.37-1.37c-.4-.4-.92-.59-1.43-.59-.52 0-1.04.2-1.43.59L10.3 9.45l-7.72 7.72c-.78.78-.78 2.05 0 2.83L4 21.41c.39.39.9.59 1.41.59.51 0 1.02-.2 1.41-.59l7.78-7.78 2.81-2.81c.8-.78.8-2.07 0-2.86zM5.41 20L4 18.59l7.72-7.72 1.47 1.35L5.41 20z\"/>\n",
              "  </svg>\n",
              "      </button>\n",
              "      \n",
              "  <style>\n",
              "    .colab-df-container {\n",
              "      display:flex;\n",
              "      flex-wrap:wrap;\n",
              "      gap: 12px;\n",
              "    }\n",
              "\n",
              "    .colab-df-convert {\n",
              "      background-color: #E8F0FE;\n",
              "      border: none;\n",
              "      border-radius: 50%;\n",
              "      cursor: pointer;\n",
              "      display: none;\n",
              "      fill: #1967D2;\n",
              "      height: 32px;\n",
              "      padding: 0 0 0 0;\n",
              "      width: 32px;\n",
              "    }\n",
              "\n",
              "    .colab-df-convert:hover {\n",
              "      background-color: #E2EBFA;\n",
              "      box-shadow: 0px 1px 2px rgba(60, 64, 67, 0.3), 0px 1px 3px 1px rgba(60, 64, 67, 0.15);\n",
              "      fill: #174EA6;\n",
              "    }\n",
              "\n",
              "    [theme=dark] .colab-df-convert {\n",
              "      background-color: #3B4455;\n",
              "      fill: #D2E3FC;\n",
              "    }\n",
              "\n",
              "    [theme=dark] .colab-df-convert:hover {\n",
              "      background-color: #434B5C;\n",
              "      box-shadow: 0px 1px 3px 1px rgba(0, 0, 0, 0.15);\n",
              "      filter: drop-shadow(0px 1px 2px rgba(0, 0, 0, 0.3));\n",
              "      fill: #FFFFFF;\n",
              "    }\n",
              "  </style>\n",
              "\n",
              "      <script>\n",
              "        const buttonEl =\n",
              "          document.querySelector('#df-490487ae-3e88-4f18-9bca-6d98b50708a4 button.colab-df-convert');\n",
              "        buttonEl.style.display =\n",
              "          google.colab.kernel.accessAllowed ? 'block' : 'none';\n",
              "\n",
              "        async function convertToInteractive(key) {\n",
              "          const element = document.querySelector('#df-490487ae-3e88-4f18-9bca-6d98b50708a4');\n",
              "          const dataTable =\n",
              "            await google.colab.kernel.invokeFunction('convertToInteractive',\n",
              "                                                     [key], {});\n",
              "          if (!dataTable) return;\n",
              "\n",
              "          const docLinkHtml = 'Like what you see? Visit the ' +\n",
              "            '<a target=\"_blank\" href=https://colab.research.google.com/notebooks/data_table.ipynb>data table notebook</a>'\n",
              "            + ' to learn more about interactive tables.';\n",
              "          element.innerHTML = '';\n",
              "          dataTable['output_type'] = 'display_data';\n",
              "          await google.colab.output.renderOutput(dataTable, element);\n",
              "          const docLink = document.createElement('div');\n",
              "          docLink.innerHTML = docLinkHtml;\n",
              "          element.appendChild(docLink);\n",
              "        }\n",
              "      </script>\n",
              "    </div>\n",
              "  </div>\n",
              "  "
            ]
          },
          "metadata": {},
          "execution_count": 5
        }
      ]
    },
    {
      "cell_type": "code",
      "source": [
        "timesData.info()"
      ],
      "metadata": {
        "colab": {
          "base_uri": "https://localhost:8080/"
        },
        "id": "7-dm9Ih9HobL",
        "outputId": "ddac04f9-9b7a-474c-ee9a-9dd616c82865"
      },
      "execution_count": 6,
      "outputs": [
        {
          "output_type": "stream",
          "name": "stdout",
          "text": [
            "<class 'pandas.core.frame.DataFrame'>\n",
            "RangeIndex: 2603 entries, 0 to 2602\n",
            "Data columns (total 14 columns):\n",
            " #   Column                  Non-Null Count  Dtype  \n",
            "---  ------                  --------------  -----  \n",
            " 0   world_rank              2603 non-null   object \n",
            " 1   university_name         2603 non-null   object \n",
            " 2   country                 2603 non-null   object \n",
            " 3   teaching                2603 non-null   float64\n",
            " 4   international           2603 non-null   object \n",
            " 5   research                2603 non-null   float64\n",
            " 6   citations               2603 non-null   float64\n",
            " 7   income                  2603 non-null   object \n",
            " 8   total_score             2603 non-null   object \n",
            " 9   num_students            2544 non-null   object \n",
            " 10  student_staff_ratio     2544 non-null   float64\n",
            " 11  international_students  2536 non-null   object \n",
            " 12  female_male_ratio       2370 non-null   object \n",
            " 13  year                    2603 non-null   int64  \n",
            "dtypes: float64(4), int64(1), object(9)\n",
            "memory usage: 284.8+ KB\n"
          ]
        }
      ]
    },
    {
      "cell_type": "code",
      "source": [
        "x2015 = timesData[timesData.year == 2015] #datadaki 2015 yılından bir filtre oluşturulup, bu filtre dataya uygulanır."
      ],
      "metadata": {
        "id": "q1bdJwHVFccl"
      },
      "execution_count": 7,
      "outputs": []
    },
    {
      "cell_type": "code",
      "source": [
        "international = [float(each) for each in x2015.international] #international sütunu string değer barındırır.\n",
        "                                                #oransal bir karşılaştırma yapmak içinbu sütundaki değerler floata çevrilir."
      ],
      "metadata": {
        "id": "xV9bJTbVH5Ym"
      },
      "execution_count": 8,
      "outputs": []
    },
    {
      "cell_type": "code",
      "source": [
        "trace0 = go.Box(  #box plot türü seçilir.\n",
        "    y=x2015.international,  #y eksen\n",
        "    name = 'international score of universities in 2015',\n",
        "    marker = dict(\n",
        "        color = 'rgb(12, 12, 140)',\n",
        "    )\n",
        ")\n",
        "trace1 = go.Box(\n",
        "    y=x2015.research,\n",
        "    name = 'research of universities in 2015',\n",
        "    marker = dict(\n",
        "        color = 'rgb(12, 128, 128)',\n",
        "    )\n",
        ")\n",
        "data = [trace0, trace1]\n",
        "iplot(data)"
      ],
      "metadata": {
        "colab": {
          "base_uri": "https://localhost:8080/",
          "height": 542
        },
        "id": "WqcxFfHyFut2",
        "outputId": "5078dd71-ac67-47d7-b3e6-65696d3b2cc8"
      },
      "execution_count": 9,
      "outputs": [
        {
          "output_type": "display_data",
          "data": {
            "text/html": [
              "<html>\n",
              "<head><meta charset=\"utf-8\" /></head>\n",
              "<body>\n",
              "    <div>            <script src=\"https://cdnjs.cloudflare.com/ajax/libs/mathjax/2.7.5/MathJax.js?config=TeX-AMS-MML_SVG\"></script><script type=\"text/javascript\">if (window.MathJax && window.MathJax.Hub && window.MathJax.Hub.Config) {window.MathJax.Hub.Config({SVG: {font: \"STIX-Web\"}});}</script>                <script type=\"text/javascript\">window.PlotlyConfig = {MathJaxConfig: 'local'};</script>\n",
              "        <script src=\"https://cdn.plot.ly/plotly-2.8.3.min.js\"></script>                <div id=\"2022bbe4-84db-4557-ba8c-2ac7d1686f33\" class=\"plotly-graph-div\" style=\"height:525px; width:100%;\"></div>            <script type=\"text/javascript\">                                    window.PLOTLYENV=window.PLOTLYENV || {};                                    if (document.getElementById(\"2022bbe4-84db-4557-ba8c-2ac7d1686f33\")) {                    Plotly.newPlot(                        \"2022bbe4-84db-4557-ba8c-2ac7d1686f33\",                        [{\"marker\":{\"color\":\"rgb(12, 12, 140)\"},\"name\":\"international score of universities in 2015\",\"y\":[\"67.0\",\"67.6\",\"90.7\",\"69.0\",\"87.8\",\"84.3\",\"61.2\",\"58.5\",\"92.7\",\"59.8\",\"65.2\",\"49.2\",\"96.6\",\"68.3\",\"59.7\",\"43.8\",\"49.8\",\"50.5\",\"59.0\",\"71.2\",\"36.7\",\"90.6\",\"32.4\",\"59.3\",\"94.9\",\"47.9\",\"68.9\",\"33.1\",\"56.4\",\"43.9\",\"33.6\",\"84.8\",\"81.3\",\"87.4\",\"98.8\",\"84.3\",\"64.3\",\"41.2\",\"79.0\",\"87.0\",\"37.0\",\"46.5\",\"81.9\",\"60.6\",\"91.3\",\"33.8\",\"35.3\",\"53.7\",\"44.6\",\"30.3\",\"77.8\",\"34.9\",\"82.0\",\"37.0\",\"62.3\",\"52.9\",\"47.8\",\"37.4\",\"29.0\",\"83.6\",\"92.5\",\"94.5\",\"50.1\",\"59.5\",\"80.4\",\"36.0\",\"53.9\",\"51.5\",\"70.8\",\"63.1\",\"77.9\",\"66.2\",\"78.7\",\"76.6\",\"91.2\",\"42.7\",\"60.5\",\"81.9\",\"52.9\",\"55.7\",\"56.6\",\"55.0\",\"80.4\",\"79.6\",\"38.7\",\"38.8\",\"51.4\",\"51.1\",\"56.1\",\"49.1\",\"40.3\",\"32.2\",\"42.9\",\"69.4\",\"78.8\",\"28.3\",\"39.1\",\"53.2\",\"64.0\",\"57.5\",\"89.7\",\"64.3\",\"64.7\",\"49.7\",\"85.7\",\"86.9\",\"88.6\",\"96.8\",\"54.6\",\"83.5\",\"90.5\",\"83.6\",\"76.7\",\"53.0\",\"75.0\",\"34.4\",\"56.1\",\"94.4\",\"70.1\",\"62.7\",\"79.7\",\"55.5\",\"74.8\",\"73.4\",\"76.7\",\"54.6\",\"84.0\",\"32.2\",\"64.0\",\"31.8\",\"84.7\",\"80.7\",\"44.8\",\"82.4\",\"44.7\",\"85.1\",\"50.6\",\"83.9\",\"54.1\",\"61.6\",\"52.6\",\"49.1\",\"37.0\",\"69.0\",\"34.3\",\"67.6\",\"54.7\",\"35.8\",\"75.8\",\"37.1\",\"61.6\",\"33.1\",\"66.3\",\"79.8\",\"27.5\",\"56.8\",\"29.1\",\"79.5\",\"87.3\",\"71.8\",\"64.4\",\"27.5\",\"56.7\",\"79.3\",\"37.3\",\"60.1\",\"63.2\",\"29.7\",\"56.7\",\"61.0\",\"70.6\",\"59.7\",\"43.3\",\"70.1\",\"87.3\",\"31.7\",\"41.2\",\"57.3\",\"84.1\",\"67.4\",\"40.6\",\"29.5\",\"44.6\",\"91.0\",\"54.7\",\"60.3\",\"27.6\",\"60.5\",\"46.1\",\"63.2\",\"57.0\",\"71.3\",\"37.4\",\"40.6\",\"54.8\",\"60.4\",\"55.8\",\"76.5\",\"83.9\",\"63.0\",\"39.9\",\"44.6\",\"69.3\",\"55.6\",\"53.3\",\"69.9\",\"35.9\",\"73.8\",\"60.6\",\"54.1\",\"47.8\",\"65.3\",\"64.5\",\"53.4\",\"93.4\",\"75.0\",\"26.3\",\"69.5\",\"25.3\",\"55.4\",\"50.7\",\"67.2\",\"79.4\",\"26.0\",\"26.5\",\"35.7\",\"46.4\",\"84.4\",\"88.8\",\"61.1\",\"71.6\",\"55.7\",\"58.7\",\"31.8\",\"42.8\",\"61.4\",\"39.6\",\"70.4\",\"39.5\",\"79.4\",\"63.1\",\"46.8\",\"44.2\",\"57.0\",\"40.6\",\"86.9\",\"63.7\",\"50.2\",\"75.9\",\"59.7\",\"59.4\",\"48.7\",\"73.1\",\"50.2\",\"24.8\",\"71.7\",\"55.4\",\"88.6\",\"49.6\",\"59.6\",\"53.0\",\"59.4\",\"59.1\",\"48.2\",\"32.2\",\"70.6\",\"81.5\",\"43.5\",\"40.3\",\"41.0\",\"54.6\",\"66.3\",\"57.3\",\"39.3\",\"63.1\",\"62.5\",\"30.4\",\"18.2\",\"59.1\",\"56.6\",\"30.7\",\"54.7\",\"29.2\",\"51.3\",\"69.8\",\"23.9\",\"47.8\",\"62.2\",\"21.8\",\"70.8\",\"43.1\",\"26.0\",\"49.0\",\"84.4\",\"35.3\",\"73.3\",\"37.4\",\"47.8\",\"80.8\",\"37.3\",\"80.4\",\"84.2\",\"28.9\",\"48.8\",\"73.1\",\"45.5\",\"53.9\",\"29.1\",\"71.8\",\"42.2\",\"62.3\",\"59.4\",\"41.5\",\"49.8\",\"89.2\",\"43.8\",\"36.7\",\"42.9\",\"44.4\",\"26.9\",\"37.5\",\"19.4\",\"20.7\",\"37.0\",\"29.7\",\"76.1\",\"88.2\",\"52.1\",\"38.8\",\"47.0\",\"49.2\",\"86.7\",\"33.1\",\"47.2\",\"32.2\",\"43.4\",\"45.1\",\"20.7\",\"34.8\",\"30.0\",\"40.4\",\"36.7\",\"67.1\",\"66.9\",\"59.3\",\"45.6\",\"36.1\",\"43.7\",\"41.6\",\"30.7\",\"21.5\",\"65.8\",\"66.5\",\"79.7\",\"53.9\",\"48.6\",\"52.1\",\"91.3\",\"36.0\",\"35.8\",\"48.4\",\"25.2\",\"19.5\",\"16.6\",\"20.0\",\"22.5\",\"26.1\",\"34.5\",\"50.9\",\"85.3\",\"26.7\",\"24.2\",\"26.7\",\"82.6\",\"53.6\",\"86.9\",\"60.0\",\"50.3\",\"38.1\",\"44.1\",\"42.1\",\"37.4\",\"64.8\",\"74.9\",\"46.8\",\"69.1\",\"49.7\",\"29.6\",\"46.2\",\"73.3\",\"48.0\",\"34.3\",\"46.3\",\"21.0\",\"80.3\",\"54.5\",\"43.1\",\"36.0\",\"50.1\",\"33.1\",\"21.4\"],\"type\":\"box\"},{\"marker\":{\"color\":\"rgb(12, 128, 128)\"},\"name\":\"research of universities in 2015\",\"y\":[98.1,98.6,97.7,96.7,95.6,88.2,94.7,96.7,88.3,90.8,89.9,90.5,90.2,79.4,84.2,82.0,86.5,75.2,83.8,85.1,78.9,80.4,85.1,74.9,78.1,68.9,71.2,72.0,69.1,79.0,71.3,69.0,70.9,74.2,56.9,62.9,61.4,62.4,69.9,62.3,66.6,55.2,72.6,68.0,70.9,64.7,58.6,61.9,68.3,77.1,66.8,63.2,58.7,54.2,63.6,59.7,46.7,64.8,68.4,60.8,55.9,47.1,46.0,58.2,58.4,49.3,48.0,51.1,37.1,45.4,71.4,53.7,46.8,44.7,41.1,44.6,55.4,36.2,54.8,52.6,58.0,49.4,40.7,54.4,36.9,51.4,38.5,33.9,41.7,51.6,49.1,46.3,32.4,43.2,40.5,38.2,38.3,45.0,37.4,53.0,48.1,50.5,30.0,48.1,45.8,33.1,32.9,37.2,31.9,51.9,35.9,30.4,44.4,44.7,33.8,37.4,50.8,22.4,48.5,33.1,28.2,29.2,39.1,47.1,35.3,29.1,44.8,52.1,53.5,35.9,36.1,36.9,39.1,34.1,42.0,39.9,43.2,30.3,27.6,46.7,26.7,51.9,52.9,47.1,45.3,39.1,29.1,50.2,39.8,35.1,27.5,35.4,47.5,32.7,57.3,29.9,48.0,33.2,38.1,34.4,33.8,36.5,28.1,40.4,36.9,34.9,28.3,47.3,27.2,33.6,35.8,34.9,28.2,30.6,33.4,33.5,24.4,29.3,30.2,19.7,36.3,37.5,27.1,39.7,21.9,35.2,23.9,24.4,51.1,34.7,39.8,32.9,34.0,30.9,22.2,42.1,27.3,22.6,31.6,13.1,25.1,27.7,30.4,22.4,36.3,36.5,44.3,29.6,37.5,22.0,28.8,27.9,22.5,34.1,17.1,34.0,27.3,23.4,51.6,28.2,16.0,45.3,36.2,23.5,19.9,45.8,29.2,29.3,21.4,24.5,30.0,29.9,23.2,31.8,26.2,29.3,35.0,32.3,9.8,28.1,30.5,38.2,24.3,33.4,23.0,32.5,35.7,17.3,32.4,35.3,31.3,10.1,17.0,23.3,40.3,24.8,33.4,25.1,25.2,33.7,27.6,30.7,24.7,18.1,23.4,29.9,27.7,19.2,25.6,37.9,12.1,21.7,20.3,20.3,40.4,32.8,31.3,39.5,25.5,22.5,40.7,29.6,10.5,18.1,36.0,37.9,31.2,45.1,22.9,22.2,23.2,22.4,15.3,19.7,28.9,20.3,22.9,24.4,24.0,27.5,27.8,28.5,40.0,19.3,23.0,17.8,24.3,10.4,20.6,14.3,13.2,17.3,16.5,24.4,24.8,17.2,21.1,26.6,14.7,24.8,28.1,34.7,38.8,25.2,20.7,25.1,23.4,18.4,27.1,16.8,13.7,29.0,25.8,24.0,20.1,29.4,6.5,13.7,16.5,15.7,18.2,18.8,20.5,25.1,17.3,22.2,21.6,12.0,13.6,15.2,33.1,28.5,20.6,21.6,12.9,19.1,17.2,17.1,18.0,20.3,32.3,27.5,24.6,14.3,27.3,10.0,28.5,16.6,27.6,17.8,40.1,32.9,42.6,18.9,22.5,16.3,16.9,25.7,18.1,21.6,15.2,17.3,17.3,10.9,22.8,18.4,16.2,22.0,22.3,10.6,11.8,20.2,21.8,19.4,17.0,17.9,16.3,27.5,22.4,17.4,8.0],\"type\":\"box\"}],                        {\"template\":{\"data\":{\"barpolar\":[{\"marker\":{\"line\":{\"color\":\"#E5ECF6\",\"width\":0.5},\"pattern\":{\"fillmode\":\"overlay\",\"size\":10,\"solidity\":0.2}},\"type\":\"barpolar\"}],\"bar\":[{\"error_x\":{\"color\":\"#2a3f5f\"},\"error_y\":{\"color\":\"#2a3f5f\"},\"marker\":{\"line\":{\"color\":\"#E5ECF6\",\"width\":0.5},\"pattern\":{\"fillmode\":\"overlay\",\"size\":10,\"solidity\":0.2}},\"type\":\"bar\"}],\"carpet\":[{\"aaxis\":{\"endlinecolor\":\"#2a3f5f\",\"gridcolor\":\"white\",\"linecolor\":\"white\",\"minorgridcolor\":\"white\",\"startlinecolor\":\"#2a3f5f\"},\"baxis\":{\"endlinecolor\":\"#2a3f5f\",\"gridcolor\":\"white\",\"linecolor\":\"white\",\"minorgridcolor\":\"white\",\"startlinecolor\":\"#2a3f5f\"},\"type\":\"carpet\"}],\"choropleth\":[{\"colorbar\":{\"outlinewidth\":0,\"ticks\":\"\"},\"type\":\"choropleth\"}],\"contourcarpet\":[{\"colorbar\":{\"outlinewidth\":0,\"ticks\":\"\"},\"type\":\"contourcarpet\"}],\"contour\":[{\"colorbar\":{\"outlinewidth\":0,\"ticks\":\"\"},\"colorscale\":[[0.0,\"#0d0887\"],[0.1111111111111111,\"#46039f\"],[0.2222222222222222,\"#7201a8\"],[0.3333333333333333,\"#9c179e\"],[0.4444444444444444,\"#bd3786\"],[0.5555555555555556,\"#d8576b\"],[0.6666666666666666,\"#ed7953\"],[0.7777777777777778,\"#fb9f3a\"],[0.8888888888888888,\"#fdca26\"],[1.0,\"#f0f921\"]],\"type\":\"contour\"}],\"heatmapgl\":[{\"colorbar\":{\"outlinewidth\":0,\"ticks\":\"\"},\"colorscale\":[[0.0,\"#0d0887\"],[0.1111111111111111,\"#46039f\"],[0.2222222222222222,\"#7201a8\"],[0.3333333333333333,\"#9c179e\"],[0.4444444444444444,\"#bd3786\"],[0.5555555555555556,\"#d8576b\"],[0.6666666666666666,\"#ed7953\"],[0.7777777777777778,\"#fb9f3a\"],[0.8888888888888888,\"#fdca26\"],[1.0,\"#f0f921\"]],\"type\":\"heatmapgl\"}],\"heatmap\":[{\"colorbar\":{\"outlinewidth\":0,\"ticks\":\"\"},\"colorscale\":[[0.0,\"#0d0887\"],[0.1111111111111111,\"#46039f\"],[0.2222222222222222,\"#7201a8\"],[0.3333333333333333,\"#9c179e\"],[0.4444444444444444,\"#bd3786\"],[0.5555555555555556,\"#d8576b\"],[0.6666666666666666,\"#ed7953\"],[0.7777777777777778,\"#fb9f3a\"],[0.8888888888888888,\"#fdca26\"],[1.0,\"#f0f921\"]],\"type\":\"heatmap\"}],\"histogram2dcontour\":[{\"colorbar\":{\"outlinewidth\":0,\"ticks\":\"\"},\"colorscale\":[[0.0,\"#0d0887\"],[0.1111111111111111,\"#46039f\"],[0.2222222222222222,\"#7201a8\"],[0.3333333333333333,\"#9c179e\"],[0.4444444444444444,\"#bd3786\"],[0.5555555555555556,\"#d8576b\"],[0.6666666666666666,\"#ed7953\"],[0.7777777777777778,\"#fb9f3a\"],[0.8888888888888888,\"#fdca26\"],[1.0,\"#f0f921\"]],\"type\":\"histogram2dcontour\"}],\"histogram2d\":[{\"colorbar\":{\"outlinewidth\":0,\"ticks\":\"\"},\"colorscale\":[[0.0,\"#0d0887\"],[0.1111111111111111,\"#46039f\"],[0.2222222222222222,\"#7201a8\"],[0.3333333333333333,\"#9c179e\"],[0.4444444444444444,\"#bd3786\"],[0.5555555555555556,\"#d8576b\"],[0.6666666666666666,\"#ed7953\"],[0.7777777777777778,\"#fb9f3a\"],[0.8888888888888888,\"#fdca26\"],[1.0,\"#f0f921\"]],\"type\":\"histogram2d\"}],\"histogram\":[{\"marker\":{\"pattern\":{\"fillmode\":\"overlay\",\"size\":10,\"solidity\":0.2}},\"type\":\"histogram\"}],\"mesh3d\":[{\"colorbar\":{\"outlinewidth\":0,\"ticks\":\"\"},\"type\":\"mesh3d\"}],\"parcoords\":[{\"line\":{\"colorbar\":{\"outlinewidth\":0,\"ticks\":\"\"}},\"type\":\"parcoords\"}],\"pie\":[{\"automargin\":true,\"type\":\"pie\"}],\"scatter3d\":[{\"line\":{\"colorbar\":{\"outlinewidth\":0,\"ticks\":\"\"}},\"marker\":{\"colorbar\":{\"outlinewidth\":0,\"ticks\":\"\"}},\"type\":\"scatter3d\"}],\"scattercarpet\":[{\"marker\":{\"colorbar\":{\"outlinewidth\":0,\"ticks\":\"\"}},\"type\":\"scattercarpet\"}],\"scattergeo\":[{\"marker\":{\"colorbar\":{\"outlinewidth\":0,\"ticks\":\"\"}},\"type\":\"scattergeo\"}],\"scattergl\":[{\"marker\":{\"colorbar\":{\"outlinewidth\":0,\"ticks\":\"\"}},\"type\":\"scattergl\"}],\"scattermapbox\":[{\"marker\":{\"colorbar\":{\"outlinewidth\":0,\"ticks\":\"\"}},\"type\":\"scattermapbox\"}],\"scatterpolargl\":[{\"marker\":{\"colorbar\":{\"outlinewidth\":0,\"ticks\":\"\"}},\"type\":\"scatterpolargl\"}],\"scatterpolar\":[{\"marker\":{\"colorbar\":{\"outlinewidth\":0,\"ticks\":\"\"}},\"type\":\"scatterpolar\"}],\"scatter\":[{\"fillpattern\":{\"fillmode\":\"overlay\",\"size\":10,\"solidity\":0.2},\"type\":\"scatter\"}],\"scatterternary\":[{\"marker\":{\"colorbar\":{\"outlinewidth\":0,\"ticks\":\"\"}},\"type\":\"scatterternary\"}],\"surface\":[{\"colorbar\":{\"outlinewidth\":0,\"ticks\":\"\"},\"colorscale\":[[0.0,\"#0d0887\"],[0.1111111111111111,\"#46039f\"],[0.2222222222222222,\"#7201a8\"],[0.3333333333333333,\"#9c179e\"],[0.4444444444444444,\"#bd3786\"],[0.5555555555555556,\"#d8576b\"],[0.6666666666666666,\"#ed7953\"],[0.7777777777777778,\"#fb9f3a\"],[0.8888888888888888,\"#fdca26\"],[1.0,\"#f0f921\"]],\"type\":\"surface\"}],\"table\":[{\"cells\":{\"fill\":{\"color\":\"#EBF0F8\"},\"line\":{\"color\":\"white\"}},\"header\":{\"fill\":{\"color\":\"#C8D4E3\"},\"line\":{\"color\":\"white\"}},\"type\":\"table\"}]},\"layout\":{\"annotationdefaults\":{\"arrowcolor\":\"#2a3f5f\",\"arrowhead\":0,\"arrowwidth\":1},\"autotypenumbers\":\"strict\",\"coloraxis\":{\"colorbar\":{\"outlinewidth\":0,\"ticks\":\"\"}},\"colorscale\":{\"diverging\":[[0,\"#8e0152\"],[0.1,\"#c51b7d\"],[0.2,\"#de77ae\"],[0.3,\"#f1b6da\"],[0.4,\"#fde0ef\"],[0.5,\"#f7f7f7\"],[0.6,\"#e6f5d0\"],[0.7,\"#b8e186\"],[0.8,\"#7fbc41\"],[0.9,\"#4d9221\"],[1,\"#276419\"]],\"sequential\":[[0.0,\"#0d0887\"],[0.1111111111111111,\"#46039f\"],[0.2222222222222222,\"#7201a8\"],[0.3333333333333333,\"#9c179e\"],[0.4444444444444444,\"#bd3786\"],[0.5555555555555556,\"#d8576b\"],[0.6666666666666666,\"#ed7953\"],[0.7777777777777778,\"#fb9f3a\"],[0.8888888888888888,\"#fdca26\"],[1.0,\"#f0f921\"]],\"sequentialminus\":[[0.0,\"#0d0887\"],[0.1111111111111111,\"#46039f\"],[0.2222222222222222,\"#7201a8\"],[0.3333333333333333,\"#9c179e\"],[0.4444444444444444,\"#bd3786\"],[0.5555555555555556,\"#d8576b\"],[0.6666666666666666,\"#ed7953\"],[0.7777777777777778,\"#fb9f3a\"],[0.8888888888888888,\"#fdca26\"],[1.0,\"#f0f921\"]]},\"colorway\":[\"#636efa\",\"#EF553B\",\"#00cc96\",\"#ab63fa\",\"#FFA15A\",\"#19d3f3\",\"#FF6692\",\"#B6E880\",\"#FF97FF\",\"#FECB52\"],\"font\":{\"color\":\"#2a3f5f\"},\"geo\":{\"bgcolor\":\"white\",\"lakecolor\":\"white\",\"landcolor\":\"#E5ECF6\",\"showlakes\":true,\"showland\":true,\"subunitcolor\":\"white\"},\"hoverlabel\":{\"align\":\"left\"},\"hovermode\":\"closest\",\"mapbox\":{\"style\":\"light\"},\"paper_bgcolor\":\"white\",\"plot_bgcolor\":\"#E5ECF6\",\"polar\":{\"angularaxis\":{\"gridcolor\":\"white\",\"linecolor\":\"white\",\"ticks\":\"\"},\"bgcolor\":\"#E5ECF6\",\"radialaxis\":{\"gridcolor\":\"white\",\"linecolor\":\"white\",\"ticks\":\"\"}},\"scene\":{\"xaxis\":{\"backgroundcolor\":\"#E5ECF6\",\"gridcolor\":\"white\",\"gridwidth\":2,\"linecolor\":\"white\",\"showbackground\":true,\"ticks\":\"\",\"zerolinecolor\":\"white\"},\"yaxis\":{\"backgroundcolor\":\"#E5ECF6\",\"gridcolor\":\"white\",\"gridwidth\":2,\"linecolor\":\"white\",\"showbackground\":true,\"ticks\":\"\",\"zerolinecolor\":\"white\"},\"zaxis\":{\"backgroundcolor\":\"#E5ECF6\",\"gridcolor\":\"white\",\"gridwidth\":2,\"linecolor\":\"white\",\"showbackground\":true,\"ticks\":\"\",\"zerolinecolor\":\"white\"}},\"shapedefaults\":{\"line\":{\"color\":\"#2a3f5f\"}},\"ternary\":{\"aaxis\":{\"gridcolor\":\"white\",\"linecolor\":\"white\",\"ticks\":\"\"},\"baxis\":{\"gridcolor\":\"white\",\"linecolor\":\"white\",\"ticks\":\"\"},\"bgcolor\":\"#E5ECF6\",\"caxis\":{\"gridcolor\":\"white\",\"linecolor\":\"white\",\"ticks\":\"\"}},\"title\":{\"x\":0.05},\"xaxis\":{\"automargin\":true,\"gridcolor\":\"white\",\"linecolor\":\"white\",\"ticks\":\"\",\"title\":{\"standoff\":15},\"zerolinecolor\":\"white\",\"zerolinewidth\":2},\"yaxis\":{\"automargin\":true,\"gridcolor\":\"white\",\"linecolor\":\"white\",\"ticks\":\"\",\"title\":{\"standoff\":15},\"zerolinecolor\":\"white\",\"zerolinewidth\":2}}}},                        {\"responsive\": true}                    ).then(function(){\n",
              "                            \n",
              "var gd = document.getElementById('2022bbe4-84db-4557-ba8c-2ac7d1686f33');\n",
              "var x = new MutationObserver(function (mutations, observer) {{\n",
              "        var display = window.getComputedStyle(gd).display;\n",
              "        if (!display || display === 'none') {{\n",
              "            console.log([gd, 'removed!']);\n",
              "            Plotly.purge(gd);\n",
              "            observer.disconnect();\n",
              "        }}\n",
              "}});\n",
              "\n",
              "// Listen for the removal of the full notebook cells\n",
              "var notebookContainer = gd.closest('#notebook-container');\n",
              "if (notebookContainer) {{\n",
              "    x.observe(notebookContainer, {childList: true});\n",
              "}}\n",
              "\n",
              "// Listen for the clearing of the current output cell\n",
              "var outputEl = gd.closest('.output');\n",
              "if (outputEl) {{\n",
              "    x.observe(outputEl, {childList: true});\n",
              "}}\n",
              "\n",
              "                        })                };                            </script>        </div>\n",
              "</body>\n",
              "</html>"
            ]
          },
          "metadata": {}
        }
      ]
    },
    {
      "cell_type": "markdown",
      "source": [
        "Github'da Ipython kernel olmadığı için pyplot görselleştirmeleri \n",
        "gözükmemektedir. Bu yüzden png formatında yüklenmiştir."
      ],
      "metadata": {
        "id": "5ur40a_gGQ9x"
      }
    },
    {
      "cell_type": "markdown",
      "source": [
        "![newplot (11).png](data:image/png;base64,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)"
      ],
      "metadata": {
        "id": "nQUjyGJgGUhh"
      }
    }
  ]
}