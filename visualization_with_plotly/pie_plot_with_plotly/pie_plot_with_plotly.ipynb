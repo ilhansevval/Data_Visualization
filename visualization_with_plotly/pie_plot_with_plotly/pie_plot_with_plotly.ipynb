{
  "nbformat": 4,
  "nbformat_minor": 0,
  "metadata": {
    "colab": {
      "name": "pie_plot_with_plotly.ipynb",
      "provenance": [],
      "collapsed_sections": []
    },
    "kernelspec": {
      "name": "python3",
      "display_name": "Python 3"
    },
    "language_info": {
      "name": "python"
    }
  },
  "cells": [
    {
      "cell_type": "markdown",
      "source": [
        "# **Pie Plot**\n",
        "\n"
      ],
      "metadata": {
        "id": "YZTQotGnMC0G"
      }
    },
    {
      "cell_type": "code",
      "execution_count": null,
      "metadata": {
        "colab": {
          "base_uri": "https://localhost:8080/"
        },
        "id": "Uj9WuablKcgk",
        "outputId": "3e3a9554-76f6-4f80-babb-ce62951dc4e6"
      },
      "outputs": [
        {
          "output_type": "stream",
          "name": "stdout",
          "text": [
            "Mounted at /content/drive\n"
          ]
        }
      ],
      "source": [
        "import pandas as pd\n",
        "import numpy as np\n",
        "import matplotlib.pyplot as plt\n",
        "from plotly.offline import iplot\n",
        "import plotly.graph_objs as go\n",
        "\n",
        "from google.colab import drive\n",
        "drive.mount('/content/drive')"
      ]
    },
    {
      "cell_type": "code",
      "source": [
        "!pip install --upgrade plotly "
      ],
      "metadata": {
        "id": "pjM01ZHUfC5j"
      },
      "execution_count": null,
      "outputs": []
    },
    {
      "cell_type": "code",
      "source": [
        "!pip install jupyter-dash"
      ],
      "metadata": {
        "id": "FccwwWY8fCp4"
      },
      "execution_count": null,
      "outputs": []
    },
    {
      "cell_type": "code",
      "source": [
        "timesData = pd.read_csv(\"/content/drive/MyDrive/data/timesData.csv\")"
      ],
      "metadata": {
        "id": "tDA-PogQKpSV"
      },
      "execution_count": null,
      "outputs": []
    },
    {
      "cell_type": "code",
      "source": [
        "timesData.head()"
      ],
      "metadata": {
        "colab": {
          "base_uri": "https://localhost:8080/",
          "height": 530
        },
        "id": "5sxggMU5Ksp-",
        "outputId": "65f776ed-e96f-4a7b-875f-3e9b3751e852"
      },
      "execution_count": null,
      "outputs": [
        {
          "output_type": "execute_result",
          "data": {
            "text/plain": [
              "  world_rank                        university_name                   country  \\\n",
              "0          1                     Harvard University  United States of America   \n",
              "1          2     California Institute of Technology  United States of America   \n",
              "2          3  Massachusetts Institute of Technology  United States of America   \n",
              "3          4                    Stanford University  United States of America   \n",
              "4          5                   Princeton University  United States of America   \n",
              "\n",
              "   teaching international  research  citations income total_score  \\\n",
              "0      99.7          72.4      98.7       98.8   34.5        96.1   \n",
              "1      97.7          54.6      98.0       99.9   83.7        96.0   \n",
              "2      97.8          82.3      91.4       99.9   87.5        95.6   \n",
              "3      98.3          29.5      98.1       99.2   64.3        94.3   \n",
              "4      90.9          70.3      95.4       99.9      -        94.2   \n",
              "\n",
              "  num_students  student_staff_ratio international_students female_male_ratio  \\\n",
              "0       20,152                  8.9                    25%               NaN   \n",
              "1        2,243                  6.9                    27%           33 : 67   \n",
              "2       11,074                  9.0                    33%           37 : 63   \n",
              "3       15,596                  7.8                    22%           42 : 58   \n",
              "4        7,929                  8.4                    27%           45 : 55   \n",
              "\n",
              "   year  \n",
              "0  2011  \n",
              "1  2011  \n",
              "2  2011  \n",
              "3  2011  \n",
              "4  2011  "
            ],
            "text/html": [
              "\n",
              "  <div id=\"df-a60b3dd9-7e6f-4e05-8126-369f1c114277\">\n",
              "    <div class=\"colab-df-container\">\n",
              "      <div>\n",
              "<style scoped>\n",
              "    .dataframe tbody tr th:only-of-type {\n",
              "        vertical-align: middle;\n",
              "    }\n",
              "\n",
              "    .dataframe tbody tr th {\n",
              "        vertical-align: top;\n",
              "    }\n",
              "\n",
              "    .dataframe thead th {\n",
              "        text-align: right;\n",
              "    }\n",
              "</style>\n",
              "<table border=\"1\" class=\"dataframe\">\n",
              "  <thead>\n",
              "    <tr style=\"text-align: right;\">\n",
              "      <th></th>\n",
              "      <th>world_rank</th>\n",
              "      <th>university_name</th>\n",
              "      <th>country</th>\n",
              "      <th>teaching</th>\n",
              "      <th>international</th>\n",
              "      <th>research</th>\n",
              "      <th>citations</th>\n",
              "      <th>income</th>\n",
              "      <th>total_score</th>\n",
              "      <th>num_students</th>\n",
              "      <th>student_staff_ratio</th>\n",
              "      <th>international_students</th>\n",
              "      <th>female_male_ratio</th>\n",
              "      <th>year</th>\n",
              "    </tr>\n",
              "  </thead>\n",
              "  <tbody>\n",
              "    <tr>\n",
              "      <th>0</th>\n",
              "      <td>1</td>\n",
              "      <td>Harvard University</td>\n",
              "      <td>United States of America</td>\n",
              "      <td>99.7</td>\n",
              "      <td>72.4</td>\n",
              "      <td>98.7</td>\n",
              "      <td>98.8</td>\n",
              "      <td>34.5</td>\n",
              "      <td>96.1</td>\n",
              "      <td>20,152</td>\n",
              "      <td>8.9</td>\n",
              "      <td>25%</td>\n",
              "      <td>NaN</td>\n",
              "      <td>2011</td>\n",
              "    </tr>\n",
              "    <tr>\n",
              "      <th>1</th>\n",
              "      <td>2</td>\n",
              "      <td>California Institute of Technology</td>\n",
              "      <td>United States of America</td>\n",
              "      <td>97.7</td>\n",
              "      <td>54.6</td>\n",
              "      <td>98.0</td>\n",
              "      <td>99.9</td>\n",
              "      <td>83.7</td>\n",
              "      <td>96.0</td>\n",
              "      <td>2,243</td>\n",
              "      <td>6.9</td>\n",
              "      <td>27%</td>\n",
              "      <td>33 : 67</td>\n",
              "      <td>2011</td>\n",
              "    </tr>\n",
              "    <tr>\n",
              "      <th>2</th>\n",
              "      <td>3</td>\n",
              "      <td>Massachusetts Institute of Technology</td>\n",
              "      <td>United States of America</td>\n",
              "      <td>97.8</td>\n",
              "      <td>82.3</td>\n",
              "      <td>91.4</td>\n",
              "      <td>99.9</td>\n",
              "      <td>87.5</td>\n",
              "      <td>95.6</td>\n",
              "      <td>11,074</td>\n",
              "      <td>9.0</td>\n",
              "      <td>33%</td>\n",
              "      <td>37 : 63</td>\n",
              "      <td>2011</td>\n",
              "    </tr>\n",
              "    <tr>\n",
              "      <th>3</th>\n",
              "      <td>4</td>\n",
              "      <td>Stanford University</td>\n",
              "      <td>United States of America</td>\n",
              "      <td>98.3</td>\n",
              "      <td>29.5</td>\n",
              "      <td>98.1</td>\n",
              "      <td>99.2</td>\n",
              "      <td>64.3</td>\n",
              "      <td>94.3</td>\n",
              "      <td>15,596</td>\n",
              "      <td>7.8</td>\n",
              "      <td>22%</td>\n",
              "      <td>42 : 58</td>\n",
              "      <td>2011</td>\n",
              "    </tr>\n",
              "    <tr>\n",
              "      <th>4</th>\n",
              "      <td>5</td>\n",
              "      <td>Princeton University</td>\n",
              "      <td>United States of America</td>\n",
              "      <td>90.9</td>\n",
              "      <td>70.3</td>\n",
              "      <td>95.4</td>\n",
              "      <td>99.9</td>\n",
              "      <td>-</td>\n",
              "      <td>94.2</td>\n",
              "      <td>7,929</td>\n",
              "      <td>8.4</td>\n",
              "      <td>27%</td>\n",
              "      <td>45 : 55</td>\n",
              "      <td>2011</td>\n",
              "    </tr>\n",
              "  </tbody>\n",
              "</table>\n",
              "</div>\n",
              "      <button class=\"colab-df-convert\" onclick=\"convertToInteractive('df-a60b3dd9-7e6f-4e05-8126-369f1c114277')\"\n",
              "              title=\"Convert this dataframe to an interactive table.\"\n",
              "              style=\"display:none;\">\n",
              "        \n",
              "  <svg xmlns=\"http://www.w3.org/2000/svg\" height=\"24px\"viewBox=\"0 0 24 24\"\n",
              "       width=\"24px\">\n",
              "    <path d=\"M0 0h24v24H0V0z\" fill=\"none\"/>\n",
              "    <path d=\"M18.56 5.44l.94 2.06.94-2.06 2.06-.94-2.06-.94-.94-2.06-.94 2.06-2.06.94zm-11 1L8.5 8.5l.94-2.06 2.06-.94-2.06-.94L8.5 2.5l-.94 2.06-2.06.94zm10 10l.94 2.06.94-2.06 2.06-.94-2.06-.94-.94-2.06-.94 2.06-2.06.94z\"/><path d=\"M17.41 7.96l-1.37-1.37c-.4-.4-.92-.59-1.43-.59-.52 0-1.04.2-1.43.59L10.3 9.45l-7.72 7.72c-.78.78-.78 2.05 0 2.83L4 21.41c.39.39.9.59 1.41.59.51 0 1.02-.2 1.41-.59l7.78-7.78 2.81-2.81c.8-.78.8-2.07 0-2.86zM5.41 20L4 18.59l7.72-7.72 1.47 1.35L5.41 20z\"/>\n",
              "  </svg>\n",
              "      </button>\n",
              "      \n",
              "  <style>\n",
              "    .colab-df-container {\n",
              "      display:flex;\n",
              "      flex-wrap:wrap;\n",
              "      gap: 12px;\n",
              "    }\n",
              "\n",
              "    .colab-df-convert {\n",
              "      background-color: #E8F0FE;\n",
              "      border: none;\n",
              "      border-radius: 50%;\n",
              "      cursor: pointer;\n",
              "      display: none;\n",
              "      fill: #1967D2;\n",
              "      height: 32px;\n",
              "      padding: 0 0 0 0;\n",
              "      width: 32px;\n",
              "    }\n",
              "\n",
              "    .colab-df-convert:hover {\n",
              "      background-color: #E2EBFA;\n",
              "      box-shadow: 0px 1px 2px rgba(60, 64, 67, 0.3), 0px 1px 3px 1px rgba(60, 64, 67, 0.15);\n",
              "      fill: #174EA6;\n",
              "    }\n",
              "\n",
              "    [theme=dark] .colab-df-convert {\n",
              "      background-color: #3B4455;\n",
              "      fill: #D2E3FC;\n",
              "    }\n",
              "\n",
              "    [theme=dark] .colab-df-convert:hover {\n",
              "      background-color: #434B5C;\n",
              "      box-shadow: 0px 1px 3px 1px rgba(0, 0, 0, 0.15);\n",
              "      filter: drop-shadow(0px 1px 2px rgba(0, 0, 0, 0.3));\n",
              "      fill: #FFFFFF;\n",
              "    }\n",
              "  </style>\n",
              "\n",
              "      <script>\n",
              "        const buttonEl =\n",
              "          document.querySelector('#df-a60b3dd9-7e6f-4e05-8126-369f1c114277 button.colab-df-convert');\n",
              "        buttonEl.style.display =\n",
              "          google.colab.kernel.accessAllowed ? 'block' : 'none';\n",
              "\n",
              "        async function convertToInteractive(key) {\n",
              "          const element = document.querySelector('#df-a60b3dd9-7e6f-4e05-8126-369f1c114277');\n",
              "          const dataTable =\n",
              "            await google.colab.kernel.invokeFunction('convertToInteractive',\n",
              "                                                     [key], {});\n",
              "          if (!dataTable) return;\n",
              "\n",
              "          const docLinkHtml = 'Like what you see? Visit the ' +\n",
              "            '<a target=\"_blank\" href=https://colab.research.google.com/notebooks/data_table.ipynb>data table notebook</a>'\n",
              "            + ' to learn more about interactive tables.';\n",
              "          element.innerHTML = '';\n",
              "          dataTable['output_type'] = 'display_data';\n",
              "          await google.colab.output.renderOutput(dataTable, element);\n",
              "          const docLink = document.createElement('div');\n",
              "          docLink.innerHTML = docLinkHtml;\n",
              "          element.appendChild(docLink);\n",
              "        }\n",
              "      </script>\n",
              "    </div>\n",
              "  </div>\n",
              "  "
            ]
          },
          "metadata": {},
          "execution_count": 5
        }
      ]
    },
    {
      "cell_type": "code",
      "source": [
        "df2016 = timesData[timesData.year == 2016].iloc[:7,:] #2016 yılındaki ilk 7 üniversiteden bir filtre oluşturulup, bu filtre dataya uygulanır.\n",
        "df2016.info() #num_students -> öğrencilerin sayısının bulunduğu sütun string türündedir, floata çevrilmesi lazımdır."
      ],
      "metadata": {
        "colab": {
          "base_uri": "https://localhost:8080/"
        },
        "id": "8GACNzTtLXAz",
        "outputId": "56c6c85e-c2cf-49ef-f89f-96c6ee3104f5"
      },
      "execution_count": null,
      "outputs": [
        {
          "output_type": "stream",
          "name": "stdout",
          "text": [
            "<class 'pandas.core.frame.DataFrame'>\n",
            "Int64Index: 7 entries, 1803 to 1809\n",
            "Data columns (total 14 columns):\n",
            " #   Column                  Non-Null Count  Dtype  \n",
            "---  ------                  --------------  -----  \n",
            " 0   world_rank              7 non-null      object \n",
            " 1   university_name         7 non-null      object \n",
            " 2   country                 7 non-null      object \n",
            " 3   teaching                7 non-null      float64\n",
            " 4   international           7 non-null      object \n",
            " 5   research                7 non-null      float64\n",
            " 6   citations               7 non-null      float64\n",
            " 7   income                  7 non-null      object \n",
            " 8   total_score             7 non-null      object \n",
            " 9   num_students            7 non-null      object \n",
            " 10  student_staff_ratio     7 non-null      float64\n",
            " 11  international_students  7 non-null      object \n",
            " 12  female_male_ratio       6 non-null      object \n",
            " 13  year                    7 non-null      int64  \n",
            "dtypes: float64(4), int64(1), object(9)\n",
            "memory usage: 840.0+ bytes\n"
          ]
        }
      ]
    },
    {
      "cell_type": "code",
      "source": [
        "pie1_list = [float(each.replace(',', '.')) for each in df2016.num_students]  # str(2,4) => str(2.4) = > float(2.4) = 2.4\n",
        "labels = df2016.university_name                                              #değerlerdeki virgüller noktaya dönüştürülüp, floata çevrildi."
      ],
      "metadata": {
        "id": "1vUNNvHxOb-3"
      },
      "execution_count": null,
      "outputs": []
    },
    {
      "cell_type": "code",
      "source": [
        "# figure\n",
        "fig = {  #figür içerisine data ve layout yazılır.\n",
        "  \"data\": [  #içerisinde trace oluşturulur.\n",
        "    {\n",
        "      \"values\": pie1_list, #öğrenci sayıları\n",
        "      \"labels\": labels,    #üniversite adı\n",
        "      \"domain\": {\"x\": [0, .5]},\n",
        "      \"name\": \"Number Of Students Rates\", #trace'in adı verilir.\n",
        "      \"hoverinfo\":\"label+percent+name\",   #bir değerin üzerine gelindiğinde hangi bilgilerin verileceğinin bilgisi\n",
        "      \"hole\": .3,  #pie chart'ın ortasındaki boşluğun genişliği\n",
        "      \"type\": \"pie\" #plot türü\n",
        "    },],\n",
        "  \"layout\": {\n",
        "        \"title\":\"Universities Number of Students rates\",\n",
        "        \"annotations\": [\n",
        "            { \"font\": { \"size\": 20},\n",
        "              \"showarrow\": True, #text ismi bir okla gösterilir.\n",
        "              \"text\": \"Number of Students\",\n",
        "                \"x\": 0.20, \n",
        "                \"y\": 1     #x ve y ekseninin yerleri\n",
        "            },\n",
        "        ]\n",
        "    }\n",
        "}\n",
        "iplot(fig)  #figür plot edilir."
      ],
      "metadata": {
        "colab": {
          "base_uri": "https://localhost:8080/",
          "height": 542
        },
        "id": "jGIiRQdCKuM8",
        "outputId": "1e861ac5-27b0-4cb7-ff40-77d2c266f112"
      },
      "execution_count": null,
      "outputs": [
        {
          "output_type": "display_data",
          "data": {
            "text/html": [
              "<html>\n",
              "<head><meta charset=\"utf-8\" /></head>\n",
              "<body>\n",
              "    <div>            <script src=\"https://cdnjs.cloudflare.com/ajax/libs/mathjax/2.7.5/MathJax.js?config=TeX-AMS-MML_SVG\"></script><script type=\"text/javascript\">if (window.MathJax && window.MathJax.Hub && window.MathJax.Hub.Config) {window.MathJax.Hub.Config({SVG: {font: \"STIX-Web\"}});}</script>                <script type=\"text/javascript\">window.PlotlyConfig = {MathJaxConfig: 'local'};</script>\n",
              "        <script src=\"https://cdn.plot.ly/plotly-2.8.3.min.js\"></script>                <div id=\"c32bbc1e-1ae7-4948-9210-273fefcabe60\" class=\"plotly-graph-div\" style=\"height:525px; width:100%;\"></div>            <script type=\"text/javascript\">                                    window.PLOTLYENV=window.PLOTLYENV || {};                                    if (document.getElementById(\"c32bbc1e-1ae7-4948-9210-273fefcabe60\")) {                    Plotly.newPlot(                        \"c32bbc1e-1ae7-4948-9210-273fefcabe60\",                        [{\"domain\":{\"x\":[0,0.5]},\"hole\":0.3,\"hoverinfo\":\"label+percent+name\",\"labels\":[\"California Institute of Technology\",\"University of Oxford\",\"Stanford University\",\"University of Cambridge\",\"Massachusetts Institute of Technology\",\"Harvard University\",\"Princeton University\"],\"name\":\"Number Of Students Rates\",\"values\":[2.243,19.919,15.596,18.812,11.074,20.152,7.929],\"type\":\"pie\"}],                        {\"annotations\":[{\"font\":{\"size\":20},\"showarrow\":true,\"text\":\"Number of Students\",\"x\":0.2,\"y\":1}],\"template\":{\"data\":{\"barpolar\":[{\"marker\":{\"line\":{\"color\":\"#E5ECF6\",\"width\":0.5},\"pattern\":{\"fillmode\":\"overlay\",\"size\":10,\"solidity\":0.2}},\"type\":\"barpolar\"}],\"bar\":[{\"error_x\":{\"color\":\"#2a3f5f\"},\"error_y\":{\"color\":\"#2a3f5f\"},\"marker\":{\"line\":{\"color\":\"#E5ECF6\",\"width\":0.5},\"pattern\":{\"fillmode\":\"overlay\",\"size\":10,\"solidity\":0.2}},\"type\":\"bar\"}],\"carpet\":[{\"aaxis\":{\"endlinecolor\":\"#2a3f5f\",\"gridcolor\":\"white\",\"linecolor\":\"white\",\"minorgridcolor\":\"white\",\"startlinecolor\":\"#2a3f5f\"},\"baxis\":{\"endlinecolor\":\"#2a3f5f\",\"gridcolor\":\"white\",\"linecolor\":\"white\",\"minorgridcolor\":\"white\",\"startlinecolor\":\"#2a3f5f\"},\"type\":\"carpet\"}],\"choropleth\":[{\"colorbar\":{\"outlinewidth\":0,\"ticks\":\"\"},\"type\":\"choropleth\"}],\"contourcarpet\":[{\"colorbar\":{\"outlinewidth\":0,\"ticks\":\"\"},\"type\":\"contourcarpet\"}],\"contour\":[{\"colorbar\":{\"outlinewidth\":0,\"ticks\":\"\"},\"colorscale\":[[0.0,\"#0d0887\"],[0.1111111111111111,\"#46039f\"],[0.2222222222222222,\"#7201a8\"],[0.3333333333333333,\"#9c179e\"],[0.4444444444444444,\"#bd3786\"],[0.5555555555555556,\"#d8576b\"],[0.6666666666666666,\"#ed7953\"],[0.7777777777777778,\"#fb9f3a\"],[0.8888888888888888,\"#fdca26\"],[1.0,\"#f0f921\"]],\"type\":\"contour\"}],\"heatmapgl\":[{\"colorbar\":{\"outlinewidth\":0,\"ticks\":\"\"},\"colorscale\":[[0.0,\"#0d0887\"],[0.1111111111111111,\"#46039f\"],[0.2222222222222222,\"#7201a8\"],[0.3333333333333333,\"#9c179e\"],[0.4444444444444444,\"#bd3786\"],[0.5555555555555556,\"#d8576b\"],[0.6666666666666666,\"#ed7953\"],[0.7777777777777778,\"#fb9f3a\"],[0.8888888888888888,\"#fdca26\"],[1.0,\"#f0f921\"]],\"type\":\"heatmapgl\"}],\"heatmap\":[{\"colorbar\":{\"outlinewidth\":0,\"ticks\":\"\"},\"colorscale\":[[0.0,\"#0d0887\"],[0.1111111111111111,\"#46039f\"],[0.2222222222222222,\"#7201a8\"],[0.3333333333333333,\"#9c179e\"],[0.4444444444444444,\"#bd3786\"],[0.5555555555555556,\"#d8576b\"],[0.6666666666666666,\"#ed7953\"],[0.7777777777777778,\"#fb9f3a\"],[0.8888888888888888,\"#fdca26\"],[1.0,\"#f0f921\"]],\"type\":\"heatmap\"}],\"histogram2dcontour\":[{\"colorbar\":{\"outlinewidth\":0,\"ticks\":\"\"},\"colorscale\":[[0.0,\"#0d0887\"],[0.1111111111111111,\"#46039f\"],[0.2222222222222222,\"#7201a8\"],[0.3333333333333333,\"#9c179e\"],[0.4444444444444444,\"#bd3786\"],[0.5555555555555556,\"#d8576b\"],[0.6666666666666666,\"#ed7953\"],[0.7777777777777778,\"#fb9f3a\"],[0.8888888888888888,\"#fdca26\"],[1.0,\"#f0f921\"]],\"type\":\"histogram2dcontour\"}],\"histogram2d\":[{\"colorbar\":{\"outlinewidth\":0,\"ticks\":\"\"},\"colorscale\":[[0.0,\"#0d0887\"],[0.1111111111111111,\"#46039f\"],[0.2222222222222222,\"#7201a8\"],[0.3333333333333333,\"#9c179e\"],[0.4444444444444444,\"#bd3786\"],[0.5555555555555556,\"#d8576b\"],[0.6666666666666666,\"#ed7953\"],[0.7777777777777778,\"#fb9f3a\"],[0.8888888888888888,\"#fdca26\"],[1.0,\"#f0f921\"]],\"type\":\"histogram2d\"}],\"histogram\":[{\"marker\":{\"pattern\":{\"fillmode\":\"overlay\",\"size\":10,\"solidity\":0.2}},\"type\":\"histogram\"}],\"mesh3d\":[{\"colorbar\":{\"outlinewidth\":0,\"ticks\":\"\"},\"type\":\"mesh3d\"}],\"parcoords\":[{\"line\":{\"colorbar\":{\"outlinewidth\":0,\"ticks\":\"\"}},\"type\":\"parcoords\"}],\"pie\":[{\"automargin\":true,\"type\":\"pie\"}],\"scatter3d\":[{\"line\":{\"colorbar\":{\"outlinewidth\":0,\"ticks\":\"\"}},\"marker\":{\"colorbar\":{\"outlinewidth\":0,\"ticks\":\"\"}},\"type\":\"scatter3d\"}],\"scattercarpet\":[{\"marker\":{\"colorbar\":{\"outlinewidth\":0,\"ticks\":\"\"}},\"type\":\"scattercarpet\"}],\"scattergeo\":[{\"marker\":{\"colorbar\":{\"outlinewidth\":0,\"ticks\":\"\"}},\"type\":\"scattergeo\"}],\"scattergl\":[{\"marker\":{\"colorbar\":{\"outlinewidth\":0,\"ticks\":\"\"}},\"type\":\"scattergl\"}],\"scattermapbox\":[{\"marker\":{\"colorbar\":{\"outlinewidth\":0,\"ticks\":\"\"}},\"type\":\"scattermapbox\"}],\"scatterpolargl\":[{\"marker\":{\"colorbar\":{\"outlinewidth\":0,\"ticks\":\"\"}},\"type\":\"scatterpolargl\"}],\"scatterpolar\":[{\"marker\":{\"colorbar\":{\"outlinewidth\":0,\"ticks\":\"\"}},\"type\":\"scatterpolar\"}],\"scatter\":[{\"fillpattern\":{\"fillmode\":\"overlay\",\"size\":10,\"solidity\":0.2},\"type\":\"scatter\"}],\"scatterternary\":[{\"marker\":{\"colorbar\":{\"outlinewidth\":0,\"ticks\":\"\"}},\"type\":\"scatterternary\"}],\"surface\":[{\"colorbar\":{\"outlinewidth\":0,\"ticks\":\"\"},\"colorscale\":[[0.0,\"#0d0887\"],[0.1111111111111111,\"#46039f\"],[0.2222222222222222,\"#7201a8\"],[0.3333333333333333,\"#9c179e\"],[0.4444444444444444,\"#bd3786\"],[0.5555555555555556,\"#d8576b\"],[0.6666666666666666,\"#ed7953\"],[0.7777777777777778,\"#fb9f3a\"],[0.8888888888888888,\"#fdca26\"],[1.0,\"#f0f921\"]],\"type\":\"surface\"}],\"table\":[{\"cells\":{\"fill\":{\"color\":\"#EBF0F8\"},\"line\":{\"color\":\"white\"}},\"header\":{\"fill\":{\"color\":\"#C8D4E3\"},\"line\":{\"color\":\"white\"}},\"type\":\"table\"}]},\"layout\":{\"annotationdefaults\":{\"arrowcolor\":\"#2a3f5f\",\"arrowhead\":0,\"arrowwidth\":1},\"autotypenumbers\":\"strict\",\"coloraxis\":{\"colorbar\":{\"outlinewidth\":0,\"ticks\":\"\"}},\"colorscale\":{\"diverging\":[[0,\"#8e0152\"],[0.1,\"#c51b7d\"],[0.2,\"#de77ae\"],[0.3,\"#f1b6da\"],[0.4,\"#fde0ef\"],[0.5,\"#f7f7f7\"],[0.6,\"#e6f5d0\"],[0.7,\"#b8e186\"],[0.8,\"#7fbc41\"],[0.9,\"#4d9221\"],[1,\"#276419\"]],\"sequential\":[[0.0,\"#0d0887\"],[0.1111111111111111,\"#46039f\"],[0.2222222222222222,\"#7201a8\"],[0.3333333333333333,\"#9c179e\"],[0.4444444444444444,\"#bd3786\"],[0.5555555555555556,\"#d8576b\"],[0.6666666666666666,\"#ed7953\"],[0.7777777777777778,\"#fb9f3a\"],[0.8888888888888888,\"#fdca26\"],[1.0,\"#f0f921\"]],\"sequentialminus\":[[0.0,\"#0d0887\"],[0.1111111111111111,\"#46039f\"],[0.2222222222222222,\"#7201a8\"],[0.3333333333333333,\"#9c179e\"],[0.4444444444444444,\"#bd3786\"],[0.5555555555555556,\"#d8576b\"],[0.6666666666666666,\"#ed7953\"],[0.7777777777777778,\"#fb9f3a\"],[0.8888888888888888,\"#fdca26\"],[1.0,\"#f0f921\"]]},\"colorway\":[\"#636efa\",\"#EF553B\",\"#00cc96\",\"#ab63fa\",\"#FFA15A\",\"#19d3f3\",\"#FF6692\",\"#B6E880\",\"#FF97FF\",\"#FECB52\"],\"font\":{\"color\":\"#2a3f5f\"},\"geo\":{\"bgcolor\":\"white\",\"lakecolor\":\"white\",\"landcolor\":\"#E5ECF6\",\"showlakes\":true,\"showland\":true,\"subunitcolor\":\"white\"},\"hoverlabel\":{\"align\":\"left\"},\"hovermode\":\"closest\",\"mapbox\":{\"style\":\"light\"},\"paper_bgcolor\":\"white\",\"plot_bgcolor\":\"#E5ECF6\",\"polar\":{\"angularaxis\":{\"gridcolor\":\"white\",\"linecolor\":\"white\",\"ticks\":\"\"},\"bgcolor\":\"#E5ECF6\",\"radialaxis\":{\"gridcolor\":\"white\",\"linecolor\":\"white\",\"ticks\":\"\"}},\"scene\":{\"xaxis\":{\"backgroundcolor\":\"#E5ECF6\",\"gridcolor\":\"white\",\"gridwidth\":2,\"linecolor\":\"white\",\"showbackground\":true,\"ticks\":\"\",\"zerolinecolor\":\"white\"},\"yaxis\":{\"backgroundcolor\":\"#E5ECF6\",\"gridcolor\":\"white\",\"gridwidth\":2,\"linecolor\":\"white\",\"showbackground\":true,\"ticks\":\"\",\"zerolinecolor\":\"white\"},\"zaxis\":{\"backgroundcolor\":\"#E5ECF6\",\"gridcolor\":\"white\",\"gridwidth\":2,\"linecolor\":\"white\",\"showbackground\":true,\"ticks\":\"\",\"zerolinecolor\":\"white\"}},\"shapedefaults\":{\"line\":{\"color\":\"#2a3f5f\"}},\"ternary\":{\"aaxis\":{\"gridcolor\":\"white\",\"linecolor\":\"white\",\"ticks\":\"\"},\"baxis\":{\"gridcolor\":\"white\",\"linecolor\":\"white\",\"ticks\":\"\"},\"bgcolor\":\"#E5ECF6\",\"caxis\":{\"gridcolor\":\"white\",\"linecolor\":\"white\",\"ticks\":\"\"}},\"title\":{\"x\":0.05},\"xaxis\":{\"automargin\":true,\"gridcolor\":\"white\",\"linecolor\":\"white\",\"ticks\":\"\",\"title\":{\"standoff\":15},\"zerolinecolor\":\"white\",\"zerolinewidth\":2},\"yaxis\":{\"automargin\":true,\"gridcolor\":\"white\",\"linecolor\":\"white\",\"ticks\":\"\",\"title\":{\"standoff\":15},\"zerolinecolor\":\"white\",\"zerolinewidth\":2}}},\"title\":{\"text\":\"Universities Number of Students rates\"}},                        {\"responsive\": true}                    ).then(function(){\n",
              "                            \n",
              "var gd = document.getElementById('c32bbc1e-1ae7-4948-9210-273fefcabe60');\n",
              "var x = new MutationObserver(function (mutations, observer) {{\n",
              "        var display = window.getComputedStyle(gd).display;\n",
              "        if (!display || display === 'none') {{\n",
              "            console.log([gd, 'removed!']);\n",
              "            Plotly.purge(gd);\n",
              "            observer.disconnect();\n",
              "        }}\n",
              "}});\n",
              "\n",
              "// Listen for the removal of the full notebook cells\n",
              "var notebookContainer = gd.closest('#notebook-container');\n",
              "if (notebookContainer) {{\n",
              "    x.observe(notebookContainer, {childList: true});\n",
              "}}\n",
              "\n",
              "// Listen for the clearing of the current output cell\n",
              "var outputEl = gd.closest('.output');\n",
              "if (outputEl) {{\n",
              "    x.observe(outputEl, {childList: true});\n",
              "}}\n",
              "\n",
              "                        })                };                            </script>        </div>\n",
              "</body>\n",
              "</html>"
            ]
          },
          "metadata": {}
        }
      ]
    },
    {
      "cell_type": "markdown",
      "source": [
        "Github'da Ipython kernel olmadığı için pyplot görselleştirmeleri \n",
        "gözükmemektedir. Bu yüzden png formatında yüklenmiştir."
      ],
      "metadata": {
        "id": "L8SEB0MTAjqI"
      }
    },
    {
      "cell_type": "markdown",
      "source": [
        "![newplot (8).png](data:image/png;base64,iVBORw0KGgoAAAANSUhEUgAABYYAAAINCAYAAACKxqvhAAAAAXNSR0IArs4c6QAAIABJREFUeF7s3QmUFdXV9vHdA9CKyCitIKI4ggKKIjghBhIVROMAKiZqABE0agBFIEGj5gNEgRhfJ1DUJGoENU4gJqBg1EBwCA7gSDAqCkoYWqC7obu/tQvP9XR13bHvULfqX2tlCX2r6pzzO3XxfR+2uwpqampqhAMBBBBAAAEEEEAAAQQQQAABBBBAAAEEEEAgNAIFBMOh2WsWigACCCCAAAIIIIAAAggggAACCCCAAAIIOAIEwzwICCCAAAIIIIAAAggggAACCCCAAAIIIIBAyAQIhkO24SwXAQQQQAABBBBAAAEEEEAAAQQQQAABBBAgGOYZQAABBBBAAAEEEEAAAQQQQAABBBBAAAEEQiZAMByyDWe5CCCAAAIIIIAAAggggAACCCCAAAIIIIAAwTDPAAIIIIAAAggggAACCCCAAAIIIIAAAgggEDIBguGQbTjLRQABBBBAAAEEEEAAAQQQQAABBBBAAAEECIZ5BhBAAAEEEEAAAQQQQAABBBBAAAEEEEAAgZAJEAyHbMNZLgIIIIAAAggggAACCCCAAAIIIIAAAgggQDDMM4AAAggggAACCCCAAAIIIIAAAggggAACCIRMgGA4ZBvOchFAAAEEEEAAAQQQQAABBBBAAAEEEEAAAYJhngEEEEAAAQQQQAABBBBAAAEEEEAAAQQQQCBkAgTDIdtwlosAAggggAACCCCAAAIIIIAAAggggAACCBAM8wwggAACCCCAAAIIIIAAAggggAACCCCAAAIhEyAYDtmGs1wEEEAAAQQQQAABBBBAAAEEEEAAAQQQQIBgmGcAAQQQQAABBBBAAAEEEEAAAQQQQAABBBAImQDBcMg2nOUigAACCCCAAAIIIIAAAggggAACCCCAAAIEwzwDCCCAAAIIIIAAAggggAACCCCAAAIIIIBAyAQIhkO24SwXAQQQQAABBBBAAAEEEEAAAQQQQAABBBAgGOYZQAABBBBAAAEEEEAAAQQQQAABBBBAAAEEQiZAMByyDWe5CCCAAAIIIIAAAggggAACCCCAAAIIIIAAwTDPAAIIIIAAAggggAACCCCAAAIIIIAAAgggEDIBguGQbTjLRQABBBBAAAEEEEAAAQQQQAABBBBAAAEECIZ5BhBAAAEEEEAAAQQQQAABBBBAAAEEEEAAgZAJEAyHbMNZLgIIIIAAAggggAACCCCAAAIIIIAAAgggQDDMM4AAAggggAACCCCAAAIIIIAAAggggAACCIRMgGA4ZBvOchFAAAEEEEAAAQQQQAABBBBAAAEEEEAAAYJhngEEEEAAAQQQQAABBBBAAAEEEEAAAQQQQCBkAgTDIdtwlosAAggggAACCCCAAAIIIIAAAggggAACCBAM8wwggAACCCCAAAIIIIAAAggggAACCCCAAAIhEyAYDtmGs1wEEEAAAQQQQAABBBBAAAEEEEAAAQQQQIBgmGcAAQQQQAABBBBAAAEEEEAAAQQQQAABBBAImQDBcMg2nOUigAACCCCAAAIIIIAAAggggAACCCCAAAIEwzwDCCCAAAIIIIAAAggggAACCCCAAAIIIIBAyAQIhkO24SwXAQQQQAABBBBAAAEEEEAAAQQQQAABBBAgGOYZQAABBBBAAAEEEEAAAQQQQAABBBBAAAEEQiZAMByyDWe52ReYPnOuLH97ldw9ZZQ0b9ok+xNIYcSNm8vkinEz5J1Vq52rbxk7RM7p1yuFO2X3kqfmvyJzn1ucV9bZFWI0BBBAAAEEEEAAAQQQQAABBBBAYJcAwXCcJyFWqFdeXik33D7bucPN1w6RkpKGST1XGmJNnDpbHrpjnHTvelhS12brZF3/C4uWyn1Tx0iH9m1k9Wdr5fKx02TkJWfVCQpztR4zrpp4Weoavl6/IaU9SodzvgXDJhTuflRHGT18YEIE7iDZXNS/b89a7qncO6EJfH9SNoLhWN+BZOaaiXN1/fc8/Ezk+5qJMbgnAggggAACCCCAAAIIIIAAAggEQ4BgmGA4pkC+BcPuIFIXRzCc3B9Wy1d8IBMmzUo4XNTzL71migwd3L9WkGwC1FYtmkYqeAmGk9uLZM8mGE5WjPMRQAABBBBAAAEEEEAAAQQQCK8AwXAOg+F8fOz8WC1pwrBLBp0mk+98pE7bA4Lh5J60ZILhRKrmH3lqofTr08Npo0EwnNxeJHs2wXCyYpyPAAIIIIAAAggggAACCCCAQHgFCIbTHAzbwaneWltFmMPd5sAOcdqUtoraliJa+GYqNc39u3TsUKu3qh3C/fTUE5wWEGvXbRBTVavXaSuMeQuXRuborri12yBs3FQWuYfNZipFo4VSXm0G3BZmjbHmEm2r7HGffvG1Ov183cGw2aNJEy6r1cLDzHPggN6RNhmmNcGk8ZfJhMmzIj13jbXbxL0HOmdj6L6HV3Wznm+3xtDfu8+zn7F2bVs71bp6uCt2vbzi3dv9ud7Da03m3skEvfHaTaxd963zfCWyLzq+1/1OPLazbCnbWqfHcDLflZN6dI6Y6jh2f2Vjr98jr++A2e8HHp0X+TiWn30P85xM/+2VMmPWXOd72aa0pVO5/e/3P6n1Z4leZz7TFi9ez43XnzuZ/i6G91+lrBwBBBBAAAEEEEAAAQQQQACB/BMgGI6zZ8n2GLaDIztQ8gpN3T8z4ZU7NPWq0nW3eDDBkN1f1A6B3OGiV9jsFfK51x+vx7C7v6lZk1e4ZvoUJzqXaFtlO+o57h7I9Q2GNdy3wz3b1evn7t68Or4Ghfa5Xms2P/v8y/W1gs1oe6DhZCJhsHFz3yfaeKlUDGuImUiv7FhBcjKBvTn39D49a7Wv8Pq+JvtdsU29vpOxvgPRjHUP4vUhN8+JO/A13239p/0CwET+TLG/M9n4LubfvwKZMQIIIIAAAggggAACCCCAAALhFSAYzlAw7H45W7RqVK8g1x0sul+oFS9AM9cnEsK556lh4ZKlK+TU3t0dmfoEwyZ43Lt1yzovMfOqRI43l0SCYa2edM+5vsHw3OcW16lAjfaSM6+fR/vLBXfoGC2QdQeRqbTziPaXDl7PSDLBsO5JtEpgr9A6kWcykYrhaO1B0v1d8XqGo/nHWtuLi5fLyT27xnxBZbIvKUzkzxTzncnWdzG8/ypl5QgggAACCCCAAAIIIIAAAgjknwDBcJaDYTv0TaTizytsihZKmiD36/UbnOrE7RUVcsW4GeIOmt1hXqxKz/oEw9ECbB3fDh+bN2vizPOdVasTqjp1b5nb0R3c+TUYjjfPaKFeKsFwtGfGq3I52WDY3g9T9Wr/zA6I0xEMx7qHe531/a54+UTzt9uh2BXyif5rIV4wHK2NRbz/MkHHz9Z3MdG1ch4CCCCAAAIIIIAAAggggAACCORegGDYZ8GwO3TyCum8wjd7GaZtRKxg2B0Om+vd/VDrEwy7+7q6qe3/ZN6r6jTR3qzxAnbtO2zC8pKShlFDslg9hu+eMsp5eZo50lExbI/X70c96/R7dnuZgDWVYDhW6Oj+rD7BsHvO5lk1f/mQjmA4XjsTu8K7vt+VZIJhXbtXr2yv1hBef+zE2yNtR2KHwMlUDGfru5j7f6UxAwQQQAABBBBAAAEEEEAAAQQQSFSAYDiOVKyKQ6+QK5n/zDzay9pMhev4qy6SyXc+4szQ7k8aa072cpJ5MZheZ8Ijux9xfYLhWFWK8R5Qr7lEu8bL0V67XufHYDjRimH3ulMJhrNVMRxvrukIhr0C0WiBfX2/K8kGw9HW36pF0zrtSLxC9OVvr6pzXrw/U9wvS3T3+dZxsvVdjPe95nMEEEAAAQQQQAABBBBAAAEEEPCPAMFwnL2I1ps1WtgSL8SJ10rCDmg1GH54zgJx91yNNadEg2Gd5/byCjn80ANqCXj157XDqnihXCI9k73Cs0TmkkwwrOeawLhli6ayX9vWkXA93h65g7ZM9hieMGmW3Dd1jGhv5Gh/URAvbE3kj5NM9RjW52H+omVy0Tl9PafhHjdWr9tE98UrrI0WDNf3uxLrxYj2c6Ljq8W7q/4jvXp2qWWR6L4m2ova3Nzruxit2jvRvyRK9M+FRJ45zkEAAQQQQAABBBBAAAEEEEAAAX8LEAwnsD8a2LywaGkkwDMhkPbFbWcFjvrzeOFWIsGw/Z+jR2un4P5P9M0yNBj6x7J3nZe9JVKdab/wzet8d1gVL5RzVyuaYM79IjIdS6uhNfzeuKlMLh87TeLNJdlg2G5PYVdBxwr7tM+xu2drOoJh9/NjnpPT+/SMvJjPzOvtdz+u9ayZkFv/eU6/XlGfsXiPsvs5NuN9/uX6WlWqybSSsI3dvaqj7X20ADSZffEKfM3PvNqhaBsGr/nF+654zSnad8Dr+xPr++Ler2guXve13e3nNVY1eTa+i/GeQT5HAAEEEEAAAQQQQAABBBBAAAH/CBAMJ7gXWvU3cersWmd7vWAqHcGwCQJ1vFgvsfLqG+rVt9fr5XM6htf17vG8wip3P2AT+karjPTqH6zj22MlMpdkg2Hb0Q6G7WBfg2A9NEycNP4ymTB5lmSiYliDYa1cfvf78dzrt9fm9azZYWcqrSTM/d33druY58KuZI73FfHqq6vXROut6z7fnoP7WYm2L17Prz6H++9bKl5BfqrflXghsHl+3P2f167bEGFz/6VINM9YPYbr42IH4pn+LsZ7VvgcAQQQQAABBBBAAAEEEEAAAQT8I0Aw7J+9YCYIIIAAAggggAACCCCAAAIIIIAAAggggEBWBAiGs8LMIAgggAACCCCAAAIIIIAAAggggAACCCCAgH8ECIb9sxfMBAEEEEAAAQQQQAABBBBAAAEEEEAAAQQQyIoAwXBWmBkEAQQQQAABBBBAAAEEEEAAAQQQQAABBBDwjwDBsH/2gpkggAACCCCAAAIIIIAAAggggAACCCCAAAJZESAYzgozgyCAAAIIIIAAAggggAACCCCAAAIIIIAAAv4RIBj2z14wEwQQQAABBBBAAAEEEEAAAQQQQAABBBBAICsCBMNZYWYQBBBAAAEEEEAAAQQQQAABBBBAAAEEEEDAPwIEw/7ZC2aCAAIIIIAAAggggAACCCCAAAIIIIAAAghkRYBgOCvMDIIAAggggAACCCCAAAIIIIAAAggggAACCPhHgGDYP3vBTBBAAAEEEEAAAQQQQAABBBBAAAEEEEAAgawIEAxnhZlBEEAAAQQQQAABBBBAAAEEEEAAAQQQQAAB/wgQDPtnL5hJiARWf7ZWLh87TU7v01NGDx8YmJWvXbdBZtw3Rxa9+pZUVO6Qk4/rKpPHD5emezbO6zVOnzlXXli0VO6bOkY6tG+T12th8ggggAACCCCAAAIIIIAAAggggIAKEAzzHOStwMbNZXLFuBnyzqrV0rpVM7nv1jFyyIHtaq2nvLxSbrh9tnz+5Xq5e8ooad60iS/WG8RgeP23m2T0b++St9/7OGLcpWOHhNy3l1fIgpf/JU88v0Te+/A/snNnlTRq2EAOPbCdHHtUR/nRid3kiEP3l6KiopzsH8FwTtgZFAEEEEAAAQQQQAABBBBAAAEEMihAMJxBXG6dWQE7GNaRLhl0moy5fGCt8JBgOLN7YN/9qfmvyMSps+X6Xw6WQQN6S0mjhgkN/p/Pv5bxk2bKu6tWxzz/oTvGSfeuhznnLF/xgVx6zRS5ZewQOadfr4TGqc9JuQqGczVufay4FgEEEEAAAQQQQAABBBBAAAEE8kOAYDg/9olZegiYYLhF8z1l95JG8sY7H8pdk0ZJp0PaR84mGM7Oo1NTUyPT7p0j/3zzfadCuLRV84QGNvvz4uLlMnBAbxlyQT/Ze68WUlhYIFVVVbJx83fy/kdrRD8/r38v6db5EILhhGQ5CQEEEEAAAQQQQAABBBBAAAEEEIgtQDDME5K3AiYYbte2tVM1OurGu+SsU0+Q60aeH6kaJhjOzvam6mxaahx2cHuZMmG4NN69JKEJUzGcEBMnIYAAAggggAACCCCAAAIIIIAAAlEFCIZ5OPJWwA6GJ466RO568K/yzIuvyb23jpaunQ501hUtsIwVLNr3vfnaIVJSsqslgrnmput+Ie3blsqDj78gS99c6XzW58RuMuryQbJP6xbyyZovZeafn5dX//WubNteLif37Cqjhg+UA/bbJ2Jt9xgedEZvmfXo8/K3JW8452tV7FVDzpajjjhYCgoKau2P9uKd+9xi+euCV+WjTz93+vD2Oq6rDL9ogHQ8eL9a55s2BPfeOkb0uj888KQse3uV7NO6pWO0f7u9Y+59dXWNLH3zfXlozgJ5Y8WHUlVdLUcceoAMHdzPWZPp9+tu6WHf1G7/4DWYceh6+EFOW4jdShrFfR51XQ88Os/zPDOeaWvhNX6s/s7G9/FnX5Y1n38trVo0lbNPP0nWfPG1vP/Bf+q8fM5tpC/cO/yQ/eXS80+Tvr2OkYYNiiPztJ+5Y4/sWGvPexzVUa657DznWj1imdp9m93PQ3FxkbNHp/+oh/Tv29M3PbXjbionIIAAAggggAACCCCAAAIIIIBA1gUIhrNOzoDpEnAHuKv/+5VcOWGG9D7+KBl/1UVOKJeJYFirWrduK6+zDA1yu3Q6UP7y9CLRgNA+jul6qEy78QonaNTDhJNl322Tyh0765y/Z5PGMuOmK6Vnt06R23yzYZP8esr98try9+qM7XW+Bqh/feEf0ung9rL0rZXOC930aFPask7A6b6htnHQcPvePz0buc4+Z+QlZ8nIi890wuH6BMP/21QmV/36DtG902D4Ryd0c9pIxDoyFQyr73U33yPLV3zoObzbLRkjvaEJhg/psK989sW6OnuuQf3//b9rnL9ASCQYrqmukWtvuVeWvbXrLyfcR7b6L6fr+8x9EEAAAQQQQAABBBBAAAEEEEAguwIEw9n1ZrQ0CriD4QYNiuS2ex6vVTWciWBYq3Qvu+gMpyeuBr0bNm6RKXc+IvNfWiZasak/H3Zhfyndq7lsKdsmk+98RJ77++tO712ttNXDBMMaCl888FQZ8OPjZa+WTZ2w8Ml5r8jUux+To7scKjN+e6U03bOx029X1/bY04tk5MVnyYU/7RP5+bsf/Eem/N+jsvtuJZHzdQwToO7XtlTGjBgkxx9zuHNOIseKlZ/KiOunyx67l8hvRl0sJ3Y/QgoKCuXdD1Y761n18Wcy9Tcj5NTe3Z3bpdpKQnsTP73gVfnttIecAFo9T+h+hHQ+rIN0OnR/6bDfPtJkj93rTDleK4lkK4bVd9p9c+XhOQucNY0ePkja7tNKampE1q77Vu6Y9YT8+/1PagXqS5aukKt/8wdnvtddcaFTRa4F3uu+2Sgz//ycPL/wnzJz6rVy5BEHOfM3czbPz7n9T3b2/Ltt5XLfH591KtCvGXauDP/ZgMh6Y7187m9LljvtU35+3k+cZ0KfE61g/mbDRpm3aJnzFwCnnXJsItvNOQgggAACCCCAAAIIIIAAAgggEEIBguEQbnpQluzV8kHbK1x+/TQ58dguMnHUxVJdVS033D5bPv9yvRPMNm/apFZI51VVGbeVxLW/kPPOOLkWo4aEV4ybITeMvkQGDehdq6WDVusOHT3VqYjVXsh2MHx6n54yevjAWvfSdhITJs+SN9/9WGZOHSMdD24vn69d7wS1J/XoUquHsrnwhZeWybhJM+XBGddHXtCmoeK8hf+UeyaPkkMObJfwtmtYe8f9T8qsR56X228Y6bQlsA9djwai+vPfXPNzaRCjMjuRQXW8t979WO566GnP6tce3To5wbZps2CHrNGqYpMNho2vPh/Tf3ultG7VrNbU3QGtBvq3zPijE5Brle/erVvUOt/c77Tex8pVQ8+p9czd5PH8aPuRy8fqc9s5YqoXxQqGzRqvv/JCJxx2tx1JxJ5zEEAAAQQQQAABBBBAAAEEEEAgvAIEw+Hd+7xfuVeAayo/n3h+sfzhd1fLkZ0OSnsw7BVGmmpQd8WnImt4OHzsNKdXrQmBY/W51WvufOApp43DA9PHOu0kzP3jbZq2n/jJybuqeGOFirHuo31rJ06dLStcFbLmmv9t3CIjxs2QosKCSNieasWwex56n2/+t0k+/PRz+dfbq+TFxcvl2/9tFm2VYfeOTnfFsLnfL84/3Qmh3SGr2zJWqwd7TfoXCCY8jzVnY7p/u1Kx+1rH2kPzlyDajkMrg3/c6xg59MB2svdeLZywngMBBBBAAAEEEEAAAQQQQAABBBCIJUAwzPORtwLRKntN6HpU54OdXsPa+iCdFcOxguGhg/vXqQD2CoHjBcOmGtSMZX4fb7PsuaUaDBtXHcuusjZje32ermDYvT6tzNU2CxqSX3ROX9HqWO1rnO5g2O3tnofb0uzf2nUbYm6JvgDOBL2pvPAw1h5qpfXb730sv5/1hLz5zkeReWirigt+2keuuOQs2aPxbvEeGT5HAAEEEEAAAQQQQAABBBBAAIGQChAMh3Tjg7DsaMGwVg3f/dAz8qcn/ya3/vpyeeHlZVGD4XG/HOz8Z/j2Ea+VRDaCYdMf+KE7xkn3roc5L4/TdhReFcnR9jLVYDiXFcNeazFtFo7uckhCIavewwS9dl9nc2+vUN74jvj5mZHWD/Zc3Jamwrdpk92d1hNefZDda0l3MGzfX1+GuObzr5yAWF84+NHqL+SSQafJmMsHOkE6BwIIIIAAAggggAACCCCAAAIIIOAWIBjmmchbgWgBri7I9Hht3aq5FBcVyndbt9eqfjXh4Km9j63TOiDaf9YfK9gzn6WjYlhbJ4y56W6nhYK2T2jXpnXkZXXt2pbWesFcrM1LNRjOZo/hd1atdkJ77VdcWFjguZx/v/eJDB97u/z0tBPrVAx79evVm5j9iNXPt3/f4yLV3abdx9GdD5ZJ4y+r85I+t6WpkF78+r9rvWAu1n6kGgxrn+j7po6Rg/Zvm9B31e6XfNekXzkvpeNAAAEEEEAAAQQQQAABBBBAAAEECIZ5BgIjECsY1nBz5p+flz888KSz3i4dO9QKhtd9u9F5WVx5RaXzUrgjDz9YtNL4zXc/krsfetqpvLTbANhhYzorho88/CC55rLzpE1pKykoEFn3zUZnzs+8+Fqtik9tqaAtMeY8+7KcfFxXuXrouXLwAW2dalANKVf/9yt55sVX5dTe3Wu9fO6FRUudULFD+zZJ7fuKlZ86L7vbY/cS+c2oi+XE7kdIQUGhrFj5ifz29odkzRdfy9TfjHDG0yPVVhImLNX9+cUFp8sxXQ+T5k33cHr8ln23TZa9vUqm3TtHNm35Tv7wu6uc6mk9NFAeNmaqdDq4vUz59eV1Xv5mgt72bUvlluuHyv77lopWQr/+xvvO/f775TqxQ/yyrdvl2pvudiqzx15xoZzbv5doS4ZvNmyWJ+ctcV7E17L5nrUstf/x2N/dK61bNpOxV14oJ3Q/wgmU9TnS6xb+403n+Ro2uL8z51SC4Zl/fs55EaBWMl9+8ZnS0OodfN+fnpOiokJnD9qUtnSehR07dsrLr78tN97+kJzUo3OtfsVJPQCcjAACCCCAAAIIIIAAAggggAACgRegYjjwWxzcBcYKhnXVWjn5ywl3iLYicAfDGt5pcPx/D/61DtAB++0jGzZuqROsZaJiOFqP2u5dD5Xbbhgpe7VsFpnfNxs2ya+n3C+vLX8v6qaa1hN6QqoVw3qt+vzxib85/Wt37qyqM97IS86SkRefGWlTkGowrNXAQ0bfKhWVO6KuSQPa3465VAb85PjIS+E2b9kq191yTx0Ls36dzy2//6M8veDVOvfVkHzdN/9z+vCalwHqSRoKj7rxLtlStrXWNfriOw3I9bBDdvMMaf9jLyM93w6fUwmGTUBvz8k8yw8+vkAeeHSep5vOWV9EqC8u5EAAAQQQQAABBBBAAAEEEEAAAQS8BAiGeS7yViBeMKxVww88Nl9mzJxbJxjWRWs155znFsvDcxbI1+v/J4cfsr9cev5pcnTXQ+VXE++Udm1b16q4zEQwfPLxR0rTJo3l+b//U7746htp1aKpDD67rww+u49n31qds1aiauXwex/8xwlU991nLzn2qI5y5qnHS7cjDo6EtfUJhtWnurpGlr75vjw0Z4G8seJDqaquliMOPUCGDu4nJ/fsWqt3barBsI6j1brL3lopz//9dXn7vU+cFhp66Lq0xcTAAb2l7d6t6jynGqrPuG+OLHr1LWduh3ZoJ7+99hfS6ZD2zrlaZfzHuS/KY0+/JNu2lzuV1JcN7i+t92ouI6+fLqf36VkrGNbn5f0P1zgV21qprNW/Pzn5GLls8Bky5/nF4lV9rUYrP1rjGC3/9wfO3DWU7dyxg5zRp6eccmI3afL9C+BSCYZ1Tq+/8Z7cMetJef+jNc69Tzn+SBl/9c9k586dztqfffG1yLOgz88pJxwlwy7sL/u22Stvv9tMHAEEEEAAAQQQQAABBBBAAAEEMi9AMJx5Y0ZAAAEEEEAAAQQQQAABBBBAAAEEEEAAAQR8JUAw7KvtYDIIIIAAAggggAACCCCAAAIIIIAAAggggEDmBQiGM2/MCAgggAACCCCAAAIIIIAAAggggAACCCCAgK8ECIZ9tR1MBgEEEEAAAQQQQAABBBBAAAEEEEAAAQQQyLwAwXDmjRkBAQQQQAABBBBAAAEEEEAAAQQQQAABBBDwlQDBsK+2g8kgEAyBrdvK5eE5C+SS80+TxruVBGNRrAIBBBBAAAEEEEAAAQQQQAABBBAIkADBcIA2k6Ug4CeBqyfeKX1P6iZn/uQEP02LuSCAAAIIIIAAAggggAACCCCAAAIIiAjBMI8BAghkRODZF1+TRa++JXfcclVG7s9NEUAAAQQQQAABBBBAAAEEEEAAAQRSFyAYTt2OKxFAIIaAtpM4tt8I+df8e6Xx7rST4GFBAAEEEEAAAQQQQAABBBBAAAEE/CRAMOyn3WAuCARM4OqJf5C+Jx1NO4mA7SvLQQABBBCg5gvWAAAgAElEQVRAAAEEEEAAAQQQQACB/BcgGM7/PWQFCPhWgHYSvt0aJoYAAggggAACCCCAAAIIIIAAAiEXIBgO+QPA8hHIpADtJDKpy70RQAABBBBAAAEEEEAAAQQQQACB1AUIhlO340oEEEhA4OqJd0rfk7rRTiIBK05BAAEEEEAAAQQQQAABBBBAAAEEsiVAMJwtacZBIKQCz/7tNVn0j7fkjluuCqkAy0YAAQQQQAABBBBAAAEEEEAAAQT8J0Aw7L89YUYIBEqAdhKB2k4WgwACCCCAAAIIIIAAAggggAACAREgGA7IRrIMBPwscM3EO6UP7ST8vEXMDQEEEEAAAQQQQAABBBBAAAEEQiZAMByyDWe5CORCgHYSuVBnTAQQQAABBBBAAAEEEEAAAQQQQCC6AMEwTwcCCGRcgHYSGSdmAAQQQAABBBBAAAEEEEAAAQQQQCApAYLhpLg4GQEEUhWgnUSqclyHAAIIIIAAAggggAACCCCAAAIIpF+AYDj9ptwRAQQ8BLSdxMJ/vCV/uOUqfBBAAAEEEEAAAQQQQAABBBBAAAEEcixAMJzjDWB4BMIiQDuJsOw060QAAQQQQAABBBBAAAEEEEAAgXwQIBjOh11ijggERMBpJ3FiNznz1BMCsiKWgQACCCCAAAIIIIAAAggggAACCOSnAMFwfu4bs0YgLwU+/PRzOfTAdjmfe82OSqlZ/5VUffO11HzzlVRv/FZqKipEKiukprLc+nWFSEW51FR+/1nFrs93nVchzx8xXV7d2FUaNhRp2KBAGjaQXb92fv/9/xoWSIMG4vxPf+b8ulikZYuC7/8n0qpFgRQU5JyFCSCAAAIIIIAAAggggAACCCCAQIgECIZDtNksFYGwCNjBb7UGv998LdXrv//nN19Jzab/pYXi+S6/l8XfdE3LvVo0L5CWzesGxuZnxcVpGYabIIAAAggggAACCCCAAAIIIIAAAo4AwTAPAgII5LVA9Vefy86P3peqj9+Xnf/5SDQITlfwGw8mncFwvLGa7qkVxiLt9y2QDvsXSIf2BVLamjLjeG58jgACCCCAAAIIIIAAAggggAAC3gIEwzwZCCCQNwI1276Tqo9Xys6Pvw+CP35far4ry9n8sxkMey2y8e7yfUhcGAmLd9stZxwMjAACCCCAAAIIIIAAAggggAACeSRAMJxHm8VUEQibQNWaj2sFwVVffuYrglwHw14Y+5T+UFGslcXt2lJV7KuHhskggAACCCCAAAIIIIAAAggg4BMBgmGfbATTQAABkar/fio7314qO/69VKo+el+0V7CfDz8Gw24vfdmdtp3ocnihdDm8QDQ45kAAAQQQQAABBBBAAAEEEEAAAQQIhnkGEEAgZwI1lRWRIHjnO8udl8Tl05EPwbDbs3UrDYkL5IiOhXLoQQWiwTEHAggggAACCCCAAAIIIIAAAgiET4BgOHx7zooRyKmAUxX872Wy8703Zcd7b4ns3JHT+dRn8HwMhu31FheLdD28UDodWuCExHtTTVyfx4FrEUAAAQQQQAABBBBAAAEEEMgrAYLhvNouJotA/gk4VcHvvukEwTvff1Oq1nySf4uIMuN8D4bdyzqgfYEcdrCGxFQTB+YhZSEIIIAAAggggAACgRR4dkF19HXV1Hh+dubpRYG0YFEIIJC6AMFw6nZciQACMQR2vPGq7Fi2xOkXXLN5YyCtghYM25vUdE+Rww8rlGOO3NWbmAMBBBBAAAEEEEAAAQT8I6DB8LMvVCU8oTNPK5SwBMPl5ZVyw+2zpWe3TnJOv14JGyV64urP1sqEKffLpHHDpEP7NoleVq/zlq/4QKbfO0funjJKmjdtUq97cTECtgDBMM8DAgikTUDbRDhh8LIlzovkgn4EORi29659uwInID7myALZqxUhcdCfa9aHAAIIIIAAAggg4H8BDYVjVg27llCfYNgrlNy4uUyuGDdDRo8YJN27HuYrsHjBcLRgd/rMuc46Rg8fGHM9uQ6GdXJ+tffVg8BkEhIgGE6IiZMQQCCaQE35dtmxbPGuQPiNV0MFFZZg2Gyq9iQ2AfGRnQtDtdcsFgEEEEAAAQQQQAABPwlks2KYYNhPOy/i51DeX1LMJhEBguFElDgHAQTqCOxctSISCFdvWB9KobAFw/Ymt2tbIEd/X0W8d2uqiEP5BWDRCCCAAAIIIIAAAjkT8FswbMLKd1atdkz69+0pN187REpKGoqpsD2j73Ey+c5HpEvHDtK504FS0qhhpDrXXeWr1bsPPDrPuVeb0pZy39QxTtsGM07/vsfJw3MWOJ/rZ82bNXGqaM34+vNbxg7xbCWRSMXwU/NfkaVvrZQmjXeXvzzzkjPOQ3eMc6qj7ev15+62Eu4gXe81cersOi7uMYYO7i+/OP+0Wuswju9+uDrSSuLBxxdEbMw613yxzrm/qXaOVzWdsweXgX0nQDDsuy1hQgj4V0AD4F2tIhaLBsNhP8IcDJu9LyyUSEB8dFeqiMP+nWD9CCCAAAIIIIAAAtkR8FswrGGoHhqcmvB24IDeTjCrQerlY6fJ6X16RoJL/dlt9zwuk8YPc3rm2r/X+8xftEwuOqevc08Nib9ev8EJmrdXVDjBabu2rSPBswlB927d0rl/vFA00WBYw1wTBtth78ZNZbXCYJ3f/vuWRkJo+/ca/s59bnGkN7D7M3sMs1b7Xo88tVD69ekhn6z5MhIM63nuVhJuT3oSZ+d7GIRRCIaDsIusAYEMC+z86D2pfHme7HhtkdSUb8vwaPlze4Lh2nvVZp8COaZrgZx0fKE0b0oVcf48ycwUAQQQQAABBBBAIN8Est1j+NJrpngSmeDU/aHdr9criDXhrYbHGiZrgKpVr179fe2QM1ooalftpisY1ophu+rZBNnuYFjnp+GvCa4nTL5frht5vrQpbVXnJXj2ufNfWupUJZsx3AG3bRrPwB0qu8PqfHu+mW/2BAiGs2fNSAjkncDOFf+SysXzpfK1hXk392xMmGDYW3nPJgXS67gCOem4QmnZgoA4G88iYyCAAAIIIIAAAgiESyDbwfD0e+dEql5V2qvPrd3+Qc/R1gga9Ear0DVh8BUXn+UEqCYk1ms1CLXDaG0/cfeUUc4mx6uWrU8wbKp1TZuHRIJhtTBh8IZNWyIhsc5V1zVv4dJaD6dpD+EOhm1X0xLDtMNIJBg2ofOoywbKzTP+6ITT2n6DA4FYAgTDPB8IIFBHQNtFVC6eJzvefB2dGAIEw7Efjz0aixMO9zquUPZqRUDMlwkBBBBAAAEEEEAAgXQJ+C0Ytts9aF/heBXD6mDaHwy58HRZ8NK/5LqRFzg9iTXgnDBpVqSvcLxQ1B08xwuG7SDXBKfua5IJhnUtpkJXq55P6tHZqYJ2V0W79949hvtze10aOJtw3isc15+Z8TZv2SqHHrSfZ/V1up4/7hMcAYLh4OwlK0Gg3gKVSxY4gfDO99+u973CcAOC4cR2ebfdxAmHNSTmRXWJmXEWAggggAACCCCAAAKxBPwYDOt87R6/pudvtIphE6h++Ml/5dTe3SM9er1e3mb69HqFou5Q1/Q0HnnJWZ4vnzPjmr7FXmF0ssGwjnnrXY9JYWFhpG+yjuPuMaxzfWLeEjmv/8ni1UrCfGa/tG/SuGFiB8O7NWpUp0WFeVbMi+6itfjgW4WAW4BgmGcCgZAL1FRWOP2DK1+eL1Wrd70wgCMxAYLhxJzMWY0a/lBBrP2IORBAAAEEEEAAAQQQQCA1Ab8FwyaMXbtug7QpbSktWzSVY4/qGLOVhK7cXR2sPzNBr2nBcOKxnWVL2daorST0Gnv8Xj27Oqg/7nV01GDYPYbO+b6pYyKtF5INhmP1BzZhrdlp0x7Cq2LY3Y7D6+V3+rI+u9WGuZ/xNP2ONVzmQCCeAMFwPCE+RyCgAjVbNjmBcMXL86R67X8DusrMLotgODXf4uIfKojbtSUgTk2RqxBAAAEEEEAAAQTCLJDNYDjMzvm2dg2WTSuLfJs7882NAMFwbtwZFYHcCdRUS8Wzj0nFC09I9f++yd08AjAywXD9NrGwcFcF8cnHF8p++xIQ10+TqxFAAAEEEEAAAQTCJPDsgupdy62pqb3sgij/d3VNjZx5elGYiEK3VtOzedL4YaJVxRwIJCJAMJyIEucgEBABfalcxXOPys6P3g/IinK7DILh9Pg3bCBy6o8K5dQ+RVLSKD335C4IIIAAAggggAACCCCAAAIIIBBbgGCYJwSBEAhUffapEwhXvvJiCFabvSUSDKfXet82BU5AfFz3wvTemLshgAACCCCAAAIIIIAAAggggEAdAYJhHgoEAixQU1EuFc89JhXPPio15dsDvNLcLI1gODPu3boUOgHxgQfQXiIzwtwVAQQQQAABBBBAAAEEEEAAARGCYZ4CBAIqUPnq351AuGrNxwFdYe6XRTCcuT3Q1mhOe4kfFUmTPTI3DndGAAEEEEAAAQQQQAABBBBAIKwCBMNh3XnWHViBqk9WSvmzj8mOpS8Hdo1+WRjBcOZ3onSvXe0leh1Pe4nMazMCAggggAACCCCAAAIIIIBAmAQIhsO026w10AI1322Rimcfk/LnHhWpqgr0Wv2yOILh7O1E504aEBfJYQfTXiJ76oyEAAIIIIAAAggggAACCCAQZAGC4SDvLmsLjUDlkhek4uk/S9WXn4VmzX5YKMFw9nehT69d/YdbNCcgzr4+IyKAAAIIIIAAAgj4RaB87uykp1IycEjS13ABAggEW4BgONj7y+oCLlCzZZNsf3yWVP79mYCv1J/LIxjOzb60alkgZ/cvlB5H014iNzvAqAgggAACCCCAAAK5FtBgOJlwWEPhXAXDy1d8INPvnSN3TxklzZs2yQpdNscsL6+UG26fLfMWLpX+fXvKzdcOkZKShmldZ7rH2Li5TK4YN0NGjxgk3bselta5crP8EiAYzq/9YrYIRAR2vPGqlP9lllT991NUciRAMJwj+O+H1erhs88okpJGuZ0HoyOAAAIIIIAAAgggkG2BbAbDT81/RZa+tbJW4JlMsJjNkNbsgz2m/iyTIaiXj/t5sINd89lDd4xLOJRNZIxknsFk9i+Z+3Ju/gkQDOffnjHjsAtUVTlVwto6giO3AgTDufXX0Q/Yr8AJhzsdSmuJ3O8GM0AAAQQQQAABBBDIlkA+BcPZMok2TqZD0Okz5zpDjx4+0HMKJhTeu3XLyDmrP1srl4+dJiMvOUvO6dcrLlG8MeLewHVCpk2SnQ/n506AYDh39oyMQNICO1etkPK/zBT9J0fuBQiGc78HZgZn9SuSAafSWsI/O8JMEEAAAQQQQAABBDIp4LdgWIPLrVu3S9nWbU5LhTalLeW+qWOkQ/s2YlfvbtxUJhOm3C+Txg1zPtPDXVGs1bETp+7qoWy3ZnCPccvYIXLKCUc51cDvrFpd6/x3P1wdaV/x4OML5IFH50W2Y/xVg5052m0UNKh1z8vePxOkmnFMta/Oyb63zskd9EarmLZ//vJrb8vc5xZH2m3YYbLOw2sMe+yhg/vXCp11LWf0PU4m3/mIdOnYwbmv2msYvXbdhsjSkqlazuTzzL1zJ0AwnDt7RkYgKYGKZ/4s2/8yS6SqKqnrODlzAgTDmbNN5c6dO2nv4SLZb1+qh1Px4xoEEEAAAQQQQACB/BHwYzD8wqKlkTDYbn1gh7TaY1gDzf33LY0EqPbv9To7ILU/01/bY+huue/1yFMLpV+fHvLJmi8jwbCe524loeOs+WJdJEyNVZFrQtqe3To5czbVvpMmXOa0gohXzRvtcw2bJ0y+X64beb4Tkttm819aGnN+9rm6Pu1xbCqSzfxO79Mzsj4TbA8c0NtZAxXD+fNdz/RMCYYzLcz9EaingPYQ1l7C2lOYw18CBMP+2g+dTePdxQmHe59I9bD/docZIYAAAggggAACCKRLwI/BsK7NtFPQalgNePVFbO5g2P5se0VFJBxtU9rKCThNAKv3s8+9+4+7XrpuxvBq0WB84/UYtkPZ5s2a1Apo3XvkVU1sh72JBMN2EG7u7w5nzXo2b9kqTfdsXKunsz2GO6g2TuYFf4lUZRMMp+ubmP/3IRjO/z1kBQEWqPz7M04/4ZotmwK8yvxdGsGwf/fuuO6Fcnb/QmnRnOph/+4SM0MAAQQQQAABBBBIVcAPwfAEq9rVHY7GCobtUHbDpi2RAFktNBjWNg/2YdpJuINhPcfd4sG0cogXDOu1ptq4XdvWkTmUlDSssyUaDN92z+Myafww0YpnPeyK40SCYb3G3YPYXTGs50RraeEVDGv1r1Ysm+vMHKMFwyao1zUSDKf6zQvedQTDwdtTVhQAgZrybbL9gRlSueSFAKwmuEsgGPb33pbupS+mK5RjjqR62N87xewQQAABBBBAAAEEkhXIZjBsh7wmOHUHmMkEw3Yoq+0cTurR2Qk4TSWsHXjaLvECWHtOGjibClq9h7uVhB3C6q/HjBgUCVnde1HfiuFEegxr4GxXQC9/e1Wk37DxMuEyFcPJfls4P5YAwTDPBwI+E6j+6nPZNnOq7Hz/bZ/NjOm4BQiG8+OZ6Ne3UM4ZUJQfk2WWCCCAAAIIIIAAAggkIJDNYNjdn9YElV+v3xBpd5BsMKxh6613PSaFhYV1KnHdL2F7Yt4SOa//yeLVSsJ8poF1tGB4t0aN6rSo0DWYgPXzL9fXCmHd/O6WFcn2GPZqeWHuMfKSsyK9lmNVIbt97V7MZn12j2H3i/TcFcIaVl96zRTh5XMJfNkCfgrBcMA3mOXll8DOVf+WbfdMkeqvv8iviYd0tgTD+bPxPY8plGE/JxzOnx1jpggggAACCCCAAAKxBLIZDOs8TJC5dt0GZ1qmvYOpIE42GI7VH1hDz4lTZ0eWb9pDeFUM688eeHRe5FwTdLqrdE0Qqiea+5mA26v/r9ve3bLCDlTjVTLbIbTdJsO+h/ule26feGsfOrh/pFVFtHYUtoHunwbio2NUSvMNDIcAwXA49plV5oHAjtcXydbf35gHM2WKRoBgOL+ehUMOLJDhlxRJs6b0Hc6vnWO2CCCAAAIIIIAAAm6BbAfDQdwBDXsn3/mIjL/qokjv4CCukzUhEEuAYJjnAwEfCFTMmyPbH/6DD2bCFJIRIBhORssf57ZqUSDDLi6Sgw4gHPbHjjALBBBAAAEEEEAAgVQENBhO9igZOCTZSwJ9vt26IdALZXEIxBAgGObxQCDHAttnz5CKBU/meBYMn4oAwXAqarm/prBQZOjPiqTH0byULve7wQwQQAABBBBAAAEEEEAAAQRyJUAwnCt5xg29QE1lpWy96SrZ+fH7obfIVwCC4XzduV3zPueMIun3Y8Lh/N5FZo8AAggggAACCCCAAAIIIJCqAMFwqnJch0A9BKrXfyVbrr5ApLqqHnfh0lwLEAznegfqP/7JxxfKz8/npXT1l+QOCCCAAAIIIIAAAggggAAC+SZAMJxvO8Z8815gx1uvy9YpY/N+HSxAhGA4GE/B4YcVyKiRxcFYDKtAAAEEEEAAAQQQQAABBBBAIEEBguEEoTgNgXQIJPvm2HSMyT0yJ0AwnDnbbN9579YF8rtfEw5n253xEEAAAQQQQAABBBBAAAEEcidAMJw7e0YOmQChcPA2nGA4WHvaoIHIPbc3CNaiWA0CCCCAAAIIIIAAAggggAACUQQIhnk0EMiCAKFwFpBzMATBcA7QszDk/XcQDmeBmSEQQAABBBBAAAEE6iFw01dvRL+6psbzsxvbdK/HiFyKAAJBFCAYDuKusiZfCRAK+2o70joZguG0cvrqZoTDvtoOJoMAAggggAACCCDgEtBg+Ldrlyfs8tt9jpFcBcPLV3wg0++dI3dPGSXNmzZJeM71OTGbY5aXV8oNt8+WeQuXSv++PeXma4dISUnD+kw/5WtXf7ZWJky5XyaNGyYd2rdJ6D7TZ851zhs9fGCd8zduLpMrxs2Q0SMGSfeuhyV0P07KLwGC4fzaL2abZwKEwnm2YUlOl2A4SbA8O51wOM82jOkigAACCCCAAAIhErhp7XL5bayqYZdFfYLhp+a/IkvfWlkr8EwmMMxmSGuWbY+pP8tkuOnl4/UoagD7wKPzIh9lIkQmGA7RHwJpWirBcJoguQ0CbgFC4eA/EwTDwd9jwuHg7zErRAABBBBAAAEE8lEgmxXD9Q2Gc+2bTIidylxjVdzq/UxFsf7ariZW13ZtW6e1EjeVYDjWmjNtl4o316RXgGA4vZ7cDQFHgFA4HA8CwXA49plwOBz7zCoRQAABBBBAAIF8EvBbMKzh6Nat26Vs6zanpUKb0pZy39QxTjsDu3p346ayOq0O3BXFGphOnDrb2Q67qtY9xi1jh8gpJxzlVAO/s2p1rfPf/XB1pH3Fg48vqFWpO/6qwc4c7fYI8QJVE5CacR66Y5wT6LqrgHVO5/TrVetRSqRi2l6zXmzur7/WMb5ev0E+/3K9s061/f3Nv5SH575Yx9qs4/BD9pe/PPOSM4+hg/tH2kR4Ga75Yp1znmklofe4fOw0WbtuQ2Qd7vlEq3yO5pRP362wzZVgOGw7znozLkAonHFi3wxAMOybrcj4RAiHM07MAAgggAACCCCAAAJJCPgxGH5h0dJIGGxXGdshrfYY1nBy/31LIwGq/Xu9bu5ziyP9iO3P9Nf2GCY0te/1yFMLpV+fHvLJmi8jwbCe524loeNoIGrC0FhVv6bit2e3Ts6cTXA6acJlkXDYDlbd25hIRfET85bIef1PdnoTexksf3tVLRPbwb6/mdvIS85y5uqu+I1maOZvzh84oLfn9e652fu8vaLCcTbX6lxuu+dxmTR+WNZ6SyfxFeLU7wUIhnkUEEijAKFwGjHz4FYEw3mwSWmcIuFwGjG5FQIIIIAAAggggEC9BPzWY9gdfmqVrAa82jrBHQzbn2mYOGHy/XLdyPOlTWkr5yVuJoBVIPvcu//4jGNmwlwT2O7dumWdF6fF6zGsAagZt3mzJpFfe72wzaua2F5vvODXHYTH23j3eO77u1t72L9fu+7bOhXZ8eZqf+6ubraD5c6HdqizP7H+AsDsjwbFvLgu3q7n7nOC4dzZM3LABAiFA7ahCSyHYDgBpICdQjgcsA1lOQgggAACCCCAQJ4K+CEYNsGqhqnJBMN2KLth05ZIgKxbocGwtnmwD9NOwh0M6znu1gWmlUO8YFivNYGt9vk1IbZW7LoPr8pXu+I4kWDYDrS9Hjl3+wa7FUd9g+F4c3UHw7aFVzBsB73uYPjSa6bUWZ7dhiJPv26BnjbBcKC3l8VlS4BQOFvS/hqHYNhf+5Gt2RAOZ0uacRBAAAEEEEAAAQSiCWQzGLardk1wGq+qNVbFsB3KajuHk3p0dipK41WYxgtg7Tlp4Dz93jlO+wU93K0k9GfmfP31mBGDola11rdiOF6PYXdrini2fq4YjhWw8232pwDBsD/3hVnlkUDlwmdl28ypeTRjppouAYLhdEnm330Ih/Nvz5gxAggggAACCCAQJIFsBsPuvrMm2NUXommrCA2Lk6kYNqHsrXc9JoWFhbV60Lp72GpYbPrverWSsHvzRguGd2vUqE4LBJ2DCaL1pW4aIGv/Y6/D3bIi2R7D5nq9t/HSX+tatVq5ZbM9a7V/0CB5wqRZkX7N9akYjhcym73Uf2qLDndPYp2LVgGbql87lNZrtMLbrMvdY1h/rtfrQSsJ//7pQzDs371hZnkgsOPN12TrrdfnwUyZYiYECIYzoZof92zWtEBuv7k4PybLLBFAAAEEEEAAAQQCJ5DNYFjx3K0OTHsHU0GcbDAcqz+who8Tp+4KHPUw7SG8Kob1Zw88Oi9yrgkw3VW6JuC076e/TrT/r7tlhd0eIV4ls5mce662of1Z544dnEsmjRsmXm064lUMXz52mqxdt6GOiVmv/tP0afb6mW2lc9TgfPT3FdVm37Tdh7a76NWzqzRuvFvkfm6nLh07xAzdA/fFzMMFEQzn4aYxZX8IVK3+UMrGDfXHZJhFTgQIhnPC7ptBj+xcKL8cVuSb+TARBBBAAAEEEEAAgfAIZDsYDqKshpiT73xExl91UdRq4SCuO51rSjRYT+eY3Cu9AgTD6fXkbiERqN74rWy5cqDIzh0hWTHL9BIgGOa5+Gm/Ijnj1EIgEEAAAQQQQAABBBDIqsBNX72xa7yamtrjFhR4z6OmRm5s0z2rc/T7YPZL2fw+V7/Mz105PnRw/1rVx36ZJ/NIXIBgOHErzkQgIqChcPU3XyEScgGC4ZA/AN8vX6uGtXqYAwEEEEAAAQQQQAABBBBAAIF8EiAYzqfdYq6+EPjuNyNk50fv+WIuTCK3AgTDufX30+i/Hl0sB7SPUp3hp4kyFwQQQAABBBBAAAEEEEAAAQS+FyAY5lFAIAmBrdN+IzuWLU7iCk4NsgDBcJB3N7m1FReLTJpYLC2aEQ4nJ8fZCCCAAAIIIIAAAggggAACuRIgGM6VPOPmncD22TOkYsGTeTdvJpw5AYLhzNnm450POqBArru6WIroKpGP28ecEUAAAQQQQAABBBBAAIHQCRAMh27LWXAqAuV//ZOUP3ZfKpdyTYAFCIYDvLkpLu3EHoVy6eCiFK/mMgQQQAABBBBAAAEEEEAAAQSyJ0AwnD1rRspTgcrFL8i2u/9fns6eaWdSgGA4k7r5e+/+PymUs/sTDufvDjJzBBBAAAEEEEAAAQQQQCAcAgTD4dhnVpmiQNUnK+W7W34lNdu3pXgHLguyAMFwkHe3fmsbfF6R/OgkekrUT5GrEUAAAQQQQAABBKIJrHy2KmmcTmdSvJA0GhcgEHABguGAbzDLq4dATY0TCu9878163IRLgyxAMBzk3a3/2q4cWiRHdSEcrr8kd0AAAQQQQAABBBBwC6x8tlqSCYc7nVko+RIMl5dXyg23z5Z5C5dK/7495eZrh0hJScOUH4KNm8vkinEzZPSIQdK969Q3WswAACAASURBVGEp3yfahctXfCDT750jd08ZJc2bNkn7/b1umIsxs7IwBsm6AMFw1skZMF8Eyh+9V8qf/nO+TJd55kCAYDgH6Hk05N6tC2T0lUXSollBHs2aqSKAAAIIIIAAAgjkg0C2g+Gn5r8iE6fOrkXz0B3jnKB19WdrZcKU+2XSuGHSoX2bevPpWEvfWlnvQNhMJF4w7DVevGvsReYipLXH1LlkMviu94ZyA18LEAz7enuYXK4EdixbLFun/SZXwzNunggQDOfJRuVwmj2OLpTLLuY/2cvhFjA0AggggAACCCAQSAGtFtZwONGjPhXDXsGnhsEL//GmDP/ZgLQHw9NnznWWNXr4wESXF/O8eCFvfYPhtEyyHjeJt7563JpLQyBAMByCTWaJyQlUf7vOaSFR/dXnyV3I2aETIBgO3ZantODzzy6SH/empURKeFyEAAIIIIAAAggg4CmQzWA4VlBrt30wE9VK4oP2b+tUsb6zarXzY7slhAlimzTeXf7yzEvO56b6WMd64NF5kTXfMnaInNOvl9gVy/a9TLXyGX2Pk8l3PiJdOnZwWjps3FQml4+dJmvXbYjcy4zhBk0kGNZ5bd26Xcq2bnNaXLQpbSn3TR3jVEjbwbmO666edgfr0dbiHkPXfsoJR3k6vvvh6kj7igcfX1DLbPxVg5052q0z0l3VzdcyOAIEw8HZS1aSJoFtd94slf/4W5ruxm2CLEAwHOTdTd/aiotFxlxRLAcfSEuJ9KlyJwQQQAABBBBAINwC2QyGTZAZLVj1Ch01DNVDW02YitaBA3rXCnnN/dzBqTuI9vr86/UbnFYTa9d96wTAp/fpGakwdo8Xr6I20WD4hUVLI2GwfY0d0mqPYZ3//vuWOmvVw/69Xjf3ucWRfsT2Z/prewz3tfr7R55aKP369JBP1nwZCYb15+5WEjrOmi/WRUzSXYUd7m9fsFZPMBys/WQ19RSomD9Xtj90Rz3vwuVhESAYDstO13+dBx1QIGOuLJYGDep/L+6AAAIIIIAAAggggEA2g2HVdvcYNpW5GoQmUo1qB5PuIFavv+2ex2XS+GHOy9vcIab79/Z4Ord4FbrpCoZ1LNPeQsNqDXg1nHYHw/Zn2ysqZMLk++W6kedLm9JWzkv1enbrFAmN7XPv/uMzzoNtxjDV2Hu3blmnrUa8HsO6ZjNu82ZNIr9ORw9ovn3BEiAYDtZ+spp6COz88F3ZesuvpKayoh534dIwCRAMh2m367/WvicXygXn0G+4/pLcAQEEEEAAAQQQQCDbwbAtbgJL/Zmp2vV6+Zy7LcTQwf2dgDOVYNiuwLVDz2jBsAltS0oaRiqW7dYK9nqiVQybYFXDVK8q5mjBsD2/DZu2RAJkHVODYW3zYB+mNYY7GNZzTKhtWnKY1hrxgmG91lQjt2vbOjIH9eBAwBYgGOZ5QEAFqnY6fYV3rvw3HggkLEAwnDAVJ34vMPRnRXJcd/oN80AggAACCCCAAAII1E8gl8GwzjxeX10NJU27Bw0j/VwxbFftmuDUXQWdTDBsh7LazuGkHp2dlhomUNeWGvp79xGv3YM9Jw2cp987x2lJoYe7lYT+zJyvvx4zYpDnmPV7Crk6CAIEw0HYRdZQb4Htf7pLKp57rN734QbhEiAYDtd+p2O1zZpqS4ki2aeUfsPp8OQeCCCAAAIIIIBAWAWyGQxrYGnCTeNth5herRrsz90tEZKtGNbgdsKkWZH+vnborD2G3dXK7vno9ZdeMyXygjv3M+PuSWyC3WjBtgnGo1UMm1D21rsek8LCwkiLDP25u8ew2jwxb4mc1/9k8WolYT7TwDpaMLxbo0Z1WlToWMb98y/XR3oah/X7wrqjCxAM83SEXmDH64tk6+9vDL0DAMkLEAwnb8YVIkd2LpRfDqOlBM8CAggggAACCCCAQOoC2QyGTbBqz9a0hTA/s3sQ60vlWjbb03kp3Np1G6RNaUtp2aKpHHtUx5RaSZhAdeLU2c5wpvWCOyy1++fac9bzNRyN1krCBLlmvu4xTFCs/0ykx7Adynr1B3b3azbtIbwqht3tOKK9sM9er7mfmbfdhiP1J44rgypAMBzUnWVdCQlUf7tOvrvpKqletzah8zkJAVuAYJjnIVWBn/YrkjNOpaVEqn5chwACCCCAAAIIhF0gm8Fw2K3zdf1aCT35zkdk/FUXOS/140DAS4BgmOci1ALbZt0mlX/f9eZPDgSSFSAYTlaM822BX40oliM60lKCpwIBBBBAAAEEEEAgeQENhkX0/5asSfjiTmfyX60ljBWAE7UyWXscmyrnACyJJWRAgGA4A6jcMj8Ediz/h2y9bXx+TJZZ+lKAYNiX25I3k9pv3wIZ96tiadggb6bMRBFAAAEEEEAAAQQQQAABBAIkQDAcoM1kKUkI7NwhZTdcKVWfrEziovw8dda2BvK3iuLI5H+x+w7p12hn5Pf/3lEk/++7hs7v2xbVyE17VEjTwuh/6zy/olge3LYryWpSUCM3NqmU9kXVzu8/qyqUm8oaSllNgXRrUCWjG1dKo+8LInUeen977PwU/WHWBMP5voO5n/9Z/YpkAC0lcr8RzAABBBBAAAEEEEAAAQQQCKEAwXAIN50li5TPne38L+hHRY3IH7c3kEElO52w1wS3VzfeIUc2qHJ+P31rQyfA1XBXQ98VOwprBbq2kYbID21vEAmP3b/X8Ld7g2rn3vavdZyny4tlxO4/BMVBsA9KMHzz+GJps/cPLQ1WfVQj0+764S8PzF7peZu3iOdnXvvpdb721j2tb6EUF4ls3FwjD/y5Sj74aNdfRCR7/yA8QyWNxKka3rcNLSWCsJ+sAQEEEEAAAQQQQAABBBDIJwGC4XzaLeaaFgGtEtZqYdm5Iy33y6ebaFCsQXDXBtVO5a4GwV9WFchlu++ycAfF7rW5g2P7/L0Lq+XebQ3lpyU7IyGzXq/j2CFxPnnFm2sQguHDDimQwecWyQsLq+Wfy6vFBLf664cf075lImOuLJaOh+wKLqOFxrZVrPM1/P10TY1zb/vXOm6PYwrk4b/8EBTH8w/K58d1L5ShP6PfW1D2k3UggAACCCCAAAIIIIAAAvkiQDCcLzvFPNMmoH2Ftb9wGI/N1QVy43eN5NLddlUMa2CrhwmG3Z+7jcznpYXVTlXxosrawbJXxXDzwppAVgurTRCCYfcea1CsIeXX6+pWBidb0es+X+99yQVFsuyNGnl6fpUTOOuh1cl2SBzG7+YVQ4ukW5fCMC6dNSOAAAIIIIAAAggggAACCORIgGA4R/AMmxuByr8/I9tm3ZabwX0wqjsIdvf9jRcM6xL0mjVVhfLRzsKEegxrKwttL6GH6WX8k0Y7I2G0D1hSnkIQg2GtXr1oYJEsf/uHimEDVN9gWO/jVTG8ebOEtlrY2B54QIGMu6ZYCugokfL3kQsRQAABBBBAAAEEEEAAAQSSEyAYTs6Ls/NYoPrbdfLdDVeI/jOMhwa631YX1HkhnFokWjHsbj2hPYb/sLVBrRfQ2bamt7BWKGtvYm0zoS0ntJ3F6Y2qnKrlfD6CGAxrcKvHDZOz12NYW1loewk9Tuq5q2p27dc1nnPI5+cl3tzPO7NITutD1XA8Jz5HAAEEEEAAAQQQEJEVT8VgiPIy8a7nQocAAgjUEiAY5oEIjYBWCmvFcBgPr1BYHZLtMZxshbFpLXFAUbXctrWhE0DrS+6C0nM4aMGwhsK77Sa1Xghnf1/SUTHs/v6Z3sLPvlAtZ55e6LSZ+OCTaqedxXurdvUiDsvRZI9dL6Ir3Yuy4bDsOetEAAEEEEAAAQRSFtBgeMWTiV/e9RyREATDqz9bKxOm3C+Txg2TDu3bJO4TkjOXr/hApt87R+6eMkqaN23iu1Xr/C69Zoozr4fuGCfdux6WsTlm6lkpL6+UG26fLT27dZJz+vXK2PzTdWOC4XRJch9fC2hPYe0tHMbD3T7CNnC/bM7r5XI3lTWUqxvv6kmsn/+tolhu2qNCmhbWSKyKYVMtPGL3SmdI82I6Kob9+RTGC4V11pkIhk1riY8+qZHzzy6Sxa9WO/2Hw9pzuNfxhXLx+byIzp/fEmaFAAIIIIAAAgj4SEBD4ZhVw6651iMYNmHdLWOH1Aq6npr/ikycOlvcP8+lUqbCvlhrmj5zrvPx6OEDnX9u3FwmV4ybIaNHDEo62DSh4ryFS517DR3cP3LfZF295mEHw3q/ZOepe770rZVy87VDpKSkYbJTinl+PDd1fuDReZ736N+3Z9JzytSzQjCc1seCmyGQBoGdO6Tshiul6pOVabhZft3C9Az+sqp2BWK3BlWRlhIa7prev22LaiKhr65Uw107GNafadCs4bAeTQpqPNtIVNT8EARrhbB9r7KaAqHHsL+eo1jtI+yZegXDWvF7Wt9C+efy5HsSm2rhh/+yqyrYvJgurBXDxvqay4ulcyeqhv31LWE2CCCAAAIIIICAzwSyWDGsYeK0e+c4FaaTxg9z/qkh3oTJ9zv/HDSgt28qIzMV9sXa/XQGwzpOuoLFeEFrvM+91pzJYDiZvXObp/LtTGa8ZO6frv1LZsz6nEvFcH30uDYvBMrnzhb9HwcC6RYIQisJ87K5kka1dTZurom0lBhzZbF0POSHoHJnlciChbsqe72C4Vjnm1EOO6QgEgTrffQw9youCmeP4YjNwQVy7S93/eULBwIIIIAAAggggAACngJZDobnPrdYunQ8UHbfrZETAmtAuG17hbyz6tPIfzJvgsZ3Vq12puyu4rQrPtuUtpT7po5x2j2YymOzTtNCQIO7y8dOk7XrNjgfuatn7bYD5n56nraSOKPvcTL5zkfqXOcOFPUeujZTARttLnoj+zOztnc/XB1pfWDWvFeLZvLQnAWRbTMV1dHW795fr2BRr926dbuUbd0mWk1s++n1Xvd++sXXalXY6jzatW0daSXx4OML6nx+5OEH1WrFYeYycEBvadlsz1r70aVjh0hLCi+baBXFXueuXfdt1Ht7Pf9ewXCsOaT6rMQyt59Pez+89i/W3NzPua5XvwPq7W6LkolWIATD/Dsm0ALVG7+V78YNE/0nBwLpFghCMJxuE+6XHoELzy2SPr14EV16NLkLAggggAACCCAQQIEcBMOjLhsoM2bNFf3nY8+8JBee9SPn96aXqoZWemhfWBMSa6CoQbI7gDXnavh12z2PRyqRNST7+D9fyqm9u8uLi5fLwQe0dcJjE55NmnCZc3+9fsKkWZFwWT/fXl4hu5U0cgLG0/v0dFowuKtiYwXDGk5Gm4sGexogm968ep/99y111pZIxXC09Xv10I0WDL+waGmtMN20dNBw2g63je1B+7et0yoiXisJdxWtHQzrXL0qhmPZuL957mBT7b5ev8EJ5tU/0f7QbvNYc6jPsxLNfHtFRS1be4w2pa1q9RiOtWZzH/M98XpezXOWqUpkguEA/vuBJf0gQLUwT0MmBQiGM6kb7nu3aF4gvx5dLE33DLcDq0cAAQQQQAABBBCIIpDlHsMmeJz/0lInsNXgtt+PesZ8yZYd3rmDO7Mqd2gXbb/doVi0VgLxgs1YwbAGrHbYbObiFcjZQe/df9z1kvtYPYajrd9rvdGCYXsMe3zdEzu0NvdMpcdwPD93MBzPxl017Pa3x9N5pxIMx5uDe3+MT7y1xntW7Jf42XNwfy9irXnDpi21Xgbo3jOdo/nLio2bymr9xUW6/mwkGE6XJPfxnQDVwr7bksBNiGA4cFvqqwWd1a9IBpxK1bCvNoXJIIAAAggggAACfhHIUTBsV9Xu1qhRnWDY/YIwu/2D/ZndZsL+z+zt9gTuF7Epvd2WwVRS2ltSn7BPQ0yvuZh1mhfCmfHMGhIJhvWaaOt3P1LJBsM6b697u6tadZx0Vwx77ZGOE+1lcHaltZ5nelVfN/J8h6E+wXCs/Un3s+Ku0jb7q+N4BcP2+PaaNRi2q73dwbBdsf35l+tlzRfrUn4ZYbQ/ugiG/fKHOvNIuwDVwmkn5YYuAYJhHolMCmjV8MRri6XJHpkchXsjgAACCCCAAAII5KVAjoJhuwLUq4rXtAUwYaXamkpa4xzrP4k31ZVXXHyWEzrv3bqlc302KoajVbeaueh/7u/V+iGRVhL2MxavJUAqwbCX7SknHJXxVhLuVhPxvkuZrBhOdH/MHOvzlwgaDGejYtiE+fryRz0mjRvmtFZJ50EwnE5N7uUbAaqFfbMVgZ4IwXCgt9cXizvnjCLp92Oqhn2xGUwCAQQQQAABBBDwk4BPg2ETBJvA0AS7dr9gO/jUl6HpYQJXdzBs+hd79Sy22z7YPYvtqtNYPXJ1XA2f9dAetxr2ec1Fg2l3Kwi97xPzlsh5/U8WbeVg+v1quOwV7EZbv/Yodh/JBsNLlq6I9GKO1dLAhIwm0PSq+HZXrJqXtpkXAnq9/CyWjTtsd7cOyVSPYXt/3C1CEn1WYrWScPcGjtdj2H5W7TV79Sq+9JopzsvnzHfC7Il+V8xLEtP5RxHBcDo1uZdvBKgW9s1WBHoiBMOB3l5fLK5VywK54dpi2X13X0yHSSCAAAIIIIAAAgj4RcCHwbB5QdzadRukTWlLadmiqRx7VEen4tcEjIbPtJiwr9HP7BYE9jXmfoO+f5mdnmu3fdDP75s6xrl9rGDYbn2g11wy6DR5Z9WnkZef6YvrdP7uubjH09+bthYmuHtn1erI/DWM1IDPnKehnvm9/sxusWE/Uu7WDOa8eP1uo93bNtT56jzsSlf35+ZFgeZ+F5z1Iynbuk1MNa49P7vth70Xto3X18U+195vdwVvrK+aV4/pWHNI5VmJZa6Bt/t51+dPq3m9gv1oa9Y12nugHmXfbRdtrWEqg5Otyk72jyiC4WTFON/3AlQL+36LAjNBguHAbKWvF3LemUVyWh+qhn29SUwOAQQQQAABBBDItkAWg+FsL43xEAirgP2yueZNmzgM+rNHnloo1428QNwV2OlwIhhOhyL38JUA1cK+2o5AT4ZgONDb65vFle5VIBOvK5aSRr6ZEhNBAAEEEEAAAQQQyLXAiqe+n0GNayYFUWZWI9L13FzPmvERQMAlYL840FS+232E3S/sSzcgwXC6RblfTgWoFs4pf+gGJxgO3ZbnbMHnn10kP+5N1XDONoCBEUAAAQQQQAABBBBAAIEAChAMB3BTw7wkqoXDvPvZXzvBcPbNwzriPqW7qoYbNgirAOtGAAEEEEAAAQQQQAABBBBItwDBcLpFuV/OBKgWzhl9aAcmGA7t1udk4ReeWyR9elE1nBN8BkUAAQQQQAABBBBAAAEEAihAMBzATQ3rkqgWDuvO527dBMO5sw/jyPu2KZCJ1xZLUVEYV8+aEUAAAQQQQAABBBBAAAEE0i1AMJxuUe6XE4GainIpG/NzqV7/VU7GZ9BwChAMh3Pfc7nqnw0skt4nUjWcyz1gbAQQQAABBBBAAAEEEEAgKAIEw0HZyZCvo3LJAtl21+9CrsDysy1AMJxtccbbb99dVcMF0V42DRECCCCAAAIIIIAAAggggAACCQoQDCcIxWn+Fth66/Wy483X/D1JZhc4AYLhwG1pXixoyEVFcvyxVA3nxWYxSQQQQAABBBBAIEMC09ZXJn3nMa0bJn0NFyCAQLAFCIaDvb+hWF3Vfz6UsuuHhmKtLNJfAgTD/tqPsMymy+EFcvXw4rAsl3UigAACCCCAAAIIeAhoMJxMOKyhcLaC4eUrPpDp986Ru6eMkuZNm4Ru/8rLK+WG22dLz26d5Jx+vbKy/tWfrZUJU+6XSeOGSYf2bbIyJoMEQ4BgOBj7GOpVlD96n5Q//adQG7D43AgQDOfGnVHFaSfRvh39JHgWEEAAAQQQQACBsApkMxjWoPfSa6ZEqNuUtpT7po6JGkBmOhjeuLlMrhg3Q0aPGCTdux6W9kcg2v2fmv+KLH1rpdx87RApKYlefe2HYHj6zLmOy+jhA9Puww2DJUAwHKz9DN9qdu6QLaN/LtVffxG+tbPinAsQDOd8C0I7gdP7Fsq5A4pCu34WjgACCCCAAAIIhF0g28GwXQGswe+ESbNihsOZ3B+/B8OZXHui9yYYTlSK8wiGeQbyWqDy1b/Ltj/clNdrYPL5K0AwnL97l+8zb92qQG4eXyzFdJTI961k/ggggAACCCCAQEoCuQyGTUXswAG9pWWzPZ0WBmf0PU4m3/mIdOnYQYb/bIDM/PNzTisJPbS6t3/f4+ThOQtk7boN0r9vz1pVtybofWfVauf8W8YOcVowmHHmLVxa6+caej7w6LyImzlf2ylcPnaaM4Zd1WzuH2sO9iYkUjG8dt23tdat1w8d3N+p0LUrhk854ag61c3utg92Rbb6mRYc5jzbVj978PEFkfWbder4ppXEhk1balV4q/fRnQ+VN9/9sJY74XFKX73AXUQwHLgtDdeCtt4+QXb865VwLZrV+kaAYNg3WxHKiQz7eZH0PIaX0IVy81k0AggggAACCIReIJfBsB2cajCsYezpfXpG2hbYrSRMMNyubWsnlNTD7r9r7qUhswmDlyxdISf37Oqct3frls599bwJk++X60aeL82bNakTtrrDXLuq2ZwfbQ7uhynRYNhet31N50M71FqjtqBY88W6iI/9e3f1tf2ZCbrdtnOfWxwJePV6PUxAb3oMu0Nf2097ENOTOPR/hEQACIZ5FvJWoOqzT6Xsukvydv5MPP8FCIbzfw/zeQVHdi6UXw6jnUQ+7yFzRwABBBBAAAEEUhXIZTCs4aWGk1q9unFTWZ2XnnkFw3Y/YA0t99+31AmCo/Uj9gouzXVeVbju+8Sr2rXnkGowbL/sza6idgfDupbb7nlcJo0fJrs1auSExhqEa39kd4Brn+tla9vbL/Zze3lVA9uhszusTvU55Lr8FyAYzv89DO0Kyh+/X8qffCi062fhuRcgGM79HoR9BjeOLZZ2bXkJXdifA9aPAAIIIIAAAuETyHYwbL98zqvdgalU1Z1INhi2K2DNTtptIezd1bYR0YJh931iBcmpBsOm8tcdxMYKht2tN0xIrMGuuy2GrtX4egXD+rl9jWnLYVpbRKsY1utM6HzDqItlxqy5kXA6fN8eVmwLEAzzPOSnQE21lI3+uVR9+Vl+zp9ZB0KAYDgQ25jXizjjJ4Xy0/5UDef1JjJ5BBBAAAEEEEAgBYFsB8P2y+fs6XpV9iYbDHvd266ctStjdWyvVg/prBi2g1yt6jWHXYWbTDCs15sKXa2U1kOrpU3Ia6qn3Y9BvHYPdlX0kYcfVKtyO1r/YP35h5/8V5ru2bhWv+EUHkEuCYgAwXBANjJsy9jx+kuy9fc3hG3ZrNdnAgTDPtuQEE5n79a7XkJXSKvhEO4+S0YAAQQQQACBMAsEJRh29xjW389ftEzO7derVo9h3WsNSj/+z5eR/sM9u3WKBKzu+3j1GI7WzsLrOXK3bDAVzJMmXOa0gEg2GDY9fqurq+X6Ky8U7fOrh7vHsP7skacWSr8+PTzbdLy4eLkcfEBb5/pYwbDOf+lbK+uEv+ZFd+aFfWH+DrH2XQIEwzwJeSmwdfpE2bH05bycO5MOjgDBcHD2Mp9XcvklRdK9G8lwPu8hc0cAAQQQQAABBJIVCEowbAJffZHb2nUbHAYTWprgc97Cpc7P25S2lPumjnFCURNw2ufb7Sfsc70qjGO1kjB74W7z8NAd45xQ2Mw50R7D9v2+Xr8halhrzhs6uL/zorpo1dh2W49o55o1v7NqtZh2EyUlDSPtJLTfsbsSO9lnkPODIUAwHIx9DNUqqr/+QrZcfUGo1sxi/SlAMOzPfQnbrI7uWigjh9BOImz7znoRQAABBBBAINwC2QyGwy0drNVrJbEeppVFsFbHalIRIBhORY1rcipQseBJ2T57Rk7nwOAIqADBMM+BXwRuHlcsbfbhJXR+2Q/mgQACCCCAAAIIZFpAg+FkjzGtGyZ7CecHSMC0s7hu5PmRVhYBWh5LSVGAYDhFOC7LncDWKWNlx1uv524CjIzA9wIEwzwKfhE487RCOfN0qob9sh/MAwEEEEAAAQQQQAABBBDIBwGC4XzYJeYYEaj+5ispG32x1FRsRwWBnAsQDOd8C5jA9wIHdyiQ668pxgMBBBBAAAEEEEAAAQQQQACBhAUIhhOm4kQ/CFT8/WnZPut2P0yFOSBAKwmeAV8J/O7XxbJ3a9pJ+GpTmAwCCCCAAAIIIIAAAggg4GMBgmEfbw5TqyuwddqvZceyJdAg4AsBKoZ9sQ1M4nuBi84rklNOKsQDAQQQQAABBBBAAAEEEEAAgYQECIYTYuIkPwhUb/hGysYNkZrNG/0wHeYQUoGCRiVS0KyFFDRpJs/sPlw+KjpStpTVyHdbQwrCsn0j0K1LoVwxlD7DvtkQJoIAAggggAACCCCAAAII+FyAYNjnG8T0fhCofOk52XbvrZAgkHGBov0OlOIjuklhaVsp1BB4z+ZSsGdTKWjSVAqbNBUpqtvLddt2kbLvaqTsO/ufIp99XiOfrK6WLWUZnzYDhFxgtxKRO29tEHIFlo8AAggggAACCCCAAAIIIJCoAMFwolKcl3OBbf/3O6l8ZUHO58EEgidQdOBhUnxQJynueKQTCBfs2Szti1z7dY18uqZGPv1PjXz8aY2s+6Ym7WNwQwSuHl4sXQ6nzzBPAgIIIIAAAgggEHiB5/8VfYk1Uf5/jQE9As/CAhFAIDkBguHkvDg7RwLVm/4n3/1mhFSvX5ujGTBskAQKGjeRhif0leLDj5KiQ46Qwpats748ExS/u7JG3lpRnfXxGTCYAicfXyg/P592EsHcXVaFAAIIIIAAAghYAhoMP7cscZIzjhXJQTC8+rO1MmHK/TJp3DBpU9pKbrh9tvTs1knO6dfLmfvyFR/IpddMcX790B3jpHvXwxJfU5wz9d7T750jd08ZJc2bNknbfet7o/LyyjoO9b1nOq/X/P+0CQAAIABJREFUPbt87DRZu26D3DJ2SGSv0jmGudfGzWVyxbgZMnrEoLTuvd5/+sy5zjCjhw/MxNQDc0+C4cBsZbAXUvmPv8m2O28O9iJZXcYFijoc6gTCDU7oK4Ut9sr4eIkOsHpNjSx9o9r5n7ak4EAgVYHWrQpk0sS6rU5SvR/XIYAAAggggAACCPhUQEPhWFXD7mmnIRjWoO2BR+dF7ty/b0+5+dohUlLSMCpSrGA4k6GgTqg+wbC91kTWGespeWr+K7L0rZURK3cw7P483hNnm3Zo3ybe6Ul9Hi+01rlOnDrb855dOnZIOoTP5DNAMJzY1hMMJ+bEWTkW2H7/7VLxt6dzPAuGz1eBBsedsisQPvZkXy/hfxs1IN4VEmtFMQcCqQhMvalYWjSjnUQqdlyDAAIIIIAAAgjkjUAWK4ZNWKg2dhCsIWG7tq1jVnrGCjEzGXCmYx/TFSzGC37jfe5eSybdkglqk523154kM16ye5qu/Ut23Hw7n2A433YshPOtKdss3910lVT9d3UIV8+SUxVw2kX0PdMJhIv2PzjV2+TkuupqiVQQr/yQgDgnm5DHg15wdpH07V2Yxytg6ggggAACCCCAAAJxBbIYDCdSeWtX2LYpbSn3TR0jWs0arWL4yMMPirQr0LWaatONm8oiP7fvo+foGFu3bpeyrdtk3sKlTpuDNV+sq/Uz+xr3vN3VrvFaV7iDRROENmm8u/zlmZecLbLvYbdg0M+GDu4vPz31hDrrnH7TlTJj5lynpUY0hwcf3/V+JdMGQdcy97nFMuGqn8mkO//srN8cZg52W4541bv2XI1Z82ZNnLYO76zalb24/d3PpFcwbIJecw/bx/2Z7t8pJxzljNm/73Hy8JwFTvsKu0I7nrl5Lkwlu5obM/f+ea3ZVFy756b3tednt7rIZDAf93ufgRMIhjOAyi3TK/D+8oWy+s3FctJLi9N7Y+4WWIEGPXpLyXmXSlH7g/J+ja8tq5ZnXqgWrSbmQCARgYM7FMj119BOIhErzkEAAQQQQAABBPJWIIvBcLzKSw3V5i9aJhed09fh1PO/Xr/BqS5eu+7bqD2G3QGbu3pUg84Jk2ZFQma97wuLlkZ+b8ayf2aHle9+uDrSY3i3Ro3kiXlL5Lz+JzutL/Q8DVpj9R/2Coa1jYIdxJoexnp/7Z88cEBvp4Jaq6zNePNfWpp0Kwn32CYYdpuaYNNtpevT0Nyrv24sZxMOJ9Lz1x0Mm/uqgfaQ1v297Z7HZdL4Yc5zoQGw+Ux9lixdIccedZjzc60817XpYfehNmG+l7n2jbbnYK7du3VLZ922Yaw1m97X5jqvVh+2ZbzvQ779mUIwnG87FsL53rbu3zL2i386Kz+6qImcsX6rnL58hRy64p0QarDkWAIFzVpIybm/kEannh0oqPXf1sgz86tl2Zu8pC5QG5vBxdx/R4MM3p1bI4AAAggggAACCORcIIs9hjUI23/f0oRfQmZX6moFcLSXz7mDYXeFrzug8wrkYgWodjDsfvlcIlWf0SqGTTuNWMGn/Xyk0mM42WDYqzrWhLLutcdyNhW8qQTD0e6rYbAT4nu8CNCrlYT9vLntbHMTxrtfZmjGsauuY61Zq7bNM6pBu/u50zlOmHy/XDfyfNHg3Pw63f2dc/VnCsFwruQZN2GBkz58Wl797ivP8/tJE+m/5hs5bcnr0uJr73MSHogT81qg4Yk/dqqEC9u0z+t1xJr8kte0erhKtpQFdoksLE0C1/6yWA47mD7DaeLkNggggAACCCCAgP8EshwMK4BX9amBsdsY6M/s1hDJBMNaxWv3MbZDwvoGw+5WD/FaJSQTDGv46r6/qXLNVjBsvxjQ3gOvYDiac32D4UuvmVLnu6IOerjH1J+lIxg2Vdp6Pzs4dgfD0daswbAdonu9gM88h1rZ7LUO//0BkfiMCIYTt+LMHAkUvHlPQiO3LGooA7YVS/9Va6Tv3xaK1PCf3icEl+cnFbYqlZLzfiENf3RGnq8ksenrS+m0evjNFVQPJyYWrrO6tNgkP9lztezbYofsccmJ4Vo8q0UAAQQQQAABBMIkkMVgOF6PYXcbAz9WDJvexZMmXOa0ekh3xXCsqtyXX3s7460kkqnqzmTFcLTQNNozlI5gONMVwyZw1r/g0GPMiEExX7iYb38MEQzn246FbL7f7NwurVc8lNKqOxU1ljP+VyH93nxfui5/I6V7cJG/BZwq4QuGS2Hrffw90QzMbuGSann8r1X8/UcGbPPploc33yynNl0tB2/8RBqs2/DD1A9rJzLqp/m0FOaKAAIIIIAAAgggkIxAFoNhU0Gp07OrebUSViso9bDbBNj9e5NpJeHuUevVY1jHsiuXE20lYc9DWwC47+1Fn0zFsF5v91m2g9BP1nxZy8ddkeoVmnr1zjX+2ysqnL68drsHr/U88tRC6denh7hD61jO6ewxrPPVeelx0P5ta/UYNn2pdX7utSTaSsL0GDa9ok1riVg9hk2PY9vr/7N3H+BVl3f/xz/nZJ2TQSaEvfdGQUQEB6BsUdzto09t/9Y+djx92lqtW9uqVbu0rmrVtu4BbtwbFERAkJlERggECCRkr3P+1+/E0AAJyUnO+I33uS4uIOe+v/f3+7p/9ur19fb+Nd4x3Nhgbjz5/aNLzzp0fUrjnu3YueeY91IH84+wWcbSGDbLTpBHswIvHMjTuXlvhkTnNFeK5ubv1+xPPlfXrdtCEpMg0RNIOOs78n7nR9FLwAQrf/mVT3//Z71qa02QDClERGBoaqlmpudqcHGO4nfva3nNJI9003ekTokRyYtFEEAAAQQQQAABBCIsEMHGcGNlRsOu6XUFc6afeNgLw15757PA0JNPGKWDpeWBBlowjWFjbtPrGI686qGjV0k0zX/UsP6BXH9/9Q/U3F2xTcc21nnkS+Sau++20aBp7o1NReM744qNP958pf700HNqbEQe+b3h1tjkNOYYsS49f6a+2pB7qDHf+FI2o4amL2ZrepXD9y+e0+L1Hy05N3eCt6Un+8grMoxxjfO/2pAXmNZ4pUhzV23cetVlau7qimAaw8YaTfeqac3N3bv8w6vuVkFhUcD0wT/84tDeN/WYeuKYQO6XXTTrsJPBwZzKjvD/GnRoORrDHeJjcrgFrtj2oR7ctz7kyyS6YjW/NkGzN+/Q/CXvyl9bE/I1CBg+Ae9lP1fCzIXhW8BCkdeu9+vv/6xTRaWFkibVNgsM6FSmORm5GlKSq4Rde9o8LzDwf+ZKY/oFN4fRCCCAAAIIIIAAAtYQiEJj2BowZIlAxwSavmyu8V8aGD+77Z4ndM1PvnPUCeyOrRb92TSGo78HZHAMge5fPa5dtRVhN+oXk6h5JXWavXqTJn66NOzrsUD7BZJ+dZviJkxpfwAbzswv8OuP99XxUjob7G2/lPJAI3jYQaMRXNixiuZNlOae0LEYzEYAAQQQQAABBBAwp8CryxvyOvLdOq4WXkBsjDP+/yEfBBA4SqDpCWzjy8ZT2I0Dje+35hce8wWMVmWlMWzVnXNA3mW+WqWsarjcO9KfSe5kzdl1UHOXfqE+m7dEennWa0Eg5fZHFNN/CD7NCFRVSTfcXqf9B3jpopUekN4pFZqbkavhpbnyFOwObepj+0s/mhPamERDAAEEEEAAAQQQQAABBBCwjQCNYdtspf0KeaNku2bnvBb1wox/3zq/Pllz8nbprLffV3xpadRzcmICqQ+/IlendCeWHlTNv/ltnfbspTkcFFoEB/dMrtSczDyNLMuRd+eu8K6c2Un6/aXhXYPoCCCAAAIIIIAAAggggAAClhWgMWzZrbN/4r/Z+blu2/2l6QrtFuPRvDJpztocTX3/Q9PlZ8eEUh95Ta6UVDuWFpaabvtznXK/oTkcFtwgg3ZLqtbczFyNqshRYn5BkLNDMPzGi6XumSEIRAgEEEAAAQQQQAABBBBAAAG7CdAYttuO2qiekzct0qdlIf5Pq8PgM9adrLl7yjX/81UatO7rMKzg7JCJV16r+FNmORuhHdX/8P9qVV/fjolM6ZBAdqARnKfRlblK2pHfoVghmXzJNGny8JCEIggCCCCAAAIIIIAAAggggIC9BGgM22s/bVONT37FrHzAkvWc6U/WnG17teDdj5Syb58lazBL0vGTpyvxZzeZJR1L5VG4x69rf1dnqZytmGxWYo3mZeZpTFWuknfsMF8JU0ZI3z3dfHmREQIIIIAAAggggAACCCCAQNQFaAxHfQtIoDmBD0oLdNrmlyyPk+aO07zKWM1f/42mv/Wu5euJZAExg0Yo5XcPRnJJ2621YpVPDz7GseFQbmy6tzbQCB5Xk6uU7dtDGTqoWFtrSlXpr9OwhFbu3e6ZJV1/UVCxGYwAAggggAACCCCAAAIIIOAMARrDzthny1X50L71+uE2+93fOyQmUXOLqrVgxVqN/HKV5fYlUgm7UtOVctvDcmdlR2pJ267z4qv1ev1tn23rC3dhnTx1mp/1jcbV5ih127ZwL3dYfOOW6A1VB/RcSY46x3p1cdogpcUkyPj5Q0Vf65Tk7hraWmPYiHjvj6S42IjmzmIIIIAAAggggAACCCCAAALmF6AxbP49cmSGv8hfqj8WrrF97VNdyZq3Y7/O+WCpMnbutH29bS0w6ee3KG4S//l7W71aG/fnB+q1bgPN4dacjO+TE3ya3zlPx9XlKG3r1rZMCdmYj8oLtLO2XBemDZJL0o7aMv1j/wb9JGuUVlXu05rKIv0sa7RKfDX6x/71+lHmSCW541pf/xfnSIN7tD6OEQgggAACCCCAAAIIIIAAAo4SoDHsqO22TrHzcl7XqyWRPZ0XbZ0EV4zm13p01sbtmrPkHanemffDer9zhRLO+m60t8NW6+/c5dcf76tTyUFblRWSYrzxfp3VJU/H1+UqfWteSGIeGcQvvwpqK7SjtlSxLnfglG/yEQ3dwroKXbPrM3WLS9R1XcbL647VF5V79HH5Lv1v1hjtqavUX/at0a87H6fN1cXKqSnRRWmD2pbvf0+XJg1r21hGIYAAAggggAACCCCAAAIIOEaAxrBjttpahQ5e96S2VJdYK+kQZ9s7xqt5xXVa+OV6jftseYijmzNc7NDRSr7lPnMmZ/GsPv7Mp8ef4r7h+Djp7Ow8HVefq8xvcsO+q0bD9+bCL1Tn92m0J1P5tWUq89Xqlq4nKCPGE1i/3u/Xw/vXq1NMvFZU7NF12ccHvsurOajH9m/Ur7uMU43fp7v2rtYvOo/V4pI8TUjsEoh5X9E6VfvrdYI3W5dnjlC8y310TfMmSnNPCHutLIAAAggggAACCCCAAAIIIGAtARrD1tovR2Rr3J/pXnm/I2oNpsgJ7mSdVVCicz5erm554TnZGEw+4Rib9H+3Ku7E08IRmpiS/nR/nb7eaPwT5pyPcbXuWV2/0fj6XGV9kxOywo1TwAfrawPxktyxgZPAzX3211dpV22FhnsyAtdDlPtqdXPhCl2cNlhjvVmBKV9VFenN0u36fsZw3b13lf4rfUjgVHGVv1537lmlIQlpcrtc+qbmoL6XPkyPHdigS9OH6pH9G3Re2gD1ikvRnXtXaX6nvhrlyTw6jcnDpUumhax2AiGAAAIIIIAAAggggAACCNhDgMawPfbRVlVsrCrWsK+fslVN4Shmri9J52wp0NlL3pWqKsOxRERjxp0wVUm//H1E13TaYms3+PWXB+x9RUlsjDS/2zZNqM9R5205ki+0jXDjlO7rpdv1rwOblOByq15+ZcV4dUP2+MAL4lr75FSX6LEDG/WrzuOUGhMfaP7+ce/qwL3CfeJSdPe+1ToxMVtTk7oHQlX46rS+er/iXTGBZvGm6gOBU8XG+D/tW6ML0wZqQHyqnjiwWYnuWJ2d2v/oFIb2lH5+dmup8T0CCCCAAAIIIIAAAggggIDDBGgMO2zDrVDuy8VbdVbuG1ZI1TQ5dnYn6Kwylxau2agTP/rUNHkFk0jyjfcodsS4YKYwth0Cjz5Zr08/t8+L6NxuaX737Zrgy1H2tlypPrzXZVT66rToYJ7OTOmtzBhP4DqHO/eu1tCEtOabst/ukXHdw1/2faWl5bt1WcZQTU/uFWjkvlW6Q8ap4vPTBqqkvkaP7t8YuG5iQEKnwOlgY0zTzzPFOYETxGO8Wbp331camJCmWSm9A41h4yqKeZ36Hv1UdE6VfntJO54WpiCAAAIIIIAAAggggAACCNhZgMawnXfXorXdWbhaV+Uvs2j25kh7lDtJC/aUa+GnK9Vn40ZzJHWMLOKnz1fi5VeZPk87JJhf4Nfv/1SnmhprVuNySfN67NAJvlx13ZEj1Ub/BPQLJbnaXVehKzNHtYhqnFsu89Wozu/Xu2X5gVO/N2ZPCJwe/qBsZ+DksHFi2DhFbDSIr+oyTj3jkuQKXEDR8DGuobi/aJ0uyxiujJgEba8t1e8LV8rlcqlzjFc/7zxG6TEJR+dgdM/vv9KaG07WCCCAAAIIIIAAAggggAACYROgMRw2WgK3V+D/bftAD+/b0N7pzGtGYLo/WQvzCnX22x8ooaTYVEYuj1fJv3tIMb36mSovOyez6DWfXnsrvCdrQ+k3t+cOTfTnBRrBrpqGe33N8jFeCnfHni91enIPTU7q1qa0jBPCN+5eEWjkdo9Lks/vP3QyOLemRA8Wrdf12ccrxR1/WLzN1cVaVlGoS9KHNGkXt2lJ6a9XSAlxbRzMMAQQQAABBBBAAAEEEEAAAScI0Bh2wi5brMapmxbr47JdFsvaOummuGO1oDJOC9fm6pR334964p5zLpHnwsujnoeTEigrV+DU8J69ob1/N1SGs3vu1In+XHXbmSNXlbmPNn9UXqA3S3fo2i7HH3XtQ0seO2rLdNuelbq2y3j1iEs6bJjRNP7T3jX6cdYoZccmhopUuuFiqUczL6YL3QpEQgABBBBAAAEEEEAAAQQQsJgAjWGLbZgT0u361WMqrLX+y9SsslcDYxK1sKhaCz9brUFrvops2jGx6vTXp+Tu3LaTlpFNzt6rvf+JT088Z45TwzN7FuhE5arHzly5KqssA19YV6HfFa7UT7NGa2BC6qG8/fKruL5GcS63kt1x2lZTqtVV+5Qd69X++mq9WJKn6ck9dUHaoOBP/rZX58q50mhO5beXj3kIIIAAAggggAACCCCAgB0FaAzbcVctXJPRTElf/YiFK7B+6ie7knXu9iItfPdjJRcWhrWg+Kkzlfjj68K6BsGbFzBODf/m1lpVROHfwZzRY5cmufPUoyBH7vIoJBCCh6LCV6e7967WjJReOjEx+7CIxl3A1+9erslJXbUwdYAO1FfrpYPfyJhjNIpPTuqmfvGdItcUNrK7YKp0+pgQVE4IBBBAAAEEEEAAAQQQQAABuwjQGLbLTtqkjuXlezRx4ws2qcb6ZcS6XDqnJlHnbtiqGUvelvyhvXog6arbFTf+ZOtDWbSCBx+r14pVvrBnP63Hbk1256nnrhy5yyrCvl64F6jz+/TQ/vXyuGI0xpulr6v2a11VkYz7ho0XynVyxwdOCBu/D2pykjjceR0z/vSx0nlTopoCiyOAAAIIIIAAAggggAACCJhLgMawufbD8dm8XLxVZ+W+4XgHswL0iPHovGKfFq5Yq5ErvuhQmu60THV66KUOxWByxwQ++dynx54M/XUSp3Uv1OTYPPXalaOY0vKOJWnC2VX+ev2+cKXya8s03JOhkZ4MDYxPVc/45ECz2JSfsf2lH80xZWokhQACCCCAAAIIIIAAAgggEB0BGsPRcWfVFgQeLdqoy7ZG/4VobFDbBCa4k3XezhKd88FSZW7f3rZJ347yXPADeRb+d1BzGBx6gR/9sla1tR2Le0r3vTo5Nle9C3MVU1LasWDMbr9Akkf1KYmqTPGqLMmr/Ule7fF6VeD1aJvHq2umD25/bGYigAACCCCAAAIIIIAAAgjYToDGsO221NoF3Vm4WlflL7N2EQ7OfkF9shZuzte8JW/LX1NzTIlOf35S7u69HaxljtL/9nC9Vq0N7jqJKd33aUpcQyM4tvigOQqxcxaJCapLS1ZlslelRsM30as9iV7t9Hi01etRTrxHm+M92un1qM7tblZiuMetdwYm2lmJ2hBAAAEEEEAAAQQQQAABBIIUoDEcJBjDwytw9c7PdMfuVeFdhOgREch0x+uCMrcWrtqg4z5ZetiaMb36KeXuf0UkDxY5tsDa9X795cG6Yw6a3K1IU+Lz1HdPjmIPlEAaKgFvfEPDNyVJB5MbGr6FiR7t9Hi11eNRToJHWxISlO/xyudydWjVHnEurRiS1KEYTEYAAQQQQAABBBBAAAEEELCXAI1he+2n5av5f9s+0MP7Nli+Dgo4WmB0TJLO212hcz5ZrgFT5inhzLNhMonA//vf2sPeKzip235NTchT3705iisqNkmWFkrDE6e6tBRVpDY0fIsSE1Xo9Sj/2ysd8r5t+G73eCNWVLLbpc3DaQxHDJyFEEAAAQQQQAABBBBAAAELCNAYtsAmOSnFc3KXaFHxN04q2ZG17hj1X4EXdfExh8DLj+zVkIO56r8vV3H79psjKTNmER8bOOFbkZas4k5JKjJO+Hq9yvd4tMPjVZ7HOOHr0faEBDNmr43DktQppmMnj01ZGEkhgAACCCCAAAIIIIAAAgi0S4DGcLvYmBQugambFuvjsl3hCk9ckwj4j/+RSTIhjYDAis3Sw286FyMupqHhm2o0fJO1N6XhhG+B16sdHo++MRq+8R5tizdnw7etG/f54ET1im/+DuK2xmAcAggggAACCCCAAAIIIICAfQRoDNtnL21RyYivn9b6qgO2qIUimheYlJStpUPPgcdMAgVF0s1Pmimj0OQS41Zd+hEN36TEQw3fwAnfeI+2x8WHZj2TR3lrYKJGemgMm3ybSA8BBBBAAAEEEEAAAQQQiJgAjeGIUbNQWwS6fvWYCmsr2zKUMRYV+Hn2GP2x50kWzd6madfUST+53zrFuV3/OeGbmqx9KYnanZykgkSvjHt7vwnc4evR9tg469QUgUyf6+fV5KSYCKzEEggggAACCCCAAAIIIIAAAlYQoDFshV1yUI5xXz6gOr/fQRU7r9R/9Zum72YMdl7hZq/4piekXdG/X7jxhG9Jp2QVdUrS7pRE5SclaYfXq4aXtnm03R1rdk1T5vdwb49md8LOlJtDUggggAACCCCAAAIIIIBAFARoDEcBnSWbFyiur1H66kfgsbnA2uEXaKQ3w+ZVWrC8R96Slm8KW+J1qUmBl7aVftvwLUxOUn5yorYmJjbc4Zvg0TYXTcuwbYCku3ok6OJ0TlGH05jYCCCAAAIIIIAAAggggICVBGgMW2m3bJ5rbvVBDVz3hM2rpDxePGfSZ+Dlz6TXVgSdXF2nRFWlJutgarL2d0pSQ8M3SVuTEpXj9QYavjsUI/47gKBpQz7h+q4J+lEWjeGQwxIQAQQQQAABBBBAAAEEELCoAI1hi26cHdNeXr5HEze+YMfSqOlbgfGJnbVi2Ll4mFFg6Xrp8XcPZVaf4lVlarJKv2347klpbPgmKSfRq80JXuXLrXo6vmbczWZz+mnneF2d7YwX7VlmU0gUAQQQQAABBBBAAAEEEIiiAI3hKOKz9OECH5ft0tRNi2GxscAZnXrpzUFzbVyhdUvb+NV2/aE2QRu8XhX43aql4WvdzWwh80sz4nRb9wTb1UVBCCCAAAIIIIAAAggggAAC7ROgMdw+N2aFQWBZeaFO2vhiGCIT0iwC89P66qUBs8ySDnk0EVhT6dOs3ApMbCywIDVW9/Xy2LhCSkMAAQQQQAABBBBAAAEEEAhGgMZwMFqMDavAFxV7NWHD82Fdg+DRFTg/fYCe6X9GdJNg9WYFNlT5NC2HxrCdH4/TkmP0RF+vnUukNgQQQAABBBBAAAEEEEAAgSAEaAwHgcXQ8AqsqSzS2PXPhncRokdV4JLMIXq87+lRzYHFmxfIrfZpyhYaw3Z+PqYkx+gZGsN23mJqQwABBBBAAAEEEEAAAQSCEqAxHBQXg8MpsL7qgEZ8/XQ4lyB2lAUuzxquB/ucEuUsWL45gR01Pk3cTGPYzk/HjJRYPd6HqyTsvMfUhgACCCCAAAIIIIAAAggEI0BjOBgtxoZVYEt1iQavezKsaxA8ugI/7TJKf+l1cnSTYPVmBQrr/Bq3sRwdGwvMS43Vg9wxbOMdpjQEEEAAAQQQQAABBBBAIDgBGsPBeTE6jAJba0rVb+2/w7gCoaMtcFX2WN3Rc1K002D9ZgQO1Ps1YgONYTs/HOemxeqvPTkxbOc9pjYEEEAAAQQQQAABBBBAIBgBGsPBaDE2rAL5NeXqtfafYV2D4NEVuKHbeN3cfUJ0k2D1ZgXKfX4NWk9j2M6Px3cz4vSH7gl2LpHaEEAAAQQQQAABBBBAAAEEghCgMRwEFkPDK1BYW6muXz0W3kWIHlWBKzqP0P29p0Y1BxZvXqDWL/X5ugweGwv8IDNOt3SjMWzjLaY0BBBAAAEEEEAAAQQQQCAoARrDQXExOJwC++uqlbnmH+FcgthRFpjZqZfeGDQ3ylmwfHMCFT6/BnJi2NYPx5Wd43Vtdryta6Q4BBBAAAEEEEAAAQQQQACBtgvQGG67FSPDLFBaX6tOqx8O8yqEj6bAUE+aNoy4KJopsHYLAisr6jUvrxIfGwv8oku8jF98EEAAAQQQQAABBBBAAAEEEDAEaAzzHJhGoMpXL++qh0yTD4mEXsDjjlHluMtDH5iIHRZ44kCtfrWzusNxCGBeAeO0sHFqmA8CCCCAAAIIIIAAAggggAACNIZ5BkwlUOf3K+7LB0yVE8mEXmDX6EvVNS4x9IGJ2CGB63ZV6x9FtR2KwWRzCxj3Cxv3DPNBAAEEEEAAAQQQQAABBBBAgMYwz4DpBOK/fFC1fp/p8iKh0AksG3qOTkzKDl1AIoVE4MKtlfqorD4ksQhKUkyIAAAgAElEQVRiToE/dE/QdzNoDJtzd8gKAQQQQAABBBBAAAEEEIi8AFdJRN6cFY8h0O2rx7W7tgIjGws81W+GLswYaOMKrVnahE3l2lnrt2byZN0mgb/29OjctNg2jWUQAggggAACCCCAAAIIIICA/QVoDNt/jy1V4cj1z+jryv2WyplkgxO4rceJurrruOAmMTqsArtr/TpuU3lY1yB49AUe7OXRvFQaw9HfCTJAAAEEEEAAAQQQQAABBMwhQGPYHPtAFt8KnLr5JX1YWoCHjQVmp/bWawPn2LhC65VmXCFhXCXBx94Cj/fxaEYKjWF77zLVIYAAAggggAACCCCAAAJtF6Ax3HYrRkZAYGHum3qxOC8CK7FEtATccqnyuMsV73JHKwXWPULg0aJaXburGhebCzzT16spyTE2r5LyEEAAAQQQQAABBBBAAAEE2ipAY7itUoyLiMDl2z7U3/etj8haLBI9gTcGzdHMTr2jlwArHybw4/wqvVhch4rNBd4amKiRHv6FjM23mfIQQAABBBBAAAEEEEAAgTYL0BhuMxUDIyFwzc7PdfvuLyOxFGtEUeD/ssfo7p4nRTEDlm4UKK736/hN5ar0YWJ3ga+HJSk9xmX3MqkPAQQQQAABBBBAAAEEEECgjQI0htsIxbDICNxduFq/zF8WmcVYJWoCwz3p+nrEhVFbn4X/I2CcFDZODPOxt0Ci26Wc4Un2LpLqEEAAAQQQQAABBBBAAAEEghKgMRwUF4PDLfBY0UZ9b+v74V6G+CYQWDnsXB2X2NkEmTg7hf/ZUaXFJVwjYfenYGCCWx8NSrR7mdSHAAIIIIAAAggggAACCCAQhACN4SCwGBp+gVdKtmp+zhvhX4gVoi5wZ89J+mX22Kjn4eQEjGskhm8odzKBY2o/JTlGT/X1OqZeCkUAAQQQQAABBBBAAAEEEGhdgMZw60aMiKDA0rLdmrxpUQRXZKloCRgvnzNeQscnegJcI3G0vadgq/red6Niyg8Gvtx99g9UNLX559RdU6Vej9+l5PUrDwXa9sMbVDZ03KG/d3vuAWUsfTPw9+ouPbX1x7eqLiUt8PfMj15T10UPH7VObGmxej16h3ad+0NVde8bkgfk4vQ43dUjISSxCIIAAggggAACCCCAAAIIIGAPARrD9thH21SxuapYQ75+yjb1UMixBd4bPF+npfSAKUoCZ+RUaF0Vb51r5Dcasn3vvV67z74s0Nw98u9HbpPxfeclT6vwrP+WL96j5I2r1PPff9bW/7k50NA1Gr/Jm1Zpx6W/DHzf9O/u6ir1ePpe7bzwx4GwjX82msbGOOPTUkO6PY/Lr7rE6+dd4tszlTkIIIAAAggggAACCCCAAAI2FaAxbNONtWpZRXVVylrzqFXTJ+8gBb6XOVT/6HtakLMYHgoBrpE4WtE4Ldzz8buUf+kvA43dxhPBZUPGtalJe2Qj2TgtbHx2nXdF4Hejcdx10T8Cp4aNsVnvvqiCC/4n8F33Z+7TvmnnBE4TN20Sh2KvjRh/7pGg89PjQhWOOAgggAACCCCAAAIIIIAAAjYQoDFsg020WwmulffbrSTqaUEg1uXS6mHna4Q3A6MIC9z91WrdGzNQ1f4IL2zy5YxmbuqaZYFTv8an2/MPasf3fn3o+odjpX9kY7nxWoqSMZMCzWEjdk12r0CT2WgMN3diOHXVp4ElQnla2Ij3XD+vJifFmFyf9BBAAAEEEEAAAQQQQAABBCIpQGM4ktqs1SaBkeuf0deV+9s0lkHWF/h113G6vceJ1i/EShUc3CUtuUXy1evpQRfrnsSx+qY+1koVhC3XhlO9jyi2vDRwz/Cx7hhumkRzp4sbfxZTXirvts2t3jFcMm7yoWaxcUVF493ER95b3J7iPx2cqH7x7vZMZQ4CCCCAAAIIIIAAAggggIBNBWgM23RjrVzWhXlv65kDOVYugdyDEOgWl6jVw89Xl1hvELMY2iGBFf+SNiw5LMRHA8/WvRlT9EldUodCW3myccK36QnhxqshDkyeecwTvI0N4Jq0rEPXRhgOTU8IG3837g5O/3TJYS+ga+rVeLdw+cARh66ZiN+3O6hTyy35bx2RrHiXlXeH3BFAAAEEEEAAAQQQQAABBEItQGM41KLE67DArbu+0A0FKzochwDWEbir50n6RfYY6yRs5Uz35Uhv3Cz5m3/pXG6Pk3Rvt9l6xtfZylW2K3fjtHDmx68dellcY3PX+L3xnuAjA7fUFG78edGUOYEX2RmfI6+aaBqr6dUSnp3fHMqj6UvqjPuH2/PpHOvSmqHObfi3x4w5CCCAAAIIIIAAAggggIATBGgMO2GXLVbji8V5Wpj7psWyJt2OCIzxZgZODfOJgMAnD0h5H7e6UHl6P93X9wLd6+6nWofcQ9x4J3D+d/830Mw98sTwkd+39nI648RwfPG+Q43mY50YbjwtbNwtbKzT+GK6UJwYHuuN0esDOJHf6kPPAAQQQAABBBBAAAEEEEDAYQI0hh224VYod3NVsYZ8/ZQVUiXHEApc1+143dr9hBBGJNRRAjvXSO/+ITiYhBQ9Oehi3esdra0OuIfYODXc58FbDhk1vWP4yMZw49+Nu4ibfvafdGbghHFj4zh5/crA19VdejZ7jUTTRrAv3hMYazSKuy56OPDnjt4xPKdTrP7euyEuHwQQQAABBBBAAAEEEEAAAQQaBWgM8yyYUiD+ywdV28J/6m7KhEkqJAKvD5yjWam9QxKLIM0IvHuntHN1u2k+HLRQ96SfrKV1ie2OwcTIC1yeGaebuiVEfmFWRAABBBBAAAEEEEAAAQQQMLUAjWFTb49zkxu34TmtrtjnXACHVn58Yme9O3i+UmPiHSoQxrK/WSp9/LeQLLCl1xTd23WWnqvPDEk8goRX4M4eCfpOelx4FyE6AggggAACCCCAAAIIIICA5QRoDFtuy5yR8H99867+vX+zM4qlysMEftJllP7a62RUQi3w+o2S8eK5EH4OZAzW3/su1D2uvqp3yD3EIeSLWKi3BiZqpMcdsfVYCAEEEEAAAQQQQAABBBBAwBoCNIatsU+Oy/L23V/qmp2fO65uCm4QeLr/DF2QPhCOUAms+Ke0IYwvdPSm6t8DL9a9nlHaXh8TqqyJEwKBWJe0fURyCCIRAgEEEEAAAQQQQAABBBBAwG4CNIbttqM2qeeVkq2an/OGTaqhjGAFBiak6r3B89UrnoZWsHZHjd/0tvT5Yx0O06YALpfeH3ye7k09ScvqvG2awqDwCoxPjNHL/dmL8CoTHQEEEEAAAQQQQAABBBCwpgCNYWvum+2zzqs+qAHrnrB9nRTYssCFGQP1VL8ZEHVEoGCt9M7tHYnQ7rnre5+m+7PP0Av1Ge2OwcSOC3w/M0638uK5jkMSAQEEEEAAAQQQQAABBBCwoQCNYRtuql1KSlr1d1X46uxSDnW0Q+DyrOF6sM8p7ZjJFJXtk178WdQhCjuP0KO9z9K9/j7yRT0b5yVwT0+PFqbFOq9wKkYAAQQQQAABBBBAAAEEEGhVgMZwq0QMiJbACRtf0IryPdFannVNIvCr7LH6Q89JJsnGQmm8+L9S2V7TJFyXlKWnBlygexJGKr+eF6FFamM+GpSogQl4R8qbdRBAAAEEEEAAAQQQQAABKwnQGLbSbjks15/u+ET37Flryap7fZqrpL0HtXHBuMPyT9lVouMe/lhx5TWBn6+6bLKKBmc3W6MRY8gra476btO8MdoxeYCaxto3tKvWXnyC6uMbTgYOXbxK5Z07BcbZ4XNnz0n6ZfZYO5QSmRreuUMq+CoyawW7ijtG7w4y7iGepM/rPMHOZnwQAslulzYPTwpiBkMRQAABBBBAAAEEEEAAAQScJEBj2Em7bbFanz2Qowvy3rZU1pmbCzXuH58Gcs4/sd9hjeH4smod/+BH2jxvdKAZbIwd+cwKffmDKSrtltpqncb8Mf/6TBsXjA2MN5q/e4d3D8Rq+mejYdzng83asHDcoUZxq8EtMODNQXN1RqdeFsg0yikuf1za+FaUk2jb8qv7ztDDXabpxbr0tk1gVFACJyfF6Nl+vHguKDQGI4AAAggggAACCCCAAAIOEqAx7KDNtlqpO2rK1Hvtv6yWdiDf5k4MGz/L3FJ46GRvTE2dRj25XEWDstt0srdpTGPusBdWadupgwNNYuM742OcEG7aJLYk3jGS3j36UmXHJdqtrNDVs/QhKefD0MWLUKQd2WP1r55zda+fxn8oya/sHK9rs+NDGZJYCCCAAAIIIIAAAggggAACNhKgMWyjzbRjKQPWPaG86oOWK60tjWGjKKOJa3yOvHLiyIKPPC3cOPfIE8M1KR5bnhZu6rFr9KXqSnP46H8mXrlGOrDdcv+sNE24IqWbnuu3UPcmjNBO7iHu8F7+vbdHczrx4rkOQxIAAQQQQAABBBBAAAEEELCpAI1hm26sXcq6dOt7+mfRJsuV01xj2LjiwTghbNwF3Hh1RFsbwy3Fa7yvuPGO4UGvrw1cL2F8WrrSwnKYzST8+sA5mpXa2w6ldLyG/Vsl407hKuv9C5QWi4+J05JB5+v+1IlaUZvQcSOHRlg+JEk941wOrZ6yEUAAAQQQQAABBBBAAAEEWhOgMdyaEN9HVeDBfet1xTbr/afxLb18rrkXyjW+TK4l6OYays2Nbbxb2LjDePArXwWumajITAo0o3ecNKDFl9xFdYM7sPjve0zUNV2P60AEG0zd/I702aM2KKTlEpb3m6XHOp+qxXVptq4z1MVlxbr01VBePBdqV+IhgAACCCCAAAIIIIAAAnYSoDFsp920YS0rK/Zq/IbnLVdZS43hpoUceU9wS0W29VRx493Cpd3TWnxJneUgW0n4vPQBerb/GXYrq231rH5B+urFto21wajcbhP0dPeZ+pu/pw2qCX8J01Ji9a8+nvAvxAoIIIAAAggggAACCCCAAAKWFaAxbNmtc07iWWseVVFdlaUKbktj+MiGr3Hi17gaYt0FEw6d7g32tPCGheMCTo0vprPzieHGB2JgQmqgOTwuMctSz0iHkl32iLTlvQ6FsOrk4tTeWtR3ge6NH65d9VyT0NI+/qJLvIxffBBAAAEEEEAAAQQQQAABBBBoSYDGMM+G6QUW5L6hl4q3mj5PI8HMzYWH7vZtTHjVZZMPNXqNZnDPz74JfHXkFRJHNoaNE8XGNRBFg7K1Y/KAFutv7uRxY6y48hrln9iv1ZfbWQL3GEl+f984/aTuOI2eFS+X2+rVHCP/bZ9L69+Q9m6xcZFtLC02QS8NulCPdBqvL2ppgB6p9vqARI312vkfhjY+JwxDAAEEEEAAAQQQQAABBBBoUYDGMA+H6QV+u2ulri9Ybvo8STA6Aj1rO+mejxaobnO8Unu6NGSmW71PtFlDzGgEGw1hozHM5yiBT/rP17+zpujluk7oSOoc69Ia7hfmWUAAAQQQQAABBBBAAAEEEGhFgMYwj4jpBZYc3K5ZW14zfZ4kGB2BB9bPV+aHXQ5bvNtotwbNcKvLMItfNVCxv6EhvPEtyVcXHWALrbqh+0l6vvsM3e/rbqGsQ5/qBelx+lOPhNAHJiICCCCAAAIIIIAAAggggICtBGgM22o77VnM3roqdf/qcdX5ffYskKraLXDl3gk6/aUx8tU2H6LfFLf6TnErs78FG8QbljQ0hEsL2+3j1ImF6QO1uM88PRA3RIUOvIf47709mtMp1qnbT90IIIAAAggggAACCCCAAAJtFKAx3EYohkVX4KSNi7SsfHd0k2B1UwkMrsnUHz6Yq9rcuFbz6jXBrT4nudV1lLkbxMah4OJPlyuj+h1p99et1sWAYwvUxSdp0cAL9XjKOH1Z2/pzYgfPWJe0eViyPDa7TcUOe0MNCCCAAAIIIIAAAggggIDZBGgMm21HyKdZgVt2faEbC1agg8AhgYfXLlDqJ1lBiWQPd6nPZLd6TzRX16wo16/d6/wqXOdTasJmHd/ld0HVxeDWBd4beI6eyTxJr9SmtD7YwiNOTY7Rk329Fq6A1BFAAAEEEEAAAQQQQAABBCIlQGM4UtKs0yGBLyr2aMKGFzoUg8n2Efj57kk6adGIdheU3telzoNdyhzoUvZwt2I97Q7V7ollhX7t+sqvXWt82rPRf1icOfPul7eEF821G/cYE9f0nKpF3abpofqu4Qgf9Zg3dk3QD7OccTo66tgkgAACCCCAAAIIIIAAAghYXIDGsMU30Enpn7xpkT4t4zoJJ+15c7WOrcrWze/PUs3W0Nyh6o5VoEHcZahb2SNcyugXnusmKg/4ZZwMNn7tz2v4vaXPiONXa1jSn52+1WGtf0fGMC3uM1ePxA7QHhvdQ/zRoEQNTDDXifiwbiTBEUAAAQQQQAABBBBAAAEE2i1AY7jddEyMtMDvd3+pa3dyijLS7mZb77HVC5W0LD1sacXESyldXd/+avpnl4zvWvsYDeCK/ZLxe+UBqWSnX0U5fpXubrkR3FzMs+bdqbgS7hluzbuj31d4M7RowHl6Imm0VteG5l82dDSn9s4f7XVryYDE9k5nHgIIIIAAAggggAACCCCAgMMEaAw7bMOtXO7qin0at+E5K5dA7h0UuLrgZB3/0tAORmn/dHecFBsvxcQ3NImNX7HGf7Xv0qFmcPujHz5z/MmfqK/74VCFI04bBJYMPl8vZJyo12qS2jDafEOuzIrXtV3b8G8vzJc6GSGAAAIIIIAAAggggAACCERBgMZwFNBZsv0Cp25+SR+WFrQ/ADMtK3BiRU/95t0Zqs6PsWwNwSTudtdqwaxb5S7dHsw0xoZAYEXvaVrU9TQ9Vtc5BNEiF+Lpvl5NTXbGPx+RU2UlBBBAAAEEEEAAAQQQQMC+AjSG7bu3tqzsD7tX69c7l9myNoo6tsC/Vp4nz/JURzFNnvaGutU+46iazVRsbucxWtxrth6P6at99WbK7OhcesW79flgrpEw9y6RHQIIIIAAAggggAACCCBgLgEaw+baD7JpRWBd5X6NWk+jzGkPyg07TtGoVwc5rWx1Sj+gGSfcKlflfsfVbqaCi5O6alH/hXo2aYTW1JjzRO5F6XG6u0eCmdjIBQEEEEAAAQQQQAABBBBAwOQCNIZNvkGkd7TAjC2v6J2D+dA4ROD08n7637dOU/Vut0MqPrzM02c+r4yKVx1ZuxmLfnnIxVqUPkFv1pjrdO59vTxakGrtl+eZcb/JCQEEEEAAAQQQQAABBBCwswCNYTvvrk1r+1PhGv1f/lKbVkdZRwo8ufwCxa1McSxM9z75Oqn/LVJ9jWMNzFj4p33O1KLsU/VkXUbU0+sZ59IHgxKV6HZFPRcSQAABBBBAAAEEEEAAAQQQsI4AjWHr7BWZfiuwqapYQ79+Cg8HCPx22zQNeb2fAyo9dokz5z6q5IMfOt7BjAAbssdrUc+ZetLdS/ujdA/xFVnxuqFrvBl5yAkBBBBAAAEEEEAAAQQQQMDEAjSGTbw5pNaywKwtr2nJwe0Q2VhgdulAXbHkFFXv4xTkwBEbNTbzdhvvtvVL25PSS4v6n6MXvUO0NsL3EL/a36vjEs1597H1d5YKEEAAAQQQQAABBBBAAAH7CtAYtu/e2rqy+/au05XbP7Z1jU4v7pllF8m9OsnpDIfqnzvvHnlKVuJhcoF6d6wWDf6OFqUdp/drPGHP9rTkGD3R1xv2dVgAAQQQQAABBBBAAAEEEEDAfgI0hu23p46oqKiuSiPXP6PdtRWOqNdpRd6RN0P93+zjtLKPWe/oE77QYM+9mFhI4L3+87S488l6vjYtbFnf3SNBF6XHhS0+gRFAAAEEEEAAAQQQQAABBOwrQGPYvntr+8p+tuMT/XXPWtvX6bQCzykepktfm6yag06rvPV6F8y9TbEHN7U+kBGmEljTbZIW9ThDz7m660AI7yHOiHFp2eBEpcRw3YqpNpxkEEAAAQQQQAABBBBAAAGLCNAYtshGkebRAkvLdmvypkXQ2Egg1ufWU0svlNYm2qiq0JVywikfqLf/sdAFJFJEBfJTB2hRvwVa5BmojTXuDq/9g8w43dItocNxCIAAAggggAACCCCAAAIIIOBMARrDztx321Q9c8urevPgDtvU4/RC/rhlpnq909PpDC3WHxdfrXnTb5a7rAAjCwtUxCZq8eCLtajTGH1aE9/uSl7q79UEXjrXbj8mIoAAAggggAACCCCAAAJOF6Ax7PQnwOL1P1q0UZdtfd/iVZC+IXDx/lE6b/FE1VXjcSyBqTNeVZfq50GyicCSAedocdYkvVzbKaiKjIaw0RjmgwACCCCAAAIIIIAAAggggEB7BWgMt1eOeaYQKPfVaeT6p7W1utQU+ZBE+wQ61SXo0U/Pk2+9p30BHDQro0uRTh9zs1TNJcx22vYVPU7Rou7TtEhdVVLvb7W027sn6JIMXjrXKhQDEEAAAQQQQAABBBBAAAEEWhSgMczDYXmBq3d+pjt2r7J8HU4u4J5Nc9T1vW5OJgiq9umznlZa+ZKg5jDYGgJ5GcO0qM98LYrvp7za5l8qF++SVg1NUjovnbPGppIlAggggAACCCCAAAIIIGBSARrDJt0Y0mq7wJcV+3T8hufaPoGRphL4XtFYzX52vKlyMnsyvQZs1cSet0h+n9lTJb92ChTHp2nx4Au1KHmkVtQcfjL4wvQ4/bEHL51rJy3TEEAAAQQQQAABBBBAAAEEvhWgMcyjYAuBs3OXaHHxN7aoxUlFdKtN0X0fL1DdJppcwe77rLl/V9LBT4OdxngLCrw86AItzpioJbVJgeyf6+fV5KQYC1ZCyggggAACCCCAAAIIIIAAAmYSoDFspt0gl3YLPLU/Rxd/83a75zMxOgL3r5+nrA+zo7O4xVcdMmadRqXeZfEqSD8YgU97TdeirqfprmF9g5nGWAQQQAABBBBAAAEEEEAAAQSaFaAxzINhCwGf/Br59TPaUHXAFvU4oYgf7Rmv018Y64RSw1bjvHl/UkLJmrDFJ7AJBU78vjT4dBMmRkoIIIAAAggggAACCCCAAAJWE6AxbLUdI98WBW7e9YVuKliBkAUEBlSn64/vz1fNN4ffnWqB1E2V4rhJn2lA3AOmyolkwiiQ2U+a89swLkBoBBBAAAEEEEAAAQQQQAABJwnQGHbSbtu81l21FRq/4TkV1FbYvFLrl/f3tQuU9kmW9QsxQQVnz71VMQdzTZAJKYRdgNPCYSdmAQQQQAABBBBAAAEEEEDASQI0hp202w6olVPD5t/kn+2eqJMXjTJ/ohbJcNJp76hH/b8tki1ptluA08LtpmMiAggggAACCCCAAAIIIIBA8wI0hnkybCXAqWFzb+eoyi763TtzVJ0fY+5ELZSdN7FCs6feLFdFoYWyJtWgBTgtHDQZExBAAAEEEEAAAQQQQAABBI4tQGOYJ8R2ApwaNu+WPrr6HCUvyzBvghbN7NQzFiurarFFsyftVgU4LdwqEQMQQAABBBBAAAEEEEAAAQSCF6AxHLwZM0wuwKlhc27QVQWTNeGlYeZMzuJZde6+R6cMu0nifm2L72QL6XNa2J77SlUIIIAAAggggAACCCCAQJQFaAxHeQNYPjwCnBoOj2t7o55Q0UPXvTFT1Xtc7Q3BvFYEzpjzb3UqfQcnuwlwWthuO0o9CCCAAAIIIIAAAggggIBpBGgMm2YrSCSUApwaDqVmx2P988tz5f08reOBiNCiQN8huRqffStCdhPgtLDddpR6EEAAAQQQQAABBBBAAAHTCNAYNs1WkEioBW4uWKGbdn0R6rDEC1Lguh2naMyrg4KcxfD2CMye94ASSz5rz1TmmFGA08Jm3BVyQgABBBBAAAEEEEAAAQRsI0Bj2DZbSSFHCnBqOPrPxCllffR/L89QTUn0c3FCBsOPW6PhyX9yQqnOqJHTws7YZ6pEAAEEEEAAAQQQQAABBKIkQGM4SvAsGxkBTg1HxrmlVZ5YfoHiV6ZENwmHrT5/3l2KL1nnsKptWC6nhW24qZSEAAIIIIAAAggggAACCJhLgMawufaDbEIswKnhEIMGEe6Wbadp2OsDgpjB0FAIHH/yp+rn/nsoQhEjmgKcFo6mPmsjgAACCCCAAAIIIIAAAo4QoDHsiG12dpE37/pCNxWscDZChKs/8+AAXfHiaaqrjPDCLBcQOHv2jYop24aGVQU4LWzVnSNvBBBAAAEEEEAAAQQQQMBSAjSGLbVdJNsegRp/vaZsWqzl5XvaM5057RB49tOL5foqsR0zmRIKgcnTlqhb7dOhCEWMaAic8lOpz8RorMyaCCCAAAIIIIAAAggggAACDhKgMeygzXZyqYuLv9HZuUucTBCx2m/Lm6GBb/aJ2HosdLRAcmqpzjzxJrkqi6LOc6DKp5s/KNFPJ6aof3rsUfks2lip7SV1+tnE1u+izjtQp6veLlZJtU+pCW79YUZaIKaxxi/eOqAdJfXqlRqju89IV7rHHVgrmPhRxzISGDhVOumHpkiFJBBAAAEEEEAAAQQQQAABBOwtQGPY3vtLdU0EfrjtQz20bz0mYRRYUDJU3336ZPl9YVyE0G0SOH3mC8qoeKVNY8MxqKrOr1s/KtHynTWHNXEb1/qioEbXvFsc+Ovcwd5WG8NGU/i3H5XouqmpRzWYjeav8Tl7qDfQCG78s9EwvmvpQf3ypE6HGsXhqDVkMT2p0swbpE5dQxaSQAgggAACCCCAAAIIIIAAAgi0JEBjmGfDMQJba0o1ZdMi5deUO6bmSBYa43PruY++o/oNCZFclrVaEOjaa5dOHnSjVFcTVaNQnBhubDKfPTRR47vHH1XPXz4v1eReCYHvjIbzpzuqA43mpk3iqCK0dfEJ/yUNm9nW0YxDAAEEEEAAAQQQQAABBBBAoEMCNIY7xMdkqwnct3edrtz+sdXStkS+d+XMVJ+3e1oiV6ckeeacx5RS+kFUyw1FY7jpVRGNxZzQI17XT02VJ9Z1WF3hjIsAACAASURBVAO4sRl8at8Ea50W7j5amv7rqO4ViyOAAAIIIIAAAggggAACCDhLgMaws/abaiXNy3ldr5ZswyKEAhfsH6Fzn5kUwoiECoXAgOGbNS7r96EI1e4YoWgMG9dI/PXzUt14amrgSojGE8RdkmICJ4Obu2P4g63VgZzHZMcdupe4aTO53QWFa+KZ10nZw8IVnbgIIIAAAggggAACCCCAAAIIHCVAY5iHwnECS8t2a8qmxfLJ77jaw1FwUl28nnzvItXkxoUjPDE7KDB33r3ylHzRwSjtnx6OxrCRjXFlxH1flB72ornGLJveLfzPNeWHrpkwrpzonRobuIvYVJ+R86TjLjRVSiSDAAIIIIAAAggggAACCCBgfwEaw/bfYypsRuC6guX63a6V2IRA4C+bZqv7e91DEIkQ4RAYNeFLDfH+NRyh2xQzFI3h5mIYjeFFGysOXSfRNJnG6yRmDfQEXoDXeDexKe8cTu8lnXmDFJ/YJk8GIYAAAggggAACCCCAAAIIIBAqARrDoZIkjqUEyn11mrppsb6s2GupvM2W7KX7xmjucxPMlhb5HCFw1tzbFXdwY1Rc2tsYNk737imvP9T4bfp3oxCj4Tu+e8JRp3+bnhY2rp1o+mI6U54YnnKl1O+kqOwNiyKAAAIIIIAAAggggAACCDhbgMaws/ff0dU/fyBX5+W95WiDjhTfpTZZD795nqp3xHQkDHMjIDBh6ofqo0cjsNJ/lmi8B3j5zppDP2x6x69x4vead4sPy+m2aWka3z0+8LMjG8NHxps72Bu4X/jIT9NGsPFd0/uHTXfHcP+TpZN/FNF9YTEEEEAAAQQQQAABBBBAAAEEGgVoDPMsOFrgsm3v69F90TlJaXX4+7+er6yPuli9DEfk746p14Izb5C7bKcj6rVEkQnJ0swbpNQelkiXJBFAAAEEEEAAAQQQQAABBOwnQGPYfntKRUEI5NeUa/qWl7Wp6vCTi0GEcOTQy/ccrxkvjHNk7VYtesqMV5Vd/bxV07df3uO/Iw2fbb+6qAgBBBBAAAEEEEAAAQQQQMAyAjSGLbNVJBougecP5Om8vDfDFd52cftWp+me1xaqqtBlu9rsXFBqVommj7tBruoSO5dpjdq6jZBm/MYauZIlAggggAACCCCAAAIIIICAbQVoDNt2ayksGIFf5S/TXYWrg5ni2LGPrj5HycsyHFu/lQufPusZpZW/YeUSrJ97nEeafrXUeZD1a6ECBBBAAAEEEEAAAQQQQAABSwvQGLb09pF8qARq/PWatvkVfVK2K1QhbRnnJ7snauqiUbaszQlF9eiXr0m9b5T89U4o15w1Tvq+NOh0c+ZGVggggAACCCCAAAIIIIAAAo4SoDHsqO2m2GMJfFRWEGgO1/l9QDUjMLyqs25ffJaqD8BjZYFZcx5WUuknVi7BurkPPVM64RLr5k/mCCCAAAIIIIAAAggggAACthKgMWyr7aSYjgr8Yfcq/XrnZx0NY8v5T6w4X/FfdLJlbU4qavDojRqddruTSjZHrV2HS9N/LbljzZEPWSCAAAIIIIAAAggggAACCDhegMaw4x8BAI4UOCf3TS0qzgOmicAvd56kiS8Px8QmAvPm/lkJB7lTO2LbmZAizbhayugbsSVZCAEEEEAAAQQQQAABBBBAAIHWBGgMtybE944T2FB1QNM3v6KC2nLH1d5cwcdXdNP1z81RbQUcdhEYc+IKDYr/m13KMX8dk6+QBkwxf55kiAACCCCAAAIIIIAAAggg4CgBGsOO2m6KbavAY0Ub9b2t77d1uK3HPbvsIrlWJ9m6RicWt2DObxVbmuPE0iNb84g50vEXR3ZNVkMAAQQQQAABBBBAAAEEEECgDQI0htuAxBBnClyx/UM9uHe9M4v/turf7Jiqca8OdrSBXYufeOp76uX7p13LM0ddPcZI064yRy5kgQACCCCAAAIIIIAAAggggMARAjSGeSQQaEGgqK5K0za/rDWVRY40Ormst37+1Bny1TmyfNsXHe+p1dxTr5e7Yrfta41KgYkZ0vSrpbQeUVmeRRFAAAEEEEAAAQQQQAABBBBoTYDGcGtCfO9ogY/Ldmluzus6WF/jOIcXP/yu6td7HFe3kwo+5YyX1bnqRSeVHLlap/5E6nti5NZjJQQQQAABBBBAAAEEEEAAAQSCFKAxHCQYw50n8K+izbpk67uOKvy3edM05M1+jqrZicVmdD2g00deJ9XwosWQ7v/oBdLY80IakmAIIIAAAggggAACCCCAAAIIhFqAxnCoRYlnS4Hf7lqp6wuW27K2I4uacbC/Ln/idEfUSpHSjFlPKLX8bShCJdBrvHTaz0MVjTgIIIAAAggggAACCCCAAAIIhE2AxnDYaAlsN4EfbPtAj+zbYLeyjqrnpXcuVc2WONvXSYENAr0HbdcJ3W6AIxQCqd2l038ppWSHIhoxEEAAAQQQQAABBBBAAAEEEAirAI3hsPIS3G4CM7a8oncO5tutrEP1/HHzLPV6l5dl2XaDWyhs9pwHlVi6zGllh7Zeb1rDSeGsgaGNSzQEEEAAAQQQQAABBBBAAAEEwiRAYzhMsIS1r8CgdU8qp7rEdgXOKx6sS56aavm61pW+rAO12zUl48dH1bKjcqVe33N94Odpcb00P/sOeWPSmq354/33an3p64e+m93lVvXyHh/4e1FNnl4t/I2qfAfV2ztBMzpfo1hXw4v6jHnpcb01MmW+ZSyHjvtaI1PutEy+pkx0+tVS91GmTI2kEEAAAQQQQAABBBBAAAEEEGhOgMYwzwUCQQocqK9W9prHVOv3BTnTvMNjfC4tXvLfqtoWY94kW8msadN3eMrsoxrDxvdLDzx0zGZw4xKV9cX6ouTfmpT+g0DD12gEv7Pvdk3PulqZ8f0Dzd++3kmBRnHTPxvjVh98Xqdk/vRQo9gqoPPn3qX4g+uskq658jzlp1KfiebKiWwQQAABBBBAAAEEEEAAAQQQaEWAxjCPCALtEFhZsVfjNzzfjpnmnHLf+nnq/KE97kVt7sSw0eh9c++tmpJxZaCxG+zHmP9y4a91Uvrl6uYZoQ+L/qqxnc4NxDLWMz7GCeGmTeJg14j2+OMmf6b+MQ9EOw3rrT/p/0mDTrVe3mSMAAIIIIAAAggggAACCCDgeAEaw45/BABor8BzB3J1ft5b7Z1umnnn7R+u8585yTT5dDSR5hrDTa9+aIzf3KniltY2Thu/t+9Ozc3+fYsnhhNj0i17Wrix7rNn36SYsq0d3QLnzB//HWn4bOfUS6UIIIAAAggggAACCCCAAAK2EqAxbKvtpJhIC9yxe5Wu3vlZpJcN2Xqeujg99+olqtrlClnMaAdqrjFsNHaNnzfeBdx4AnhEypxj3gXctKHc2h3Dyw48HLhewvg03mMcTPM52m7G+pNOf0c96v5thlTMn8PoBdLY88yfJxkigAACCCCAAAIIIIAAAggg0IIAjWEeDQQ6KHDzri90U8GKDkaJzvR/fHW2Uj7NjM7iYVq1LY1hY2ljnNEwbvriuJZSanqVROML6JqObbxb2LhqwrjH2LhmIjWuu97ee1ug8dzcnDCV36Gw3pQqzT7pOrkq93Uoju0n95skTTn65Ya2r5sCEUAAAQQQQAABBBBAAAEEbCVAY9hW20kx0RKwYnP4kr1jNO/5CdEiC9u6LV0l8fH+v+nMztfLG5MWWLu5ccdKyrg/OD2ud7MnjBvvFs6KH3DYXcZWvHP41DMXKavypbDtj+UDZw2QZt9i+TIoAAEEEEAAAQQQQAABBBBAAAEawzwDCIRIwErN4czaRD226CJVFdnnConGbWyu4Vvnrwqc3k2O7awpGT/WkSeAG6+MOD3rV4HTvcbfc8o/0MT0ywJhj/y+6SPTeFr4lMyfBn7c+GI6K54YNvLv3HOfThl8rVRXHaJ/MmwUJiFZuuBBGxVEKQgggAACCCCAAAIIIIAAAk4WoDHs5N2n9pAL3FywQjft+iLkcUMd8N8rz1fC8k6hDhvVeMa1EI13+zYm0vRe4MZmcHHtjsDXkzOuOHT698jGb2MjeXvlf64IaRqrMb4xrrERnBnfP/DjpvcSW+2O4ca6zpj9T3Uqey+q+2nKxS96WIrzmjI1kkIAAQQQQAABBBBAAAEEEEAgWAEaw8GKMR6BVgTMfnL4yl0n6NTFo9lHBFoU6DfsGx3f+WaEmgqc8ycpuQsmCCCAAAIIIIAAAggggAACCNhGgMawbbaSQswkYNaTw72qU3Xvs+eppsxMWuRiRoE5c/4mb6k1X6oYcs8zr5eyh4Y8LAERQAABBBBAAAEEEEAAAQQQiKYAjeFo6rO2rQXMeHL42c8ukmtVkq3dKS40AiPGr9WwxLtDE8zKUebfLqX1snIF5I4AAggggAACCCCAAAIIIIBAswI0hnkwEAijgJlODl+dP0XHvzIkjNUS2m4CZ825Q3GlG+xWVtvqiYmXzr5bSsxo23hGIYAAAggggAACCCCAAAIIIGAxARrDFtsw0rWegBmaw0Mqs3TbkwtUX2M9PzKOnsDxU5aqn+uh6CUQrZWNZvCCu6XY+GhlwLoIIIAAAggggAACCCCAAAIIhF2AxnDYiVkAAenOwtW6Kn9Z1Che/Pi7ql/nidr6LGxRAZd09szrFFOeb9EC2pF2em9p3m3tmMgUBBBAAAEEEEAAAQQQQAABBKwlQGPYWvtFthYWeLVkm+blvB7xCm7derqGvtE/4uuyoD0EJk97U91qn7JHMa1V0XWEdMZvWhvF9wgggAACCCCAAAIIIIAAAgjYQoDGsC22kSKsIrCucr9GrX8mYumOLe+qa/85N2LrsZD9BJLTy3Xm+Gvlqi62X3FNK+ozUTrlp/aukeoQQAABBBBAAAEEEEAAAQQQaCJAY5jHAYEICxTUlmvixheUX1Me9pVfevdS1WyOC/s6LGBvgdNnPq+MilftW+SQ6dLE79m3PipDAAEEEEAAAQQQQAABBBBAoBkBGsM8FghEQaDSV6ezct/Q2wfDd3fr3TlnqvfbvaJQHUvaTaBrn0Kd3O83kq/ebqVJoxdIY8+zX11UhAACCCCAAAIIIIAAAggggEArAjSGeUQQiKLAlds/0n17vw55BlMO9tFPn5gR8rgEdK7AmbMfVUrZh/YCmPBdadgse9VENQgggAACCCCAAAIIIIAAAgi0UYDGcBuhGIZAuASuK1iu3+1aGdLwr7zxPVVtjQlpTII5W2DAyByNy/itPRBiE6QTL5P6n2yPeqgCAQQQQAABBBBAAAEEEEAAgXYI0BhuBxpTEAi1wB8L1+gX+UtDEva+jfPU+f3skMQiCAJNBebO+as8pV9aGyVroDT+O1KXwdaug+wRQAABBBBAAAEEEEAAAQQQ6KAAjeEOAjIdgVAJPFq0UZdtfb9D4eYdGKJLnp7SoRhMRqAlgVEnrNYQz5+tCzToNGn8xVJconVrIHMEEEAAAQQQQAABBBBAAAEEQiRAYzhEkIRBIBQCxsvofr1zmVZV7GtXuFdfukyVBe52zWUSAm0ROGvO7xRXuqUtQ80zxuVuOCU8bKZ5ciITBBBAAAEEEEAAAQQQQAABBKIsQGM4yhvA8ggcKbC3rlJX7/xM/9i3MSicf6w9WymfZAY1h8EIBCswYerH6qNHgp0WvfEZfRqawl1HRC8HVkYAAQQQQAABBBBAAAEEEEDAhAI0hk24KaSEgCFwz561+vXOz1Tpq2sV5Lv7Ruus505odRwDEOioQEycX2dNu0buit0dDRX++cbL5YymsKdT+NdiBQQQQAABBBBAAAEEEEAAAQQsJkBj2GIbRrrOEvigtEDXFnyupWUtN+Hcfpdeev77qmrf7RPOAqXakAhMmf66smueDUmssAU57kJp5LywhScwAggggAACCCCAAAIIIIAAAlYXoDFs9R0kf9sLGFdL3FTwhe7bu67ZWv/95XlK+DzV9g4UaB6BtC6lmjb6GrlqysyTVGMmqd0bTgn3GGu+3MgIAQQQQAABBBBAAAEEEEAAARMJ0Bg20WaQCgLHEjAaw9cXLNf+uupDw/6ncIJOe3EMcAhEXGDazGeUXvFGxNc95oJ9JjY0hZO4a9tcG0M2CCCAAAIIIIAAAggggAACZhSgMWzGXSEnBFoQMK6WuHnXChm/e2rj9Oyzl6r6IFwIRF6gx4ACTerxm8gv3NKKY8+VRp9tnnzIBAEEEEAAAQQQQAABBBBAAAGTC9AYNvkGkR4CRwo0Xi1x6quj5PoyCSAEoiYwc87DSi79JGrrBxbOGiiNmi/1Oj66ebA6AggggAACCCCAAAIIIIAAAhYToDFssQ0jXQQaBbYt9WnLOz4Vb/eDgkBUBAaN3qQxabdFZW3FxEkj5zc0hd2x0cmBVRFAAAEEEEAAAQQQQAABBBCwsACNYQtvHqkjUFns15a3GhrEfh8eCEReYO6cP8lTuiayC/ceL408S8rqH9l1WQ0BBBBAAAEEEEAAAQQQQAABGwnQGLbRZlKKcwUK1/m1+e16FX7N6WHnPgXRqXzMiSs1KP6eyCye3FkadZY06LTIrMcqCCCAAAIIIIAAAggggAACCNhYgMawjTeX0pwnsPlNnza/Va+qEufVTsXRE1gw+xbFluWFN4EhMxqujUjMCO86REcAAQQQQAABBBBAAAEEEEDAIQI0hh2y0ZTpHIGDu/za9LpP25Zxt4Rzdj26lU489QP18j0WniS6DG64S7jnuPDEJyoCCCCAAAIIIIAAAggggAACDhWgMezQjads+wvkr/Bp4xu8nM7+Ox39ChMS6zRnyjVyV+4NXTKxCQ0nhI27hF2u0MUlEgIIIIAAAggggAACCCCAAAIIBARoDPMgIGBjAV+dtOXthpfTVZVw/7CNtzrqpU2d8Yq6VL8Qmjz6TGxoCmf0DU08oiCAAAIIIIAAAggggAACCCCAwFECNIZ5KBBwgED5Pn+gOZzzDtdLOGC7o1JiZrdinTbsaqmuqv3rG43goWdIA09pfwxmIoAAAggggAACCCCAAAIIIIBAmwRoDLeJiUEI2EOgKNcfOEGc/wUNYnvsqLmqmD7rKaWVvxl8Uqk9pCHTG3653MHPZwYCCCCAAAIIIIAAAggggAACCAQtQGM4aDImIGB9gZ0rG66X2LeF6yWsv5vmqaDXoB2a2O36tieU0qWhGTx4umTcKcwHAQQQQAABBBBAAAEEEEAAAQQiJkBjOGLULISA+QRy3vMFThCX76VBbL7dsWZGs+Y8qKTSZcdOPjFdGjKjoSkcn2TNQskaAQQQQAABBBBAAAEEEEAAAYsL0Bi2+AaSPgIdFagulfI+9GnrJz4ZdxHzQaAjAkPHbdDIlDuaD5GQ/J+GsDetI8swFwEEEEAAAQQQQAABBBBAAAEEOihAY7iDgExHwC4CNRUKNIeNXwcLaBDbZV+jUce8OXcroXTtf5Y2rokYOkMaPENKzopGSqyJAAIIIIAAAggggAACCCCAAAJHCNAY5pFAAIHDBHx1DQ3ibz7x6cBWGsQ8HsELjJu0XAPi7pNcMdJQ46VyM6RO3YIPxAwEEEAAAQQQQAABBBBAAAEEEAibAI3hsNESGAHrC2xb6tPWT33au4kGsfV3M7IVzDv/n0qYMENK7x3ZhVkNAQQQQAABBBBAAAEEEEAAAQTaJEBjuE1MDELA2QL5KxuumNi9lgaxs5+EY1efku1S70lu9TnJpcQMF1QIIIAAAggggAACCCCAAAIIIGBiARrDJt4cUkPAbAJ7N/u1c6Uv8Kuy2GzZkU+0BLqNcav3iS71muCOVgqsiwACCCCAAAIIIIAAAggggAACQQrQGA4SjOEIICDVVkj5XxoNYr92r/VB4kABb7rRCHap90S30vpwOtiBjwAlI4AAAggggAACCCCAAAIIWFyAxrDFN5D0EYi2gPGCOuOqCaNJXLaHqyaivR/hXr/z0IaTwUZDONYT7tWIjwACCCCAAAIIIIAAAggggAAC4RKgMRwuWeIi4DABX70CV0zkr2y4boKPfQTS+7jUdZRL3Ua7ldGf08H22VkqQQABBBBAAAEEEEAAAQQQcLIAjWEn7z61IxAmgfK9fhWu92vPer8KN/gCV0/wsZZAas//NIOzBtEMttbukS0CCCCAAAIIIIAAAggggAACrQvQGG7diBEIINABgZpyqXC9r6FJvN6viiKum+gAZ1inpnQ1TgUbDWG3ugyjGRxWbIIjgAACCCCAAAIIIIAAAgggEGUBGsNR3gCWR8BJAn6ftGeD0SBuaBQX76BJHO39zxzgClwPkT3Cra4jaQZHez9YHwEEEEAAAQQQQAABBBBAAIFICdAYjpQ06yCAwFEC+/P82rel8ZdPxuliPuEVSOvtUuchLhkNYeOXN51mcHjFiY4AAggggAACCCCAAAIIIICAOQVoDJtzX8gKAccJ+OulPRv92rvZd6hZLA4Ud/g5SO7iClwLYfyiEdxhTgIggAACCCCAAAIIIIAAAgggYBsBGsO22UoKQcBeAvU13zaKN/oCDePi7XSJW9thV4yU0deljH4upfdzKWugS4mZnAhuzY3vEUAAAQQQQAABBBBAAAEEEHCiAI1hJ+46NSNgQYG6aqkk36+SHX4Vf/u78Xfj5079pPb8tgn8bTPYuCaCDwIIIIAAAggggAACCCCAAAIIINAWARrDbVFiDAIImFagfG/DS+xK8v/TOC7ba6/Txcap3+QuUlJnl1K6NjSDjZPB7jjTbguJIYAAAggggAACCCCAAAIIIICAyQVoDJt8g0gPAQSCF/DVSRX7/arc3/B7xQGp0vh9v1R5wPjdr9qK4OOGa0ZMnJTUxaXkzi4ldVbD74G/NzSDXe5wrUxcBBBAAAEEEEAAAQQQQAABBBBwqgCNYafuPHUj4HCBuqqGpnFVsVRT4VdNuQK/ahv/XGH83a9a4+ff/tm4tsIdK7ljmv7uOuLv334fL8UnuhSfpMCvuCZ/Nn4eZ/w80fjOpViPwzeD8hFAAAEEEEAAAQQQQAABBBBAIOICNIYjTs6CCCCAAAIIIIAAAggggAACCCCAAAIIIIBAdAVoDEfXn9URQAABBBBAAAEEEEAAAQQQQAABBBBAAIGIC9AYjjg5CyKAAAIIIIAAAggggAACCCCAAAIIIIAAAtEVoDEcXX9WRwABBBBAAAEEEEAAAQQQQAABBBBAAAEEIi5AYzji5CyIAAIIIIAAAggggAACCCCAAAIIIIAAAghEV4DGcHT9WR0BBBBAAAEEEEAAAQQQQAABBBBAAAEEEIi4AI3hiJOzIAIIIIAAAggggAACCCCAAAIIIIAAAgggEF0BGsPR9Wd1BBBAAAEEEEAAAQQQQAABBBBAAAEEEEAg4gI0hiNOzoIIIIAAAggggAACCCCAAAIIIIAAAggggEB0BWgMR9ef1RFAAAEEEEAAAQQQQAABBBBAAAEEEEAAgYgL0BiOODkLIoAAAggggAACCCCAAAIIIIAAAggggAAC0RWgMRxdf1ZHAAEEEEAAAQQQQAABBBBAAAEEEEAAAQQiLkBjOOLkLIgAAggggAACCCCAAAIIIIAAAggggAACCERXgMZwdP1ZHQEEEEAAAQQQQAABBBBAAAEEEEAAAQQQiLgAjeGIk7MgAggggAACCCCAAAIIIIAAAggggAACCCAQXQEaw9H1Z3UEEEAAAQQQQAABBBBAAAEEEEAAAQQQQCDiAjSGI07OgggggAACCCCAAAIIIIAAAggggAACCCCAQHQFaAxH15/VEUAAAQQQQAABBBBAAAEEEEAAAQQQQACBiAvQGI44OQsigAACCCCAAAIIIIAAAggggAACCCCAAALRFaAxHF1/VkcAAQQQQAABBBBAAAEEEEAAAQQQQAABBCIuQGM44uQsiAACCCCAAAIIIIAAAggggAACCCCAAAIIRFeAxnB0/VkdAQQQQAABBBBAAAEEEEAAAQQQQAABBBCIuACN4YiTsyACCCCAAAIIIIAAAggggAACCCCAAAIIIBBdARrD0fVndQQQQAABBBBAAAEEEEAAAQQQQAABBBBAIOICNIYjTs6CCCCAAAIIIIAAAggggAACCCCAAAIIIIBAdAVoDEfXn9URQAABBBBAAAEEEEAAAQQQQAABBBBAAIGIC9AYjjg5CyKAAAIIIIAAAggggAACCCCAAAIIIIAAAtEVoDEcXX9WRwABBBBAAAEEEEAAAQQQQAABBBBAAAEEIi5AYzji5CyIAAIIIIAAAggggAACCCCAAAIIIIAAAghEV4DGcHT9WR0BBBBAAAEEEEAAAQQQQAABBBBAAAEEEIi4AI3hiJOzIAIIIIAAAggggAACCCCAAAIIIIAAAgggEF0BGsPR9Wd1BBBAAAEEEEAAAQQQQAABBBBAAAEEEEAg4gI0hiNOzoIIIIAAAgj8/3bsmAYAAIBBmH/XczGeKiDpCQECBAgQIECAAAECBAgQINAKGMOtvzoBAgQIECBAgAABAgQIECBAgAABAgTuAsbwnVyQAAECBAgQIECAAAECBAgQIECAAAECrYAx3PqrEyBAgAABAgQIECBAgAABAgQIECBA4C5gDN/JBQkQIECAAAECBAgQIECAAAECBAgQINAKGMOtvzoBAgQIECBAgAABAgQIECBAgAABAgTuAsbwnVyQAAECBAgQIECAAAECBAgQIECAAAECrYAx3PqrEyBAgAABAgQIECBAgAABAgQIECBA4C5gDN/JBQkQIECAAAECBAgQIECAAAECBAgQINAKGMOtvzoBAgQIECBAgAABAgQIECBAgAABAgTuAsbwnVyQAAECBAgQIECAAAECBAgQIECAAAECrYAx3PqrEyBAgAABAgQIECBAgAABAgQIECBA4C5gDN/JBQkQIECAAAECBAgQIECAAAECBAgQINAKGMOtvzoBAgQIECBAgAABAgQIECBAgAABAgTuAsbwnVyQAAECBAgQIECAEBcd1QAAA6ZJREFUAAECBAgQIECAAAECrYAx3PqrEyBAgAABAgQIECBAgAABAgQIECBA4C5gDN/JBQkQIECAAAECBAgQIECAAAECBAgQINAKGMOtvzoBAgQIECBAgAABAgQIECBAgAABAgTuAsbwnVyQAAECBAgQIECAAAECBAgQIECAAAECrYAx3PqrEyBAgAABAgQIECBAgAABAgQIECBA4C5gDN/JBQkQIECAAAECBAgQIECAAAECBAgQINAKGMOtvzoBAgQIECBAgAABAgQIECBAgAABAgTuAsbwnVyQAAECBAgQIECAAAECBAgQIECAAAECrYAx3PqrEyBAgAABAgQIECBAgAABAgQIECBA4C5gDN/JBQkQIECAAAECBAgQIECAAAECBAgQINAKGMOtvzoBAgQIECBAgAABAgQIECBAgAABAgTuAsbwnVyQAAECBAgQIECAAAECBAgQIECAAAECrYAx3PqrEyBAgAABAgQIECBAgAABAgQIECBA4C5gDN/JBQkQIECAAAECBAgQIECAAAECBAgQINAKGMOtvzoBAgQIECBAgAABAgQIECBAgAABAgTuAsbwnVyQAAECBAgQIECAAAECBAgQIECAAAECrYAx3PqrEyBAgAABAgQIECBAgAABAgQIECBA4C5gDN/JBQkQIECAAAECBAgQIECAAAECBAgQINAKGMOtvzoBAgQIECBAgAABAgQIECBAgAABAgTuAsbwnVyQAAECBAgQIECAAAECBAgQIECAAAECrYAx3PqrEyBAgAABAgQIECBAgAABAgQIECBA4C5gDN/JBQkQIECAAAECBAgQIECAAAECBAgQINAKGMOtvzoBAgQIECBAgAABAgQIECBAgAABAgTuAsbwnVyQAAECBAgQIECAAAECBAgQIECAAAECrYAx3PqrEyBAgAABAgQIECBAgAABAgQIECBA4C5gDN/JBQkQIECAAAECBAgQIECAAAECBAgQINAKGMOtvzoBAgQIECBAgAABAgQIECBAgAABAgTuAsbwnVyQAAECBAgQIECAAAECBAgQIECAAAECrYAx3PqrEyBAgAABAgQIECBAgAABAgQIECBA4C5gDN/JBQkQIECAAAECBAgQIECAAAECBAgQINAKGMOtvzoBAgQIECBAgAABAgQIECBAgAABAgTuAsbwnVyQAAECBAgQIECAAAECBAgQIECAAAECrYAx3PqrEyBAgAABAgQIECBAgAABAgQIECBA4C4wOggziUCWDnwAAAAASUVORK5CYII=)"
      ],
      "metadata": {
        "id": "Row7SFGsRcUZ"
      }
    },
    {
      "cell_type": "code",
      "source": [
        "np.sum(pie1_list) #ilk 7 üniversitedeki öğrencilerin toplamı"
      ],
      "metadata": {
        "colab": {
          "base_uri": "https://localhost:8080/"
        },
        "id": "woTUKyCkcSnV",
        "outputId": "d5486ed6-4c28-42a8-ff29-18ec70f0e1d5"
      },
      "execution_count": null,
      "outputs": [
        {
          "output_type": "execute_result",
          "data": {
            "text/plain": [
              "95.725"
            ]
          },
          "metadata": {},
          "execution_count": 9
        }
      ]
    },
    {
      "cell_type": "code",
      "source": [
        "#Harvard Üniversitesi için oran hesaplanırken\n",
        "20.152*100/95.725  #çıkan sonuç pie charttaki orandır."
      ],
      "metadata": {
        "colab": {
          "base_uri": "https://localhost:8080/"
        },
        "id": "JAzbJVKRcxAY",
        "outputId": "c2bb4e1b-39bd-4b20-a3a3-118fcf7b0193"
      },
      "execution_count": null,
      "outputs": [
        {
          "output_type": "execute_result",
          "data": {
            "text/plain": [
              "21.051971794202142"
            ]
          },
          "metadata": {},
          "execution_count": 10
        }
      ]
    },
    {
      "cell_type": "markdown",
      "source": [
        "Datada Harvard'daki öğrenci sayısı 20,152 ama data pie chartta 21.1 olarak gözükür.\n",
        "Öğrencilerin sayısını pie plot otomatik olarak bir oran haline getirip görselleştirmeyi yapar."
      ],
      "metadata": {
        "id": "_fNgcSmsRHUC"
      }
    }
  ]
}