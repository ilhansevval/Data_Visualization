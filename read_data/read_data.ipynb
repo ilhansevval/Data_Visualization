{
  "nbformat": 4,
  "nbformat_minor": 0,
  "metadata": {
    "colab": {
      "name": "read_data.ipynb",
      "provenance": [],
      "collapsed_sections": []
    },
    "kernelspec": {
      "name": "python3",
      "display_name": "Python 3"
    },
    "language_info": {
      "name": "python"
    }
  },
  "cells": [
    {
      "cell_type": "markdown",
      "source": [
        "# **VISUALIZATION**\n",
        "\n",
        " \n",
        "\n",
        "*   Elimizde bulunan, sayılardan oluşan datayı herkesin anlayabileceği, sonuç çıkarabileceği şekilde plot ettirme işlemidir.\n",
        "*   Datayı yorumlamayı kolaylaştırır.\n",
        "*   Bazı görselleştirme toolları şunlardır:\n",
        "\n",
        "1.   Seaborn\n",
        "2.   Plotly\n",
        "3.   Rare visualization tools\n",
        "4.   Matplotlib\n",
        "5.   Geoplotlib\n",
        "\n",
        "*   EDA: Exploratory Data Analysis\n",
        "\n",
        "\n",
        "\n",
        "\n",
        "\n",
        "\n",
        "\n",
        "\n",
        "\n",
        "\n",
        "\n"
      ],
      "metadata": {
        "id": "0hWx-YOpP5x1"
      }
    },
    {
      "cell_type": "code",
      "execution_count": 1,
      "metadata": {
        "colab": {
          "base_uri": "https://localhost:8080/"
        },
        "id": "IQTP3FxfP0V1",
        "outputId": "c150ce60-ff42-4868-930a-ba33115c28f0"
      },
      "outputs": [
        {
          "output_type": "stream",
          "name": "stdout",
          "text": [
            "Mounted at /content/drive\n"
          ]
        }
      ],
      "source": [
        "import numpy as np\n",
        "import pandas as pd\n",
        "import seaborn as sns\n",
        "import matplotlib.pyplot as plt\n",
        "\n",
        "from google.colab import drive\n",
        "drive.mount('/content/drive')"
      ]
    },
    {
      "cell_type": "code",
      "source": [
        "percentage_people_below_poverty_level = pd.read_csv(\"/content/drive/MyDrive/data/PercentagePeopleBelowPovertyLevel.csv\", encoding=\"windows-1252\")"
      ],
      "metadata": {
        "id": "bA4oPncnVOri"
      },
      "execution_count": 2,
      "outputs": []
    },
    {
      "cell_type": "markdown",
      "source": [
        "İlk sorun: Her bir eyaletin fakirlik oranı\n",
        "\n",
        "Bunun percentage_people_below_poverty_level değişkenine depolanan data kullanılacak."
      ],
      "metadata": {
        "id": "qMsE2l8xWvx1"
      }
    },
    {
      "cell_type": "code",
      "source": [
        "percentage_people_below_poverty_level.head()    #Geographic Area -> eyalet\n",
        "                                                #city ve o citydeki fakirlik oranı"
      ],
      "metadata": {
        "colab": {
          "base_uri": "https://localhost:8080/",
          "height": 206
        },
        "id": "iTxTW2ucWS4T",
        "outputId": "06b3f15b-7d64-4eff-cba6-24b65a205104"
      },
      "execution_count": 3,
      "outputs": [
        {
          "output_type": "execute_result",
          "data": {
            "text/plain": [
              "  Geographic Area             City poverty_rate\n",
              "0              AL       Abanda CDP         78.8\n",
              "1              AL   Abbeville city         29.1\n",
              "2              AL  Adamsville city         25.5\n",
              "3              AL     Addison town         30.7\n",
              "4              AL       Akron town           42"
            ],
            "text/html": [
              "\n",
              "  <div id=\"df-7d35d52e-8a2e-4718-b322-c4482f72a7d0\">\n",
              "    <div class=\"colab-df-container\">\n",
              "      <div>\n",
              "<style scoped>\n",
              "    .dataframe tbody tr th:only-of-type {\n",
              "        vertical-align: middle;\n",
              "    }\n",
              "\n",
              "    .dataframe tbody tr th {\n",
              "        vertical-align: top;\n",
              "    }\n",
              "\n",
              "    .dataframe thead th {\n",
              "        text-align: right;\n",
              "    }\n",
              "</style>\n",
              "<table border=\"1\" class=\"dataframe\">\n",
              "  <thead>\n",
              "    <tr style=\"text-align: right;\">\n",
              "      <th></th>\n",
              "      <th>Geographic Area</th>\n",
              "      <th>City</th>\n",
              "      <th>poverty_rate</th>\n",
              "    </tr>\n",
              "  </thead>\n",
              "  <tbody>\n",
              "    <tr>\n",
              "      <th>0</th>\n",
              "      <td>AL</td>\n",
              "      <td>Abanda CDP</td>\n",
              "      <td>78.8</td>\n",
              "    </tr>\n",
              "    <tr>\n",
              "      <th>1</th>\n",
              "      <td>AL</td>\n",
              "      <td>Abbeville city</td>\n",
              "      <td>29.1</td>\n",
              "    </tr>\n",
              "    <tr>\n",
              "      <th>2</th>\n",
              "      <td>AL</td>\n",
              "      <td>Adamsville city</td>\n",
              "      <td>25.5</td>\n",
              "    </tr>\n",
              "    <tr>\n",
              "      <th>3</th>\n",
              "      <td>AL</td>\n",
              "      <td>Addison town</td>\n",
              "      <td>30.7</td>\n",
              "    </tr>\n",
              "    <tr>\n",
              "      <th>4</th>\n",
              "      <td>AL</td>\n",
              "      <td>Akron town</td>\n",
              "      <td>42</td>\n",
              "    </tr>\n",
              "  </tbody>\n",
              "</table>\n",
              "</div>\n",
              "      <button class=\"colab-df-convert\" onclick=\"convertToInteractive('df-7d35d52e-8a2e-4718-b322-c4482f72a7d0')\"\n",
              "              title=\"Convert this dataframe to an interactive table.\"\n",
              "              style=\"display:none;\">\n",
              "        \n",
              "  <svg xmlns=\"http://www.w3.org/2000/svg\" height=\"24px\"viewBox=\"0 0 24 24\"\n",
              "       width=\"24px\">\n",
              "    <path d=\"M0 0h24v24H0V0z\" fill=\"none\"/>\n",
              "    <path d=\"M18.56 5.44l.94 2.06.94-2.06 2.06-.94-2.06-.94-.94-2.06-.94 2.06-2.06.94zm-11 1L8.5 8.5l.94-2.06 2.06-.94-2.06-.94L8.5 2.5l-.94 2.06-2.06.94zm10 10l.94 2.06.94-2.06 2.06-.94-2.06-.94-.94-2.06-.94 2.06-2.06.94z\"/><path d=\"M17.41 7.96l-1.37-1.37c-.4-.4-.92-.59-1.43-.59-.52 0-1.04.2-1.43.59L10.3 9.45l-7.72 7.72c-.78.78-.78 2.05 0 2.83L4 21.41c.39.39.9.59 1.41.59.51 0 1.02-.2 1.41-.59l7.78-7.78 2.81-2.81c.8-.78.8-2.07 0-2.86zM5.41 20L4 18.59l7.72-7.72 1.47 1.35L5.41 20z\"/>\n",
              "  </svg>\n",
              "      </button>\n",
              "      \n",
              "  <style>\n",
              "    .colab-df-container {\n",
              "      display:flex;\n",
              "      flex-wrap:wrap;\n",
              "      gap: 12px;\n",
              "    }\n",
              "\n",
              "    .colab-df-convert {\n",
              "      background-color: #E8F0FE;\n",
              "      border: none;\n",
              "      border-radius: 50%;\n",
              "      cursor: pointer;\n",
              "      display: none;\n",
              "      fill: #1967D2;\n",
              "      height: 32px;\n",
              "      padding: 0 0 0 0;\n",
              "      width: 32px;\n",
              "    }\n",
              "\n",
              "    .colab-df-convert:hover {\n",
              "      background-color: #E2EBFA;\n",
              "      box-shadow: 0px 1px 2px rgba(60, 64, 67, 0.3), 0px 1px 3px 1px rgba(60, 64, 67, 0.15);\n",
              "      fill: #174EA6;\n",
              "    }\n",
              "\n",
              "    [theme=dark] .colab-df-convert {\n",
              "      background-color: #3B4455;\n",
              "      fill: #D2E3FC;\n",
              "    }\n",
              "\n",
              "    [theme=dark] .colab-df-convert:hover {\n",
              "      background-color: #434B5C;\n",
              "      box-shadow: 0px 1px 3px 1px rgba(0, 0, 0, 0.15);\n",
              "      filter: drop-shadow(0px 1px 2px rgba(0, 0, 0, 0.3));\n",
              "      fill: #FFFFFF;\n",
              "    }\n",
              "  </style>\n",
              "\n",
              "      <script>\n",
              "        const buttonEl =\n",
              "          document.querySelector('#df-7d35d52e-8a2e-4718-b322-c4482f72a7d0 button.colab-df-convert');\n",
              "        buttonEl.style.display =\n",
              "          google.colab.kernel.accessAllowed ? 'block' : 'none';\n",
              "\n",
              "        async function convertToInteractive(key) {\n",
              "          const element = document.querySelector('#df-7d35d52e-8a2e-4718-b322-c4482f72a7d0');\n",
              "          const dataTable =\n",
              "            await google.colab.kernel.invokeFunction('convertToInteractive',\n",
              "                                                     [key], {});\n",
              "          if (!dataTable) return;\n",
              "\n",
              "          const docLinkHtml = 'Like what you see? Visit the ' +\n",
              "            '<a target=\"_blank\" href=https://colab.research.google.com/notebooks/data_table.ipynb>data table notebook</a>'\n",
              "            + ' to learn more about interactive tables.';\n",
              "          element.innerHTML = '';\n",
              "          dataTable['output_type'] = 'display_data';\n",
              "          await google.colab.output.renderOutput(dataTable, element);\n",
              "          const docLink = document.createElement('div');\n",
              "          docLink.innerHTML = docLinkHtml;\n",
              "          element.appendChild(docLink);\n",
              "        }\n",
              "      </script>\n",
              "    </div>\n",
              "  </div>\n",
              "  "
            ]
          },
          "metadata": {},
          "execution_count": 3
        }
      ]
    },
    {
      "cell_type": "code",
      "source": [
        "percentage_people_below_poverty_level.info()   #29329 sample var\n",
        "                                               #sütunların null olmayan veri sayısıyla sample sayısı eşit\n",
        "                                               #non-null sütunların içinde anlamsız bir değer var mı diye value_counts methodu kullanılır.\n",
        "                                               #3 sütun da string değer barındırır."
      ],
      "metadata": {
        "colab": {
          "base_uri": "https://localhost:8080/"
        },
        "id": "suJ0cKTjXqB4",
        "outputId": "4e056b8e-95d8-4e01-ee5e-f53a81526422"
      },
      "execution_count": 4,
      "outputs": [
        {
          "output_type": "stream",
          "name": "stdout",
          "text": [
            "<class 'pandas.core.frame.DataFrame'>\n",
            "RangeIndex: 29329 entries, 0 to 29328\n",
            "Data columns (total 3 columns):\n",
            " #   Column           Non-Null Count  Dtype \n",
            "---  ------           --------------  ----- \n",
            " 0   Geographic Area  29329 non-null  object\n",
            " 1   City             29329 non-null  object\n",
            " 2   poverty_rate     29329 non-null  object\n",
            "dtypes: object(3)\n",
            "memory usage: 687.5+ KB\n"
          ]
        }
      ]
    },
    {
      "cell_type": "code",
      "source": [
        "percentage_people_below_poverty_level.poverty_rate.value_counts()  #poverty_rate sütununda 0 değerinden 1464 tane var.\n",
        "                                                                   #bu da fakirlik oranı 0 olan 1464 değer demektir.\n",
        "                                                                   #'-' değerinden 201 tane var.\n",
        "                                                                   #bu değerin ne anlama geldiği bilinmemektedir.\n",
        "                                                                   #bu değerin göz önünde bulundurulmaması için 0'a eşitlenebilir."
      ],
      "metadata": {
        "colab": {
          "base_uri": "https://localhost:8080/"
        },
        "id": "ietA5cBOXql2",
        "outputId": "4f512058-cd01-495e-a78b-27ac2ef4e155"
      },
      "execution_count": 5,
      "outputs": [
        {
          "output_type": "execute_result",
          "data": {
            "text/plain": [
              "0       1464\n",
              "-        201\n",
              "7.4      129\n",
              "6.7      129\n",
              "10.9     128\n",
              "        ... \n",
              "73.5       1\n",
              "92         1\n",
              "73.8       1\n",
              "55.9       1\n",
              "83.6       1\n",
              "Name: poverty_rate, Length: 771, dtype: int64"
            ]
          },
          "metadata": {},
          "execution_count": 5
        }
      ]
    },
    {
      "cell_type": "code",
      "source": [
        "percentage_people_below_poverty_level.poverty_rate.replace(['-'],0.0,inplace = True)  \n",
        "                          #datadaki poverty_rate sütununda bulunan '-' değeri 0 ile değiştirildi.\n",
        "                          #inplace=True olması bu işlemin kalıcı olduğu anlamına gelir."
      ],
      "metadata": {
        "id": "OjfIGHSTYInt"
      },
      "execution_count": 6,
      "outputs": []
    },
    {
      "cell_type": "code",
      "source": [
        "percentage_people_below_poverty_level.poverty_rate = percentage_people_below_poverty_level.poverty_rate.astype(float)\n",
        "#poverty_rate sütunu bir oran barındırır.\n",
        "#ancak poverty_rate sütununun türü objecttir.\n",
        "#yani bu sütundaki veriler stringdir.\n",
        "#sayısal bir değere eşitlenmesi lazımdır.\n",
        "#oran sonuçları virgüllü çıkabileceği için stringe eşitlenir."
      ],
      "metadata": {
        "id": "ydjXcj_Iabt2"
      },
      "execution_count": 7,
      "outputs": []
    }
  ]
}