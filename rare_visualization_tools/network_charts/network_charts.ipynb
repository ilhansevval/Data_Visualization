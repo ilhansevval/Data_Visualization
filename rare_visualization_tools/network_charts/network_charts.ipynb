{
  "nbformat": 4,
  "nbformat_minor": 0,
  "metadata": {
    "colab": {
      "name": "network_charts.ipynb",
      "provenance": [],
      "collapsed_sections": []
    },
    "kernelspec": {
      "name": "python3",
      "display_name": "Python 3"
    },
    "language_info": {
      "name": "python"
    }
  },
  "cells": [
    {
      "cell_type": "markdown",
      "source": [
        "# **Network Charts**"
      ],
      "metadata": {
        "id": "RLruJMbTbh02"
      }
    },
    {
      "cell_type": "markdown",
      "source": [
        "Network Charts, Networkx kütüphanesinin bir görselleştirme aracıdır.\n",
        "\n",
        "Network Charts genelde social network analizinde kullanılır.\n",
        "\n",
        "Network chartlar datada featurelar arasındaki korelasyonlarla ilgilidir."
      ],
      "metadata": {
        "id": "7YYRoKArYuP-"
      }
    },
    {
      "cell_type": "code",
      "execution_count": null,
      "metadata": {
        "id": "TNHHFvl3Yej_",
        "colab": {
          "base_uri": "https://localhost:8080/"
        },
        "outputId": "830ab6d1-1e39-43b6-d834-41470c46847b"
      },
      "outputs": [
        {
          "output_type": "stream",
          "name": "stdout",
          "text": [
            "Drive already mounted at /content/drive; to attempt to forcibly remount, call drive.mount(\"/content/drive\", force_remount=True).\n"
          ]
        }
      ],
      "source": [
        "import pandas as pd\n",
        "import matplotlib.pyplot as plt\n",
        "import seaborn as sns\n",
        "import networkx as nx\n",
        "\n",
        "from google.colab import drive\n",
        "drive.mount('/content/drive')"
      ]
    },
    {
      "cell_type": "code",
      "source": [
        "data = pd.read_csv('/content/drive/MyDrive/data/iris.csv') "
      ],
      "metadata": {
        "id": "ULcvJ-wlb_fp"
      },
      "execution_count": null,
      "outputs": []
    },
    {
      "cell_type": "code",
      "source": [
        "data = data.drop(['Id'],axis=1) #görselleştirmede gerek olmadığı için id sütunu datadan çıkartılır.\n",
        "                                #axis=1 demek yukarıdan aşağı yani sütun drop et demektir."
      ],
      "metadata": {
        "id": "sevBqZBjcDP8"
      },
      "execution_count": null,
      "outputs": []
    },
    {
      "cell_type": "code",
      "source": [
        "f,ax = plt.subplots(figsize=(5, 5)) #figür oluşturuldu, boyutu verildi.\n",
        "sns.heatmap(data.corr(), annot=True, linewidths=0.5,linecolor=\"red\", fmt= '.2f',ax=ax)\n",
        "plt.show()"
      ],
      "metadata": {
        "colab": {
          "base_uri": "https://localhost:8080/",
          "height": 392
        },
        "id": "fIw_QPaIb-kd",
        "outputId": "5c8151a8-145a-4b54-bd24-baad28c73948"
      },
      "execution_count": null,
      "outputs": [
        {
          "output_type": "display_data",
          "data": {
            "text/plain": [
              "<Figure size 360x360 with 2 Axes>"
            ],
            "image/png": "[encoded data removed]"
          },
          "metadata": {
            "needs_background": "light"
          }
        }
      ]
    },
    {
      "cell_type": "markdown",
      "source": [
        "Corelation map'ten de görüleceği üzere PetalLengthCm SepalLengthCm ile pozitif yönlü bir korelasyon içerisindedir.\n",
        "\n",
        "PetalLengthCm arttıkça SepalLengthCm 0.87 oranında artar. Çünkü ikisi doğru orantılıdır."
      ],
      "metadata": {
        "id": "j-4z6XXqcZ3m"
      }
    },
    {
      "cell_type": "markdown",
      "source": [
        "Iris datasette 4 tane feature var ve corelation map'ten birbirleri arasındaki ilişkiyi görülmektedir. Bunları network analizi yaparak bir network'te görselleştirmek mümkündür.\n",
        "\n",
        "Featurelar birer node'dur. Eğer iki feature birbirine yakınsa bir threshold değeri belirlenir ve nodelar birbirine link ile bağlanır.\n",
        "\n",
        "Mesela threshold 0.5 olursa , network aralarındaki korelasyon 0.5'ten fazla nodelar arasında oluşur."
      ],
      "metadata": {
        "id": "YntTyiD1dcwh"
      }
    },
    {
      "cell_type": "code",
      "source": [
        "corr = data.iloc[:,0:4].corr()\n",
        "links = corr.stack().reset_index()  #corealation map yapmak yerine bir table yapar.\n",
        "                                    #bunun için corelation map stack edilip indeksleri resetlenir.\n",
        "links.columns = ['var1', 'var2','value']\n",
        "links"
      ],
      "metadata": {
        "colab": {
          "base_uri": "https://localhost:8080/",
          "height": 551
        },
        "id": "pOUJZMdlklvW",
        "outputId": "cc457a58-7849-4b51-d783-9f3d0b70363f"
      },
      "execution_count": null,
      "outputs": [
        {
          "output_type": "execute_result",
          "data": {
            "text/plain": [
              "             var1           var2     value\n",
              "0   SepalLengthCm  SepalLengthCm  1.000000\n",
              "1   SepalLengthCm   SepalWidthCm -0.109369\n",
              "2   SepalLengthCm  PetalLengthCm  0.871754\n",
              "3   SepalLengthCm   PetalWidthCm  0.817954\n",
              "4    SepalWidthCm  SepalLengthCm -0.109369\n",
              "5    SepalWidthCm   SepalWidthCm  1.000000\n",
              "6    SepalWidthCm  PetalLengthCm -0.420516\n",
              "7    SepalWidthCm   PetalWidthCm -0.356544\n",
              "8   PetalLengthCm  SepalLengthCm  0.871754\n",
              "9   PetalLengthCm   SepalWidthCm -0.420516\n",
              "10  PetalLengthCm  PetalLengthCm  1.000000\n",
              "11  PetalLengthCm   PetalWidthCm  0.962757\n",
              "12   PetalWidthCm  SepalLengthCm  0.817954\n",
              "13   PetalWidthCm   SepalWidthCm -0.356544\n",
              "14   PetalWidthCm  PetalLengthCm  0.962757\n",
              "15   PetalWidthCm   PetalWidthCm  1.000000"
            ],
            "text/html": [
              "\n",
              "  <div id=\"df-47d82bdd-33a0-4495-a3f7-bb01e3809b23\">\n",
              "    <div class=\"colab-df-container\">\n",
              "      <div>\n",
              "<style scoped>\n",
              "    .dataframe tbody tr th:only-of-type {\n",
              "        vertical-align: middle;\n",
              "    }\n",
              "\n",
              "    .dataframe tbody tr th {\n",
              "        vertical-align: top;\n",
              "    }\n",
              "\n",
              "    .dataframe thead th {\n",
              "        text-align: right;\n",
              "    }\n",
              "</style>\n",
              "<table border=\"1\" class=\"dataframe\">\n",
              "  <thead>\n",
              "    <tr style=\"text-align: right;\">\n",
              "      <th></th>\n",
              "      <th>var1</th>\n",
              "      <th>var2</th>\n",
              "      <th>value</th>\n",
              "    </tr>\n",
              "  </thead>\n",
              "  <tbody>\n",
              "    <tr>\n",
              "      <th>0</th>\n",
              "      <td>SepalLengthCm</td>\n",
              "      <td>SepalLengthCm</td>\n",
              "      <td>1.000000</td>\n",
              "    </tr>\n",
              "    <tr>\n",
              "      <th>1</th>\n",
              "      <td>SepalLengthCm</td>\n",
              "      <td>SepalWidthCm</td>\n",
              "      <td>-0.109369</td>\n",
              "    </tr>\n",
              "    <tr>\n",
              "      <th>2</th>\n",
              "      <td>SepalLengthCm</td>\n",
              "      <td>PetalLengthCm</td>\n",
              "      <td>0.871754</td>\n",
              "    </tr>\n",
              "    <tr>\n",
              "      <th>3</th>\n",
              "      <td>SepalLengthCm</td>\n",
              "      <td>PetalWidthCm</td>\n",
              "      <td>0.817954</td>\n",
              "    </tr>\n",
              "    <tr>\n",
              "      <th>4</th>\n",
              "      <td>SepalWidthCm</td>\n",
              "      <td>SepalLengthCm</td>\n",
              "      <td>-0.109369</td>\n",
              "    </tr>\n",
              "    <tr>\n",
              "      <th>5</th>\n",
              "      <td>SepalWidthCm</td>\n",
              "      <td>SepalWidthCm</td>\n",
              "      <td>1.000000</td>\n",
              "    </tr>\n",
              "    <tr>\n",
              "      <th>6</th>\n",
              "      <td>SepalWidthCm</td>\n",
              "      <td>PetalLengthCm</td>\n",
              "      <td>-0.420516</td>\n",
              "    </tr>\n",
              "    <tr>\n",
              "      <th>7</th>\n",
              "      <td>SepalWidthCm</td>\n",
              "      <td>PetalWidthCm</td>\n",
              "      <td>-0.356544</td>\n",
              "    </tr>\n",
              "    <tr>\n",
              "      <th>8</th>\n",
              "      <td>PetalLengthCm</td>\n",
              "      <td>SepalLengthCm</td>\n",
              "      <td>0.871754</td>\n",
              "    </tr>\n",
              "    <tr>\n",
              "      <th>9</th>\n",
              "      <td>PetalLengthCm</td>\n",
              "      <td>SepalWidthCm</td>\n",
              "      <td>-0.420516</td>\n",
              "    </tr>\n",
              "    <tr>\n",
              "      <th>10</th>\n",
              "      <td>PetalLengthCm</td>\n",
              "      <td>PetalLengthCm</td>\n",
              "      <td>1.000000</td>\n",
              "    </tr>\n",
              "    <tr>\n",
              "      <th>11</th>\n",
              "      <td>PetalLengthCm</td>\n",
              "      <td>PetalWidthCm</td>\n",
              "      <td>0.962757</td>\n",
              "    </tr>\n",
              "    <tr>\n",
              "      <th>12</th>\n",
              "      <td>PetalWidthCm</td>\n",
              "      <td>SepalLengthCm</td>\n",
              "      <td>0.817954</td>\n",
              "    </tr>\n",
              "    <tr>\n",
              "      <th>13</th>\n",
              "      <td>PetalWidthCm</td>\n",
              "      <td>SepalWidthCm</td>\n",
              "      <td>-0.356544</td>\n",
              "    </tr>\n",
              "    <tr>\n",
              "      <th>14</th>\n",
              "      <td>PetalWidthCm</td>\n",
              "      <td>PetalLengthCm</td>\n",
              "      <td>0.962757</td>\n",
              "    </tr>\n",
              "    <tr>\n",
              "      <th>15</th>\n",
              "      <td>PetalWidthCm</td>\n",
              "      <td>PetalWidthCm</td>\n",
              "      <td>1.000000</td>\n",
              "    </tr>\n",
              "  </tbody>\n",
              "</table>\n",
              "</div>\n",
              "      <button class=\"colab-df-convert\" onclick=\"convertToInteractive('df-47d82bdd-33a0-4495-a3f7-bb01e3809b23')\"\n",
              "              title=\"Convert this dataframe to an interactive table.\"\n",
              "              style=\"display:none;\">\n",
              "        \n",
              "  <svg xmlns=\"http://www.w3.org/2000/svg\" height=\"24px\"viewBox=\"0 0 24 24\"\n",
              "       width=\"24px\">\n",
              "    <path d=\"M0 0h24v24H0V0z\" fill=\"none\"/>\n",
              "    <path d=\"M18.56 5.44l.94 2.06.94-2.06 2.06-.94-2.06-.94-.94-2.06-.94 2.06-2.06.94zm-11 1L8.5 8.5l.94-2.06 2.06-.94-2.06-.94L8.5 2.5l-.94 2.06-2.06.94zm10 10l.94 2.06.94-2.06 2.06-.94-2.06-.94-.94-2.06-.94 2.06-2.06.94z\"/><path d=\"M17.41 7.96l-1.37-1.37c-.4-.4-.92-.59-1.43-.59-.52 0-1.04.2-1.43.59L10.3 9.45l-7.72 7.72c-.78.78-.78 2.05 0 2.83L4 21.41c.39.39.9.59 1.41.59.51 0 1.02-.2 1.41-.59l7.78-7.78 2.81-2.81c.8-.78.8-2.07 0-2.86zM5.41 20L4 18.59l7.72-7.72 1.47 1.35L5.41 20z\"/>\n",
              "  </svg>\n",
              "      </button>\n",
              "      \n",
              "  <style>\n",
              "    .colab-df-container {\n",
              "      display:flex;\n",
              "      flex-wrap:wrap;\n",
              "      gap: 12px;\n",
              "    }\n",
              "\n",
              "    .colab-df-convert {\n",
              "      background-color: #E8F0FE;\n",
              "      border: none;\n",
              "      border-radius: 50%;\n",
              "      cursor: pointer;\n",
              "      display: none;\n",
              "      fill: #1967D2;\n",
              "      height: 32px;\n",
              "      padding: 0 0 0 0;\n",
              "      width: 32px;\n",
              "    }\n",
              "\n",
              "    .colab-df-convert:hover {\n",
              "      background-color: #E2EBFA;\n",
              "      box-shadow: 0px 1px 2px rgba(60, 64, 67, 0.3), 0px 1px 3px 1px rgba(60, 64, 67, 0.15);\n",
              "      fill: #174EA6;\n",
              "    }\n",
              "\n",
              "    [theme=dark] .colab-df-convert {\n",
              "      background-color: #3B4455;\n",
              "      fill: #D2E3FC;\n",
              "    }\n",
              "\n",
              "    [theme=dark] .colab-df-convert:hover {\n",
              "      background-color: #434B5C;\n",
              "      box-shadow: 0px 1px 3px 1px rgba(0, 0, 0, 0.15);\n",
              "      filter: drop-shadow(0px 1px 2px rgba(0, 0, 0, 0.3));\n",
              "      fill: #FFFFFF;\n",
              "    }\n",
              "  </style>\n",
              "\n",
              "      <script>\n",
              "        const buttonEl =\n",
              "          document.querySelector('#df-47d82bdd-33a0-4495-a3f7-bb01e3809b23 button.colab-df-convert');\n",
              "        buttonEl.style.display =\n",
              "          google.colab.kernel.accessAllowed ? 'block' : 'none';\n",
              "\n",
              "        async function convertToInteractive(key) {\n",
              "          const element = document.querySelector('#df-47d82bdd-33a0-4495-a3f7-bb01e3809b23');\n",
              "          const dataTable =\n",
              "            await google.colab.kernel.invokeFunction('convertToInteractive',\n",
              "                                                     [key], {});\n",
              "          if (!dataTable) return;\n",
              "\n",
              "          const docLinkHtml = 'Like what you see? Visit the ' +\n",
              "            '<a target=\"_blank\" href=https://colab.research.google.com/notebooks/data_table.ipynb>data table notebook</a>'\n",
              "            + ' to learn more about interactive tables.';\n",
              "          element.innerHTML = '';\n",
              "          dataTable['output_type'] = 'display_data';\n",
              "          await google.colab.output.renderOutput(dataTable, element);\n",
              "          const docLink = document.createElement('div');\n",
              "          docLink.innerHTML = docLinkHtml;\n",
              "          element.appendChild(docLink);\n",
              "        }\n",
              "      </script>\n",
              "    </div>\n",
              "  </div>\n",
              "  "
            ]
          },
          "metadata": {},
          "execution_count": 17
        }
      ]
    },
    {
      "cell_type": "code",
      "source": [
        "# correlation\n",
        "threshold = -1 #en küçük korelasyon değeri -1 olduğu için tüm değerlerin birbiriyle bağlantılı olması istendiğinden -1 yazılır. "
      ],
      "metadata": {
        "id": "Kk2QyycKmIYS"
      },
      "execution_count": null,
      "outputs": []
    },
    {
      "cell_type": "code",
      "source": [
        "links_filtered=links.loc[ (links['value'] >= threshold ) & (links['var1'] != links['var2']) ]\n",
        "#var1 ve var2 birbirine eşit değilse yani ikisi aynı feature değilse ve featurelar arasındaki ilişki thresholddan büyükse bir filtrenin içerisine koyulur.\n",
        "links_filtered  #filtreye bakıldığında aynı featureların ortadan kalktığı görülür."
      ],
      "metadata": {
        "colab": {
          "base_uri": "https://localhost:8080/",
          "height": 426
        },
        "id": "AX7SS2_smKiI",
        "outputId": "46d3d7a3-e209-47ee-b27d-c4305f6391ea"
      },
      "execution_count": null,
      "outputs": [
        {
          "output_type": "execute_result",
          "data": {
            "text/plain": [
              "             var1           var2     value\n",
              "1   SepalLengthCm   SepalWidthCm -0.109369\n",
              "2   SepalLengthCm  PetalLengthCm  0.871754\n",
              "3   SepalLengthCm   PetalWidthCm  0.817954\n",
              "4    SepalWidthCm  SepalLengthCm -0.109369\n",
              "6    SepalWidthCm  PetalLengthCm -0.420516\n",
              "7    SepalWidthCm   PetalWidthCm -0.356544\n",
              "8   PetalLengthCm  SepalLengthCm  0.871754\n",
              "9   PetalLengthCm   SepalWidthCm -0.420516\n",
              "11  PetalLengthCm   PetalWidthCm  0.962757\n",
              "12   PetalWidthCm  SepalLengthCm  0.817954\n",
              "13   PetalWidthCm   SepalWidthCm -0.356544\n",
              "14   PetalWidthCm  PetalLengthCm  0.962757"
            ],
            "text/html": [
              "\n",
              "  <div id=\"df-815824f1-0922-4984-8322-5a1e50c865ba\">\n",
              "    <div class=\"colab-df-container\">\n",
              "      <div>\n",
              "<style scoped>\n",
              "    .dataframe tbody tr th:only-of-type {\n",
              "        vertical-align: middle;\n",
              "    }\n",
              "\n",
              "    .dataframe tbody tr th {\n",
              "        vertical-align: top;\n",
              "    }\n",
              "\n",
              "    .dataframe thead th {\n",
              "        text-align: right;\n",
              "    }\n",
              "</style>\n",
              "<table border=\"1\" class=\"dataframe\">\n",
              "  <thead>\n",
              "    <tr style=\"text-align: right;\">\n",
              "      <th></th>\n",
              "      <th>var1</th>\n",
              "      <th>var2</th>\n",
              "      <th>value</th>\n",
              "    </tr>\n",
              "  </thead>\n",
              "  <tbody>\n",
              "    <tr>\n",
              "      <th>1</th>\n",
              "      <td>SepalLengthCm</td>\n",
              "      <td>SepalWidthCm</td>\n",
              "      <td>-0.109369</td>\n",
              "    </tr>\n",
              "    <tr>\n",
              "      <th>2</th>\n",
              "      <td>SepalLengthCm</td>\n",
              "      <td>PetalLengthCm</td>\n",
              "      <td>0.871754</td>\n",
              "    </tr>\n",
              "    <tr>\n",
              "      <th>3</th>\n",
              "      <td>SepalLengthCm</td>\n",
              "      <td>PetalWidthCm</td>\n",
              "      <td>0.817954</td>\n",
              "    </tr>\n",
              "    <tr>\n",
              "      <th>4</th>\n",
              "      <td>SepalWidthCm</td>\n",
              "      <td>SepalLengthCm</td>\n",
              "      <td>-0.109369</td>\n",
              "    </tr>\n",
              "    <tr>\n",
              "      <th>6</th>\n",
              "      <td>SepalWidthCm</td>\n",
              "      <td>PetalLengthCm</td>\n",
              "      <td>-0.420516</td>\n",
              "    </tr>\n",
              "    <tr>\n",
              "      <th>7</th>\n",
              "      <td>SepalWidthCm</td>\n",
              "      <td>PetalWidthCm</td>\n",
              "      <td>-0.356544</td>\n",
              "    </tr>\n",
              "    <tr>\n",
              "      <th>8</th>\n",
              "      <td>PetalLengthCm</td>\n",
              "      <td>SepalLengthCm</td>\n",
              "      <td>0.871754</td>\n",
              "    </tr>\n",
              "    <tr>\n",
              "      <th>9</th>\n",
              "      <td>PetalLengthCm</td>\n",
              "      <td>SepalWidthCm</td>\n",
              "      <td>-0.420516</td>\n",
              "    </tr>\n",
              "    <tr>\n",
              "      <th>11</th>\n",
              "      <td>PetalLengthCm</td>\n",
              "      <td>PetalWidthCm</td>\n",
              "      <td>0.962757</td>\n",
              "    </tr>\n",
              "    <tr>\n",
              "      <th>12</th>\n",
              "      <td>PetalWidthCm</td>\n",
              "      <td>SepalLengthCm</td>\n",
              "      <td>0.817954</td>\n",
              "    </tr>\n",
              "    <tr>\n",
              "      <th>13</th>\n",
              "      <td>PetalWidthCm</td>\n",
              "      <td>SepalWidthCm</td>\n",
              "      <td>-0.356544</td>\n",
              "    </tr>\n",
              "    <tr>\n",
              "      <th>14</th>\n",
              "      <td>PetalWidthCm</td>\n",
              "      <td>PetalLengthCm</td>\n",
              "      <td>0.962757</td>\n",
              "    </tr>\n",
              "  </tbody>\n",
              "</table>\n",
              "</div>\n",
              "      <button class=\"colab-df-convert\" onclick=\"convertToInteractive('df-815824f1-0922-4984-8322-5a1e50c865ba')\"\n",
              "              title=\"Convert this dataframe to an interactive table.\"\n",
              "              style=\"display:none;\">\n",
              "        \n",
              "  <svg xmlns=\"http://www.w3.org/2000/svg\" height=\"24px\"viewBox=\"0 0 24 24\"\n",
              "       width=\"24px\">\n",
              "    <path d=\"M0 0h24v24H0V0z\" fill=\"none\"/>\n",
              "    <path d=\"M18.56 5.44l.94 2.06.94-2.06 2.06-.94-2.06-.94-.94-2.06-.94 2.06-2.06.94zm-11 1L8.5 8.5l.94-2.06 2.06-.94-2.06-.94L8.5 2.5l-.94 2.06-2.06.94zm10 10l.94 2.06.94-2.06 2.06-.94-2.06-.94-.94-2.06-.94 2.06-2.06.94z\"/><path d=\"M17.41 7.96l-1.37-1.37c-.4-.4-.92-.59-1.43-.59-.52 0-1.04.2-1.43.59L10.3 9.45l-7.72 7.72c-.78.78-.78 2.05 0 2.83L4 21.41c.39.39.9.59 1.41.59.51 0 1.02-.2 1.41-.59l7.78-7.78 2.81-2.81c.8-.78.8-2.07 0-2.86zM5.41 20L4 18.59l7.72-7.72 1.47 1.35L5.41 20z\"/>\n",
              "  </svg>\n",
              "      </button>\n",
              "      \n",
              "  <style>\n",
              "    .colab-df-container {\n",
              "      display:flex;\n",
              "      flex-wrap:wrap;\n",
              "      gap: 12px;\n",
              "    }\n",
              "\n",
              "    .colab-df-convert {\n",
              "      background-color: #E8F0FE;\n",
              "      border: none;\n",
              "      border-radius: 50%;\n",
              "      cursor: pointer;\n",
              "      display: none;\n",
              "      fill: #1967D2;\n",
              "      height: 32px;\n",
              "      padding: 0 0 0 0;\n",
              "      width: 32px;\n",
              "    }\n",
              "\n",
              "    .colab-df-convert:hover {\n",
              "      background-color: #E2EBFA;\n",
              "      box-shadow: 0px 1px 2px rgba(60, 64, 67, 0.3), 0px 1px 3px 1px rgba(60, 64, 67, 0.15);\n",
              "      fill: #174EA6;\n",
              "    }\n",
              "\n",
              "    [theme=dark] .colab-df-convert {\n",
              "      background-color: #3B4455;\n",
              "      fill: #D2E3FC;\n",
              "    }\n",
              "\n",
              "    [theme=dark] .colab-df-convert:hover {\n",
              "      background-color: #434B5C;\n",
              "      box-shadow: 0px 1px 3px 1px rgba(0, 0, 0, 0.15);\n",
              "      filter: drop-shadow(0px 1px 2px rgba(0, 0, 0, 0.3));\n",
              "      fill: #FFFFFF;\n",
              "    }\n",
              "  </style>\n",
              "\n",
              "      <script>\n",
              "        const buttonEl =\n",
              "          document.querySelector('#df-815824f1-0922-4984-8322-5a1e50c865ba button.colab-df-convert');\n",
              "        buttonEl.style.display =\n",
              "          google.colab.kernel.accessAllowed ? 'block' : 'none';\n",
              "\n",
              "        async function convertToInteractive(key) {\n",
              "          const element = document.querySelector('#df-815824f1-0922-4984-8322-5a1e50c865ba');\n",
              "          const dataTable =\n",
              "            await google.colab.kernel.invokeFunction('convertToInteractive',\n",
              "                                                     [key], {});\n",
              "          if (!dataTable) return;\n",
              "\n",
              "          const docLinkHtml = 'Like what you see? Visit the ' +\n",
              "            '<a target=\"_blank\" href=https://colab.research.google.com/notebooks/data_table.ipynb>data table notebook</a>'\n",
              "            + ' to learn more about interactive tables.';\n",
              "          element.innerHTML = '';\n",
              "          dataTable['output_type'] = 'display_data';\n",
              "          await google.colab.output.renderOutput(dataTable, element);\n",
              "          const docLink = document.createElement('div');\n",
              "          docLink.innerHTML = docLinkHtml;\n",
              "          element.appendChild(docLink);\n",
              "        }\n",
              "      </script>\n",
              "    </div>\n",
              "  </div>\n",
              "  "
            ]
          },
          "metadata": {},
          "execution_count": 19
        }
      ]
    },
    {
      "cell_type": "code",
      "source": [
        "G=nx.from_pandas_edgelist(links_filtered, 'var1', 'var2')\n",
        "#bir graf oluşturulur.\n",
        "#bu graftaki düğümler var1 ve var2'deki featurelardır.\n",
        "#düğümler arasındaki bağlantı da filtreye koyulan threshold değerinden büyük korelasyonlara göre belirlenir.\n",
        " \n",
        "nx.draw_circular(G, with_labels=True, node_color='orange', node_size=300, edge_color='red', linewidths=1, font_size=10)\n",
        "#grafı görselleştirebilmek için networkx kütüphanesinin draw_circular methodu kullanılır.\n",
        "#görselleştirilecek graf koyulur\n",
        "#with_labels parametresiyle düğümlerin adı yazılır."
      ],
      "metadata": {
        "colab": {
          "base_uri": "https://localhost:8080/",
          "height": 319
        },
        "id": "IjGVvL9qjRRq",
        "outputId": "a3dfc36a-77e4-4b07-d499-4ea222910736"
      },
      "execution_count": null,
      "outputs": [
        {
          "output_type": "display_data",
          "data": {
            "text/plain": [
              "<Figure size 432x288 with 1 Axes>"
            ],
            "image/png": "[encoded data removed]"
          },
          "metadata": {}
        }
      ]
    },
    {
      "cell_type": "markdown",
      "source": [
        "Bu grafa bakıldığında belirlenen thresholda göre tüm featureların birbiriyle ilişki içerisinde olduğu görülür."
      ],
      "metadata": {
        "id": "1Kaj1oBSo8k2"
      }
    }
  ]
}