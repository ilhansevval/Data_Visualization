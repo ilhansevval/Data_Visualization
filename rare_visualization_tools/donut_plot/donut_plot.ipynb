{
  "nbformat": 4,
  "nbformat_minor": 0,
  "metadata": {
    "colab": {
      "name": "donut_plot.ipynb",
      "provenance": [],
      "collapsed_sections": []
    },
    "kernelspec": {
      "name": "python3",
      "display_name": "Python 3"
    },
    "language_info": {
      "name": "python"
    }
  },
  "cells": [
    {
      "cell_type": "markdown",
      "source": [
        "# **Donut Plot**"
      ],
      "metadata": {
        "id": "9mpLJHwh-KbC"
      }
    },
    {
      "cell_type": "markdown",
      "source": [
        "Pie chart'tan farkı ortasında donut şeklinde bir boşluk olmasıdır."
      ],
      "metadata": {
        "id": "CMXhHMAb9tYW"
      }
    },
    {
      "cell_type": "code",
      "execution_count": null,
      "metadata": {
        "colab": {
          "base_uri": "https://localhost:8080/"
        },
        "id": "QLVik8a49Z1E",
        "outputId": "ca7e7b82-a1c0-46ae-91bd-0c45381c12bd"
      },
      "outputs": [
        {
          "output_type": "stream",
          "name": "stdout",
          "text": [
            "Mounted at /content/drive\n"
          ]
        }
      ],
      "source": [
        "import pandas as pd\n",
        "import matplotlib.pyplot as plt\n",
        "\n",
        "from google.colab import drive\n",
        "drive.mount('/content/drive')"
      ]
    },
    {
      "cell_type": "code",
      "source": [
        "data = pd.read_csv('/content/drive/MyDrive/data/iris.csv') "
      ],
      "metadata": {
        "id": "_CxXVX7A-UKN"
      },
      "execution_count": null,
      "outputs": []
    },
    {
      "cell_type": "code",
      "source": [
        "feature_names = \"sepal_length\",\"sepal_width\",\"petal_length\",\"petal_width\" \n",
        "#datasetteki featurelar seçilir."
      ],
      "metadata": {
        "id": "PEYbqSBr-gaB"
      },
      "execution_count": null,
      "outputs": []
    },
    {
      "cell_type": "code",
      "source": [
        "sepal_length = data.iloc[:,0]\n",
        "sepal_width  = data.iloc[:,1]\n",
        "petal_length = data.iloc[:,2]\n",
        "petal_width  = data.iloc[:,3]  #datadan featureların ait oldukları sütunlar seçilip bir değişkene aktarılır.\n",
        "                               #yani featurelar birbirinden ayrılır."
      ],
      "metadata": {
        "id": "zC9PtNos_X8v"
      },
      "execution_count": null,
      "outputs": []
    },
    {
      "cell_type": "code",
      "source": [
        "feature_size = [len(sepal_length),len(sepal_width),len(petal_length),len(petal_width)]\n",
        "#feature size her feature'ın uzunluğu kadar olacak şekilde belirlenir."
      ],
      "metadata": {
        "id": "cxO9Fl8m-5Si"
      },
      "execution_count": null,
      "outputs": []
    },
    {
      "cell_type": "code",
      "source": [
        "circle = plt.Circle((0,0),0.5,color = \"white\")\n",
        "#circle 0,0 koordinatlarında ve 0.5 yarıçapında rengi beyaz olacak şekilde ayarlanır.\n",
        "plt.pie(feature_size, labels = feature_names, colors = [\"red\",\"green\",\"blue\",\"cyan\"] )\n",
        "#feature sizeların uzunluklarına göre görselleştirme yapılır.\n",
        "#labellar feature isimleridir.\n",
        "p = plt.gcf() #mevcut şekle bir referans verir.\n",
        "p.gca().add_artist(circle) #gca methoduyla circle daire içerisine eklenir.\n",
        "plt.title(\"Number of Each Features\")\n",
        "plt.show()"
      ],
      "metadata": {
        "colab": {
          "base_uri": "https://localhost:8080/",
          "height": 264
        },
        "id": "nPVIe0tvE6_R",
        "outputId": "c3a9f340-4f5e-4707-c2d0-8cd2ce6759b8"
      },
      "execution_count": null,
      "outputs": [
        {
          "output_type": "display_data",
          "data": {
            "text/plain": [
              "<Figure size 432x288 with 1 Axes>"
            ],
            "image/png": "[encoded data removed]"
          },
          "metadata": {}
        }
      ]
    }
  ]
}